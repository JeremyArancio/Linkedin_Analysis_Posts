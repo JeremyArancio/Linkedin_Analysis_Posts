{
 "cells": [
  {
   "cell_type": "markdown",
   "metadata": {},
   "source": [
    "# Exploratory Data Analysis"
   ]
  },
  {
   "cell_type": "markdown",
   "metadata": {},
   "source": [
    "With the datasets we created, we will explore them to darw some insights. "
   ]
  },
  {
   "cell_type": "markdown",
   "metadata": {},
   "source": [
    "We proposed in the notebook NLPCleaning.ipynb some Analysis Ideas :\n",
    "1. Study the content as it is. Even if it is not complete, we can considere in our analysis the first sentences present in this dataset. NLP technique can be easily applied here.\n",
    "2. NLP techniques applied to headlines. \n",
    "3. Count mentions/hashtags in posts\n",
    "4. Influence of media presence (media or not : 1-0)\n",
    "5. NLP to About section\n",
    "6. Relation between number of followers & reactions/comments\n",
    "7. Influence of the media type\n",
    "\n",
    "Reactions & Comments will be the main insight to define if a post was good or not. \n",
    "\n",
    "This list is not exhaustive, and more ideas can be found later in the analysis."
   ]
  },
  {
   "cell_type": "markdown",
   "metadata": {},
   "source": [
    "## Libraries"
   ]
  },
  {
   "cell_type": "code",
   "execution_count": 1,
   "metadata": {},
   "outputs": [],
   "source": [
    "import pandas as pd\n",
    "import matplotlib.pyplot as plt\n",
    "import numpy as np\n",
    "import seaborn as sns"
   ]
  },
  {
   "cell_type": "markdown",
   "metadata": {},
   "source": [
    "## Non-NLP analysis"
   ]
  },
  {
   "cell_type": "markdown",
   "metadata": {},
   "source": [
    "In this section, let's watch the data without considering NLP. "
   ]
  },
  {
   "cell_type": "code",
   "execution_count": 2,
   "metadata": {},
   "outputs": [
    {
     "data": {
      "text/html": [
       "<div>\n",
       "<style scoped>\n",
       "    .dataframe tbody tr th:only-of-type {\n",
       "        vertical-align: middle;\n",
       "    }\n",
       "\n",
       "    .dataframe tbody tr th {\n",
       "        vertical-align: top;\n",
       "    }\n",
       "\n",
       "    .dataframe thead th {\n",
       "        text-align: right;\n",
       "    }\n",
       "</style>\n",
       "<table border=\"1\" class=\"dataframe\">\n",
       "  <thead>\n",
       "    <tr style=\"text-align: right;\">\n",
       "      <th></th>\n",
       "      <th>name</th>\n",
       "      <th>headline</th>\n",
       "      <th>about</th>\n",
       "      <th>content</th>\n",
       "      <th>content_links</th>\n",
       "      <th>media_url</th>\n",
       "      <th>num_hashtags</th>\n",
       "      <th>hashtags</th>\n",
       "      <th>reactions</th>\n",
       "      <th>comments</th>\n",
       "      <th>Locations</th>\n",
       "      <th>Followers</th>\n",
       "      <th>Time_spent</th>\n",
       "      <th>Media_type</th>\n",
       "    </tr>\n",
       "  </thead>\n",
       "  <tbody>\n",
       "    <tr>\n",
       "      <th>0</th>\n",
       "      <td>Nicholas Wyman</td>\n",
       "      <td>CEO IWSI Group</td>\n",
       "      <td>Nicholas Wyman for the past 25 years has shone...</td>\n",
       "      <td>Robert Lerman  writes that achieving a healthy...</td>\n",
       "      <td>[['https://www.linkedin.com/in/ACoAAACy1HkBviR...</td>\n",
       "      <td>['https://www.urban.org/urban-wire/its-time-mo...</td>\n",
       "      <td>4</td>\n",
       "      <td>[['#workbasedlearning', 'https://www.linkedin....</td>\n",
       "      <td>12</td>\n",
       "      <td>1</td>\n",
       "      <td>Unknown</td>\n",
       "      <td>6484.0</td>\n",
       "      <td>1 day ago</td>\n",
       "      <td>article</td>\n",
       "    </tr>\n",
       "    <tr>\n",
       "      <th>1</th>\n",
       "      <td>Nicholas Wyman</td>\n",
       "      <td>CEO IWSI Group</td>\n",
       "      <td>Nicholas Wyman for the past 25 years has shone...</td>\n",
       "      <td>National disability advocate  Sara Hart Weir, ...</td>\n",
       "      <td>[['https://www.linkedin.com/in/ACoAAAHsfJgBb7_...</td>\n",
       "      <td>[]</td>\n",
       "      <td>0</td>\n",
       "      <td>[]</td>\n",
       "      <td>11</td>\n",
       "      <td>0</td>\n",
       "      <td>Unknown</td>\n",
       "      <td>6484.0</td>\n",
       "      <td>1 week ago</td>\n",
       "      <td>none</td>\n",
       "    </tr>\n",
       "    <tr>\n",
       "      <th>3</th>\n",
       "      <td>Nicholas Wyman</td>\n",
       "      <td>CEO IWSI Group</td>\n",
       "      <td>Nicholas Wyman for the past 25 years has shone...</td>\n",
       "      <td>Exploring in this months Talent Management &amp; H...</td>\n",
       "      <td>[['https://www.linkedin.com/in/ACoAAAADlGIBLfn...</td>\n",
       "      <td>['https://www.tlnt.com/apprenticeships-that-br...</td>\n",
       "      <td>4</td>\n",
       "      <td>[['#careerplanning', 'https://www.linkedin.com...</td>\n",
       "      <td>44</td>\n",
       "      <td>0</td>\n",
       "      <td>Unknown</td>\n",
       "      <td>6484.0</td>\n",
       "      <td>2 months ago</td>\n",
       "      <td>article</td>\n",
       "    </tr>\n",
       "  </tbody>\n",
       "</table>\n",
       "</div>"
      ],
      "text/plain": [
       "             name        headline  \\\n",
       "0  Nicholas Wyman  CEO IWSI Group   \n",
       "1  Nicholas Wyman  CEO IWSI Group   \n",
       "3  Nicholas Wyman  CEO IWSI Group   \n",
       "\n",
       "                                               about  \\\n",
       "0  Nicholas Wyman for the past 25 years has shone...   \n",
       "1  Nicholas Wyman for the past 25 years has shone...   \n",
       "3  Nicholas Wyman for the past 25 years has shone...   \n",
       "\n",
       "                                             content  \\\n",
       "0  Robert Lerman  writes that achieving a healthy...   \n",
       "1  National disability advocate  Sara Hart Weir, ...   \n",
       "3  Exploring in this months Talent Management & H...   \n",
       "\n",
       "                                       content_links  \\\n",
       "0  [['https://www.linkedin.com/in/ACoAAACy1HkBviR...   \n",
       "1  [['https://www.linkedin.com/in/ACoAAAHsfJgBb7_...   \n",
       "3  [['https://www.linkedin.com/in/ACoAAAADlGIBLfn...   \n",
       "\n",
       "                                           media_url  num_hashtags  \\\n",
       "0  ['https://www.urban.org/urban-wire/its-time-mo...             4   \n",
       "1                                                 []             0   \n",
       "3  ['https://www.tlnt.com/apprenticeships-that-br...             4   \n",
       "\n",
       "                                            hashtags  reactions  comments  \\\n",
       "0  [['#workbasedlearning', 'https://www.linkedin....         12         1   \n",
       "1                                                 []         11         0   \n",
       "3  [['#careerplanning', 'https://www.linkedin.com...         44         0   \n",
       "\n",
       "  Locations  Followers    Time_spent Media_type  \n",
       "0   Unknown     6484.0     1 day ago    article  \n",
       "1   Unknown     6484.0    1 week ago       none  \n",
       "3   Unknown     6484.0  2 months ago    article  "
      ]
     },
     "execution_count": 2,
     "metadata": {},
     "output_type": "execute_result"
    }
   ],
   "source": [
    "cleanedData = pd.read_pickle('cleaned_data.pkl')         \n",
    "cleanedData.head(3)   "
   ]
  },
  {
   "cell_type": "markdown",
   "metadata": {},
   "source": [
    "### Overview of the authors"
   ]
  },
  {
   "cell_type": "code",
   "execution_count": 3,
   "metadata": {},
   "outputs": [],
   "source": [
    "#Let's draw the authors relatively to their number of followers and reaction means\n",
    "\n",
    "#Reactions and followers means for each authors\n",
    "authorsDf = pd.pivot_table(cleanedData,index=\"name\",values=[\"reactions\",\"Followers\"],aggfunc='mean')"
   ]
  },
  {
   "cell_type": "code",
   "execution_count": 4,
   "metadata": {},
   "outputs": [
    {
     "name": "stderr",
     "output_type": "stream",
     "text": [
      "C:\\Users\\Jeremy\\AppData\\Local\\Temp/ipykernel_7312/2590164831.py:16: UserWarning: FixedFormatter should only be used together with FixedLocator\n",
      "  plt.gca().set_yticklabels(['{:.0f}'.format(k) for k in current_values])\n",
      "C:\\Users\\Jeremy\\anaconda3\\lib\\site-packages\\IPython\\core\\pylabtools.py:151: UserWarning: Glyph 127945 (\\N{RUGBY FOOTBALL}) missing from current font.\n",
      "  fig.canvas.print_figure(bytes_io, **kw)\n"
     ]
    },
    {
     "data": {
      "image/png": "[encoded data removed]",
      "text/plain": [
       "<Figure size 720x576 with 1 Axes>"
      ]
     },
     "metadata": {
      "needs_background": "light"
     },
     "output_type": "display_data"
    }
   ],
   "source": [
    "#Plot\n",
    "plt.rcParams['figure.figsize'] = [10, 8]\n",
    "\n",
    "for author in authorsDf.index:\n",
    "    x = authorsDf.reactions.loc[author]\n",
    "    y = authorsDf.Followers.loc[author]\n",
    "    plt.scatter(x, y, color='blue')\n",
    "    plt.text(x+100, y+100, author, fontsize=10)\n",
    "\n",
    "plt.title('Overview of authors', fontsize=20)\n",
    "plt.xlabel('Number of reactions', fontsize=15)\n",
    "plt.ylabel('Number of followers', fontsize=15)\n",
    "\n",
    "#Format yaxis to avoid scientific notation\n",
    "current_values = plt.gca().get_yticks()\n",
    "plt.gca().set_yticklabels(['{:.0f}'.format(k) for k in current_values])\n",
    "\n",
    "plt.show()"
   ]
  },
  {
   "cell_type": "markdown",
   "metadata": {},
   "source": [
    "**Observation**  \n",
    "As we can see, Simon Sinek & Richard Branson are outliers.  \n",
    "Simon Sinek has a lot of reactions whereas Richard Branson has a lot of followers.  \n",
    "But both have more than other authors.  "
   ]
  },
  {
   "cell_type": "markdown",
   "metadata": {},
   "source": [
    "Let's draw the log view to attenuate this discrepancy"
   ]
  },
  {
   "cell_type": "code",
   "execution_count": 5,
   "metadata": {},
   "outputs": [
    {
     "data": {
      "image/png": "[encoded data removed]",
      "text/plain": [
       "<Figure size 720x576 with 1 Axes>"
      ]
     },
     "metadata": {
      "needs_background": "light"
     },
     "output_type": "display_data"
    }
   ],
   "source": [
    "#Plot\n",
    "plt.rcParams['figure.figsize'] = [10, 8]\n",
    "\n",
    "for author in authorsDf.index:\n",
    "    x = authorsDf.reactions.loc[author]\n",
    "    y = authorsDf.Followers.loc[author]\n",
    "    plt.scatter(x, y,color='Blue')\n",
    "    plt.text(x+1, y+1, author, fontsize=10)\n",
    "\n",
    "plt.title('Overview of authors', fontsize=20)\n",
    "plt.xlabel('Log of number of reactions', fontsize=15)\n",
    "plt.ylabel('Log of number of followers', fontsize=15)\n",
    "\n",
    "# Set logarithmic scale on the both variables\n",
    "ax=plt.gca()\n",
    "ax.set_xscale(\"log\")\n",
    "ax.set_yscale(\"log\")\n",
    "\n",
    "#Grid\n",
    "plt.grid(visible=True,which='both')\n",
    "\n",
    "#Format yaxis to avoid scientific notation\n",
    "# plt.gca().set_yticklabels('{:.0f}'.format())\n",
    "\n",
    "plt.show()"
   ]
  },
  {
   "cell_type": "markdown",
   "metadata": {},
   "source": [
    "**Observation**  \n",
    "\n",
    "**I**  \n",
    "We observe a  relation between the number of followers & reactions.   \n",
    "The higher the number of followers, the higher the number of reactions, following a power law :\n",
    "\n",
    "$ n_{followers} = k n_{react} ^ \\mu $ with $(k,\\mu)$ constants\n",
    "\n",
    "To keep it simple, it is needed a lot of followers to have a good quantity of reactions.  \n",
    "\n",
    "This is pretty logical because people just watch content of influencers they follow but don't react to their posts. \n",
    "\n",
    "**II**\n",
    "\n",
    "Therefore, in our analysis, which is understanding what makes a Linkedin post good, we should study one author's posts at a time.  \n",
    "\n",
    "Also we could express if a post is good or not with the following relationship, in order to normalize observations when we will compare authors each others :\n",
    "\n",
    "$ attractivity = \\frac{\\#reactions + \\#comments}{\\#followers} $"
   ]
  },
  {
   "cell_type": "markdown",
   "metadata": {},
   "source": [
    "**Attractivity**"
   ]
  },
  {
   "cell_type": "markdown",
   "metadata": {},
   "source": [
    "This value will allow us to compare features accross authors."
   ]
  },
  {
   "cell_type": "code",
   "execution_count": 6,
   "metadata": {},
   "outputs": [],
   "source": [
    "#Let's use the formula above, in %\n",
    "cleanedData['Attractivity'] = 100*(cleanedData.reactions + cleanedData.comments) / cleanedData.Followers"
   ]
  },
  {
   "cell_type": "markdown",
   "metadata": {},
   "source": [
    "**Let's remove Sinek & Branson**"
   ]
  },
  {
   "cell_type": "code",
   "execution_count": 7,
   "metadata": {},
   "outputs": [],
   "source": [
    "dataNoOutliers = cleanedData.loc[(cleanedData.name != \"Simon Sinek\") & (cleanedData.name != 'Richard Branson')]"
   ]
  },
  {
   "cell_type": "code",
   "execution_count": 8,
   "metadata": {},
   "outputs": [
    {
     "data": {
      "text/plain": [
       "<seaborn.axisgrid.FacetGrid at 0x26b4345eac0>"
      ]
     },
     "execution_count": 8,
     "metadata": {},
     "output_type": "execute_result"
    },
    {
     "data": {
      "image/png": "[encoded data removed]",
      "text/plain": [
       "<Figure size 360x360 with 1 Axes>"
      ]
     },
     "metadata": {
      "needs_background": "light"
     },
     "output_type": "display_data"
    }
   ],
   "source": [
    "#With outliers\n",
    "sns.displot(data=cleanedData,x='Attractivity',kind='ecdf')"
   ]
  },
  {
   "cell_type": "code",
   "execution_count": 9,
   "metadata": {},
   "outputs": [
    {
     "data": {
      "text/plain": [
       "<seaborn.axisgrid.FacetGrid at 0x26b4b20fd30>"
      ]
     },
     "execution_count": 9,
     "metadata": {},
     "output_type": "execute_result"
    },
    {
     "data": {
      "image/png": "[encoded data removed]",
      "text/plain": [
       "<Figure size 360x360 with 1 Axes>"
      ]
     },
     "metadata": {
      "needs_background": "light"
     },
     "output_type": "display_data"
    }
   ],
   "source": [
    "#Without outliers\n",
    "sns.displot(data=dataNoOutliers,x='Attractivity',kind='ecdf')"
   ]
  },
  {
   "cell_type": "code",
   "execution_count": 10,
   "metadata": {},
   "outputs": [
    {
     "data": {
      "text/plain": [
       "32.59060402684564"
      ]
     },
     "execution_count": 10,
     "metadata": {},
     "output_type": "execute_result"
    }
   ],
   "source": [
    "dataNoOutliers.Attractivity.max()"
   ]
  },
  {
   "cell_type": "markdown",
   "metadata": {},
   "source": [
    "**Observations**  \n",
    "\n",
    "Even after removing Sinek & Branson, we still have outliers.  \n",
    "Let's check that"
   ]
  },
  {
   "cell_type": "code",
   "execution_count": 11,
   "metadata": {},
   "outputs": [
    {
     "data": {
      "text/html": [
       "<div>\n",
       "<style scoped>\n",
       "    .dataframe tbody tr th:only-of-type {\n",
       "        vertical-align: middle;\n",
       "    }\n",
       "\n",
       "    .dataframe tbody tr th {\n",
       "        vertical-align: top;\n",
       "    }\n",
       "\n",
       "    .dataframe thead th {\n",
       "        text-align: right;\n",
       "    }\n",
       "</style>\n",
       "<table border=\"1\" class=\"dataframe\">\n",
       "  <thead>\n",
       "    <tr style=\"text-align: right;\">\n",
       "      <th></th>\n",
       "      <th>Attractivity</th>\n",
       "      <th>Followers</th>\n",
       "      <th>comments</th>\n",
       "      <th>reactions</th>\n",
       "    </tr>\n",
       "    <tr>\n",
       "      <th>name</th>\n",
       "      <th></th>\n",
       "      <th></th>\n",
       "      <th></th>\n",
       "      <th></th>\n",
       "    </tr>\n",
       "  </thead>\n",
       "  <tbody>\n",
       "    <tr>\n",
       "      <th>Kaia Niambi Shivers Ph.D.</th>\n",
       "      <td>32.590604</td>\n",
       "      <td>3.725000e+03</td>\n",
       "      <td>71</td>\n",
       "      <td>1143</td>\n",
       "    </tr>\n",
       "    <tr>\n",
       "      <th>Nick Ciubotariu</th>\n",
       "      <td>22.579373</td>\n",
       "      <td>1.521300e+04</td>\n",
       "      <td>284</td>\n",
       "      <td>3151</td>\n",
       "    </tr>\n",
       "    <tr>\n",
       "      <th>Lee Naik</th>\n",
       "      <td>20.094031</td>\n",
       "      <td>2.446000e+04</td>\n",
       "      <td>481</td>\n",
       "      <td>4434</td>\n",
       "    </tr>\n",
       "    <tr>\n",
       "      <th>Quentin Michael Allums</th>\n",
       "      <td>19.799057</td>\n",
       "      <td>6.638700e+04</td>\n",
       "      <td>2544</td>\n",
       "      <td>10600</td>\n",
       "    </tr>\n",
       "    <tr>\n",
       "      <th>Ben Casselman</th>\n",
       "      <td>15.165512</td>\n",
       "      <td>9.093000e+03</td>\n",
       "      <td>356</td>\n",
       "      <td>1023</td>\n",
       "    </tr>\n",
       "    <tr>\n",
       "      <th>...</th>\n",
       "      <td>...</td>\n",
       "      <td>...</td>\n",
       "      <td>...</td>\n",
       "      <td>...</td>\n",
       "    </tr>\n",
       "    <tr>\n",
       "      <th>Karen Webster</th>\n",
       "      <td>0.102043</td>\n",
       "      <td>1.783560e+05</td>\n",
       "      <td>34</td>\n",
       "      <td>175</td>\n",
       "    </tr>\n",
       "    <tr>\n",
       "      <th>🏉 Pascal Bouvier</th>\n",
       "      <td>0.087999</td>\n",
       "      <td>5.465970e+05</td>\n",
       "      <td>73</td>\n",
       "      <td>410</td>\n",
       "    </tr>\n",
       "    <tr>\n",
       "      <th>Bernard Marr</th>\n",
       "      <td>0.040284</td>\n",
       "      <td>1.462121e+06</td>\n",
       "      <td>322</td>\n",
       "      <td>565</td>\n",
       "    </tr>\n",
       "    <tr>\n",
       "      <th>Sarah Kauss</th>\n",
       "      <td>0.034461</td>\n",
       "      <td>1.125922e+06</td>\n",
       "      <td>37</td>\n",
       "      <td>352</td>\n",
       "    </tr>\n",
       "    <tr>\n",
       "      <th>Sramana Mitra</th>\n",
       "      <td>0.033734</td>\n",
       "      <td>4.357570e+05</td>\n",
       "      <td>75</td>\n",
       "      <td>103</td>\n",
       "    </tr>\n",
       "  </tbody>\n",
       "</table>\n",
       "<p>68 rows × 4 columns</p>\n",
       "</div>"
      ],
      "text/plain": [
       "                           Attractivity     Followers  comments  reactions\n",
       "name                                                                      \n",
       "Kaia Niambi Shivers Ph.D.     32.590604  3.725000e+03        71       1143\n",
       "Nick Ciubotariu               22.579373  1.521300e+04       284       3151\n",
       "Lee Naik                      20.094031  2.446000e+04       481       4434\n",
       "Quentin Michael Allums        19.799057  6.638700e+04      2544      10600\n",
       "Ben Casselman                 15.165512  9.093000e+03       356       1023\n",
       "...                                 ...           ...       ...        ...\n",
       "Karen Webster                  0.102043  1.783560e+05        34        175\n",
       "🏉 Pascal Bouvier               0.087999  5.465970e+05        73        410\n",
       "Bernard Marr                   0.040284  1.462121e+06       322        565\n",
       "Sarah Kauss                    0.034461  1.125922e+06        37        352\n",
       "Sramana Mitra                  0.033734  4.357570e+05        75        103\n",
       "\n",
       "[68 rows x 4 columns]"
      ]
     },
     "execution_count": 11,
     "metadata": {},
     "output_type": "execute_result"
    }
   ],
   "source": [
    "PivotTable = pd.pivot_table(data=cleanedData, index='name', values=['reactions',\"Followers\",\"Attractivity\",'comments'],aggfunc='max')\n",
    "PivotTable.sort_values(by=\"Attractivity\",ascending=False)"
   ]
  },
  {
   "cell_type": "markdown",
   "metadata": {},
   "source": [
    "**Observations**  \n",
    "\n",
    "As we can see, there are some outliers in term of attractivity even if it is not Sinek or Branson.  \n",
    "Attractivity is maybe not a good feature to analyse our data.  \n",
    "\n",
    "Therefore, for the sake of our study, it would be better to not compare authors, but to take them individually, and see if we can highlight some patterns across these authors."
   ]
  },
  {
   "cell_type": "markdown",
   "metadata": {},
   "source": [
    "### Influence of the media presence in a post"
   ]
  },
  {
   "cell_type": "markdown",
   "metadata": {},
   "source": [
    "Here, we are going to check if adding a media in the post has an influence on the attractivity."
   ]
  },
  {
   "cell_type": "code",
   "execution_count": 12,
   "metadata": {},
   "outputs": [
    {
     "data": {
      "text/plain": [
       "article       14590\n",
       "image          8614\n",
       "none           5889\n",
       "video          2674\n",
       "document        110\n",
       "poll             82\n",
       "entity           31\n",
       "newsletter        4\n",
       "view              2\n",
       "Name: Media_type, dtype: int64"
      ]
     },
     "execution_count": 12,
     "metadata": {},
     "output_type": "execute_result"
    }
   ],
   "source": [
    "#First of all, let's count how many times are used each media in this dataset\n",
    "cleanedData.Media_type.value_counts()"
   ]
  },
  {
   "cell_type": "markdown",
   "metadata": {},
   "source": [
    "Articles, images and videos are majoritarly used in posts.  \n",
    "We note also a lot of posts without media."
   ]
  },
  {
   "cell_type": "markdown",
   "metadata": {},
   "source": [
    "Let's see what the influence of a media on the attractivity. "
   ]
  },
  {
   "cell_type": "code",
   "execution_count": 13,
   "metadata": {},
   "outputs": [],
   "source": [
    "#Let's create a new column 0 for no media, 1 if a media\n",
    "cleanedData['Media_in_post'] = cleanedData.Media_type.apply(lambda x: 0 if x==\"none\" else 1)"
   ]
  },
  {
   "cell_type": "code",
   "execution_count": 14,
   "metadata": {},
   "outputs": [
    {
     "data": {
      "text/plain": [
       "<seaborn.axisgrid.FacetGrid at 0x26b4344aa00>"
      ]
     },
     "execution_count": 14,
     "metadata": {},
     "output_type": "execute_result"
    },
    {
     "data": {
      "image/png": "[encoded data removed]",
      "text/plain": [
       "<Figure size 438.75x360 with 1 Axes>"
      ]
     },
     "metadata": {
      "needs_background": "light"
     },
     "output_type": "display_data"
    }
   ],
   "source": [
    "#Distribution for one author : Simon Sinek\n",
    "sns.displot(data=cleanedData.loc[cleanedData.name == \"Simon Sinek\"],x='Attractivity',hue='Media_in_post',kind='kde')"
   ]
  },
  {
   "cell_type": "markdown",
   "metadata": {},
   "source": [
    "**Observations** \n",
    "\n",
    "For one author, we note that using a media in the post increases the attractivity.  \n",
    "We note also that it increases the variance too.  \n",
    "So we can considere that using a media doesn't ensure that the post will have more reactions, but tends to."
   ]
  },
  {
   "cell_type": "markdown",
   "metadata": {},
   "source": [
    "Because of the high number of different authors (68), we create a dataframe of average Attractivity depending on the presence or not of a media in the post."
   ]
  },
  {
   "cell_type": "code",
   "execution_count": 15,
   "metadata": {},
   "outputs": [],
   "source": [
    "#Create the dataframe\n",
    "MediaAttractivity = pd.DataFrame()\n",
    "MediaAttractivity[\"Author\"] = cleanedData.name.unique()\n",
    "\n",
    "#Use pivot table to obtain average attractivity\n",
    "PivotTableAttractivityMean = pd.pivot_table(data=cleanedData,index='name',columns='Media_in_post',values='Attractivity',aggfunc='mean')\n",
    "#Add attractivity means to the dataframe\n",
    "MediaAttractivity['Avg_Attract_NoMedia'] = np.array(PivotTableAttractivityMean[0])\n",
    "MediaAttractivity['Avg_Attract_Media'] = np.array(PivotTableAttractivityMean[1])\n",
    "\n",
    "#Add the difference between Media & NoMedia in %\n",
    "MediaAttractivity['Diff_Media_Avg%'] = 100 * (MediaAttractivity['Avg_Attract_Media'] - MediaAttractivity['Avg_Attract_NoMedia'])/MediaAttractivity['Avg_Attract_NoMedia']\n",
    "\n",
    "#Calculate also the variance\n",
    "PivotTableAttractivityVariance = pd.pivot_table(data=cleanedData,index='name',columns='Media_in_post',values='Attractivity',aggfunc='var')\n",
    "MediaAttractivity['Var_Attract_NoMedia'] = np.array(PivotTableAttractivityVariance[0])\n",
    "MediaAttractivity['Var_Attract_Media'] = np.array(PivotTableAttractivityVariance[1])\n",
    "\n",
    "#Difference of variances\n",
    "MediaAttractivity['Diff_Media_Var%'] = 100 * (MediaAttractivity['Var_Attract_Media'] - MediaAttractivity['Var_Attract_NoMedia'])/MediaAttractivity['Var_Attract_NoMedia']"
   ]
  },
  {
   "cell_type": "code",
   "execution_count": 16,
   "metadata": {},
   "outputs": [
    {
     "data": {
      "text/html": [
       "<div>\n",
       "<style scoped>\n",
       "    .dataframe tbody tr th:only-of-type {\n",
       "        vertical-align: middle;\n",
       "    }\n",
       "\n",
       "    .dataframe tbody tr th {\n",
       "        vertical-align: top;\n",
       "    }\n",
       "\n",
       "    .dataframe thead th {\n",
       "        text-align: right;\n",
       "    }\n",
       "</style>\n",
       "<table border=\"1\" class=\"dataframe\">\n",
       "  <thead>\n",
       "    <tr style=\"text-align: right;\">\n",
       "      <th></th>\n",
       "      <th>Author</th>\n",
       "      <th>Avg_Attract_NoMedia</th>\n",
       "      <th>Avg_Attract_Media</th>\n",
       "      <th>Diff_Media_Avg%</th>\n",
       "      <th>Var_Attract_NoMedia</th>\n",
       "      <th>Var_Attract_Media</th>\n",
       "      <th>Diff_Media_Var%</th>\n",
       "    </tr>\n",
       "  </thead>\n",
       "  <tbody>\n",
       "    <tr>\n",
       "      <th>0</th>\n",
       "      <td>Nicholas Wyman</td>\n",
       "      <td>0.338293</td>\n",
       "      <td>0.416448</td>\n",
       "      <td>23.102937</td>\n",
       "      <td>0.374618</td>\n",
       "      <td>0.191829</td>\n",
       "      <td>-48.793396</td>\n",
       "    </tr>\n",
       "    <tr>\n",
       "      <th>1</th>\n",
       "      <td>Jonathan Wolfer</td>\n",
       "      <td>0.052674</td>\n",
       "      <td>0.378409</td>\n",
       "      <td>618.397997</td>\n",
       "      <td>0.002443</td>\n",
       "      <td>0.044621</td>\n",
       "      <td>1726.405676</td>\n",
       "    </tr>\n",
       "    <tr>\n",
       "      <th>2</th>\n",
       "      <td>Karen Gross</td>\n",
       "      <td>0.090432</td>\n",
       "      <td>0.115388</td>\n",
       "      <td>27.595532</td>\n",
       "      <td>0.006671</td>\n",
       "      <td>0.017940</td>\n",
       "      <td>168.908467</td>\n",
       "    </tr>\n",
       "    <tr>\n",
       "      <th>3</th>\n",
       "      <td>Kaia Niambi Shivers Ph.D.</td>\n",
       "      <td>0.297353</td>\n",
       "      <td>0.269192</td>\n",
       "      <td>-9.470455</td>\n",
       "      <td>0.158750</td>\n",
       "      <td>0.247783</td>\n",
       "      <td>56.083278</td>\n",
       "    </tr>\n",
       "    <tr>\n",
       "      <th>4</th>\n",
       "      <td>Daniel Cohen-I'm Flyering</td>\n",
       "      <td>1.126141</td>\n",
       "      <td>1.081418</td>\n",
       "      <td>-3.971354</td>\n",
       "      <td>2.891937</td>\n",
       "      <td>5.597374</td>\n",
       "      <td>93.551037</td>\n",
       "    </tr>\n",
       "    <tr>\n",
       "      <th>...</th>\n",
       "      <td>...</td>\n",
       "      <td>...</td>\n",
       "      <td>...</td>\n",
       "      <td>...</td>\n",
       "      <td>...</td>\n",
       "      <td>...</td>\n",
       "      <td>...</td>\n",
       "    </tr>\n",
       "    <tr>\n",
       "      <th>63</th>\n",
       "      <td>Quentin Michael Allums</td>\n",
       "      <td>0.072650</td>\n",
       "      <td>0.034469</td>\n",
       "      <td>-52.554341</td>\n",
       "      <td>0.012890</td>\n",
       "      <td>0.001587</td>\n",
       "      <td>-87.690157</td>\n",
       "    </tr>\n",
       "    <tr>\n",
       "      <th>64</th>\n",
       "      <td>AJ Wilcox</td>\n",
       "      <td>0.080693</td>\n",
       "      <td>0.102754</td>\n",
       "      <td>27.340108</td>\n",
       "      <td>0.006586</td>\n",
       "      <td>0.088367</td>\n",
       "      <td>1241.699171</td>\n",
       "    </tr>\n",
       "    <tr>\n",
       "      <th>65</th>\n",
       "      <td>Kevin O'Leary</td>\n",
       "      <td>0.018051</td>\n",
       "      <td>0.027062</td>\n",
       "      <td>49.918334</td>\n",
       "      <td>0.001982</td>\n",
       "      <td>0.002328</td>\n",
       "      <td>17.454367</td>\n",
       "    </tr>\n",
       "    <tr>\n",
       "      <th>66</th>\n",
       "      <td>Amy Blaschka</td>\n",
       "      <td>0.036735</td>\n",
       "      <td>0.021744</td>\n",
       "      <td>-40.810306</td>\n",
       "      <td>0.001333</td>\n",
       "      <td>0.000425</td>\n",
       "      <td>-68.134394</td>\n",
       "    </tr>\n",
       "    <tr>\n",
       "      <th>67</th>\n",
       "      <td>Simon Sinek</td>\n",
       "      <td>0.002103</td>\n",
       "      <td>0.002392</td>\n",
       "      <td>13.731840</td>\n",
       "      <td>0.000008</td>\n",
       "      <td>0.000026</td>\n",
       "      <td>236.473088</td>\n",
       "    </tr>\n",
       "  </tbody>\n",
       "</table>\n",
       "<p>68 rows × 7 columns</p>\n",
       "</div>"
      ],
      "text/plain": [
       "                       Author  Avg_Attract_NoMedia  Avg_Attract_Media  \\\n",
       "0              Nicholas Wyman             0.338293           0.416448   \n",
       "1             Jonathan Wolfer             0.052674           0.378409   \n",
       "2                 Karen Gross             0.090432           0.115388   \n",
       "3   Kaia Niambi Shivers Ph.D.             0.297353           0.269192   \n",
       "4   Daniel Cohen-I'm Flyering             1.126141           1.081418   \n",
       "..                        ...                  ...                ...   \n",
       "63     Quentin Michael Allums             0.072650           0.034469   \n",
       "64                  AJ Wilcox             0.080693           0.102754   \n",
       "65              Kevin O'Leary             0.018051           0.027062   \n",
       "66               Amy Blaschka             0.036735           0.021744   \n",
       "67                Simon Sinek             0.002103           0.002392   \n",
       "\n",
       "    Diff_Media_Avg%  Var_Attract_NoMedia  Var_Attract_Media  Diff_Media_Var%  \n",
       "0         23.102937             0.374618           0.191829       -48.793396  \n",
       "1        618.397997             0.002443           0.044621      1726.405676  \n",
       "2         27.595532             0.006671           0.017940       168.908467  \n",
       "3         -9.470455             0.158750           0.247783        56.083278  \n",
       "4         -3.971354             2.891937           5.597374        93.551037  \n",
       "..              ...                  ...                ...              ...  \n",
       "63       -52.554341             0.012890           0.001587       -87.690157  \n",
       "64        27.340108             0.006586           0.088367      1241.699171  \n",
       "65        49.918334             0.001982           0.002328        17.454367  \n",
       "66       -40.810306             0.001333           0.000425       -68.134394  \n",
       "67        13.731840             0.000008           0.000026       236.473088  \n",
       "\n",
       "[68 rows x 7 columns]"
      ]
     },
     "execution_count": 16,
     "metadata": {},
     "output_type": "execute_result"
    }
   ],
   "source": [
    "MediaAttractivity"
   ]
  },
  {
   "cell_type": "code",
   "execution_count": 17,
   "metadata": {},
   "outputs": [
    {
     "data": {
      "text/plain": [
       "<seaborn.axisgrid.FacetGrid at 0x26b4eb0e3a0>"
      ]
     },
     "execution_count": 17,
     "metadata": {},
     "output_type": "execute_result"
    },
    {
     "data": {
      "image/png": "[encoded data removed]",
      "text/plain": [
       "<Figure size 360x360 with 1 Axes>"
      ]
     },
     "metadata": {
      "needs_background": "light"
     },
     "output_type": "display_data"
    },
    {
     "data": {
      "image/png": "[encoded data removed]",
      "text/plain": [
       "<Figure size 360x360 with 1 Axes>"
      ]
     },
     "metadata": {
      "needs_background": "light"
     },
     "output_type": "display_data"
    }
   ],
   "source": [
    "#Let's plot distributions\n",
    "sns.displot(data=MediaAttractivity,x=\"Diff_Media_Avg%\",kind='ecdf')\n",
    "sns.displot(data=MediaAttractivity,x=\"Diff_Media_Var%\",kind='ecdf')"
   ]
  },
  {
   "cell_type": "markdown",
   "metadata": {},
   "source": [
    "**Observations**  \n",
    "\n",
    "As we can see, some authors are outliers in term of Attractivity difference.  \n",
    "Let's check these authors"
   ]
  },
  {
   "cell_type": "code",
   "execution_count": 18,
   "metadata": {},
   "outputs": [
    {
     "data": {
      "text/html": [
       "<div>\n",
       "<style scoped>\n",
       "    .dataframe tbody tr th:only-of-type {\n",
       "        vertical-align: middle;\n",
       "    }\n",
       "\n",
       "    .dataframe tbody tr th {\n",
       "        vertical-align: top;\n",
       "    }\n",
       "\n",
       "    .dataframe thead th {\n",
       "        text-align: right;\n",
       "    }\n",
       "</style>\n",
       "<table border=\"1\" class=\"dataframe\">\n",
       "  <thead>\n",
       "    <tr style=\"text-align: right;\">\n",
       "      <th></th>\n",
       "      <th>Author</th>\n",
       "      <th>Avg_Attract_NoMedia</th>\n",
       "      <th>Avg_Attract_Media</th>\n",
       "      <th>Diff_Media_Avg%</th>\n",
       "      <th>Var_Attract_NoMedia</th>\n",
       "      <th>Var_Attract_Media</th>\n",
       "      <th>Diff_Media_Var%</th>\n",
       "    </tr>\n",
       "  </thead>\n",
       "  <tbody>\n",
       "    <tr>\n",
       "      <th>1</th>\n",
       "      <td>Jonathan Wolfer</td>\n",
       "      <td>0.052674</td>\n",
       "      <td>0.378409</td>\n",
       "      <td>618.397997</td>\n",
       "      <td>0.002443</td>\n",
       "      <td>0.044621</td>\n",
       "      <td>1726.405676</td>\n",
       "    </tr>\n",
       "    <tr>\n",
       "      <th>12</th>\n",
       "      <td>Michelle Chaffee</td>\n",
       "      <td>0.204970</td>\n",
       "      <td>0.939667</td>\n",
       "      <td>358.441801</td>\n",
       "      <td>0.079282</td>\n",
       "      <td>1.162754</td>\n",
       "      <td>1366.598893</td>\n",
       "    </tr>\n",
       "    <tr>\n",
       "      <th>19</th>\n",
       "      <td>Ian Bremmer</td>\n",
       "      <td>0.019128</td>\n",
       "      <td>0.074649</td>\n",
       "      <td>290.263030</td>\n",
       "      <td>0.000319</td>\n",
       "      <td>0.213016</td>\n",
       "      <td>66700.389428</td>\n",
       "    </tr>\n",
       "    <tr>\n",
       "      <th>58</th>\n",
       "      <td>Juliet de Baubigny</td>\n",
       "      <td>0.002703</td>\n",
       "      <td>0.062395</td>\n",
       "      <td>2208.371041</td>\n",
       "      <td>0.000008</td>\n",
       "      <td>0.006896</td>\n",
       "      <td>88151.674174</td>\n",
       "    </tr>\n",
       "  </tbody>\n",
       "</table>\n",
       "</div>"
      ],
      "text/plain": [
       "                Author  Avg_Attract_NoMedia  Avg_Attract_Media  \\\n",
       "1      Jonathan Wolfer             0.052674           0.378409   \n",
       "12    Michelle Chaffee             0.204970           0.939667   \n",
       "19         Ian Bremmer             0.019128           0.074649   \n",
       "58  Juliet de Baubigny             0.002703           0.062395   \n",
       "\n",
       "    Diff_Media_Avg%  Var_Attract_NoMedia  Var_Attract_Media  Diff_Media_Var%  \n",
       "1        618.397997             0.002443           0.044621      1726.405676  \n",
       "12       358.441801             0.079282           1.162754      1366.598893  \n",
       "19       290.263030             0.000319           0.213016     66700.389428  \n",
       "58      2208.371041             0.000008           0.006896     88151.674174  "
      ]
     },
     "execution_count": 18,
     "metadata": {},
     "output_type": "execute_result"
    }
   ],
   "source": [
    "#Check this outliers : Avg\n",
    "quantileAvg = MediaAttractivity['Diff_Media_Avg%'].quantile(q=0.95)\n",
    "MediaAttractivity.loc[MediaAttractivity['Diff_Media_Avg%'] >= quantileAvg]"
   ]
  },
  {
   "cell_type": "code",
   "execution_count": 19,
   "metadata": {},
   "outputs": [
    {
     "data": {
      "text/html": [
       "<div>\n",
       "<style scoped>\n",
       "    .dataframe tbody tr th:only-of-type {\n",
       "        vertical-align: middle;\n",
       "    }\n",
       "\n",
       "    .dataframe tbody tr th {\n",
       "        vertical-align: top;\n",
       "    }\n",
       "\n",
       "    .dataframe thead th {\n",
       "        text-align: right;\n",
       "    }\n",
       "</style>\n",
       "<table border=\"1\" class=\"dataframe\">\n",
       "  <thead>\n",
       "    <tr style=\"text-align: right;\">\n",
       "      <th></th>\n",
       "      <th>Author</th>\n",
       "      <th>Avg_Attract_NoMedia</th>\n",
       "      <th>Avg_Attract_Media</th>\n",
       "      <th>Diff_Media_Avg%</th>\n",
       "      <th>Var_Attract_NoMedia</th>\n",
       "      <th>Var_Attract_Media</th>\n",
       "      <th>Diff_Media_Var%</th>\n",
       "    </tr>\n",
       "  </thead>\n",
       "  <tbody>\n",
       "    <tr>\n",
       "      <th>19</th>\n",
       "      <td>Ian Bremmer</td>\n",
       "      <td>0.019128</td>\n",
       "      <td>0.074649</td>\n",
       "      <td>290.263030</td>\n",
       "      <td>0.000319</td>\n",
       "      <td>0.213016</td>\n",
       "      <td>66700.389428</td>\n",
       "    </tr>\n",
       "    <tr>\n",
       "      <th>28</th>\n",
       "      <td>Marianne Griebler</td>\n",
       "      <td>0.351976</td>\n",
       "      <td>0.774049</td>\n",
       "      <td>119.915254</td>\n",
       "      <td>0.269617</td>\n",
       "      <td>13.380212</td>\n",
       "      <td>4862.664941</td>\n",
       "    </tr>\n",
       "    <tr>\n",
       "      <th>34</th>\n",
       "      <td>Gillian Zoe Segal</td>\n",
       "      <td>0.260805</td>\n",
       "      <td>0.802110</td>\n",
       "      <td>207.551708</td>\n",
       "      <td>0.041255</td>\n",
       "      <td>2.137030</td>\n",
       "      <td>5079.997622</td>\n",
       "    </tr>\n",
       "    <tr>\n",
       "      <th>58</th>\n",
       "      <td>Juliet de Baubigny</td>\n",
       "      <td>0.002703</td>\n",
       "      <td>0.062395</td>\n",
       "      <td>2208.371041</td>\n",
       "      <td>0.000008</td>\n",
       "      <td>0.006896</td>\n",
       "      <td>88151.674174</td>\n",
       "    </tr>\n",
       "  </tbody>\n",
       "</table>\n",
       "</div>"
      ],
      "text/plain": [
       "                Author  Avg_Attract_NoMedia  Avg_Attract_Media  \\\n",
       "19         Ian Bremmer             0.019128           0.074649   \n",
       "28   Marianne Griebler             0.351976           0.774049   \n",
       "34   Gillian Zoe Segal             0.260805           0.802110   \n",
       "58  Juliet de Baubigny             0.002703           0.062395   \n",
       "\n",
       "    Diff_Media_Avg%  Var_Attract_NoMedia  Var_Attract_Media  Diff_Media_Var%  \n",
       "19       290.263030             0.000319           0.213016     66700.389428  \n",
       "28       119.915254             0.269617          13.380212      4862.664941  \n",
       "34       207.551708             0.041255           2.137030      5079.997622  \n",
       "58      2208.371041             0.000008           0.006896     88151.674174  "
      ]
     },
     "execution_count": 19,
     "metadata": {},
     "output_type": "execute_result"
    }
   ],
   "source": [
    "#Check this outliers : Var\n",
    "quantileVar = MediaAttractivity['Diff_Media_Var%'].quantile(q=0.95)\n",
    "MediaAttractivity.loc[MediaAttractivity['Diff_Media_Var%'] >= quantileVar]"
   ]
  },
  {
   "cell_type": "markdown",
   "metadata": {},
   "source": [
    "**Observations**\n",
    "\n",
    "It seems there some outliers, above a quantile of 95% (especially Juliette de Baubigny)  \n",
    "Let's remove these authors for this analysis."
   ]
  },
  {
   "cell_type": "code",
   "execution_count": 20,
   "metadata": {},
   "outputs": [],
   "source": [
    "#Take these names into a list\n",
    "OutlierAuthors = ['Jonathan Wolfer','Michelle Chaffee','Ian Bremmer','Juliet de Baubigny','Marianne Griebler','Gillian Zoe Segal']"
   ]
  },
  {
   "cell_type": "code",
   "execution_count": 21,
   "metadata": {},
   "outputs": [],
   "source": [
    "#Change index into authors'name\n",
    "MediaAttractivity = MediaAttractivity.set_index('Author')"
   ]
  },
  {
   "cell_type": "code",
   "execution_count": 22,
   "metadata": {},
   "outputs": [],
   "source": [
    "#Drop the outlier\n",
    "MediaAttractivity.drop(index=OutlierAuthors,inplace=True) #Inplace means no copy created"
   ]
  },
  {
   "cell_type": "code",
   "execution_count": 23,
   "metadata": {},
   "outputs": [
    {
     "data": {
      "text/plain": [
       "<seaborn.axisgrid.FacetGrid at 0x26b4caed7f0>"
      ]
     },
     "execution_count": 23,
     "metadata": {},
     "output_type": "execute_result"
    },
    {
     "data": {
      "image/png": "[encoded data removed]",
      "text/plain": [
       "<Figure size 360x360 with 1 Axes>"
      ]
     },
     "metadata": {
      "needs_background": "light"
     },
     "output_type": "display_data"
    },
    {
     "data": {
      "image/png": "[encoded data removed]",
      "text/plain": [
       "<Figure size 360x360 with 1 Axes>"
      ]
     },
     "metadata": {
      "needs_background": "light"
     },
     "output_type": "display_data"
    }
   ],
   "source": [
    "#Check distribution again\n",
    "sns.displot(data=MediaAttractivity,x=\"Diff_Media_Avg%\",kind='ecdf')\n",
    "sns.displot(data=MediaAttractivity,x=\"Diff_Media_Var%\",kind='ecdf')"
   ]
  },
  {
   "cell_type": "code",
   "execution_count": 24,
   "metadata": {},
   "outputs": [
    {
     "name": "stdout",
     "output_type": "stream",
     "text": [
      "In average, adding a media increases the attractivity of a post by 38.55 %\n",
      "And the variance by 476.62 %\n"
     ]
    }
   ],
   "source": [
    "#Now let's calculate the mean of differences across authors, in % compared to NoMedia\n",
    "MediaAttractivityDiffAvg = MediaAttractivity['Diff_Media_Avg%'].mean()\n",
    "MediaAttractivityDiffVar = MediaAttractivity['Diff_Media_Var%'].mean()\n",
    "print('In average, adding a media increases the attractivity of a post by {:.2f} %'.format(MediaAttractivityDiffAvg))\n",
    "print('And the variance by {:.2f} %'.format(MediaAttractivityDiffVar))"
   ]
  },
  {
   "cell_type": "markdown",
   "metadata": {},
   "source": [
    "**Observations**\n",
    "\n",
    "So, for 95% of authors, we observe a significant increase in attractivity, about 39%, by adding a media in the post. \n",
    "\n",
    "**However**, this result has to be taken with cautious, because the variance increases a lot too, meaning that adding a media doesn't enure to have a better attractivity. \n",
    "\n",
    "*Therefore, let's test this hypothesis.*"
   ]
  },
  {
   "cell_type": "markdown",
   "metadata": {},
   "source": [
    "**Hypothesis test**\n",
    "\n",
    "First of all, let's formulate our hypothesis, with $\\mu$ the hypothesis mean\n",
    "\n",
    "$ H_0 $ : Media doesn't improve attractivity => $\\mu \\le 0\\%$  \n",
    "$ H_1 $ : Media improves attractivity => $\\mu > 0\\%$\n",
    "\n",
    "We take a significance level $\\alpha = 0.05$.  \n",
    "This value defines the degree of confidence we have in our hypothesis test.  \n",
    "For instance, we will be sure at 95% that our decision will be correct (True positive). \n",
    "\n",
    "The test is one-sided.\n",
    "\n",
    "The distribution follows a Normal Distribution.  \n",
    "We can therefore use a Z-test. \n",
    "\n",
    "$ Z= \\frac{\\bar{x} - \\mu}{s / \\sqrt n} $\n",
    "\n",
    "with :\n",
    "* $\\bar{x}$ the sample mean\n",
    "* $s$ the sample standard type\n",
    "* $n$ the sample size"
   ]
  },
  {
   "cell_type": "code",
   "execution_count": 25,
   "metadata": {},
   "outputs": [
    {
     "data": {
      "text/plain": [
       "<seaborn.axisgrid.FacetGrid at 0x26b4cc4c040>"
      ]
     },
     "execution_count": 25,
     "metadata": {},
     "output_type": "execute_result"
    },
    {
     "data": {
      "image/png": "[encoded data removed]",
      "text/plain": [
       "<Figure size 360x360 with 1 Axes>"
      ]
     },
     "metadata": {
      "needs_background": "light"
     },
     "output_type": "display_data"
    }
   ],
   "source": [
    "#% increase distribution\n",
    "sns.displot(data=MediaAttractivity,x=\"Diff_Media_Avg%\",kind='kde')"
   ]
  },
  {
   "cell_type": "code",
   "execution_count": 26,
   "metadata": {},
   "outputs": [
    {
     "name": "stdout",
     "output_type": "stream",
     "text": [
      "Z-score = 3.5188783229488854\n"
     ]
    }
   ],
   "source": [
    "mu = 0 #Hypothesis mean\n",
    "s = MediaAttractivity['Diff_Media_Avg%'].std() #Standard type\n",
    "n = MediaAttractivity.shape[0] #Sample size\n",
    "\n",
    "#Z-score\n",
    "Z = (MediaAttractivityDiffAvg - mu) / (s / np.sqrt(n))\n",
    "\n",
    "print('Z-score =',Z)"
   ]
  },
  {
   "cell_type": "markdown",
   "metadata": {},
   "source": [
    "After checking the Z-table, we got a value of 0.99978 > 0.95.  \n",
    "Which means $H_0$ is rejected :\n",
    "\n",
    "**Adding a media in the post tends to increase the attractivity of the post.**\n"
   ]
  },
  {
   "cell_type": "markdown",
   "metadata": {},
   "source": [
    "*Is this still true if we consider an increase of 30%*\n",
    "\n",
    "To verify that, let's do another hypothesis test :\n",
    "\n",
    "$H_0$ : $<30\\%$  \n",
    "$H_1$ : $>=30\\%$\n",
    "\n",
    "We keep a significance level $\\alpha = 0.05$"
   ]
  },
  {
   "cell_type": "code",
   "execution_count": 27,
   "metadata": {},
   "outputs": [
    {
     "name": "stdout",
     "output_type": "stream",
     "text": [
      "Z-score = 0.7806992681896487\n"
     ]
    }
   ],
   "source": [
    "mu = 30 #Hypothesis mean\n",
    "s = MediaAttractivity['Diff_Media_Avg%'].std() #Standard type\n",
    "n = MediaAttractivity.shape[0] #Sample size\n",
    "\n",
    "#Z-score\n",
    "Z = (MediaAttractivityDiffAvg - mu) / (s / np.sqrt(n))\n",
    "\n",
    "print('Z-score =',Z)"
   ]
  },
  {
   "cell_type": "markdown",
   "metadata": {},
   "source": [
    "**However**, we can't say that posting a media increases more than 30% the post attractivity.  \n",
    "\n",
    "\n",
    "A Z-score > 2 is a good value to consider $H_0$ as rejected.  \n",
    "In our case, it would be an increase of around **16%**\n"
   ]
  },
  {
   "cell_type": "code",
   "execution_count": 28,
   "metadata": {},
   "outputs": [
    {
     "name": "stdout",
     "output_type": "stream",
     "text": [
      "Z-score = 2.0585161604106257\n"
     ]
    }
   ],
   "source": [
    "mu = 16 #Hypothesis mean\n",
    "s = MediaAttractivity['Diff_Media_Avg%'].std() #Standard type\n",
    "n = MediaAttractivity.shape[0] #Sample size\n",
    "\n",
    "#Z-score\n",
    "Z = (MediaAttractivityDiffAvg - mu) / (s / np.sqrt(n))\n",
    "\n",
    "print('Z-score =',Z)"
   ]
  },
  {
   "cell_type": "markdown",
   "metadata": {},
   "source": [
    "**Conclusions**\n",
    "\n",
    "Adding a media in the post increases by around **16%** the attractivity, with a 95% confidence. \n",
    "\n",
    "*Note*  \n",
    "This confidence means : if we take 100 samples, 95 times we will find that adding a medium increases by at least 16% the attractivity."
   ]
  },
  {
   "cell_type": "markdown",
   "metadata": {},
   "source": []
  }
 ],
 "metadata": {
  "interpreter": {
   "hash": "ae290cde4634a6443381d55bbe6f1180de26a7de00f3f0eb338834ba70f07938"
  },
  "kernelspec": {
   "display_name": "Python 3.8.8 64-bit ('base': conda)",
   "language": "python",
   "name": "python3"
  },
  "language_info": {
   "codemirror_mode": {
    "name": "ipython",
    "version": 3
   },
   "file_extension": ".py",
   "mimetype": "text/x-python",
   "name": "python",
   "nbconvert_exporter": "python",
   "pygments_lexer": "ipython3",
   "version": "3.8.8"
  },
  "orig_nbformat": 4
 },
 "nbformat": 4,
 "nbformat_minor": 2
}
