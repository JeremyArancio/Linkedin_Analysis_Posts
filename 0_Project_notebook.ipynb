{
 "cells": [
  {
   "cell_type": "markdown",
   "metadata": {},
   "source": [
    "# What makes a LinkedIn post good ?\n",
    "\n",
    "## Context\n",
    "Nowadays, a lot of businesses are based on the relationship with their prospects and clients. Therefore LinkedIn is the perfect online platform to create trust, by sharing stories, advices, or anything else ia posts.\n",
    "\n",
    "Also a lot of \"Linkedin experts\" propose their services for companies to increase their visibility on this social media.  \n",
    "\n",
    "Understanding what makes a post good on LinkedIn is essential to develop the reach, create qualitative interactions with prospects, and therefore increase business revenus. \n",
    "\n",
    "In this notebook, we will study a dataset provided on Kaggle to understand which criteria make a post \"good\" on this social media. \n",
    "\n",
    "## Dataset provided on Kaggle\n",
    "\n",
    "You will find the link to this dataset on Kaggle website : https://www.kaggle.com/shreyasajal/linkedin-influencers-data\n",
    "\n",
    "I would like to thank Shreya Sajal for providing it.\n",
    "\n",
    "Here what she wrote about this dataset, on Kaggle :\n",
    "\n",
    "\"\"\n",
    "\n",
    "This dataset contains LinkedIn Influencers' post details and other details(post dependent as well as independent) per post. This dataset can be used to analyze LinkedIn reach based on post content and related account details.\n",
    "\n",
    "This dataset is great for Exploratory Data Analysis and NLP tasks.\n",
    "\n",
    "The data was scraped using BeautifulSoup and Selenium.Last updated on 15th Feb,2021\n",
    "\n",
    "\"\"\n",
    "\n",
    "*In this repository, the dataset is stored as a pickle file : \"influencers_data.pkl\"*\n",
    "\n",
    "## What will you find in this notebook ?\n",
    "\n",
    "In this project, we will :\n",
    "\n",
    "* Explore it and understand how it is organized\n",
    "* Do basic cleaning, like removing Nan and useless data\n",
    "* Draw insights with EDA :\n",
    "    * Authors overview\n",
    "    * Influence of adding a medium in the post with hypothesis tests\n",
    "* Set up posts topic modeling by :\n",
    "    * Cleaning written posts \n",
    "    * Grouping words together (phrases/sentences)\n",
    "    * Defining topics with Latent Dirichlet Allocation (LDA)\n",
    "    * And finally exposing which topics lead to the most reactions\n",
    "\n",
    "I hope you will enjoy this work. Have a good reading !"
   ]
  },
  {
   "cell_type": "markdown",
   "metadata": {},
   "source": [
    "## Contents\n",
    "\n",
    "* [Libraries](#1)\n",
    "* [First exploratory](#2)\n",
    "* [First cleaning](#3)\n",
    "* [Exploratory Data analysis](#4)\n",
    "* [Influence of topics](#5)\n",
    "* [General conclusions](#6)\n",
    "* [Personnal note](#7)\n",
    "* [Aknowledgment](#8)"
   ]
  },
  {
   "cell_type": "markdown",
   "metadata": {},
   "source": [
    "## Libraries <a class=\"anchor\" id=\"1\"></a>"
   ]
  },
  {
   "cell_type": "code",
   "execution_count": 2,
   "metadata": {},
   "outputs": [],
   "source": [
    "import pandas as pd\n",
    "import pickle\n",
    "import matplotlib.pyplot as plt\n",
    "import numpy as np\n",
    "import seaborn as sns\n",
    "import spacy # NLP\n",
    "import itertools as it # Transform an object into an iterator. This is especially useful for generator objects\n",
    "import re # Used with re.sub method, allowing us to remove patterns from a string\n",
    "from gensim.models import Phrases # Trained model returning Sentences/Phrases, which are group of words generally associated together, like \"ice_cream\"\n",
    "from gensim.corpora import Dictionary # Create a Dictionnary for LDA\n",
    "from gensim.models.ldamulticore import LdaModel #Latent Dirichlet Allocation\n",
    "from gensim.models import CoherenceModel # Calculate the coherence of our LDA model, which will tells us if the model is good or not"
   ]
  },
  {
   "cell_type": "markdown",
   "metadata": {},
   "source": [
    "## First exploratory"
   ]
  },
  {
   "cell_type": "markdown",
   "metadata": {},
   "source": [
    "Before anything going deep into the dataset, let's just check what is inside.  \n",
    "If you want directly my first analysis of columns, go [there](#fastAnalysis)"
   ]
  },
  {
   "cell_type": "code",
   "execution_count": 3,
   "metadata": {},
   "outputs": [],
   "source": [
    "# Download the dataset\n",
    "df = pd.read_pickle(\"influencers_data.pkl\")"
   ]
  },
  {
   "cell_type": "code",
   "execution_count": 4,
   "metadata": {},
   "outputs": [
    {
     "name": "stdout",
     "output_type": "stream",
     "text": [
      "<class 'pandas.core.frame.DataFrame'>\n",
      "RangeIndex: 34012 entries, 0 to 34011\n",
      "Data columns (total 19 columns):\n",
      " #   Column             Non-Null Count  Dtype  \n",
      "---  ------             --------------  -----  \n",
      " 0   Unnamed: 0         34012 non-null  int64  \n",
      " 1   name               34012 non-null  object \n",
      " 2   headline           34012 non-null  object \n",
      " 3   location           31740 non-null  object \n",
      " 4   followers          33970 non-null  float64\n",
      " 5   connections        25713 non-null  object \n",
      " 6   about              34012 non-null  object \n",
      " 7   time_spent         34011 non-null  object \n",
      " 8   content            31996 non-null  object \n",
      " 9   content_links      34012 non-null  object \n",
      " 10  media_type         26779 non-null  object \n",
      " 11  media_url          34012 non-null  object \n",
      " 12  num_hashtags       34012 non-null  int64  \n",
      " 13  hashtag_followers  34012 non-null  int64  \n",
      " 14  hashtags           34012 non-null  object \n",
      " 15  reactions          34012 non-null  int64  \n",
      " 16  comments           34012 non-null  int64  \n",
      " 17  views              0 non-null      float64\n",
      " 18  votes              86 non-null     object \n",
      "dtypes: float64(2), int64(5), object(12)\n",
      "memory usage: 4.9+ MB\n"
     ]
    }
   ],
   "source": [
    "# First look\n",
    "df.info()"
   ]
  },
  {
   "cell_type": "markdown",
   "metadata": {},
   "source": [
    "We spot some columns without values"
   ]
  },
  {
   "cell_type": "code",
   "execution_count": 5,
   "metadata": {},
   "outputs": [
    {
     "data": {
      "text/plain": [
       "Unnamed: 0             0.000000\n",
       "name                   0.000000\n",
       "headline               0.000000\n",
       "location               6.679995\n",
       "followers              0.123486\n",
       "connections           24.400212\n",
       "about                  0.000000\n",
       "time_spent             0.002940\n",
       "content                5.927320\n",
       "content_links          0.000000\n",
       "media_type            21.266024\n",
       "media_url              0.000000\n",
       "num_hashtags           0.000000\n",
       "hashtag_followers      0.000000\n",
       "hashtags               0.000000\n",
       "reactions              0.000000\n",
       "comments               0.000000\n",
       "views                100.000000\n",
       "votes                 99.747148\n",
       "dtype: float64"
      ]
     },
     "execution_count": 5,
     "metadata": {},
     "output_type": "execute_result"
    }
   ],
   "source": [
    "# Number of Nan in %\n",
    "df.isna().sum() / df.shape[0] * 100"
   ]
  },
  {
   "cell_type": "markdown",
   "metadata": {},
   "source": [
    "What does the data look like ?"
   ]
  },
  {
   "cell_type": "code",
   "execution_count": 6,
   "metadata": {},
   "outputs": [
    {
     "data": {
      "text/html": [
       "<div>\n",
       "<style scoped>\n",
       "    .dataframe tbody tr th:only-of-type {\n",
       "        vertical-align: middle;\n",
       "    }\n",
       "\n",
       "    .dataframe tbody tr th {\n",
       "        vertical-align: top;\n",
       "    }\n",
       "\n",
       "    .dataframe thead th {\n",
       "        text-align: right;\n",
       "    }\n",
       "</style>\n",
       "<table border=\"1\" class=\"dataframe\">\n",
       "  <thead>\n",
       "    <tr style=\"text-align: right;\">\n",
       "      <th></th>\n",
       "      <th>Unnamed: 0</th>\n",
       "      <th>name</th>\n",
       "      <th>headline</th>\n",
       "      <th>location</th>\n",
       "      <th>followers</th>\n",
       "      <th>connections</th>\n",
       "      <th>about</th>\n",
       "      <th>time_spent</th>\n",
       "      <th>content</th>\n",
       "      <th>content_links</th>\n",
       "      <th>media_type</th>\n",
       "      <th>media_url</th>\n",
       "      <th>num_hashtags</th>\n",
       "      <th>hashtag_followers</th>\n",
       "      <th>hashtags</th>\n",
       "      <th>reactions</th>\n",
       "      <th>comments</th>\n",
       "      <th>views</th>\n",
       "      <th>votes</th>\n",
       "    </tr>\n",
       "  </thead>\n",
       "  <tbody>\n",
       "    <tr>\n",
       "      <th>0</th>\n",
       "      <td>0</td>\n",
       "      <td>Nicholas Wyman</td>\n",
       "      <td>CEO IWSI Group</td>\n",
       "      <td>NaN</td>\n",
       "      <td>6484.0</td>\n",
       "      <td>500+</td>\n",
       "      <td>Nicholas Wyman for the past 25 years has shone...</td>\n",
       "      <td>1 day ago</td>\n",
       "      <td>Robert Lerman  writes that achieving a healthy...</td>\n",
       "      <td>[['https://www.linkedin.com/in/ACoAAACy1HkBviR...</td>\n",
       "      <td>article</td>\n",
       "      <td>['https://www.urban.org/urban-wire/its-time-mo...</td>\n",
       "      <td>4</td>\n",
       "      <td>0</td>\n",
       "      <td>[['#workbasedlearning', 'https://www.linkedin....</td>\n",
       "      <td>12</td>\n",
       "      <td>1</td>\n",
       "      <td>NaN</td>\n",
       "      <td>NaN</td>\n",
       "    </tr>\n",
       "    <tr>\n",
       "      <th>1</th>\n",
       "      <td>1</td>\n",
       "      <td>Nicholas Wyman</td>\n",
       "      <td>CEO IWSI Group</td>\n",
       "      <td>NaN</td>\n",
       "      <td>6484.0</td>\n",
       "      <td>500+</td>\n",
       "      <td>Nicholas Wyman for the past 25 years has shone...</td>\n",
       "      <td>1 week ago</td>\n",
       "      <td>National disability advocate  Sara Hart Weir, ...</td>\n",
       "      <td>[['https://www.linkedin.com/in/ACoAAAHsfJgBb7_...</td>\n",
       "      <td>NaN</td>\n",
       "      <td>[]</td>\n",
       "      <td>0</td>\n",
       "      <td>0</td>\n",
       "      <td>[]</td>\n",
       "      <td>11</td>\n",
       "      <td>0</td>\n",
       "      <td>NaN</td>\n",
       "      <td>NaN</td>\n",
       "    </tr>\n",
       "  </tbody>\n",
       "</table>\n",
       "</div>"
      ],
      "text/plain": [
       "   Unnamed: 0            name        headline location  followers connections  \\\n",
       "0           0  Nicholas Wyman  CEO IWSI Group      NaN     6484.0        500+   \n",
       "1           1  Nicholas Wyman  CEO IWSI Group      NaN     6484.0        500+   \n",
       "\n",
       "                                               about  time_spent  \\\n",
       "0  Nicholas Wyman for the past 25 years has shone...   1 day ago   \n",
       "1  Nicholas Wyman for the past 25 years has shone...  1 week ago   \n",
       "\n",
       "                                             content  \\\n",
       "0  Robert Lerman  writes that achieving a healthy...   \n",
       "1  National disability advocate  Sara Hart Weir, ...   \n",
       "\n",
       "                                       content_links media_type  \\\n",
       "0  [['https://www.linkedin.com/in/ACoAAACy1HkBviR...    article   \n",
       "1  [['https://www.linkedin.com/in/ACoAAAHsfJgBb7_...        NaN   \n",
       "\n",
       "                                           media_url  num_hashtags  \\\n",
       "0  ['https://www.urban.org/urban-wire/its-time-mo...             4   \n",
       "1                                                 []             0   \n",
       "\n",
       "   hashtag_followers                                           hashtags  \\\n",
       "0                  0  [['#workbasedlearning', 'https://www.linkedin....   \n",
       "1                  0                                                 []   \n",
       "\n",
       "   reactions  comments  views votes  \n",
       "0         12         1    NaN   NaN  \n",
       "1         11         0    NaN   NaN  "
      ]
     },
     "execution_count": 6,
     "metadata": {},
     "output_type": "execute_result"
    }
   ],
   "source": [
    "# Show the two first rows\n",
    "df.head(2)"
   ]
  },
  {
   "cell_type": "code",
   "execution_count": 7,
   "metadata": {},
   "outputs": [
    {
     "data": {
      "text/plain": [
       "1 year ago       7753\n",
       "2 years ago      5728\n",
       "3 years ago      3759\n",
       "4 years ago      2126\n",
       "3 months ago     1456\n",
       "2 months ago     1448\n",
       "4 months ago     1279\n",
       "10 months ago    1247\n",
       "11 months ago    1133\n",
       "8 months ago     1121\n",
       "1 month ago      1120\n",
       "9 months ago     1115\n",
       "7 months ago      942\n",
       "5 months ago      904\n",
       "6 months ago      855\n",
       "2 weeks ago       428\n",
       "1 week ago        418\n",
       "3 weeks ago       346\n",
       "5 years ago       304\n",
       "6 years ago        81\n",
       "2 days ago         73\n",
       "1 day ago          72\n",
       "4 days ago         69\n",
       "3 days ago         63\n",
       "6 days ago         36\n",
       "5 days ago         31\n",
       "7 years ago        25\n",
       "5 hours ago         8\n",
       "4 hours ago         6\n",
       "7 hours ago         6\n",
       "1 hour ago          6\n",
       "3 hours ago         6\n",
       "20 hours ago        5\n",
       "23 hours ago        5\n",
       "6 hours ago         5\n",
       "22 hours ago        5\n",
       "14 hours ago        4\n",
       "18 hours ago        4\n",
       "2 hours ago         3\n",
       "8 hours ago         3\n",
       "9 hours ago         3\n",
       "15 hours ago        2\n",
       "19 hours ago        2\n",
       "13 hours ago        2\n",
       "10 hours ago        1\n",
       "21 hours ago        1\n",
       "12 hours ago        1\n",
       "17 hours ago        1\n",
       "Name: time_spent, dtype: int64"
      ]
     },
     "execution_count": 7,
     "metadata": {},
     "output_type": "execute_result"
    }
   ],
   "source": [
    "#Let's check Time_spent\n",
    "df.time_spent.value_counts()"
   ]
  },
  {
   "cell_type": "code",
   "execution_count": 8,
   "metadata": {},
   "outputs": [
    {
     "data": {
      "text/plain": [
       "article       15144\n",
       "image          8708\n",
       "video          2690\n",
       "document        113\n",
       "poll             86\n",
       "entity           32\n",
       "newsletter        4\n",
       "view              2\n",
       "Name: media_type, dtype: int64"
      ]
     },
     "execution_count": 8,
     "metadata": {},
     "output_type": "execute_result"
    }
   ],
   "source": [
    "#Let's check Media_type\n",
    "df.media_type.value_counts()"
   ]
  },
  {
   "cell_type": "code",
   "execution_count": 9,
   "metadata": {},
   "outputs": [
    {
     "data": {
      "text/plain": [
       "\"[['https://www.linkedin.com/in/ACoAAACy1HkBviRGLfLG__Jk8FRH2JY2rGg3nTU', 'Robert Lerman'], ['https://www.linkedin.com/feed/hashtag/?keywords=workbasedlearning&highlightedUpdateUrns=urn%3Ali%3Aactivity%3A6765387069389967360', '#workbasedlearning'], ['https://www.linkedin.com/feed/hashtag/?keywords=usa&highlightedUpdateUrns=urn%3Ali%3Aactivity%3A6765387069389967360', '#USA'], ['https://www.linkedin.com/feed/hashtag/?keywords=apprenticeship&highlightedUpdateUrns=urn%3Ali%3Aactivity%3A6765387069389967360', '#apprenticeship'], ['https://www.linkedin.com/feed/hashtag/?keywords=urbanwire&highlightedUpdateUrns=urn%3Ali%3Aactivity%3A6765387069389967360', '#UrbanWire'], ['https://www.linkedin.com/company/urban-institute/', 'Urban Institute']]\""
      ]
     },
     "execution_count": 9,
     "metadata": {},
     "output_type": "execute_result"
    }
   ],
   "source": [
    "#Content_links\n",
    "df.content_links[0]"
   ]
  },
  {
   "cell_type": "code",
   "execution_count": 10,
   "metadata": {},
   "outputs": [
    {
     "data": {
      "text/plain": [
       "\"['https://www.urban.org/urban-wire/its-time-modernize-american-apprenticeship-system']\""
      ]
     },
     "execution_count": 10,
     "metadata": {},
     "output_type": "execute_result"
    }
   ],
   "source": [
    "#Media_url\n",
    "df.media_url.head()[0]"
   ]
  },
  {
   "cell_type": "code",
   "execution_count": 11,
   "metadata": {},
   "outputs": [
    {
     "data": {
      "text/plain": [
       "0    34012\n",
       "Name: hashtag_followers, dtype: int64"
      ]
     },
     "execution_count": 11,
     "metadata": {},
     "output_type": "execute_result"
    }
   ],
   "source": [
    "#Hashtags_followers\n",
    "df.hashtag_followers.value_counts()"
   ]
  },
  {
   "cell_type": "code",
   "execution_count": 12,
   "metadata": {},
   "outputs": [
    {
     "data": {
      "text/plain": [
       "\"[['#workbasedlearning', 'https://www.linkedin.com/feed/hashtag/?keywords=workbasedlearning&highlightedUpdateUrns=urn%3Ali%3Aactivity%3A6765387069389967360'], ['#USA', 'https://www.linkedin.com/feed/hashtag/?keywords=usa&highlightedUpdateUrns=urn%3Ali%3Aactivity%3A6765387069389967360'], ['#apprenticeship', 'https://www.linkedin.com/feed/hashtag/?keywords=apprenticeship&highlightedUpdateUrns=urn%3Ali%3Aactivity%3A6765387069389967360'], ['#UrbanWire', 'https://www.linkedin.com/feed/hashtag/?keywords=urbanwire&highlightedUpdateUrns=urn%3Ali%3Aactivity%3A6765387069389967360']]\""
      ]
     },
     "execution_count": 12,
     "metadata": {},
     "output_type": "execute_result"
    }
   ],
   "source": [
    "#hashtags\n",
    "df.hashtags[0]"
   ]
  },
  {
   "cell_type": "code",
   "execution_count": 13,
   "metadata": {},
   "outputs": [
    {
     "data": {
      "text/plain": [
       "265.0    3\n",
       "240.0    2\n",
       "141.0    2\n",
       "256.0    1\n",
       "305.0    1\n",
       "        ..\n",
       "195      1\n",
       "881.0    1\n",
       "59       1\n",
       "2,131    1\n",
       "387.0    1\n",
       "Name: votes, Length: 82, dtype: int64"
      ]
     },
     "execution_count": 13,
     "metadata": {},
     "output_type": "execute_result"
    }
   ],
   "source": [
    "# Votes\n",
    "df.votes.value_counts()"
   ]
  },
  {
   "cell_type": "code",
   "execution_count": 14,
   "metadata": {},
   "outputs": [
    {
     "data": {
      "text/plain": [
       "500+    25633\n",
       "171        80\n",
       "Name: connections, dtype: int64"
      ]
     },
     "execution_count": 14,
     "metadata": {},
     "output_type": "execute_result"
    }
   ],
   "source": [
    "#Connections\n",
    "df.connections.value_counts()"
   ]
  },
  {
   "cell_type": "code",
   "execution_count": 15,
   "metadata": {},
   "outputs": [
    {
     "data": {
      "text/plain": [
       "['New', 'York,', 'New', 'York,', 'United', 'States']    4234\n",
       "['Miami,', 'Florida,', 'United', 'States']              1959\n",
       "['Hungary']                                             1846\n",
       "['Cambridge,', 'England,', 'United', 'Kingdom']         1784\n",
       "['New', 'York', 'City', 'Metropolitan', 'Area']         1738\n",
       "Name: location, dtype: int64"
      ]
     },
     "execution_count": 15,
     "metadata": {},
     "output_type": "execute_result"
    }
   ],
   "source": [
    "#Location\n",
    "df.location.value_counts().head()"
   ]
  },
  {
   "cell_type": "code",
   "execution_count": 16,
   "metadata": {},
   "outputs": [
    {
     "data": {
      "text/plain": [
       "2272"
      ]
     },
     "execution_count": 16,
     "metadata": {},
     "output_type": "execute_result"
    }
   ],
   "source": [
    "#Location nan\n",
    "df.location.isna().sum()"
   ]
  },
  {
   "cell_type": "code",
   "execution_count": 17,
   "metadata": {},
   "outputs": [
    {
     "data": {
      "text/plain": [
       "article       15144\n",
       "image          8708\n",
       "video          2690\n",
       "document        113\n",
       "poll             86\n",
       "entity           32\n",
       "newsletter        4\n",
       "view              2\n",
       "Name: media_type, dtype: int64"
      ]
     },
     "execution_count": 17,
     "metadata": {},
     "output_type": "execute_result"
    }
   ],
   "source": [
    "#Media types\n",
    "df.media_type.value_counts()"
   ]
  },
  {
   "cell_type": "code",
   "execution_count": 18,
   "metadata": {},
   "outputs": [
    {
     "data": {
      "text/plain": [
       "7233"
      ]
     },
     "execution_count": 18,
     "metadata": {},
     "output_type": "execute_result"
    }
   ],
   "source": [
    "#Media types Nan\n",
    "df.media_type.isna().sum()"
   ]
  },
  {
   "cell_type": "markdown",
   "metadata": {},
   "source": [
    "### Data check <a class=\"anchor\" id=\"fastAnalysis\"></a>\n",
    "\n",
    "We have different columns in this dataset :\n",
    "\n",
    "* **Unnamed** : to delete\n",
    "* **Name** : Linkedin profile\n",
    "* **Headline** : below the name in Linkedin\n",
    "* **Location** : some Nan ; List : example ['Gloucester,', 'Massachusetts,', 'United', 'States']\n",
    "* **Followers** : number of followers (connections + followers in Linkedin) ; This dataset is composed of **influencers** with a lot of followers\n",
    "* **Connections** : careful of 500+ (is it useful ?) => only 2 differents values => delete it !\n",
    "* **About** : about section in the profile\n",
    "* **time_spent** : time between the post date & when this dataset was created (categorical values : 1 month ago, 5 years ago, ...)\n",
    "* **Content** : core of the content\n",
    "* **Content_links** : every links contained in the post : profile, #, media (artice, website, picture,...)\n",
    "* **Media_type** : media added to the post : article, image, photo,... ; Some nan\n",
    "* **Media_url** : link of the media\n",
    "* **Num_hashtags** : number\n",
    "* **Hashtag_followers** : nulls\n",
    "* **Hashtags** : [['#',\"link\"]]\n",
    "* **Reactions** : number of likes, supports, loves,... counted as identical\n",
    "* **Comments** : number of comments\n",
    "* **Views** : Nan\n",
    "* **Votes** : 82 non-null, composed of decimal numbers too. Weird. Because it is unsignificant, we could delete it"
   ]
  },
  {
   "cell_type": "markdown",
   "metadata": {},
   "source": [
    "## First cleaning <a class=\"anchor\" id=\"3\"></a>\n",
    "\n",
    "Based on the previous analysis, we will clean the dataset"
   ]
  },
  {
   "cell_type": "markdown",
   "metadata": {},
   "source": [
    "### Drop columns"
   ]
  },
  {
   "cell_type": "code",
   "execution_count": 19,
   "metadata": {},
   "outputs": [],
   "source": [
    "# We drop useless columns\n",
    "df_cleaned = df.drop(['Unnamed: 0','connections','hashtag_followers','views','votes'],axis=1)"
   ]
  },
  {
   "cell_type": "markdown",
   "metadata": {},
   "source": [
    "### Replace values"
   ]
  },
  {
   "cell_type": "code",
   "execution_count": 20,
   "metadata": {},
   "outputs": [
    {
     "data": {
      "text/plain": [
       "name                0\n",
       "headline            0\n",
       "location         2272\n",
       "followers          42\n",
       "about               0\n",
       "time_spent          1\n",
       "content          2016\n",
       "content_links       0\n",
       "media_type       7233\n",
       "media_url           0\n",
       "num_hashtags        0\n",
       "hashtags            0\n",
       "reactions           0\n",
       "comments            0\n",
       "dtype: int64"
      ]
     },
     "execution_count": 20,
     "metadata": {},
     "output_type": "execute_result"
    }
   ],
   "source": [
    "# Replace Nan\n",
    "df_cleaned.isna().sum()"
   ]
  },
  {
   "cell_type": "markdown",
   "metadata": {},
   "source": [
    "#### Location\n"
   ]
  },
  {
   "cell_type": "code",
   "execution_count": 21,
   "metadata": {},
   "outputs": [],
   "source": [
    "# Replace Nan by \"Unknown\"\n",
    "df_cleaned['Location'] = df_cleaned['location'].fillna('Unknown')\n",
    "df_cleaned.drop(['location'],axis=1,inplace=True)"
   ]
  },
  {
   "cell_type": "markdown",
   "metadata": {},
   "source": [
    "#### Followers"
   ]
  },
  {
   "cell_type": "markdown",
   "metadata": {},
   "source": [
    "To avoid any bias, let's take the mean to replace Nan.  \n",
    "There are only 42 missing values."
   ]
  },
  {
   "cell_type": "code",
   "execution_count": 22,
   "metadata": {},
   "outputs": [
    {
     "data": {
      "text/plain": [
       "1125922.2806005299"
      ]
     },
     "execution_count": 22,
     "metadata": {},
     "output_type": "execute_result"
    }
   ],
   "source": [
    "# Followers mean\n",
    "Followers_mean = df_cleaned.followers.mean()\n",
    "Followers_mean"
   ]
  },
  {
   "cell_type": "code",
   "execution_count": 23,
   "metadata": {},
   "outputs": [],
   "source": [
    "# Replace Nan by the mean\n",
    "df_cleaned[\"Followers\"] = df_cleaned['followers'].fillna(Followers_mean)\n",
    "df_cleaned.drop(['followers'],axis=1,inplace=True)"
   ]
  },
  {
   "cell_type": "markdown",
   "metadata": {},
   "source": [
    "#### Time spent"
   ]
  },
  {
   "cell_type": "markdown",
   "metadata": {},
   "source": [
    "There is only one missing value. "
   ]
  },
  {
   "cell_type": "code",
   "execution_count": 24,
   "metadata": {},
   "outputs": [
    {
     "data": {
      "text/html": [
       "<div>\n",
       "<style scoped>\n",
       "    .dataframe tbody tr th:only-of-type {\n",
       "        vertical-align: middle;\n",
       "    }\n",
       "\n",
       "    .dataframe tbody tr th {\n",
       "        vertical-align: top;\n",
       "    }\n",
       "\n",
       "    .dataframe thead th {\n",
       "        text-align: right;\n",
       "    }\n",
       "</style>\n",
       "<table border=\"1\" class=\"dataframe\">\n",
       "  <thead>\n",
       "    <tr style=\"text-align: right;\">\n",
       "      <th></th>\n",
       "      <th>name</th>\n",
       "      <th>headline</th>\n",
       "      <th>about</th>\n",
       "      <th>time_spent</th>\n",
       "      <th>content</th>\n",
       "      <th>content_links</th>\n",
       "      <th>media_type</th>\n",
       "      <th>media_url</th>\n",
       "      <th>num_hashtags</th>\n",
       "      <th>hashtags</th>\n",
       "      <th>reactions</th>\n",
       "      <th>comments</th>\n",
       "      <th>Location</th>\n",
       "      <th>Followers</th>\n",
       "    </tr>\n",
       "  </thead>\n",
       "  <tbody>\n",
       "    <tr>\n",
       "      <th>14049</th>\n",
       "      <td>Gary Frisch</td>\n",
       "      <td>30-Year Public Relations Pro and Skilled Writer</td>\n",
       "      <td>I began my public relations careers when the S...</td>\n",
       "      <td>NaN</td>\n",
       "      <td>Amid Coronavirus, PR pros should tread careful...</td>\n",
       "      <td>[]</td>\n",
       "      <td>article</td>\n",
       "      <td>['https://www.linkedin.com/pulse/public-relati...</td>\n",
       "      <td>0</td>\n",
       "      <td>[]</td>\n",
       "      <td>8</td>\n",
       "      <td>2</td>\n",
       "      <td>['Greater', 'Philadelphia']</td>\n",
       "      <td>30971.0</td>\n",
       "    </tr>\n",
       "  </tbody>\n",
       "</table>\n",
       "</div>"
      ],
      "text/plain": [
       "              name                                         headline  \\\n",
       "14049  Gary Frisch  30-Year Public Relations Pro and Skilled Writer   \n",
       "\n",
       "                                                   about time_spent  \\\n",
       "14049  I began my public relations careers when the S...        NaN   \n",
       "\n",
       "                                                 content content_links  \\\n",
       "14049  Amid Coronavirus, PR pros should tread careful...            []   \n",
       "\n",
       "      media_type                                          media_url  \\\n",
       "14049    article  ['https://www.linkedin.com/pulse/public-relati...   \n",
       "\n",
       "       num_hashtags hashtags  reactions  comments  \\\n",
       "14049             0       []          8         2   \n",
       "\n",
       "                          Location  Followers  \n",
       "14049  ['Greater', 'Philadelphia']    30971.0  "
      ]
     },
     "execution_count": 24,
     "metadata": {},
     "output_type": "execute_result"
    }
   ],
   "source": [
    "df_cleaned.loc[df_cleaned['time_spent'].isna()]"
   ]
  },
  {
   "cell_type": "markdown",
   "metadata": {},
   "source": [
    "We see it's about coronavirus.    \n",
    "We can think the post was published the day the extraction was done.  \n",
    "For this reason, let's replace Nan by \"Current date\""
   ]
  },
  {
   "cell_type": "code",
   "execution_count": 25,
   "metadata": {},
   "outputs": [],
   "source": [
    "df_cleaned['Time_spent'] = df_cleaned['time_spent'].fillna('Current date')\n",
    "#Drop the previous column\n",
    "df_cleaned.drop(['time_spent'],axis=1,inplace=True)"
   ]
  },
  {
   "cell_type": "markdown",
   "metadata": {},
   "source": [
    "#### Content"
   ]
  },
  {
   "cell_type": "markdown",
   "metadata": {},
   "source": [
    "The question we decided to treat is about post contents.  \n",
    "Therefore we have no reason to keep rows without content.  \n",
    "Let's drop them"
   ]
  },
  {
   "cell_type": "code",
   "execution_count": 26,
   "metadata": {},
   "outputs": [],
   "source": [
    "df_cleaned = df_cleaned.loc[df_cleaned['content'].notnull()]"
   ]
  },
  {
   "cell_type": "markdown",
   "metadata": {},
   "source": [
    "#### Media"
   ]
  },
  {
   "cell_type": "markdown",
   "metadata": {},
   "source": [
    "We suppose that Nan means there is no media in the post.\n",
    "Let's replace it by \"None\""
   ]
  },
  {
   "cell_type": "code",
   "execution_count": 27,
   "metadata": {},
   "outputs": [],
   "source": [
    "df_cleaned['Media_type'] = df_cleaned[\"media_type\"].fillna(\"None\")\n",
    "df_cleaned.drop(['media_type'],axis=1,inplace=True)"
   ]
  },
  {
   "cell_type": "markdown",
   "metadata": {},
   "source": [
    "#### Is everything ok ?"
   ]
  },
  {
   "cell_type": "code",
   "execution_count": 28,
   "metadata": {},
   "outputs": [
    {
     "data": {
      "text/plain": [
       "name             0\n",
       "headline         0\n",
       "about            0\n",
       "content          0\n",
       "content_links    0\n",
       "media_url        0\n",
       "num_hashtags     0\n",
       "hashtags         0\n",
       "reactions        0\n",
       "comments         0\n",
       "Location         0\n",
       "Followers        0\n",
       "Time_spent       0\n",
       "Media_type       0\n",
       "dtype: int64"
      ]
     },
     "execution_count": 28,
     "metadata": {},
     "output_type": "execute_result"
    }
   ],
   "source": [
    "df_cleaned.isna().sum()"
   ]
  },
  {
   "cell_type": "markdown",
   "metadata": {},
   "source": [
    "YES !"
   ]
  },
  {
   "cell_type": "code",
   "execution_count": 29,
   "metadata": {},
   "outputs": [
    {
     "name": "stdout",
     "output_type": "stream",
     "text": [
      "We dropped 2016 rows from the original dataset\n"
     ]
    }
   ],
   "source": [
    "# How many rows did we drop ?\n",
    "print('We dropped {} rows from the original dataset'.format(df.shape[0]-df_cleaned.shape[0]))"
   ]
  },
  {
   "cell_type": "markdown",
   "metadata": {},
   "source": [
    "The data is now ready to be explored."
   ]
  },
  {
   "cell_type": "markdown",
   "metadata": {},
   "source": [
    "### Export the dataset"
   ]
  },
  {
   "cell_type": "code",
   "execution_count": 30,
   "metadata": {},
   "outputs": [],
   "source": [
    "# Because we have removed rows, we have to reset_index\n",
    "df_cleaned.reset_index(inplace=True,drop=True)\n",
    "\n",
    "# We export it as a pkl\n",
    "df_cleaned.to_pickle(\"cleaned_data.pkl\")"
   ]
  },
  {
   "cell_type": "markdown",
   "metadata": {},
   "source": [
    "## Exploratory Data Analysis <a class=\"anchor\" id=\"4\"></a>"
   ]
  },
  {
   "cell_type": "markdown",
   "metadata": {},
   "source": [
    "Now we have cleaned the dataset, we can now highlight some intersting insights."
   ]
  },
  {
   "cell_type": "code",
   "execution_count": 31,
   "metadata": {},
   "outputs": [],
   "source": [
    "data = pd.read_pickle('cleaned_data.pkl')"
   ]
  },
  {
   "cell_type": "markdown",
   "metadata": {},
   "source": [
    "### Overview of the authors"
   ]
  },
  {
   "cell_type": "code",
   "execution_count": 32,
   "metadata": {},
   "outputs": [],
   "source": [
    "#Let's draw the authors relatively to their number of followers and reaction means\n",
    "\n",
    "#Reactions and followers means for each authors\n",
    "authors_df = pd.pivot_table(data,index=\"name\",values=[\"reactions\",\"Followers\"],aggfunc='mean')"
   ]
  },
  {
   "cell_type": "code",
   "execution_count": 33,
   "metadata": {},
   "outputs": [
    {
     "name": "stderr",
     "output_type": "stream",
     "text": [
      "C:\\Users\\Jeremy\\AppData\\Local\\Temp/ipykernel_11552/4256639052.py:16: UserWarning: FixedFormatter should only be used together with FixedLocator\n",
      "  plt.gca().set_yticklabels(['{:.0f}'.format(k) for k in current_values])\n",
      "C:\\Users\\Jeremy\\anaconda3\\lib\\site-packages\\IPython\\core\\pylabtools.py:151: UserWarning: Glyph 127945 (\\N{RUGBY FOOTBALL}) missing from current font.\n",
      "  fig.canvas.print_figure(bytes_io, **kw)\n"
     ]
    },
    {
     "data": {
      "image/png": "[encoded data removed]",
      "text/plain": [
       "<Figure size 720x576 with 1 Axes>"
      ]
     },
     "metadata": {
      "needs_background": "light"
     },
     "output_type": "display_data"
    }
   ],
   "source": [
    "#Plot\n",
    "plt.rcParams['figure.figsize'] = [10, 8]\n",
    "\n",
    "for author in authors_df.index:\n",
    "    x = authors_df.reactions.loc[author]\n",
    "    y = authors_df.Followers.loc[author]\n",
    "    plt.scatter(x, y, color='blue')\n",
    "    plt.text(x+100, y+100, author, fontsize=10)\n",
    "\n",
    "plt.title('Overview of authors', fontsize=20)\n",
    "plt.xlabel('Number of reactions', fontsize=15)\n",
    "plt.ylabel('Number of followers', fontsize=15)\n",
    "\n",
    "#Format yaxis to avoid scientific notation\n",
    "current_values = plt.gca().get_yticks()\n",
    "plt.gca().set_yticklabels(['{:.0f}'.format(k) for k in current_values])\n",
    "\n",
    "plt.show()"
   ]
  },
  {
   "cell_type": "markdown",
   "metadata": {},
   "source": [
    "**Observation**  \n",
    "\n",
    "As we can see, Simon Sinek & Richard Branson are outliers.  \n",
    "Simon Sinek has a lot of reactions whereas Richard Branson has a lot of followers.  \n",
    "But both have more than other authors.  "
   ]
  },
  {
   "cell_type": "markdown",
   "metadata": {},
   "source": [
    "To visualize the entire dataset, let's plot in log scale"
   ]
  },
  {
   "cell_type": "code",
   "execution_count": 34,
   "metadata": {},
   "outputs": [
    {
     "data": {
      "image/png": "[encoded data removed]",
      "text/plain": [
       "<Figure size 720x576 with 1 Axes>"
      ]
     },
     "metadata": {
      "needs_background": "light"
     },
     "output_type": "display_data"
    }
   ],
   "source": [
    "#Plot\n",
    "plt.rcParams['figure.figsize'] = [10, 8]\n",
    "\n",
    "for author in authors_df.index:\n",
    "    x = authors_df.reactions.loc[author]\n",
    "    y = authors_df.Followers.loc[author]\n",
    "    plt.scatter(x, y,color='Blue')\n",
    "    plt.text(x+1, y+1, author, fontsize=10)\n",
    "\n",
    "plt.title('Overview of authors', fontsize=20)\n",
    "plt.xlabel('Log of number of reactions', fontsize=15)\n",
    "plt.ylabel('Log of number of followers', fontsize=15)\n",
    "\n",
    "# Set logarithmic scale on the both variables\n",
    "ax=plt.gca()\n",
    "ax.set_xscale(\"log\")\n",
    "ax.set_yscale(\"log\")\n",
    "\n",
    "#Grid\n",
    "plt.grid(visible=True,which='both')\n",
    "\n",
    "#Format yaxis to avoid scientific notation\n",
    "# plt.gca().set_yticklabels('{:.0f}'.format())\n",
    "\n",
    "plt.show()"
   ]
  },
  {
   "cell_type": "markdown",
   "metadata": {},
   "source": [
    "**Observation**  \n",
    "\n",
    "**1.**  \n",
    "We observe a  relation between the number of followers & reactions.   \n",
    "The higher the number of followers, the higher the number of reactions, following a power law :\n",
    "\n",
    "$$ n_{followers} = k n_{react} ^ \\mu $$ \n",
    "with $(k,\\mu)$ constants.\n",
    "\n",
    "To keep it simple, it is needed a lot of followers to have a good quantity of reactions.  \n",
    "\n",
    "This is pretty logical because people just watch content of influencers they follow but don't react to their posts everytime. \n",
    "\n",
    "**2.**  \n",
    "Therefore, in our analysis, which is understanding what makes a Linkedin post good, we should study one author's posts at a time.  \n",
    "\n",
    "Also we could express if a post is good or not with the following relationship, in order to normalize observations when we will compare authors each others :\n",
    "\n",
    "$$ attractivity = \\frac{\\#reactions + \\#comments}{\\#followers} $$"
   ]
  },
  {
   "cell_type": "code",
   "execution_count": 35,
   "metadata": {},
   "outputs": [],
   "source": [
    "# We define attractivity factor\n",
    "#Let's use the formula above, in %\n",
    "data['Attractivity'] = 100*(data.reactions + data.comments) / data.Followers"
   ]
  },
  {
   "cell_type": "markdown",
   "metadata": {},
   "source": [
    "Let's check the outliers in term of atttractivity.  \n",
    "We remove Sinek & Branson from our data to see if they are guilty."
   ]
  },
  {
   "cell_type": "code",
   "execution_count": 36,
   "metadata": {},
   "outputs": [],
   "source": [
    "data_no_sinek_branson = data.loc[(data.name != \"Simon Sinek\") & (data.name != 'Richard Branson')]"
   ]
  },
  {
   "cell_type": "code",
   "execution_count": 37,
   "metadata": {},
   "outputs": [
    {
     "data": {
      "text/plain": [
       "<seaborn.axisgrid.FacetGrid at 0x17262c56d30>"
      ]
     },
     "execution_count": 37,
     "metadata": {},
     "output_type": "execute_result"
    },
    {
     "data": {
      "image/png": "[encoded data removed]",
      "text/plain": [
       "<Figure size 360x360 with 1 Axes>"
      ]
     },
     "metadata": {
      "needs_background": "light"
     },
     "output_type": "display_data"
    }
   ],
   "source": [
    "#With outliers\n",
    "sns.displot(data=data,x='Attractivity',kind='ecdf')"
   ]
  },
  {
   "cell_type": "code",
   "execution_count": 38,
   "metadata": {},
   "outputs": [
    {
     "data": {
      "text/plain": [
       "<seaborn.axisgrid.FacetGrid at 0x17253a183d0>"
      ]
     },
     "execution_count": 38,
     "metadata": {},
     "output_type": "execute_result"
    },
    {
     "data": {
      "image/png": "[encoded data removed]",
      "text/plain": [
       "<Figure size 360x360 with 1 Axes>"
      ]
     },
     "metadata": {
      "needs_background": "light"
     },
     "output_type": "display_data"
    }
   ],
   "source": [
    "# And without them\n",
    "sns.displot(data=data_no_sinek_branson,x='Attractivity',kind='ecdf')"
   ]
  },
  {
   "cell_type": "markdown",
   "metadata": {},
   "source": [
    "**Observations**  \n",
    "\n",
    "Even after removing Sinek & Branson, we still have outliers.  \n",
    "Let's check that"
   ]
  },
  {
   "cell_type": "code",
   "execution_count": 39,
   "metadata": {},
   "outputs": [
    {
     "data": {
      "text/html": [
       "<div>\n",
       "<style scoped>\n",
       "    .dataframe tbody tr th:only-of-type {\n",
       "        vertical-align: middle;\n",
       "    }\n",
       "\n",
       "    .dataframe tbody tr th {\n",
       "        vertical-align: top;\n",
       "    }\n",
       "\n",
       "    .dataframe thead th {\n",
       "        text-align: right;\n",
       "    }\n",
       "</style>\n",
       "<table border=\"1\" class=\"dataframe\">\n",
       "  <thead>\n",
       "    <tr style=\"text-align: right;\">\n",
       "      <th></th>\n",
       "      <th>Attractivity</th>\n",
       "      <th>Followers</th>\n",
       "      <th>comments</th>\n",
       "      <th>reactions</th>\n",
       "    </tr>\n",
       "    <tr>\n",
       "      <th>name</th>\n",
       "      <th></th>\n",
       "      <th></th>\n",
       "      <th></th>\n",
       "      <th></th>\n",
       "    </tr>\n",
       "  </thead>\n",
       "  <tbody>\n",
       "    <tr>\n",
       "      <th>Kaia Niambi Shivers Ph.D.</th>\n",
       "      <td>32.590604</td>\n",
       "      <td>3.725000e+03</td>\n",
       "      <td>71</td>\n",
       "      <td>1143</td>\n",
       "    </tr>\n",
       "    <tr>\n",
       "      <th>Nick Ciubotariu</th>\n",
       "      <td>22.579373</td>\n",
       "      <td>1.521300e+04</td>\n",
       "      <td>284</td>\n",
       "      <td>3151</td>\n",
       "    </tr>\n",
       "    <tr>\n",
       "      <th>Lee Naik</th>\n",
       "      <td>20.094031</td>\n",
       "      <td>2.446000e+04</td>\n",
       "      <td>481</td>\n",
       "      <td>4434</td>\n",
       "    </tr>\n",
       "    <tr>\n",
       "      <th>Quentin Michael Allums</th>\n",
       "      <td>19.799057</td>\n",
       "      <td>6.638700e+04</td>\n",
       "      <td>2544</td>\n",
       "      <td>10600</td>\n",
       "    </tr>\n",
       "    <tr>\n",
       "      <th>Ben Casselman</th>\n",
       "      <td>15.165512</td>\n",
       "      <td>9.093000e+03</td>\n",
       "      <td>356</td>\n",
       "      <td>1023</td>\n",
       "    </tr>\n",
       "    <tr>\n",
       "      <th>...</th>\n",
       "      <td>...</td>\n",
       "      <td>...</td>\n",
       "      <td>...</td>\n",
       "      <td>...</td>\n",
       "    </tr>\n",
       "    <tr>\n",
       "      <th>Karen Webster</th>\n",
       "      <td>0.102043</td>\n",
       "      <td>1.783560e+05</td>\n",
       "      <td>34</td>\n",
       "      <td>175</td>\n",
       "    </tr>\n",
       "    <tr>\n",
       "      <th>🏉 Pascal Bouvier</th>\n",
       "      <td>0.087999</td>\n",
       "      <td>5.465970e+05</td>\n",
       "      <td>73</td>\n",
       "      <td>410</td>\n",
       "    </tr>\n",
       "    <tr>\n",
       "      <th>Bernard Marr</th>\n",
       "      <td>0.040284</td>\n",
       "      <td>1.462121e+06</td>\n",
       "      <td>322</td>\n",
       "      <td>565</td>\n",
       "    </tr>\n",
       "    <tr>\n",
       "      <th>Sarah Kauss</th>\n",
       "      <td>0.034461</td>\n",
       "      <td>1.125922e+06</td>\n",
       "      <td>37</td>\n",
       "      <td>352</td>\n",
       "    </tr>\n",
       "    <tr>\n",
       "      <th>Sramana Mitra</th>\n",
       "      <td>0.033734</td>\n",
       "      <td>4.357570e+05</td>\n",
       "      <td>75</td>\n",
       "      <td>103</td>\n",
       "    </tr>\n",
       "  </tbody>\n",
       "</table>\n",
       "<p>68 rows × 4 columns</p>\n",
       "</div>"
      ],
      "text/plain": [
       "                           Attractivity     Followers  comments  reactions\n",
       "name                                                                      \n",
       "Kaia Niambi Shivers Ph.D.     32.590604  3.725000e+03        71       1143\n",
       "Nick Ciubotariu               22.579373  1.521300e+04       284       3151\n",
       "Lee Naik                      20.094031  2.446000e+04       481       4434\n",
       "Quentin Michael Allums        19.799057  6.638700e+04      2544      10600\n",
       "Ben Casselman                 15.165512  9.093000e+03       356       1023\n",
       "...                                 ...           ...       ...        ...\n",
       "Karen Webster                  0.102043  1.783560e+05        34        175\n",
       "🏉 Pascal Bouvier               0.087999  5.465970e+05        73        410\n",
       "Bernard Marr                   0.040284  1.462121e+06       322        565\n",
       "Sarah Kauss                    0.034461  1.125922e+06        37        352\n",
       "Sramana Mitra                  0.033734  4.357570e+05        75        103\n",
       "\n",
       "[68 rows x 4 columns]"
      ]
     },
     "execution_count": 39,
     "metadata": {},
     "output_type": "execute_result"
    }
   ],
   "source": [
    "PivotTable = pd.pivot_table(data=data, index='name', values=['reactions',\"Followers\",\"Attractivity\",'comments'],aggfunc='max')\n",
    "PivotTable.sort_values(by=\"Attractivity\",ascending=False)"
   ]
  },
  {
   "cell_type": "markdown",
   "metadata": {},
   "source": [
    "**Observations**  \n",
    "\n",
    "As we can see, there are some outliers in term of attractivity even if it is not Sinek or Branson.  \n",
    "Attractivity is maybe not a good feature to analyse our data.  \n",
    "\n",
    "Therefore, for the sake of our study, it would be better to not compare authors, but to take them individually, and see if we can highlight some patterns across these authors."
   ]
  },
  {
   "cell_type": "markdown",
   "metadata": {},
   "source": [
    "### Influence of media presence in a post"
   ]
  },
  {
   "cell_type": "markdown",
   "metadata": {},
   "source": [
    "Here, we are going to check if adding a medium in the post has an influence on the attractivity."
   ]
  },
  {
   "cell_type": "code",
   "execution_count": 40,
   "metadata": {},
   "outputs": [
    {
     "data": {
      "text/plain": [
       "article       14590\n",
       "image          8614\n",
       "None           5889\n",
       "video          2674\n",
       "document        110\n",
       "poll             82\n",
       "entity           31\n",
       "newsletter        4\n",
       "view              2\n",
       "Name: Media_type, dtype: int64"
      ]
     },
     "execution_count": 40,
     "metadata": {},
     "output_type": "execute_result"
    }
   ],
   "source": [
    "#First of all, let's count how many times are used each media in this dataset\n",
    "data.Media_type.value_counts()"
   ]
  },
  {
   "cell_type": "markdown",
   "metadata": {},
   "source": [
    "Articles, images and videos are majoritarly used in posts.  \n",
    "We note also a lot of posts without a medium.\n",
    "\n",
    "Let's see what the influence of a media on the attractivity. \n"
   ]
  },
  {
   "cell_type": "code",
   "execution_count": 41,
   "metadata": {},
   "outputs": [],
   "source": [
    "# Let's create a copy of the dataset\n",
    "media_df = data.copy()"
   ]
  },
  {
   "cell_type": "code",
   "execution_count": 42,
   "metadata": {},
   "outputs": [],
   "source": [
    "#Let's create a new column 0 for no media, 1 if a media\n",
    "media_df['Media_in_post'] = media_df.Media_type.apply(lambda x: 0 if x==\"None\" else 1)"
   ]
  },
  {
   "cell_type": "markdown",
   "metadata": {},
   "source": [
    "Let's check for one author"
   ]
  },
  {
   "cell_type": "code",
   "execution_count": 43,
   "metadata": {},
   "outputs": [
    {
     "data": {
      "text/plain": [
       "<seaborn.axisgrid.FacetGrid at 0x17262e9a610>"
      ]
     },
     "execution_count": 43,
     "metadata": {},
     "output_type": "execute_result"
    },
    {
     "data": {
      "image/png": "[encoded data removed]",
      "text/plain": [
       "<Figure size 438.75x360 with 1 Axes>"
      ]
     },
     "metadata": {
      "needs_background": "light"
     },
     "output_type": "display_data"
    }
   ],
   "source": [
    "#Distribution for one author : Simon Sinek\n",
    "ax = sns.displot(data=media_df.loc[media_df.name == \"Simon Sinek\"],x='Attractivity',hue='Media_in_post',kind='kde')\n",
    "ax.set(title ='Influence of adding a medium for Simon Sinek')"
   ]
  },
  {
   "cell_type": "markdown",
   "metadata": {},
   "source": [
    "**Observations** \n",
    "\n",
    "For one author, we note that using a medium in the post increases the attractivity.  \n",
    "We note also that it increases the variance too.  \n",
    "So we can considere that using a medium doesn't ensure that the post will have more reactions, but tends to.\n",
    "\n",
    "An hypothesis test have to be done !\n",
    "\n",
    "Let's apply this test to all authors at the same time."
   ]
  },
  {
   "cell_type": "code",
   "execution_count": 44,
   "metadata": {},
   "outputs": [],
   "source": [
    "#Create the dataframe\n",
    "MediaAttractivity = pd.DataFrame()\n",
    "MediaAttractivity[\"Author\"] = media_df.name.unique()\n",
    "\n",
    "#Use pivot table to obtain average attractivity\n",
    "PivotTableAttractivityMean = pd.pivot_table(data=media_df,index='name',columns='Media_in_post',values='Attractivity',aggfunc='mean')\n",
    "#Add attractivity means to the dataframe\n",
    "MediaAttractivity['Avg_Attract_NoMedia'] = np.array(PivotTableAttractivityMean[0])\n",
    "MediaAttractivity['Avg_Attract_Media'] = np.array(PivotTableAttractivityMean[1])\n",
    "\n",
    "#Add the difference between Media & NoMedia in %\n",
    "MediaAttractivity['Diff_Media_Avg%'] = 100 * (MediaAttractivity['Avg_Attract_Media'] - MediaAttractivity['Avg_Attract_NoMedia'])/MediaAttractivity['Avg_Attract_NoMedia']\n",
    "\n",
    "#Calculate also the variance\n",
    "PivotTableAttractivityVariance = pd.pivot_table(data=media_df,index='name',columns='Media_in_post',values='Attractivity',aggfunc='var')\n",
    "MediaAttractivity['Var_Attract_NoMedia'] = np.array(PivotTableAttractivityVariance[0])\n",
    "MediaAttractivity['Var_Attract_Media'] = np.array(PivotTableAttractivityVariance[1])\n",
    "\n",
    "#Difference of variances\n",
    "MediaAttractivity['Diff_Media_Var%'] = 100 * (MediaAttractivity['Var_Attract_Media'] - MediaAttractivity['Var_Attract_NoMedia'])/MediaAttractivity['Var_Attract_NoMedia']"
   ]
  },
  {
   "cell_type": "code",
   "execution_count": 45,
   "metadata": {},
   "outputs": [
    {
     "data": {
      "text/html": [
       "<div>\n",
       "<style scoped>\n",
       "    .dataframe tbody tr th:only-of-type {\n",
       "        vertical-align: middle;\n",
       "    }\n",
       "\n",
       "    .dataframe tbody tr th {\n",
       "        vertical-align: top;\n",
       "    }\n",
       "\n",
       "    .dataframe thead th {\n",
       "        text-align: right;\n",
       "    }\n",
       "</style>\n",
       "<table border=\"1\" class=\"dataframe\">\n",
       "  <thead>\n",
       "    <tr style=\"text-align: right;\">\n",
       "      <th></th>\n",
       "      <th>Author</th>\n",
       "      <th>Avg_Attract_NoMedia</th>\n",
       "      <th>Avg_Attract_Media</th>\n",
       "      <th>Diff_Media_Avg%</th>\n",
       "      <th>Var_Attract_NoMedia</th>\n",
       "      <th>Var_Attract_Media</th>\n",
       "      <th>Diff_Media_Var%</th>\n",
       "    </tr>\n",
       "  </thead>\n",
       "  <tbody>\n",
       "    <tr>\n",
       "      <th>0</th>\n",
       "      <td>Nicholas Wyman</td>\n",
       "      <td>0.338293</td>\n",
       "      <td>0.416448</td>\n",
       "      <td>23.102937</td>\n",
       "      <td>0.374618</td>\n",
       "      <td>0.191829</td>\n",
       "      <td>-48.793396</td>\n",
       "    </tr>\n",
       "    <tr>\n",
       "      <th>1</th>\n",
       "      <td>Jonathan Wolfer</td>\n",
       "      <td>0.052674</td>\n",
       "      <td>0.378409</td>\n",
       "      <td>618.397997</td>\n",
       "      <td>0.002443</td>\n",
       "      <td>0.044621</td>\n",
       "      <td>1726.405676</td>\n",
       "    </tr>\n",
       "    <tr>\n",
       "      <th>2</th>\n",
       "      <td>Karen Gross</td>\n",
       "      <td>0.090432</td>\n",
       "      <td>0.115388</td>\n",
       "      <td>27.595532</td>\n",
       "      <td>0.006671</td>\n",
       "      <td>0.017940</td>\n",
       "      <td>168.908467</td>\n",
       "    </tr>\n",
       "    <tr>\n",
       "      <th>3</th>\n",
       "      <td>Kaia Niambi Shivers Ph.D.</td>\n",
       "      <td>0.297353</td>\n",
       "      <td>0.269192</td>\n",
       "      <td>-9.470455</td>\n",
       "      <td>0.158750</td>\n",
       "      <td>0.247783</td>\n",
       "      <td>56.083278</td>\n",
       "    </tr>\n",
       "    <tr>\n",
       "      <th>4</th>\n",
       "      <td>Daniel Cohen-I'm Flyering</td>\n",
       "      <td>1.126141</td>\n",
       "      <td>1.081418</td>\n",
       "      <td>-3.971354</td>\n",
       "      <td>2.891937</td>\n",
       "      <td>5.597374</td>\n",
       "      <td>93.551037</td>\n",
       "    </tr>\n",
       "    <tr>\n",
       "      <th>...</th>\n",
       "      <td>...</td>\n",
       "      <td>...</td>\n",
       "      <td>...</td>\n",
       "      <td>...</td>\n",
       "      <td>...</td>\n",
       "      <td>...</td>\n",
       "      <td>...</td>\n",
       "    </tr>\n",
       "    <tr>\n",
       "      <th>63</th>\n",
       "      <td>Quentin Michael Allums</td>\n",
       "      <td>0.072650</td>\n",
       "      <td>0.034469</td>\n",
       "      <td>-52.554341</td>\n",
       "      <td>0.012890</td>\n",
       "      <td>0.001587</td>\n",
       "      <td>-87.690157</td>\n",
       "    </tr>\n",
       "    <tr>\n",
       "      <th>64</th>\n",
       "      <td>AJ Wilcox</td>\n",
       "      <td>0.080693</td>\n",
       "      <td>0.102754</td>\n",
       "      <td>27.340108</td>\n",
       "      <td>0.006586</td>\n",
       "      <td>0.088367</td>\n",
       "      <td>1241.699171</td>\n",
       "    </tr>\n",
       "    <tr>\n",
       "      <th>65</th>\n",
       "      <td>Kevin O'Leary</td>\n",
       "      <td>0.018051</td>\n",
       "      <td>0.027062</td>\n",
       "      <td>49.918334</td>\n",
       "      <td>0.001982</td>\n",
       "      <td>0.002328</td>\n",
       "      <td>17.454367</td>\n",
       "    </tr>\n",
       "    <tr>\n",
       "      <th>66</th>\n",
       "      <td>Amy Blaschka</td>\n",
       "      <td>0.036735</td>\n",
       "      <td>0.021744</td>\n",
       "      <td>-40.810306</td>\n",
       "      <td>0.001333</td>\n",
       "      <td>0.000425</td>\n",
       "      <td>-68.134394</td>\n",
       "    </tr>\n",
       "    <tr>\n",
       "      <th>67</th>\n",
       "      <td>Simon Sinek</td>\n",
       "      <td>0.002103</td>\n",
       "      <td>0.002392</td>\n",
       "      <td>13.731840</td>\n",
       "      <td>0.000008</td>\n",
       "      <td>0.000026</td>\n",
       "      <td>236.473088</td>\n",
       "    </tr>\n",
       "  </tbody>\n",
       "</table>\n",
       "<p>68 rows × 7 columns</p>\n",
       "</div>"
      ],
      "text/plain": [
       "                       Author  Avg_Attract_NoMedia  Avg_Attract_Media  \\\n",
       "0              Nicholas Wyman             0.338293           0.416448   \n",
       "1             Jonathan Wolfer             0.052674           0.378409   \n",
       "2                 Karen Gross             0.090432           0.115388   \n",
       "3   Kaia Niambi Shivers Ph.D.             0.297353           0.269192   \n",
       "4   Daniel Cohen-I'm Flyering             1.126141           1.081418   \n",
       "..                        ...                  ...                ...   \n",
       "63     Quentin Michael Allums             0.072650           0.034469   \n",
       "64                  AJ Wilcox             0.080693           0.102754   \n",
       "65              Kevin O'Leary             0.018051           0.027062   \n",
       "66               Amy Blaschka             0.036735           0.021744   \n",
       "67                Simon Sinek             0.002103           0.002392   \n",
       "\n",
       "    Diff_Media_Avg%  Var_Attract_NoMedia  Var_Attract_Media  Diff_Media_Var%  \n",
       "0         23.102937             0.374618           0.191829       -48.793396  \n",
       "1        618.397997             0.002443           0.044621      1726.405676  \n",
       "2         27.595532             0.006671           0.017940       168.908467  \n",
       "3         -9.470455             0.158750           0.247783        56.083278  \n",
       "4         -3.971354             2.891937           5.597374        93.551037  \n",
       "..              ...                  ...                ...              ...  \n",
       "63       -52.554341             0.012890           0.001587       -87.690157  \n",
       "64        27.340108             0.006586           0.088367      1241.699171  \n",
       "65        49.918334             0.001982           0.002328        17.454367  \n",
       "66       -40.810306             0.001333           0.000425       -68.134394  \n",
       "67        13.731840             0.000008           0.000026       236.473088  \n",
       "\n",
       "[68 rows x 7 columns]"
      ]
     },
     "execution_count": 45,
     "metadata": {},
     "output_type": "execute_result"
    }
   ],
   "source": [
    "MediaAttractivity"
   ]
  },
  {
   "cell_type": "code",
   "execution_count": 46,
   "metadata": {},
   "outputs": [
    {
     "data": {
      "text/plain": [
       "<seaborn.axisgrid.FacetGrid at 0x172607cffd0>"
      ]
     },
     "execution_count": 46,
     "metadata": {},
     "output_type": "execute_result"
    },
    {
     "data": {
      "image/png": "[encoded data removed]",
      "text/plain": [
       "<Figure size 360x360 with 1 Axes>"
      ]
     },
     "metadata": {
      "needs_background": "light"
     },
     "output_type": "display_data"
    },
    {
     "data": {
      "image/png": "[encoded data removed]",
      "text/plain": [
       "<Figure size 360x360 with 1 Axes>"
      ]
     },
     "metadata": {
      "needs_background": "light"
     },
     "output_type": "display_data"
    }
   ],
   "source": [
    "#Let's plot distributions\n",
    "sns.displot(data=MediaAttractivity,x=\"Diff_Media_Avg%\",kind='ecdf')\n",
    "sns.displot(data=MediaAttractivity,x=\"Diff_Media_Var%\",kind='ecdf')"
   ]
  },
  {
   "cell_type": "markdown",
   "metadata": {},
   "source": [
    "**Observations**  \n",
    "\n",
    "As we can see, some authors are outliers considering the difference between a post with or without a medium.  \n",
    "Let's check these authors !"
   ]
  },
  {
   "cell_type": "code",
   "execution_count": 47,
   "metadata": {},
   "outputs": [
    {
     "data": {
      "text/html": [
       "<div>\n",
       "<style scoped>\n",
       "    .dataframe tbody tr th:only-of-type {\n",
       "        vertical-align: middle;\n",
       "    }\n",
       "\n",
       "    .dataframe tbody tr th {\n",
       "        vertical-align: top;\n",
       "    }\n",
       "\n",
       "    .dataframe thead th {\n",
       "        text-align: right;\n",
       "    }\n",
       "</style>\n",
       "<table border=\"1\" class=\"dataframe\">\n",
       "  <thead>\n",
       "    <tr style=\"text-align: right;\">\n",
       "      <th></th>\n",
       "      <th>Author</th>\n",
       "      <th>Avg_Attract_NoMedia</th>\n",
       "      <th>Avg_Attract_Media</th>\n",
       "      <th>Diff_Media_Avg%</th>\n",
       "      <th>Var_Attract_NoMedia</th>\n",
       "      <th>Var_Attract_Media</th>\n",
       "      <th>Diff_Media_Var%</th>\n",
       "    </tr>\n",
       "  </thead>\n",
       "  <tbody>\n",
       "    <tr>\n",
       "      <th>1</th>\n",
       "      <td>Jonathan Wolfer</td>\n",
       "      <td>0.052674</td>\n",
       "      <td>0.378409</td>\n",
       "      <td>618.397997</td>\n",
       "      <td>0.002443</td>\n",
       "      <td>0.044621</td>\n",
       "      <td>1726.405676</td>\n",
       "    </tr>\n",
       "    <tr>\n",
       "      <th>12</th>\n",
       "      <td>Michelle Chaffee</td>\n",
       "      <td>0.204970</td>\n",
       "      <td>0.939667</td>\n",
       "      <td>358.441801</td>\n",
       "      <td>0.079282</td>\n",
       "      <td>1.162754</td>\n",
       "      <td>1366.598893</td>\n",
       "    </tr>\n",
       "    <tr>\n",
       "      <th>19</th>\n",
       "      <td>Ian Bremmer</td>\n",
       "      <td>0.019128</td>\n",
       "      <td>0.074649</td>\n",
       "      <td>290.263030</td>\n",
       "      <td>0.000319</td>\n",
       "      <td>0.213016</td>\n",
       "      <td>66700.389428</td>\n",
       "    </tr>\n",
       "    <tr>\n",
       "      <th>58</th>\n",
       "      <td>Juliet de Baubigny</td>\n",
       "      <td>0.002703</td>\n",
       "      <td>0.062395</td>\n",
       "      <td>2208.371041</td>\n",
       "      <td>0.000008</td>\n",
       "      <td>0.006896</td>\n",
       "      <td>88151.674174</td>\n",
       "    </tr>\n",
       "  </tbody>\n",
       "</table>\n",
       "</div>"
      ],
      "text/plain": [
       "                Author  Avg_Attract_NoMedia  Avg_Attract_Media  \\\n",
       "1      Jonathan Wolfer             0.052674           0.378409   \n",
       "12    Michelle Chaffee             0.204970           0.939667   \n",
       "19         Ian Bremmer             0.019128           0.074649   \n",
       "58  Juliet de Baubigny             0.002703           0.062395   \n",
       "\n",
       "    Diff_Media_Avg%  Var_Attract_NoMedia  Var_Attract_Media  Diff_Media_Var%  \n",
       "1        618.397997             0.002443           0.044621      1726.405676  \n",
       "12       358.441801             0.079282           1.162754      1366.598893  \n",
       "19       290.263030             0.000319           0.213016     66700.389428  \n",
       "58      2208.371041             0.000008           0.006896     88151.674174  "
      ]
     },
     "execution_count": 47,
     "metadata": {},
     "output_type": "execute_result"
    }
   ],
   "source": [
    "# Check this outliers : Avg\n",
    "# We will keep 95% of the distribution\n",
    "quantileAvg = MediaAttractivity['Diff_Media_Avg%'].quantile(q=0.95)\n",
    "MediaAttractivity.loc[MediaAttractivity['Diff_Media_Avg%'] >= quantileAvg]"
   ]
  },
  {
   "cell_type": "code",
   "execution_count": 48,
   "metadata": {},
   "outputs": [
    {
     "data": {
      "text/html": [
       "<div>\n",
       "<style scoped>\n",
       "    .dataframe tbody tr th:only-of-type {\n",
       "        vertical-align: middle;\n",
       "    }\n",
       "\n",
       "    .dataframe tbody tr th {\n",
       "        vertical-align: top;\n",
       "    }\n",
       "\n",
       "    .dataframe thead th {\n",
       "        text-align: right;\n",
       "    }\n",
       "</style>\n",
       "<table border=\"1\" class=\"dataframe\">\n",
       "  <thead>\n",
       "    <tr style=\"text-align: right;\">\n",
       "      <th></th>\n",
       "      <th>Author</th>\n",
       "      <th>Avg_Attract_NoMedia</th>\n",
       "      <th>Avg_Attract_Media</th>\n",
       "      <th>Diff_Media_Avg%</th>\n",
       "      <th>Var_Attract_NoMedia</th>\n",
       "      <th>Var_Attract_Media</th>\n",
       "      <th>Diff_Media_Var%</th>\n",
       "    </tr>\n",
       "  </thead>\n",
       "  <tbody>\n",
       "    <tr>\n",
       "      <th>19</th>\n",
       "      <td>Ian Bremmer</td>\n",
       "      <td>0.019128</td>\n",
       "      <td>0.074649</td>\n",
       "      <td>290.263030</td>\n",
       "      <td>0.000319</td>\n",
       "      <td>0.213016</td>\n",
       "      <td>66700.389428</td>\n",
       "    </tr>\n",
       "    <tr>\n",
       "      <th>28</th>\n",
       "      <td>Marianne Griebler</td>\n",
       "      <td>0.351976</td>\n",
       "      <td>0.774049</td>\n",
       "      <td>119.915254</td>\n",
       "      <td>0.269617</td>\n",
       "      <td>13.380212</td>\n",
       "      <td>4862.664941</td>\n",
       "    </tr>\n",
       "    <tr>\n",
       "      <th>34</th>\n",
       "      <td>Gillian Zoe Segal</td>\n",
       "      <td>0.260805</td>\n",
       "      <td>0.802110</td>\n",
       "      <td>207.551708</td>\n",
       "      <td>0.041255</td>\n",
       "      <td>2.137030</td>\n",
       "      <td>5079.997622</td>\n",
       "    </tr>\n",
       "    <tr>\n",
       "      <th>58</th>\n",
       "      <td>Juliet de Baubigny</td>\n",
       "      <td>0.002703</td>\n",
       "      <td>0.062395</td>\n",
       "      <td>2208.371041</td>\n",
       "      <td>0.000008</td>\n",
       "      <td>0.006896</td>\n",
       "      <td>88151.674174</td>\n",
       "    </tr>\n",
       "  </tbody>\n",
       "</table>\n",
       "</div>"
      ],
      "text/plain": [
       "                Author  Avg_Attract_NoMedia  Avg_Attract_Media  \\\n",
       "19         Ian Bremmer             0.019128           0.074649   \n",
       "28   Marianne Griebler             0.351976           0.774049   \n",
       "34   Gillian Zoe Segal             0.260805           0.802110   \n",
       "58  Juliet de Baubigny             0.002703           0.062395   \n",
       "\n",
       "    Diff_Media_Avg%  Var_Attract_NoMedia  Var_Attract_Media  Diff_Media_Var%  \n",
       "19       290.263030             0.000319           0.213016     66700.389428  \n",
       "28       119.915254             0.269617          13.380212      4862.664941  \n",
       "34       207.551708             0.041255           2.137030      5079.997622  \n",
       "58      2208.371041             0.000008           0.006896     88151.674174  "
      ]
     },
     "execution_count": 48,
     "metadata": {},
     "output_type": "execute_result"
    }
   ],
   "source": [
    "#Check this outliers : Var\n",
    "quantileVar = MediaAttractivity['Diff_Media_Var%'].quantile(q=0.95)\n",
    "MediaAttractivity.loc[MediaAttractivity['Diff_Media_Var%'] >= quantileVar]"
   ]
  },
  {
   "cell_type": "markdown",
   "metadata": {},
   "source": [
    "**Observations**\n",
    "\n",
    "It seems there are some outliers, above a quantile of 95% (especially Juliette de Baubigny)  \n",
    "Let's remove these authors for this analysis."
   ]
  },
  {
   "cell_type": "code",
   "execution_count": 49,
   "metadata": {},
   "outputs": [],
   "source": [
    "#Take these names into a list\n",
    "OutlierAuthors = ['Jonathan Wolfer','Michelle Chaffee','Ian Bremmer','Juliet de Baubigny','Marianne Griebler','Gillian Zoe Segal']"
   ]
  },
  {
   "cell_type": "code",
   "execution_count": 50,
   "metadata": {},
   "outputs": [],
   "source": [
    "#Change index into authors'name\n",
    "MediaAttractivity = MediaAttractivity.set_index('Author')"
   ]
  },
  {
   "cell_type": "code",
   "execution_count": 51,
   "metadata": {},
   "outputs": [],
   "source": [
    "#Drop the outlier\n",
    "MediaAttractivity.drop(index=OutlierAuthors,inplace=True) #Inplace means no copy created"
   ]
  },
  {
   "cell_type": "code",
   "execution_count": 52,
   "metadata": {},
   "outputs": [
    {
     "data": {
      "text/plain": [
       "<seaborn.axisgrid.FacetGrid at 0x172622eb6a0>"
      ]
     },
     "execution_count": 52,
     "metadata": {},
     "output_type": "execute_result"
    },
    {
     "data": {
      "image/png": "[encoded data removed]",
      "text/plain": [
       "<Figure size 360x360 with 1 Axes>"
      ]
     },
     "metadata": {
      "needs_background": "light"
     },
     "output_type": "display_data"
    },
    {
     "data": {
      "image/png": "[encoded data removed]",
      "text/plain": [
       "<Figure size 360x360 with 1 Axes>"
      ]
     },
     "metadata": {
      "needs_background": "light"
     },
     "output_type": "display_data"
    }
   ],
   "source": [
    "#Check distribution again\n",
    "sns.displot(data=MediaAttractivity,x=\"Diff_Media_Avg%\",kind='ecdf')\n",
    "sns.displot(data=MediaAttractivity,x=\"Diff_Media_Var%\",kind='ecdf')"
   ]
  },
  {
   "cell_type": "code",
   "execution_count": 53,
   "metadata": {},
   "outputs": [
    {
     "name": "stdout",
     "output_type": "stream",
     "text": [
      "In average, adding a media increases the attractivity of a post by 38.55 %\n",
      "And the variance by 476.62 %\n"
     ]
    }
   ],
   "source": [
    "#Now let's calculate the mean of differences across authors, in % compared to NoMedia\n",
    "MediaAttractivityDiffAvg = MediaAttractivity['Diff_Media_Avg%'].mean()\n",
    "MediaAttractivityDiffVar = MediaAttractivity['Diff_Media_Var%'].mean()\n",
    "print('In average, adding a media increases the attractivity of a post by {:.2f} %'.format(MediaAttractivityDiffAvg))\n",
    "print('And the variance by {:.2f} %'.format(MediaAttractivityDiffVar))"
   ]
  },
  {
   "cell_type": "markdown",
   "metadata": {},
   "source": [
    "**Observations**\n",
    "\n",
    "So, for 95% of authors, we observe a significant increase in attractivity, about 39%, by adding a medium in the post. \n",
    "\n",
    "**However**, this result has to be taken with precautions, because the variance increases a lot too, meaning that adding a medium doesn't ensure to have a better attractivity. \n",
    "\n",
    "*Therefore, let's test this hypothesis.*"
   ]
  },
  {
   "cell_type": "markdown",
   "metadata": {},
   "source": [
    "**Hypothesis test**\n",
    "\n",
    "First of all, let's formulate our hypothesis, with $\\mu$ the hypothesis mean\n",
    "\n",
    "$ H_0 $ : Media doesn't improve attractivity => $\\mu \\le 0\\%$  \n",
    "$ H_1 $ : Media improves attractivity => $\\mu > 0\\%$\n",
    "\n",
    "We take a significance level $\\alpha = 0.05$.  \n",
    "This value defines the degree of confidence we have in our hypothesis test.  \n",
    "For instance, we will be sure at 95% that our decision will be correct (True positive). \n",
    "\n",
    "The test is one-sided.\n",
    "\n",
    "The distribution follows a Normal Distribution, and we consider that the variance of this sample is the same as the population.\n",
    "We can therefore use a Z-test. \n",
    "\n",
    "$$ Z= \\frac{\\bar{x} - \\mu}{s / \\sqrt n} $$\n",
    "\n",
    "with :\n",
    "* $\\bar{x}$ the sample mean\n",
    "* $s$ the sample standard type\n",
    "* $n$ the sample size"
   ]
  },
  {
   "cell_type": "code",
   "execution_count": 54,
   "metadata": {},
   "outputs": [
    {
     "data": {
      "text/plain": [
       "<seaborn.axisgrid.FacetGrid at 0x172622ebf10>"
      ]
     },
     "execution_count": 54,
     "metadata": {},
     "output_type": "execute_result"
    },
    {
     "data": {
      "image/png": "[encoded data removed]",
      "text/plain": [
       "<Figure size 360x360 with 1 Axes>"
      ]
     },
     "metadata": {
      "needs_background": "light"
     },
     "output_type": "display_data"
    }
   ],
   "source": [
    "#% increase distribution\n",
    "sns.displot(data=MediaAttractivity,x=\"Diff_Media_Avg%\",kind='kde')"
   ]
  },
  {
   "cell_type": "code",
   "execution_count": 55,
   "metadata": {},
   "outputs": [
    {
     "name": "stdout",
     "output_type": "stream",
     "text": [
      "Z-score = 3.5188783229488854\n"
     ]
    }
   ],
   "source": [
    "mu = 0 #Hypothesis mean\n",
    "s = MediaAttractivity['Diff_Media_Avg%'].std() #Standard type\n",
    "n = MediaAttractivity.shape[0] #Sample size\n",
    "\n",
    "#Z-score\n",
    "Z = (MediaAttractivityDiffAvg - mu) / (s / np.sqrt(n))\n",
    "\n",
    "print('Z-score =',Z)"
   ]
  },
  {
   "cell_type": "markdown",
   "metadata": {},
   "source": [
    "The Z-table"
   ]
  },
  {
   "cell_type": "markdown",
   "metadata": {},
   "source": [
    "<img src=\"https://www.ztable.net/wp-content/uploads/2018/11/negativeztable.png\">"
   ]
  },
  {
   "cell_type": "markdown",
   "metadata": {},
   "source": [
    "After checking the Z-table, we got a value of 0.99978 > 0.95.  \n",
    "Which means $H_0$ is rejected :\n",
    "\n",
    "**Adding a media in the post tends to increase the attractivity of the post.**\n"
   ]
  },
  {
   "cell_type": "markdown",
   "metadata": {},
   "source": [
    "*Is this still true if we consider an increase of 30%*\n",
    "\n",
    "To verify that, let's do another hypothesis test :\n",
    "\n",
    "$H_0$ : $<30\\%$  \n",
    "$H_1$ : $>=30\\%$\n",
    "\n",
    "We keep a significance level $\\alpha = 0.05$"
   ]
  },
  {
   "cell_type": "code",
   "execution_count": 56,
   "metadata": {},
   "outputs": [
    {
     "name": "stdout",
     "output_type": "stream",
     "text": [
      "Z-score = 0.7806992681896487\n"
     ]
    }
   ],
   "source": [
    "mu = 30 #Hypothesis mean\n",
    "s = MediaAttractivity['Diff_Media_Avg%'].std() #Standard type\n",
    "n = MediaAttractivity.shape[0] #Sample size\n",
    "\n",
    "#Z-score\n",
    "Z = (MediaAttractivityDiffAvg - mu) / (s / np.sqrt(n))\n",
    "\n",
    "print('Z-score =',Z)"
   ]
  },
  {
   "cell_type": "markdown",
   "metadata": {},
   "source": [
    "**However**, we can't say that posting a media increases more than 30% the post attractivity.  \n",
    "\n",
    "\n",
    "A Z-score > 2 is a good value to consider $H_0$ as rejected.  \n",
    "In our case, it would be an increase of around **16%**"
   ]
  },
  {
   "cell_type": "code",
   "execution_count": 57,
   "metadata": {},
   "outputs": [
    {
     "name": "stdout",
     "output_type": "stream",
     "text": [
      "Z-score = 2.0585161604106257\n"
     ]
    }
   ],
   "source": [
    "mu = 16 #Hypothesis mean\n",
    "s = MediaAttractivity['Diff_Media_Avg%'].std() #Standard type\n",
    "n = MediaAttractivity.shape[0] #Sample size\n",
    "\n",
    "#Z-score\n",
    "Z = (MediaAttractivityDiffAvg - mu) / (s / np.sqrt(n))\n",
    "\n",
    "print('Z-score =',Z)"
   ]
  },
  {
   "cell_type": "markdown",
   "metadata": {},
   "source": [
    "**Conclusions**\n",
    "\n",
    "Adding a media in the post increases by around **16%** the attractivity, with a 95% confidence. \n",
    "\n",
    "*Note*  \n",
    "This confidence means : if we take 100 samples, 95 of the time we will find that adding a medium increases by at least 16% the attractivity."
   ]
  },
  {
   "cell_type": "markdown",
   "metadata": {},
   "source": [
    "## Influence of topics <a class=\"anchor\" id=\"5\"></a>"
   ]
  },
  {
   "cell_type": "markdown",
   "metadata": {},
   "source": [
    "We will now dig deeper in our analysis. Because posts are written, we can therefore use Natural Language Processing to try to define which topics are the most attractive !\n",
    "\n",
    "But before using Unsupervized machine learning algorithm on these posts, we have to clean them first to be easily understandable by the machine.\n"
   ]
  },
  {
   "cell_type": "markdown",
   "metadata": {},
   "source": [
    "**Cleaning The Data**    \n",
    "\n",
    "When dealing with numerical data, data cleaning often involves removing null values and duplicate data, dealing with outliers, etc. With text data, there are some common data cleaning techniques, which are also known as text pre-processing techniques.\n",
    "\n",
    "With text data, this cleaning process can go on forever. There's always an exception to every cleaning step. So, we're going to follow the MVP (minimum viable product) approach - start simple and iterate. Here are a bunch of things you can do to clean your data. We're going to execute just the common cleaning steps here and the rest can be done at a later point to improve our results.\n",
    "\n",
    "**Common data cleaning steps on all text:**\n",
    "\n",
    "* Make text all lower case  \n",
    "* Remove punctuation\n",
    "* Remove numerical values\n",
    "* Remove common non-sensical text (/n)\n",
    "* Tokenize text\n",
    "* Remove stop words\n",
    "\n",
    "**More data cleaning steps after tokenization:**\n",
    "\n",
    "* Stemming / lemmatization\n",
    "* Parts of speech tagging\n",
    "* Create bi-grams or tri-grams\n",
    "* Deal with typos\n",
    "* And more..."
   ]
  },
  {
   "cell_type": "code",
   "execution_count": 58,
   "metadata": {},
   "outputs": [
    {
     "data": {
      "text/html": [
       "<div>\n",
       "<style scoped>\n",
       "    .dataframe tbody tr th:only-of-type {\n",
       "        vertical-align: middle;\n",
       "    }\n",
       "\n",
       "    .dataframe tbody tr th {\n",
       "        vertical-align: top;\n",
       "    }\n",
       "\n",
       "    .dataframe thead th {\n",
       "        text-align: right;\n",
       "    }\n",
       "</style>\n",
       "<table border=\"1\" class=\"dataframe\">\n",
       "  <thead>\n",
       "    <tr style=\"text-align: right;\">\n",
       "      <th></th>\n",
       "      <th>name</th>\n",
       "      <th>headline</th>\n",
       "      <th>about</th>\n",
       "      <th>content</th>\n",
       "      <th>content_links</th>\n",
       "      <th>media_url</th>\n",
       "      <th>num_hashtags</th>\n",
       "      <th>hashtags</th>\n",
       "      <th>reactions</th>\n",
       "      <th>comments</th>\n",
       "      <th>Location</th>\n",
       "      <th>Followers</th>\n",
       "      <th>Time_spent</th>\n",
       "      <th>Media_type</th>\n",
       "    </tr>\n",
       "  </thead>\n",
       "  <tbody>\n",
       "    <tr>\n",
       "      <th>0</th>\n",
       "      <td>Nicholas Wyman</td>\n",
       "      <td>CEO IWSI Group</td>\n",
       "      <td>Nicholas Wyman for the past 25 years has shone...</td>\n",
       "      <td>Robert Lerman  writes that achieving a healthy...</td>\n",
       "      <td>[['https://www.linkedin.com/in/ACoAAACy1HkBviR...</td>\n",
       "      <td>['https://www.urban.org/urban-wire/its-time-mo...</td>\n",
       "      <td>4</td>\n",
       "      <td>[['#workbasedlearning', 'https://www.linkedin....</td>\n",
       "      <td>12</td>\n",
       "      <td>1</td>\n",
       "      <td>Unknown</td>\n",
       "      <td>6484.0</td>\n",
       "      <td>1 day ago</td>\n",
       "      <td>article</td>\n",
       "    </tr>\n",
       "    <tr>\n",
       "      <th>1</th>\n",
       "      <td>Nicholas Wyman</td>\n",
       "      <td>CEO IWSI Group</td>\n",
       "      <td>Nicholas Wyman for the past 25 years has shone...</td>\n",
       "      <td>National disability advocate  Sara Hart Weir, ...</td>\n",
       "      <td>[['https://www.linkedin.com/in/ACoAAAHsfJgBb7_...</td>\n",
       "      <td>[]</td>\n",
       "      <td>0</td>\n",
       "      <td>[]</td>\n",
       "      <td>11</td>\n",
       "      <td>0</td>\n",
       "      <td>Unknown</td>\n",
       "      <td>6484.0</td>\n",
       "      <td>1 week ago</td>\n",
       "      <td>None</td>\n",
       "    </tr>\n",
       "    <tr>\n",
       "      <th>2</th>\n",
       "      <td>Nicholas Wyman</td>\n",
       "      <td>CEO IWSI Group</td>\n",
       "      <td>Nicholas Wyman for the past 25 years has shone...</td>\n",
       "      <td>Exploring in this months Talent Management &amp; H...</td>\n",
       "      <td>[['https://www.linkedin.com/in/ACoAAAADlGIBLfn...</td>\n",
       "      <td>['https://www.tlnt.com/apprenticeships-that-br...</td>\n",
       "      <td>4</td>\n",
       "      <td>[['#careerplanning', 'https://www.linkedin.com...</td>\n",
       "      <td>44</td>\n",
       "      <td>0</td>\n",
       "      <td>Unknown</td>\n",
       "      <td>6484.0</td>\n",
       "      <td>2 months ago</td>\n",
       "      <td>article</td>\n",
       "    </tr>\n",
       "    <tr>\n",
       "      <th>3</th>\n",
       "      <td>Nicholas Wyman</td>\n",
       "      <td>CEO IWSI Group</td>\n",
       "      <td>Nicholas Wyman for the past 25 years has shone...</td>\n",
       "      <td>I count myself fortunate to have spent time wi...</td>\n",
       "      <td>[['https://www.linkedin.com/in/ACoAABhNxDUB9IX...</td>\n",
       "      <td>['https://gritdaily.com/the-legacy-of-verified...</td>\n",
       "      <td>3</td>\n",
       "      <td>[['#verifiedresumes', 'https://www.linkedin.co...</td>\n",
       "      <td>22</td>\n",
       "      <td>2</td>\n",
       "      <td>Unknown</td>\n",
       "      <td>6484.0</td>\n",
       "      <td>2 months ago</td>\n",
       "      <td>article</td>\n",
       "    </tr>\n",
       "    <tr>\n",
       "      <th>4</th>\n",
       "      <td>Nicholas Wyman</td>\n",
       "      <td>CEO IWSI Group</td>\n",
       "      <td>Nicholas Wyman for the past 25 years has shone...</td>\n",
       "      <td>Online job platforms are a different way of wo...</td>\n",
       "      <td>[['https://www.linkedin.com/feed/hashtag/?keyw...</td>\n",
       "      <td>['https://www.forbes.com/sites/nicholaswyman/2...</td>\n",
       "      <td>5</td>\n",
       "      <td>[['#careers', 'https://www.linkedin.com/feed/h...</td>\n",
       "      <td>21</td>\n",
       "      <td>1</td>\n",
       "      <td>Unknown</td>\n",
       "      <td>6484.0</td>\n",
       "      <td>2 months ago</td>\n",
       "      <td>article</td>\n",
       "    </tr>\n",
       "  </tbody>\n",
       "</table>\n",
       "</div>"
      ],
      "text/plain": [
       "             name        headline  \\\n",
       "0  Nicholas Wyman  CEO IWSI Group   \n",
       "1  Nicholas Wyman  CEO IWSI Group   \n",
       "2  Nicholas Wyman  CEO IWSI Group   \n",
       "3  Nicholas Wyman  CEO IWSI Group   \n",
       "4  Nicholas Wyman  CEO IWSI Group   \n",
       "\n",
       "                                               about  \\\n",
       "0  Nicholas Wyman for the past 25 years has shone...   \n",
       "1  Nicholas Wyman for the past 25 years has shone...   \n",
       "2  Nicholas Wyman for the past 25 years has shone...   \n",
       "3  Nicholas Wyman for the past 25 years has shone...   \n",
       "4  Nicholas Wyman for the past 25 years has shone...   \n",
       "\n",
       "                                             content  \\\n",
       "0  Robert Lerman  writes that achieving a healthy...   \n",
       "1  National disability advocate  Sara Hart Weir, ...   \n",
       "2  Exploring in this months Talent Management & H...   \n",
       "3  I count myself fortunate to have spent time wi...   \n",
       "4  Online job platforms are a different way of wo...   \n",
       "\n",
       "                                       content_links  \\\n",
       "0  [['https://www.linkedin.com/in/ACoAAACy1HkBviR...   \n",
       "1  [['https://www.linkedin.com/in/ACoAAAHsfJgBb7_...   \n",
       "2  [['https://www.linkedin.com/in/ACoAAAADlGIBLfn...   \n",
       "3  [['https://www.linkedin.com/in/ACoAABhNxDUB9IX...   \n",
       "4  [['https://www.linkedin.com/feed/hashtag/?keyw...   \n",
       "\n",
       "                                           media_url  num_hashtags  \\\n",
       "0  ['https://www.urban.org/urban-wire/its-time-mo...             4   \n",
       "1                                                 []             0   \n",
       "2  ['https://www.tlnt.com/apprenticeships-that-br...             4   \n",
       "3  ['https://gritdaily.com/the-legacy-of-verified...             3   \n",
       "4  ['https://www.forbes.com/sites/nicholaswyman/2...             5   \n",
       "\n",
       "                                            hashtags  reactions  comments  \\\n",
       "0  [['#workbasedlearning', 'https://www.linkedin....         12         1   \n",
       "1                                                 []         11         0   \n",
       "2  [['#careerplanning', 'https://www.linkedin.com...         44         0   \n",
       "3  [['#verifiedresumes', 'https://www.linkedin.co...         22         2   \n",
       "4  [['#careers', 'https://www.linkedin.com/feed/h...         21         1   \n",
       "\n",
       "  Location  Followers    Time_spent Media_type  \n",
       "0  Unknown     6484.0     1 day ago    article  \n",
       "1  Unknown     6484.0    1 week ago       None  \n",
       "2  Unknown     6484.0  2 months ago    article  \n",
       "3  Unknown     6484.0  2 months ago    article  \n",
       "4  Unknown     6484.0  2 months ago    article  "
      ]
     },
     "execution_count": 58,
     "metadata": {},
     "output_type": "execute_result"
    }
   ],
   "source": [
    "# Let's download the cleaned dataset\n",
    "df_cleaned = pd.read_pickle('cleaned_data.pkl')\n",
    "df_cleaned.head()"
   ]
  },
  {
   "cell_type": "code",
   "execution_count": 59,
   "metadata": {},
   "outputs": [
    {
     "name": "stdout",
     "output_type": "stream",
     "text": [
      "After decades of corporate reform in our public schools, the results are in. And it's not good news for the reformers.  On the National Assessment of Educational Progress (NAEP), which is the only assessment nationally normed and administered, this year' results showed stagnation over prior years tests, and increases in gaps between the highest-performing students and the lowest. The evidence rolls in persuasively that administering more and more assessments - diagnostic, district, state, and now nationally - in an effort to increase test scores - with the added costs and consequences of higher class sizes and fewer classes in #education #reform #gap the arts and humanities - have resulted in no improvement in reading or math scores.  It's time to stop the testing madness, and time to return to what engages our learners in our schools...it sure isn't more testing and more test preparation. \n",
      " \n",
      " \n",
      " …see more\n",
      "---------\n",
      "✨ Today marks my last day at Studio71! ✨ I am so grateful for my time here and for having a position that allowed me to work across departments.  One of my favorite leaders at  Studio71, LP  is  Mike Fallon . He once told me:  “You should always make sure you listen as much as you talk. You don't have to agree, but you have to make sure they feel heard.\"  Thanks for always making me feel heard.  Thank you to the team  Garima Sharma ,  Emily Badgley ,  Tristan DiMaria ,  Alex Shannon , and so many more. I am going to miss y'all a ton! I will be announcing my next opportunity in the upcoming weeks, so stay tuned! #lastday   #gratitude   #careertransition \n",
      " \n",
      " \n",
      " …see more\n",
      "---------\n",
      "Emerging  #PaaS  Players  Osama Elkady   Tara Ryan   Karl Meyer\n"
     ]
    }
   ],
   "source": [
    "# Let's check some posts to see what we have to do\n",
    "print(df_cleaned['content'][100])\n",
    "print('---------')\n",
    "print(df_cleaned['content'][1000])\n",
    "print('---------')\n",
    "print(df_cleaned['content'][10000])"
   ]
  },
  {
   "cell_type": "markdown",
   "metadata": {},
   "source": [
    "**Observations**\n",
    "\n",
    "As we can see with these examples, we can remove from these posts :\n",
    "\n",
    "* Uppercases\n",
    "* \"...see more\" at the end of each post. \n",
    "    * If we check the raw version of posts (see the following cell), it appears that it is written as \"\\n \\n \\n …see more\"\n",
    "    * It means also that we don't have complete posts in this dataset !\n",
    "* Punctuations\n",
    "* Hashtags. Indeed, some hashtags have no sense, which is pretty difficult for topic modeling\n",
    "* Whitespaces\n",
    "* Emojis\n",
    "* Names\n",
    "\n",
    "We can also lemmatize the text.  \n",
    "**Lemmatization** consists in transforming a word into its root. For instance, \"is\" becomes \"be\" ; \"me\" becomes \"I\" ...\n",
    "\n",
    "**Stopwords** can also be removed. Stopwords are words which does not add much meaning to a sentence in the selected language. For instance, 'very', 'sometime', 'thereby are considered as stopwords in English"
   ]
  },
  {
   "cell_type": "code",
   "execution_count": 60,
   "metadata": {},
   "outputs": [
    {
     "data": {
      "text/plain": [
       "'✨ Today marks my last day at Studio71! ✨ I am so grateful for my time here and for having a position that allowed me to work across departments.  One of my favorite leaders at  Studio71, LP  is  Mike Fallon . He once told me:  “You should always make sure you listen as much as you talk. You don\\'t have to agree, but you have to make sure they feel heard.\"  Thanks for always making me feel heard.  Thank you to the team  Garima Sharma ,  Emily Badgley ,  Tristan DiMaria ,  Alex Shannon , and so many more. I am going to miss y\\'all a ton! I will be announcing my next opportunity in the upcoming weeks, so stay tuned! #lastday   #gratitude   #careertransition \\n \\n \\n …see more'"
      ]
     },
     "execution_count": 60,
     "metadata": {},
     "output_type": "execute_result"
    }
   ],
   "source": [
    "# Watch \"\\n \\n \\n …see more\" at the end of the post\n",
    "df_cleaned['content'][1000]"
   ]
  },
  {
   "cell_type": "markdown",
   "metadata": {},
   "source": [
    "Let's declare a specific Dataframe we will work with, containing posts and relevant informations to study the impact of topics"
   ]
  },
  {
   "cell_type": "code",
   "execution_count": 61,
   "metadata": {},
   "outputs": [
    {
     "data": {
      "text/html": [
       "<div>\n",
       "<style scoped>\n",
       "    .dataframe tbody tr th:only-of-type {\n",
       "        vertical-align: middle;\n",
       "    }\n",
       "\n",
       "    .dataframe tbody tr th {\n",
       "        vertical-align: top;\n",
       "    }\n",
       "\n",
       "    .dataframe thead th {\n",
       "        text-align: right;\n",
       "    }\n",
       "</style>\n",
       "<table border=\"1\" class=\"dataframe\">\n",
       "  <thead>\n",
       "    <tr style=\"text-align: right;\">\n",
       "      <th></th>\n",
       "      <th>Name</th>\n",
       "      <th>#Reactions</th>\n",
       "      <th>#Comments</th>\n",
       "      <th>Followers</th>\n",
       "      <th>Content</th>\n",
       "    </tr>\n",
       "  </thead>\n",
       "  <tbody>\n",
       "    <tr>\n",
       "      <th>0</th>\n",
       "      <td>Nicholas Wyman</td>\n",
       "      <td>12</td>\n",
       "      <td>1</td>\n",
       "      <td>6484.0</td>\n",
       "      <td>Robert Lerman  writes that achieving a healthy...</td>\n",
       "    </tr>\n",
       "    <tr>\n",
       "      <th>1</th>\n",
       "      <td>Nicholas Wyman</td>\n",
       "      <td>11</td>\n",
       "      <td>0</td>\n",
       "      <td>6484.0</td>\n",
       "      <td>National disability advocate  Sara Hart Weir, ...</td>\n",
       "    </tr>\n",
       "    <tr>\n",
       "      <th>2</th>\n",
       "      <td>Nicholas Wyman</td>\n",
       "      <td>44</td>\n",
       "      <td>0</td>\n",
       "      <td>6484.0</td>\n",
       "      <td>Exploring in this months Talent Management &amp; H...</td>\n",
       "    </tr>\n",
       "    <tr>\n",
       "      <th>3</th>\n",
       "      <td>Nicholas Wyman</td>\n",
       "      <td>22</td>\n",
       "      <td>2</td>\n",
       "      <td>6484.0</td>\n",
       "      <td>I count myself fortunate to have spent time wi...</td>\n",
       "    </tr>\n",
       "    <tr>\n",
       "      <th>4</th>\n",
       "      <td>Nicholas Wyman</td>\n",
       "      <td>21</td>\n",
       "      <td>1</td>\n",
       "      <td>6484.0</td>\n",
       "      <td>Online job platforms are a different way of wo...</td>\n",
       "    </tr>\n",
       "    <tr>\n",
       "      <th>...</th>\n",
       "      <td>...</td>\n",
       "      <td>...</td>\n",
       "      <td>...</td>\n",
       "      <td>...</td>\n",
       "      <td>...</td>\n",
       "    </tr>\n",
       "    <tr>\n",
       "      <th>31991</th>\n",
       "      <td>Simon Sinek</td>\n",
       "      <td>4005</td>\n",
       "      <td>93</td>\n",
       "      <td>4206024.0</td>\n",
       "      <td>Igniter of the Year 2016. Well I know that I'm...</td>\n",
       "    </tr>\n",
       "    <tr>\n",
       "      <th>31992</th>\n",
       "      <td>Simon Sinek</td>\n",
       "      <td>1698</td>\n",
       "      <td>74</td>\n",
       "      <td>4206024.0</td>\n",
       "      <td>Executives who prioritize the shareholder are ...</td>\n",
       "    </tr>\n",
       "    <tr>\n",
       "      <th>31993</th>\n",
       "      <td>Simon Sinek</td>\n",
       "      <td>661</td>\n",
       "      <td>59</td>\n",
       "      <td>4206024.0</td>\n",
       "      <td>Like many, I too have been reflecting as we ne...</td>\n",
       "    </tr>\n",
       "    <tr>\n",
       "      <th>31994</th>\n",
       "      <td>Simon Sinek</td>\n",
       "      <td>766</td>\n",
       "      <td>35</td>\n",
       "      <td>4206024.0</td>\n",
       "      <td>If you say \"customer first\" that means your em...</td>\n",
       "    </tr>\n",
       "    <tr>\n",
       "      <th>31995</th>\n",
       "      <td>Simon Sinek</td>\n",
       "      <td>789</td>\n",
       "      <td>23</td>\n",
       "      <td>4206024.0</td>\n",
       "      <td>The small work hard to serve themselves in a b...</td>\n",
       "    </tr>\n",
       "  </tbody>\n",
       "</table>\n",
       "<p>31996 rows × 5 columns</p>\n",
       "</div>"
      ],
      "text/plain": [
       "                 Name  #Reactions  #Comments  Followers  \\\n",
       "0      Nicholas Wyman          12          1     6484.0   \n",
       "1      Nicholas Wyman          11          0     6484.0   \n",
       "2      Nicholas Wyman          44          0     6484.0   \n",
       "3      Nicholas Wyman          22          2     6484.0   \n",
       "4      Nicholas Wyman          21          1     6484.0   \n",
       "...               ...         ...        ...        ...   \n",
       "31991     Simon Sinek        4005         93  4206024.0   \n",
       "31992     Simon Sinek        1698         74  4206024.0   \n",
       "31993     Simon Sinek         661         59  4206024.0   \n",
       "31994     Simon Sinek         766         35  4206024.0   \n",
       "31995     Simon Sinek         789         23  4206024.0   \n",
       "\n",
       "                                                 Content  \n",
       "0      Robert Lerman  writes that achieving a healthy...  \n",
       "1      National disability advocate  Sara Hart Weir, ...  \n",
       "2      Exploring in this months Talent Management & H...  \n",
       "3      I count myself fortunate to have spent time wi...  \n",
       "4      Online job platforms are a different way of wo...  \n",
       "...                                                  ...  \n",
       "31991  Igniter of the Year 2016. Well I know that I'm...  \n",
       "31992  Executives who prioritize the shareholder are ...  \n",
       "31993  Like many, I too have been reflecting as we ne...  \n",
       "31994  If you say \"customer first\" that means your em...  \n",
       "31995  The small work hard to serve themselves in a b...  \n",
       "\n",
       "[31996 rows x 5 columns]"
      ]
     },
     "execution_count": 61,
     "metadata": {},
     "output_type": "execute_result"
    }
   ],
   "source": [
    "# Let's keep only columns we need for this topic modeling\n",
    "# We rename columns to stay consistent (uppercase lowercase etc)\n",
    "corpus = pd.DataFrame()\n",
    "corpus[['Name', \"#Reactions\", \"#Comments\", \"Followers\", \"Content\"]] = df_cleaned[['name','reactions','comments','Followers','content']]\n",
    "corpus"
   ]
  },
  {
   "cell_type": "code",
   "execution_count": 62,
   "metadata": {},
   "outputs": [],
   "source": [
    "# Let's also create a serie representing the content only\n",
    "# It will be very useful for the later use\n",
    "posts = corpus['Content']"
   ]
  },
  {
   "cell_type": "markdown",
   "metadata": {},
   "source": [
    "### Pre-processing"
   ]
  },
  {
   "cell_type": "markdown",
   "metadata": {},
   "source": [
    "For this preprocessing, we will use Spacy, which is a fast industrial-strength natural language processing (NLP) library for Python.\n",
    "\n",
    "spaCy handles many tasks commonly associated with building an end-to-end natural language processing pipeline:\n",
    "\n",
    "* Tokenization\n",
    "* Text normalization, such as lowercasing, stemming/lemmatization\n",
    "* Part-of-speech tagging\n",
    "* Syntactic dependency parsing\n",
    "* Sentence boundary detection\n",
    "* Named entity recognition and annotation\n",
    "\n",
    "In the \"batteries included\" Python tradition, spaCy contains built-in data and models which you can use out-of-the-box for processing general-purpose English language text:\n",
    "\n",
    "* Large English vocabulary, including stopword lists\n",
    "* Token \"probabilities\"\n",
    "* Word vectors"
   ]
  },
  {
   "cell_type": "code",
   "execution_count": 63,
   "metadata": {},
   "outputs": [],
   "source": [
    "# We need to import spacy trained pipelines, which support many languages\n",
    "# Let's use the English pipeline\n",
    "\n",
    "# In CMD :\n",
    "# $ python -m spacy download en_core_web_lg\n",
    "# or\n",
    "# In python :\n",
    "# >>> import spacy\n",
    "# >>> nlp = spacy.load(\"en_core_web_lg\")\n",
    "\n",
    "# We download the large version \"lg\" and not the small version \"sm\" here \n",
    "# This module is pretty large : ~631 MB\n",
    "nlp = spacy.load(\"en_core_web_lg\")"
   ]
  },
  {
   "cell_type": "markdown",
   "metadata": {},
   "source": [
    "First we remove every hashtags from posts with the following function.  \n",
    "The reason is that tokenizing posts with spaCy does consider \"#\" as a single token, so we have to remove hashtags upstream."
   ]
  },
  {
   "cell_type": "code",
   "execution_count": 64,
   "metadata": {},
   "outputs": [],
   "source": [
    "def first_clean(post):\n",
    "    \"\"\"\n",
    "    remove all hastags and website links from a string\n",
    "    \"\"\"    \n",
    "\n",
    "    return \" \".join(word for word in post.split(' ') if (\"#\" not in word and \"http\" not in word))"
   ]
  },
  {
   "cell_type": "markdown",
   "metadata": {},
   "source": [
    "Let's see if the function worked "
   ]
  },
  {
   "cell_type": "code",
   "execution_count": 65,
   "metadata": {},
   "outputs": [
    {
     "name": "stdout",
     "output_type": "stream",
     "text": [
      "Original posts :\n",
      "\n",
      "Robert Lerman  writes that achieving a healthy future of work requires employees to build skills that help them attain productive and rewarding careers. He notes - \"one of the most cost-effective ways to do this is through apprenticeship, which helps workers master occupations and gain professional identity and pride\". Coudlnt agree more!  #workbasedlearning   #USA   #apprenticeship   Read the article on  #UrbanWire   Urban Institute \n",
      " \n",
      " \n",
      " …see more\n",
      "\n",
      "National disability advocate  Sara Hart Weir, MS   shares how Congress passed the ABLE act\n",
      "\n",
      "Exploring in this months Talent Management & HR what a company should consider to get the most out of a modern apprenticeship program. Thanks to employer & entrepreneuer  Ankur Gopal  for sharing insights on your IT program.  Why not start a program in 2021.. Wishing you all a safe and happy festive season.  Nick  #careerplanning   #apprenticeships   #workbasedlearning   #careers   Urban Institute   Zach Boren   Robert Lerman   Lana Gordon   Andrew Sezonov   Simon W.   Ervin Dimeny \n",
      " \n",
      " \n",
      " …see more\n",
      "\n"
     ]
    }
   ],
   "source": [
    "print(\"Original posts :\")\n",
    "print(\"\")\n",
    "\n",
    "for post in posts[:3]:\n",
    "    print(post)\n",
    "    print(\"\")"
   ]
  },
  {
   "cell_type": "code",
   "execution_count": 66,
   "metadata": {},
   "outputs": [],
   "source": [
    "# Let's clean posts\n",
    "posts = posts.apply(first_clean)"
   ]
  },
  {
   "cell_type": "code",
   "execution_count": 67,
   "metadata": {},
   "outputs": [
    {
     "name": "stdout",
     "output_type": "stream",
     "text": [
      "Cleaned posts :\n",
      "\n",
      "Robert Lerman  writes that achieving a healthy future of work requires employees to build skills that help them attain productive and rewarding careers. He notes - \"one of the most cost-effective ways to do this is through apprenticeship, which helps workers master occupations and gain professional identity and pride\". Coudlnt agree more!        Read the article on    Urban Institute \n",
      " \n",
      " \n",
      " …see more\n",
      "\n",
      "National disability advocate  Sara Hart Weir, MS   shares how Congress passed the ABLE act\n",
      "\n",
      "Exploring in this months Talent Management & HR what a company should consider to get the most out of a modern apprenticeship program. Thanks to employer & entrepreneuer  Ankur Gopal  for sharing insights on your IT program.  Why not start a program in 2021.. Wishing you all a safe and happy festive season.  Nick          Urban Institute   Zach Boren   Robert Lerman   Lana Gordon   Andrew Sezonov   Simon W.   Ervin Dimeny \n",
      " \n",
      " \n",
      " …see more\n",
      "\n"
     ]
    }
   ],
   "source": [
    "print(\"Cleaned posts :\")\n",
    "print(\"\")\n",
    "\n",
    "for post in posts[:3]:\n",
    "    print(post)\n",
    "    print(\"\")"
   ]
  },
  {
   "cell_type": "markdown",
   "metadata": {},
   "source": [
    "**Hashtags were removed !**"
   ]
  },
  {
   "cell_type": "markdown",
   "metadata": {},
   "source": [
    "Let's define some functions that will help us clean the texts, using spaCy !\n",
    "\n",
    "nlp.pipe() allows use to apply the processing to a serie composed of texts. This is the main reason we have decided to work with a serie : 'posts'.\n",
    "\n",
    "Each post, which is a string, is splitted into tokens recognized by the algorithm and pre-processed by the spaCy library. Each token can therefore be recognized as a type, like a noun, an adjective, a stopword, its lemmatized version, etc... This library is very powerful to treat natural language processing problems !"
   ]
  },
  {
   "cell_type": "code",
   "execution_count": 68,
   "metadata": {},
   "outputs": [],
   "source": [
    "def punct_space(token):\n",
    "    \"\"\"\n",
    "    helper function to eliminate tokens\n",
    "    that are pure punctuation or whitespace\n",
    "    \"\"\"\n",
    "\n",
    "    return token.is_punct or token.is_space\n",
    "\n",
    "\n",
    "def rm_pattern(post):\n",
    "    \"\"\"\n",
    "    function returning a string without \"...see more\" and website links from the post. \n",
    "    This function uses \"re.sub\" to remove a specific pattern\"\"\"\n",
    "\n",
    "    post = re.sub(\"…see more\",'', post) # replace pattern by an empty string\n",
    "    post = re.sub('http','',post)\n",
    "    return post\n",
    "\n",
    "\n",
    "\n",
    "def rules(token):\n",
    "    \"\"\"\n",
    "    conditions to select a specific token for the corpus cleaning\n",
    "    used with all() function : return True if all True.\n",
    "    Conditions are : no pure puncuation - no pure whitespace - nouns & adjectives only - not a stopword \n",
    "    - not a #word\n",
    "    \"\"\"\n",
    "\n",
    "    return [not punct_space(token),\n",
    "            token not in nlp.Defaults.stop_words,\n",
    "            token.pos_ == 'NOUN' or token.pos_ ==\"ADJ\"] "
   ]
  },
  {
   "cell_type": "code",
   "execution_count": 69,
   "metadata": {},
   "outputs": [],
   "source": [
    "def corpus_cleaning(posts):\n",
    "    \"\"\"\n",
    "    generator function using spaCy to parse posts,\n",
    "    remove \"...see more\" pattern, website links, lemmatize the text, lowercase words, and apply all the conditions we have set in rules.\n",
    "    What this function returns is a generator (a \"list\") of individual tokens contained in lists. \n",
    "    \"\"\"\n",
    "    \n",
    "    for post in nlp.pipe(posts.apply(rm_pattern)):\n",
    "        yield ' '.join([token.lemma_ for token in post if all(rules(token))])"
   ]
  },
  {
   "cell_type": "markdown",
   "metadata": {},
   "source": [
    "*yield*, at the opposite of *return*, returns a generator, which is a lighter version of a list. It is very useful when the object is large, like our list of posts. However, generators can be iterated over only once ! The reason is that, during iteration, each element in a generator replaces the previous one. In this way, the machine doesn't have to calculate all the element before using them, saving considerable time.\n",
    "\n",
    "More information can be found on : https://stackoverflow.com/questions/231767/what-does-the-yield-keyword-do\n",
    "\n",
    "What *corpus cleaning()* returns is a generator (a \"list\") of individual tokens contained in lists.\n",
    "\n",
    "To iterate over a generator we use *itertools* that transforms an object into an iterator.\n",
    "\n",
    "Lastly, to understand how to use spacy with a pandas, here a clearly explained article : https://towardsdatascience.com/structured-natural-language-processing-with-pandas-and-spacy-7089e66d2b10"
   ]
  },
  {
   "cell_type": "code",
   "execution_count": 70,
   "metadata": {},
   "outputs": [
    {
     "name": "stdout",
     "output_type": "stream",
     "text": [
      "Original :\n",
      "\n",
      "✨ Today marks my last day at Studio71! ✨ I am so grateful for my time here and for having a position that allowed me to work across departments.  One of my favorite leaders at  Studio71, LP  is  Mike Fallon . He once told me:  “You should always make sure you listen as much as you talk. You don't have to agree, but you have to make sure they feel heard.\"  Thanks for always making me feel heard.  Thank you to the team  Garima Sharma ,  Emily Badgley ,  Tristan DiMaria ,  Alex Shannon , and so many more. I am going to miss y'all a ton! I will be announcing my next opportunity in the upcoming weeks, so stay tuned!     \n",
      " \n",
      " \n",
      " …see more\n",
      "\n",
      "Earlier this year I tried to find a female mentor and failed. I went on plenty of lunch and coffee sessions, was actively telling people of my search, but couldn’t find the right fit. For so many people early in their career, it can feel impossible to find a mentor. I thought that I didn’t have anything to offer in return for the mentorship. I was reading an article by Bumble the other day on “How To Ask a Mentor Out for Coffee and Create a Lasting Relationship” and could TOTALLY empathize. I made so many of the mistakes that the article called out like 1.    Making the first meeting too long 2.    Using the word “mentor” too early 3.    Not nailing my elevator pitch I’ve been chatting with great people on BumbleBizz.  Download and checkout  Bumble  so you can find your very own mentor or mentee.  How have you been able to find mentors?   \n",
      " \n",
      " \n",
      " …see more\n",
      "\n",
      "My first year out of college was not what I was promised.  While I found myself dealing with issues that I was warned about, there were some unique challenges that I shared with my peers entering the full-time workforce in 2018/2019.  Some of them include a redefining of financial literacy (including how almost all of my friends have student debt), entering the workforce in the era, and more.  Checkout the full article including stories from Julian Gamboa and Joel Hansen!   \n",
      " \n",
      " \n",
      " …see more\n",
      "\n",
      "-------------\n",
      "Cleaned :\n",
      "\n",
      "today last day grateful time position department favorite leader sure sure thank team many more ton next opportunity upcoming week\n",
      "\n",
      "year female mentor plenty lunch coffee session people search right fit many people career impossible mentor return mentorship article other day mentor many mistake article first meeting word mentor elevator pitch great people own mentor mentee able mentor\n",
      "\n",
      "first year college issue unique challenge peer full time workforce redefining financial literacy friend student debt workforce era more full article story\n",
      "\n"
     ]
    }
   ],
   "source": [
    "# Let's see how the function works\n",
    "\n",
    "print(\"Original :\")\n",
    "print(\"\")\n",
    "\n",
    "for post in it.islice(posts,1000,1003):\n",
    "    print(post)\n",
    "    print('')\n",
    "\n",
    "print('-------------')\n",
    "\n",
    "print(\"Cleaned :\")\n",
    "print(\"\")\n",
    "\n",
    "for post in it.islice(corpus_cleaning(posts),1000,1003):\n",
    "    print(post)\n",
    "    print('')"
   ]
  },
  {
   "cell_type": "markdown",
   "metadata": {},
   "source": [
    "Now we can clean the posts !\n",
    "Thanks to the use of *yield*, the pre-processing is extremely fast !\n",
    "\n",
    "But we have to remember that this generator can be iterated over once !"
   ]
  },
  {
   "cell_type": "code",
   "execution_count": 71,
   "metadata": {},
   "outputs": [
    {
     "name": "stdout",
     "output_type": "stream",
     "text": [
      "Wall time: 137 µs\n"
     ]
    },
    {
     "data": {
      "text/plain": [
       "generator"
      ]
     },
     "execution_count": 71,
     "metadata": {},
     "output_type": "execute_result"
    }
   ],
   "source": [
    "%%time\n",
    "preprocessed_posts = corpus_cleaning(posts)\n",
    "type(preprocessed_posts)"
   ]
  },
  {
   "cell_type": "markdown",
   "metadata": {},
   "source": [
    "### Phrase modeling\n",
    "\n",
    "Phrase modeling is another approach to learn combinations of tokens that together represent meaningful multi-word concepts. We can develop phrase models by looping over the the words in our reviews and looking for words that co-occur (i.e., appear one after another) together much more frequently than you would expect them to by random chance. The formula our phrase models will use to determine whether two tokens  and  constitute a phrase is:\n",
    "\n",
    "$$ \\frac{count (AB) - count_{min}}{count(A)*count(B)} * N > treshold $$\n",
    "\n",
    " \n",
    "...where:\n",
    "\n",
    " * $count(A)$ is the number of times token $A$ appears in the corpus\n",
    " * $count(B)$ is the number of times token $B$ appears in the corpus\n",
    " * $count(AB)$ is the number of times the tokens $AB$ appear in the corpus in order\n",
    " * $N$ is the total size of the corpus vocabulary\n",
    " * $count_{min}$ is a user-defined parameter to ensure that accepted phrases occur a minimum number of times\n",
    " * $treshold$ is a user-defined parameter to control how strong of a relationship between two tokens the model requires before accepting them as a phrase\n",
    "Once our phrase model has been trained on our corpus, we can apply it to new text. When our model encounters two tokens in new text that identifies as a phrase, it will merge the two into a single new token.\n",
    "\n",
    "Phrase modeling is superficially similar to named entity detection in that you would expect named entities to become phrases in the model (so new york would become new_york). But you would also expect multi-word expressions that represent common concepts, but aren't specifically named entities (such as happy hour) to also become phrases in the model.\n",
    "\n",
    "We turn to the indispensible **gensim** library to help us with phrase modeling — the Phrases class in particular."
   ]
  },
  {
   "cell_type": "code",
   "execution_count": 72,
   "metadata": {},
   "outputs": [
    {
     "name": "stdout",
     "output_type": "stream",
     "text": [
      "Wall time: 174 ms\n"
     ]
    }
   ],
   "source": [
    "%%time\n",
    "# Filename of the model allowing us to join words together\n",
    "filename = 'bigram_model.pkl'\n",
    "\n",
    "# This code was long to run\n",
    "# Make the following statement true if you want to run it again\n",
    "if 0 == 1:\n",
    "\n",
    "    # Let's generate the cleaned content one more time as a generator\n",
    "    # It can be used only one time, so we have to be careful to save the modified version\n",
    "    preprocessed_posts = corpus_cleaning(posts)\n",
    "\n",
    "    # gensim.Phrases needs a sequence of sentences. (e.g. an iterable or a generator)\n",
    "    # Each sentence has to be a list of string tokens\n",
    "    streamed_posts = (post.split(' ') for post in preprocessed_posts)\n",
    "\n",
    "    # We train the model\n",
    "    # min_count : the minimum of sentences (aka. coupled words) found in the doc. Under this value, the model doesn't take it into consideration.\n",
    "    # treshold : (by default : 10). The higher, the fewer phrases.\n",
    "    # This line return a model we can use later. \n",
    "    bigram_model = Phrases(streamed_posts,min_count=5,threshold=10)\n",
    "\n",
    "    # Save the model for later use\n",
    "    pickle.dump(bigram_model, open(filename, 'wb'))\n",
    "\n",
    "# Load the model if the statement is False\n",
    "bigram_model = pickle.load(open(filename, 'rb'))"
   ]
  },
  {
   "cell_type": "code",
   "execution_count": 73,
   "metadata": {},
   "outputs": [
    {
     "data": {
      "text/html": [
       "<div>\n",
       "<style scoped>\n",
       "    .dataframe tbody tr th:only-of-type {\n",
       "        vertical-align: middle;\n",
       "    }\n",
       "\n",
       "    .dataframe tbody tr th {\n",
       "        vertical-align: top;\n",
       "    }\n",
       "\n",
       "    .dataframe thead th {\n",
       "        text-align: right;\n",
       "    }\n",
       "</style>\n",
       "<table border=\"1\" class=\"dataframe\">\n",
       "  <thead>\n",
       "    <tr style=\"text-align: right;\">\n",
       "      <th></th>\n",
       "      <th>Phrases</th>\n",
       "      <th>Score</th>\n",
       "    </tr>\n",
       "  </thead>\n",
       "  <tbody>\n",
       "    <tr>\n",
       "      <th>0</th>\n",
       "      <td>cost_effective</td>\n",
       "      <td>22.361574</td>\n",
       "    </tr>\n",
       "    <tr>\n",
       "      <th>1</th>\n",
       "      <td>festive_season</td>\n",
       "      <td>510.345238</td>\n",
       "    </tr>\n",
       "    <tr>\n",
       "      <th>2</th>\n",
       "      <td>full_potential</td>\n",
       "      <td>36.015542</td>\n",
       "    </tr>\n",
       "    <tr>\n",
       "      <th>3</th>\n",
       "      <td>challenging_time</td>\n",
       "      <td>31.861018</td>\n",
       "    </tr>\n",
       "    <tr>\n",
       "      <th>4</th>\n",
       "      <td>second_wave</td>\n",
       "      <td>54.292047</td>\n",
       "    </tr>\n",
       "    <tr>\n",
       "      <th>...</th>\n",
       "      <td>...</td>\n",
       "      <td>...</td>\n",
       "    </tr>\n",
       "    <tr>\n",
       "      <th>1055</th>\n",
       "      <td>video_comment_ghostwriter</td>\n",
       "      <td>32.807908</td>\n",
       "    </tr>\n",
       "    <tr>\n",
       "      <th>1056</th>\n",
       "      <td>live_online_class</td>\n",
       "      <td>37.858993</td>\n",
       "    </tr>\n",
       "    <tr>\n",
       "      <th>1057</th>\n",
       "      <td>bit_optimism</td>\n",
       "      <td>344.546371</td>\n",
       "    </tr>\n",
       "    <tr>\n",
       "      <th>1058</th>\n",
       "      <td>bit_optimism_podcast</td>\n",
       "      <td>15.487006</td>\n",
       "    </tr>\n",
       "    <tr>\n",
       "      <th>1059</th>\n",
       "      <td>episode_bit_optimism</td>\n",
       "      <td>54.679847</td>\n",
       "    </tr>\n",
       "  </tbody>\n",
       "</table>\n",
       "<p>1060 rows × 2 columns</p>\n",
       "</div>"
      ],
      "text/plain": [
       "                        Phrases       Score\n",
       "0                cost_effective   22.361574\n",
       "1                festive_season  510.345238\n",
       "2                full_potential   36.015542\n",
       "3              challenging_time   31.861018\n",
       "4                   second_wave   54.292047\n",
       "...                         ...         ...\n",
       "1055  video_comment_ghostwriter   32.807908\n",
       "1056          live_online_class   37.858993\n",
       "1057               bit_optimism  344.546371\n",
       "1058       bit_optimism_podcast   15.487006\n",
       "1059       episode_bit_optimism   54.679847\n",
       "\n",
       "[1060 rows x 2 columns]"
      ]
     },
     "execution_count": 73,
     "metadata": {},
     "output_type": "execute_result"
    }
   ],
   "source": [
    "# How many sentences were found ? / Which words were associated in the doc ?\n",
    "# pd.DataFrame(data = bigram_model.export_phrases(), columns=[['Phrases',\"Score\"]])\n",
    "\n",
    "# model.export_phrases() return a dict with phrases as keys and scores as values\n",
    "# score represents the frequency of apparition in doc, following the previous formula :\n",
    "phrases = bigram_model.export_phrases()\n",
    "\n",
    "pd.DataFrame(data = {\"Phrases\" : phrases.keys() , \"Score\" : phrases.values()})"
   ]
  },
  {
   "cell_type": "markdown",
   "metadata": {},
   "source": [
    "Now we have defined *phrases*, we can apply the model to the corpus (posts), and modify it to consider phrases."
   ]
  },
  {
   "cell_type": "code",
   "execution_count": 74,
   "metadata": {},
   "outputs": [
    {
     "name": "stdout",
     "output_type": "stream",
     "text": [
      "Wall time: 23.7 ms\n"
     ]
    }
   ],
   "source": [
    "%%time\n",
    "# Filename of the model allowing us to join words together\n",
    "filename = 'bigram_posts.pkl'\n",
    "\n",
    "# This code was long to run\n",
    "# Make the following statement true if you want to run it\n",
    "if 0 == 1:\n",
    "\n",
    "    # We create a sequence of preprocessed posts, each of them splitted/tokenized as a list of words/tokens\n",
    "    preprocessed_posts = corpus_cleaning(posts)\n",
    "    streamed_posts = (post.split(' ') for post in preprocessed_posts)\n",
    "\n",
    "    # We create a new list of cleaned posts we will use for future models\n",
    "    bigram_posts = []\n",
    "\n",
    "    for streamed_post in streamed_posts:\n",
    "        bigram_post = ' '.join(bigram_model[streamed_post])\n",
    "        bigram_posts.append(bigram_post)\n",
    "\n",
    "    # Save the corpus for later use\n",
    "    pickle.dump(bigram_posts, open(filename, 'wb'))\n",
    "\n",
    "# Load the model if the statement is False\n",
    "bigram_posts = pickle.load(open(filename, 'rb'))"
   ]
  },
  {
   "cell_type": "markdown",
   "metadata": {},
   "source": [
    "Let's see how it is :"
   ]
  },
  {
   "cell_type": "code",
   "execution_count": 75,
   "metadata": {},
   "outputs": [
    {
     "name": "stdout",
     "output_type": "stream",
     "text": [
      "write healthy future work employee skill productive rewarding career cost_effective way apprenticeship worker master occupation professional identity pride Coudlnt article\n",
      "\n",
      "national disability advocate share able act\n",
      "\n",
      "month company most modern apprenticeship program thank employer entrepreneuer insight program program safe happy festive_season w.\n",
      "\n",
      "fortunate time research administration insight innovative thinking economic employment training policy many people young people full_potential aged last project colleage verified resume thank report wonderful insight topic thought conversation safe\n",
      "\n",
      "online job platform different way time workplace school international border example future work conversation\n",
      "\n",
      "unemployment_rate stillness home order more more conversation career right time\n",
      "\n",
      "year challenging_time program creative way functional pandemic report\n",
      "\n",
      "\n",
      "\n",
      "conversation guest upcoming workforce summit question covid-19 many employer resource business operation service delivery new opportunity focus future people pandemic employer opportunity ideal future workforce sure interesting fact business apprentice crisis people long range view skill development\n",
      "\n",
      "pod group people upskill focus particular project problem conversation like thought\n",
      "\n"
     ]
    }
   ],
   "source": [
    "for post in bigram_posts[:10]:\n",
    "    print(post)\n",
    "    print('')"
   ]
  },
  {
   "cell_type": "markdown",
   "metadata": {},
   "source": [
    "### Topic modeling with Latent Dirichlet Allocation (LDA)\n",
    "\n",
    "Now we have succesfully cleaned the corpus, removed hashtags, selected only relevant words, and associated words together, we can now apply a model to define topics in all these posts. \n",
    "Topic modeling is family of techniques that can be used to describe and summarize the documents in a corpus according to a set of latent \"topics\". For this demo, we'll be using Latent Dirichlet Allocation or LDA, a popular approach to topic modeling.\n",
    "\n",
    "In many conventional NLP applications, documents are represented a mixture of the individual tokens (words and phrases) they contain. In other words, a document is represented as a vector of token counts. There are two layers in this model — documents and tokens — and the size or dimensionality of the document vectors is the number of tokens in the corpus vocabulary. This approach has a number of disadvantages:\n",
    "\n",
    "* Document vectors tend to be large (one dimension for each token  lots of dimensions)\n",
    "* They also tend to be very sparse. Any given document only contains a small fraction of all tokens in the vocabulary, so most values in the document's token vector are 0.\n",
    "* The dimensions are fully indepedent from each other — there's no sense of connection between related tokens, such as knife and fork.\n",
    "\n",
    "LDA injects a third layer into this conceptual model. Documents are represented as a mixture of a pre-defined number of topics, and the topics are represented as a mixture of the individual tokens in the vocabulary. The number of topics is a model hyperparameter selected by the practitioner. LDA makes a prior assumption that the (document, topic) and (topic, token) mixtures follow Dirichlet probability distributions. This assumption encourages documents to consist mostly of a handful of topics, and topics to consist mostly of a modest set of the tokens.\n",
    "\n",
    "LDA is fully unsupervised. The topics are \"discovered\" automatically from the data by trying to maximize the likelihood of observing the documents in your corpus, given the modeling assumptions. They are expected to capture some latent structure and organization within the documents, and often have a meaningful human interpretation for people familiar with the subject material.\n",
    "We'll again turn to gensim to assist with data preparation and modeling. In particular, gensim offers a high-performance parallelized implementation of LDA with its *LdaModel* class."
   ]
  },
  {
   "cell_type": "markdown",
   "metadata": {},
   "source": [
    "The first step to creating an LDA model is to learn the full vocabulary of the corpus to be modeled. We'll use gensim's **Dictionary** class for this."
   ]
  },
  {
   "cell_type": "code",
   "execution_count": 76,
   "metadata": {},
   "outputs": [],
   "source": [
    "# Let's declare our pre-processed posts\n",
    "posts = pd.Series(bigram_posts)\n",
    "\n",
    "# Dictionary recquired to split the sentences into a list of words. Let's use split() function\n",
    "streamed_posts = posts.apply(lambda str : str.split())\n",
    "\n",
    "# Then we learn the dictionary by iterating over all of the reviews\n",
    "# It return a generator\n",
    "posts_dictionary = Dictionary(streamed_posts)"
   ]
  },
  {
   "cell_type": "markdown",
   "metadata": {},
   "source": [
    "Also, we take care to remove from the dictionary words that appears rarely, and too often."
   ]
  },
  {
   "cell_type": "code",
   "execution_count": 77,
   "metadata": {},
   "outputs": [],
   "source": [
    "# filter tokens that are very rare or too common from the dictionary (filter_extremes) and reassign integer ids (compactify)\n",
    "# We remove words that appears less than 10 times, and more than 40% of the time.\n",
    "posts_dictionary.filter_extremes(no_below=10, no_above=0.4)\n",
    "posts_dictionary.compactify()"
   ]
  },
  {
   "cell_type": "markdown",
   "metadata": {},
   "source": [
    "**Dictionary** encapsulates the mapping between normalized words and their integer ids (https://radimrehurek.com/gensim/corpora/dictionary.html)"
   ]
  },
  {
   "cell_type": "markdown",
   "metadata": {},
   "source": [
    "Like many NLP techniques, LDA uses a simplifying assumption known as the bag-of-words model. In the bag-of-words model, a document is represented by the counts of distinct terms that occur within it. Additional information, such as word order, is discarded.\n"
   ]
  },
  {
   "cell_type": "code",
   "execution_count": 78,
   "metadata": {},
   "outputs": [],
   "source": [
    "bag_of_words = [posts_dictionary.doc2bow(post) for post in streamed_posts]"
   ]
  },
  {
   "cell_type": "code",
   "execution_count": 90,
   "metadata": {},
   "outputs": [
    {
     "name": "stdout",
     "output_type": "stream",
     "text": [
      "Wall time: 11min 18s\n"
     ]
    }
   ],
   "source": [
    "%%time\n",
    "# Filename of the LDA model\n",
    "filename = 'lda_model.pkl'\n",
    "\n",
    "# Number of topics\n",
    "num_topics = 10\n",
    "\n",
    "# This code was long to run\n",
    "# Make the following statement true if you want to run it\n",
    "if 1 == 1: \n",
    "\n",
    "    # Train the model on the corpus.\n",
    "    lda = LdaModel(corpus=bag_of_words,\n",
    "                   id2word=posts_dictionary, \n",
    "                   num_topics=num_topics, \n",
    "                   passes=50,\n",
    "                   iterations=100,\n",
    "                   random_state=100)\n",
    "\n",
    "    # Save the model for later use\n",
    "    pickle.dump(lda, open(filename, 'wb'))\n",
    "\n",
    "# Load the model if the statement is False\n",
    "lda = pickle.load(open(filename, 'rb'))"
   ]
  },
  {
   "cell_type": "markdown",
   "metadata": {},
   "source": [
    "Our topic model is now trained and ready to use! Since each topic is represented as a mixture of tokens, you can manually inspect which tokens have been grouped together into which topics to try to understand the patterns the model has discovered in the data."
   ]
  },
  {
   "cell_type": "markdown",
   "metadata": {},
   "source": [
    "Manually reviewing the top terms for each topic is a helpful exercise, but to get a deeper understanding of the topics and how they relate to each other, we need to visualize the data — preferably in an interactive format. Fortunately, we have the fantastic pyLDAvis library to help with that!"
   ]
  },
  {
   "cell_type": "markdown",
   "metadata": {},
   "source": [
    "*pyLDAvis* includes a one-line function to take topic models created with gensim and prepare their data for visualization."
   ]
  },
  {
   "cell_type": "code",
   "execution_count": 91,
   "metadata": {},
   "outputs": [
    {
     "data": {
      "text/html": [
       "\n",
       "<link rel=\"stylesheet\" type=\"text/css\" href=\"https://cdn.jsdelivr.net/gh/bmabey/pyLDAvis@3.3.1/pyLDAvis/js/ldavis.v1.0.0.css\">\n",
       "\n",
       "\n",
       "<div id=\"ldavis_el1155215900965868964023350481\"></div>\n",
       "<script type=\"text/javascript\">\n",
       "\n",
       "var ldavis_el1155215900965868964023350481_data = {\"mdsDat\": {\"x\": [0.046594778821712174, 0.06804738825919172, -0.08398569263324904, 0.13929119743617532, -0.2226555482404655, -0.23950921707554698, -0.0786293308644882, -0.011910654535307347, 0.22847226351567057, 0.1542848153163073], \"y\": [-0.18277205270161673, 0.01781962343287099, 0.007970588805975287, -0.16212604614121318, 0.08102084000537574, -0.061670966256879345, -0.16125775818486726, 0.3297985792184118, 0.06508476834270367, 0.06613242347923877], \"topics\": [1, 2, 3, 4, 5, 6, 7, 8, 9, 10], \"cluster\": [1, 1, 1, 1, 1, 1, 1, 1, 1, 1], \"Freq\": [15.108229761788083, 14.647056114908121, 12.769210978732112, 12.196332980994034, 8.228865506096271, 7.952509802989425, 7.919290913030058, 7.569518464405954, 7.189050401173966, 6.419935075881973]}, \"tinfo\": {\"Term\": [\"thing\", \"time\", \"company\", \"life\", \"people\", \"video\", \"brand\", \"book\", \"great\", \"free\", \"day\", \"way\", \"business\", \"woman\", \"good\", \"new\", \"content\", \"today\", \"year\", \"conversation\", \"podcast\", \"other\", \"team\", \"marketing\", \"tip\", \"market\", \"next\", \"story\", \"product\", \"question\", \"company\", \"market\", \"product\", \"tech\", \"startup\", \"growth\", \"innovation\", \"investor\", \"investment\", \"trend\", \"model\", \"dollar\", \"retail\", \"data\", \"stock\", \"revenue\", \"fintech\", \"move\", \"\\u2705\", \"ecosystem\", \"indian\", \"chart\", \"scale\", \"sector\", \"owner\", \"portfolio\", \"innovative\", \"pressure\", \"framework\", \"funding\", \"industry\", \"global\", \"report\", \"ceo\", \"business\", \"economy\", \"consumer\", \"entrepreneur\", \"big\", \"financial\", \"large\", \"founder\", \"leadership\", \"culture\", \"new\", \"change\", \"economic\", \"more\", \"customer\", \"world\", \"technology\", \"year\", \"opportunity\", \"future\", \"thing\", \"life\", \"meeting\", \"fear\", \"wrong\", \"habit\", \"dream\", \"failure\", \"productive\", \"mistake\", \"belief\", \"influencer\", \"honest\", \"anxiety\", \"magic\", \"curiosity\", \"schedule\", \"no\", \"indistractable\", \"soft_skill\", \"routine\", \"\\ud83c\\udffe_\\ud83d\\udda4\", \"last_night\", \"theme\", \"viral\", \"rare\", \"spirit\", \"storytelling\", \"assumption\", \"regulator\", \"feeling\", \"thought\", \"word\", \"people\", \"People\", \"person\", \"way\", \"\\ud83d\\udda4\", \"well\", \"other\", \"moment\", \"bad\", \"success\", \"good\", \"attention\", \"time\", \"same\", \"behavior\", \"one\", \"important\", \"many\", \"problem\", \"day\", \"lot\", \"work\", \"different\", \"world\", \"own\", \"more\", \"idea\", \"leader\", \"year\", \"new\", \"woman\", \"kid\", \"child\", \"young\", \"firm\", \"student\", \"class\", \"school\", \"gift\", \"path\", \"parent\", \"college\", \"mentor\", \"inspiration\", \"cpa\", \"diversity\", \"female\", \"employer\", \"teacher\", \"girl\", \"pleasure\", \"daughter\", \"chinese\", \"rich\", \"annual\", \"remarkable\", \"diverse\", \"tax\", \"flight\", \"inclusion\", \"education\", \"mother\", \"proud\", \"man\", \"holiday\", \"family\", \"passion\", \"job\", \"advice\", \"career\", \"year\", \"old\", \"support\", \"talent\", \"first\", \"journey\", \"story\", \"program\", \"incredible\", \"team\", \"world\", \"work\", \"today\", \"community\", \"many\", \"leader\", \"more\", \"great\", \"part\", \"new\", \"people\", \"time\", \"day\", \"health\", \"bank\", \"healthcare\", \"patient\", \"ad\", \"digital_health\", \"payment\", \"study\", \"test\", \"medical\", \"banking\", \"disease\", \"hospital\", \"chicken\", \"coronavirus\", \"code\", \"law\", \"screen\", \"political\", \"treatment\", \"trade\", \"commerce\", \"cancer\", \"vaccine\", \"card\", \"drug\", \"doctor\", \"mask\", \"middle\", \"race\", \"care\", \"state\", \"country\", \"system\", \"issue\", \"asset\", \"datum\", \"news\", \"technology\", \"digital\", \"case\", \"pandemic\", \"government\", \"more\", \"many\", \"other\", \"new\", \"number\", \"bad\", \"such\", \"big\", \"app\", \"feature\", \"reminder\", \"grateful\", \"today_column\", \"remote\", \"letter\", \"active\", \"read\", \"networking\", \"blockchain\", \"favourite\", \"cloud\", \"watch\", \"thankful\", \"tune\", \"traction\", \"invitation\", \"privacy\", \"recommendation\", \"reward\", \"excuse\", \"kindness\", \"son\", \"pr\", \"evening\", \"compelling\", \"reporting\", \"sister\", \"audio\", \"video\", \"review\", \"awesome\", \"great\", \"online\", \"game\", \"user\", \"session\", \"amazing\", \"thank\", \"minute\", \"piece\", \"article\", \"team\", \"curious\", \"internet\", \"comment\", \"new\", \"favorite\", \"wonderful\", \"good\", \"idea\", \"phone\", \"fun\", \"post\", \"event\", \"story\", \"time\", \"year\", \"week\", \"late\", \"book\", \"conversation\", \"podcast\", \"distraction\", \"show\", \"truth\", \"discussion\", \"newsletter\", \"author\", \"capital\", \"launch\", \"host\", \"focused\", \"panel\", \"technique\", \"co_founder\", \"livestream\", \"tonight\", \"quote\", \"writer\", \"interaction\", \"loan\", \"uber\", \"\\u200d\", \"listen\", \"objective\", \"wealth\", \"scene\", \"clip\", \"oil\", \"interview\", \"tomorrow\", \"pm\", \"feedback\", \"upcoming\", \"event\", \"series\", \"deal\", \"question\", \"topic\", \"today\", \"art\", \"answer\", \"tv\", \"excited\", \"new\", \"interesting\", \"business\", \"great\", \"sure\", \"link\", \"more\", \"thank\", \"part\", \"brand\", \"marketing\", \"personal_brand\", \"late_article\", \"\\u202c\", \"city\", \"\\ud83d\\udc47\", \"follower\", \"journalist\", \"creator\", \"marketer\", \"calendar\", \"personal_branding\", \"lead\", \"new_episode\", \"uncomfortable\", \"pro\", \"odd\", \"retailer\", \"personality\", \"buyer\", \"presence\", \"proof\", \"shopping\", \"planning\", \"weird\", \"african\", \"terrible\", \"while\", \"branding\", \"social_medium\", \"content\", \"audience\", \"money\", \"building\", \"car\", \"trust\", \"community\", \"medium\", \"customer\", \"relationship\", \"value\", \"language\", \"story\", \"sale\", \"social\", \"experience\", \"service\", \"people\", \"way\", \"platform\", \"today\", \"digital\", \"free\", \"tip\", \"email\", \"ready\", \"\\ud83c\\udf57\", \"profile\", \"door\", \"webinar\", \"cool\", \"boss\", \"\\u2764\", \"request\", \"okay\", \"original\", \"entrepreneurship\", \"candidate\", \"competitor\", \"authentic\", \"direction\", \"e\", \"visual\", \"inbox\", \"speech\", \"intention\", \"next_year\", \"opening\", \"intentional\", \"motivation\", \"epic\", \"genius\", \"next\", \"voice\", \"task\", \"message\", \"goal\", \"time\", \"link\", \"week\", \"strategy\", \"call\", \"connection\", \"list\", \"project\", \"morning\", \"few\", \"more\", \"hour\", \"step\", \"day\", \"tool\", \"first\", \"video\", \"work\", \"good\", \"live\", \"energy\", \"productivity\", \"progress\", \"link_comment\", \"empathy\", \"stress\", \"clarity\", \"face\", \"finance\", \"war\", \"box\", \"busy\", \"break\", \"pitch\", \"sleep\", \"am\", \"computer\", \"robot\", \"ideal\", \"act\", \"dog\", \"inner\", \"win\", \"radical\", \"smile\", \"meditation\", \"chapter\", \"resolution\", \"profession\", \"possibility\", \"exercise\", \"hour\", \"emotion\", \"day\", \"essential\", \"body\", \"healthy\", \"negative\", \"today\", \"week\", \"food\", \"month\", \"office\", \"much\", \"world\", \"other\", \"well\", \"lesson\", \"human\", \"high\", \"brain\", \"crazy\", \"advertising\", \"movie\", \"happiness\", \"fit\", \"artificial_intelligence\", \"house\", \"medicine\", \"lockdown\", \"mobile\", \"fire\", \"camera\", \"tactic\", \"late_episode\", \"dead\", \"round\", \"mom\", \"brother\", \"forum\", \"confident\", \"column\", \"star\", \"surprised\", \"funny\", \"technical\", \"product_service\", \"practical\", \"master\", \"opposite\", \"play\", \"rule\", \"decision\", \"machine\", \"easy\", \"difficult\", \"choice\", \"control\", \"home\", \"solution\", \"hard\", \"future\", \"human\", \"smart\", \"time\", \"question\", \"key\", \"happy\", \"good\", \"way\", \"work\", \"research\", \"right\", \"skill\"], \"Freq\": [2438.0, 4684.0, 2388.0, 2126.0, 3540.0, 1626.0, 1176.0, 1131.0, 1976.0, 954.0, 2175.0, 2543.0, 2347.0, 1085.0, 3029.0, 3500.0, 980.0, 2017.0, 2702.0, 762.0, 736.0, 2794.0, 1304.0, 660.0, 648.0, 886.0, 738.0, 1386.0, 836.0, 1279.0, 2387.989384522586, 885.5822609119133, 835.3327111566715, 711.497164993553, 614.7203065282133, 516.5372319917576, 413.428608529931, 384.45892661406276, 324.93314039802044, 323.7932785769471, 308.59553635101094, 202.63926303691835, 182.9289808073997, 172.40913927892922, 162.95260168802716, 158.96185269441935, 154.3412485021245, 153.09941786522936, 153.19619884145771, 150.19103100842761, 139.3447483984871, 136.04590549959178, 131.7044016593173, 126.11842585389509, 118.97863113649476, 115.87435254026481, 114.70616755316021, 108.00293021481542, 107.4793986372487, 102.89581367630896, 602.0975207166944, 498.5181719244425, 257.1648116917712, 421.2108284594459, 1528.6962230725676, 343.32000881082257, 422.3373888223448, 425.6799287722286, 862.4780886022265, 265.0692099845583, 325.49895354553774, 291.4735526299032, 271.4851723985729, 286.49604403695884, 891.2753933727508, 329.7413059867931, 237.98565316538622, 689.0961549005166, 326.5456780688439, 525.0022149566493, 408.22210355012635, 438.8364525245876, 319.7539697793115, 300.3188868631633, 2437.6989423210216, 2125.4426133725733, 363.3806117763466, 314.0863514716015, 310.2320607188229, 280.0191581228816, 253.34596068316444, 228.43791463423386, 212.2710435628043, 211.04621355103913, 145.22964352308858, 139.9637621827307, 127.87127096903293, 118.02238857684767, 112.67511628944332, 110.50923464049747, 104.47304143280381, 93.29671051389776, 92.85787174842508, 92.28650677488636, 87.89350985549132, 85.46855076313142, 85.09664482390848, 80.27302965095605, 77.10860530865503, 74.6804486210054, 72.00302395064575, 71.53161830090794, 67.23423407680903, 66.55842526697889, 199.8507167581069, 629.8602978749293, 575.7483711063335, 2629.6515199226164, 270.6620619467162, 511.15600076335585, 1695.8384505694276, 381.0582054552414, 773.6957241926494, 1650.6805785205997, 312.1696327509003, 488.9200675683795, 492.26699778064705, 1533.62784265913, 330.9411323140912, 1986.6169193450194, 491.00613408725945, 221.8429367252297, 480.01633393752445, 558.7703088487305, 880.4829579158871, 409.04232504109564, 746.0323621531904, 473.4600423353933, 593.7358491944575, 380.7610063727057, 640.9454349519889, 414.7108276199894, 668.4586216331994, 424.052008044651, 400.582315208353, 478.22226630514433, 458.7478998413861, 1084.3867228247727, 459.5897298795149, 395.3822091550197, 377.0828816610421, 360.18010053054553, 340.1130980373905, 329.5940087776198, 284.09579946657783, 222.75690687339804, 212.0009766852762, 207.7723907252348, 190.1277759077591, 173.46177846447662, 145.3922589540102, 143.5820766865146, 142.91348875840973, 140.3211979399588, 134.96342751902296, 126.27996993624734, 126.06680394214942, 123.21091768792489, 121.90328970662209, 114.90977365901071, 110.94409624109917, 110.78401567743262, 107.40341136877824, 105.6512487177213, 104.25543504079356, 101.38455160868138, 99.60858809286988, 257.1675995380447, 141.65923241322315, 346.99455883525803, 210.72987999759138, 186.4142113535438, 360.02200051021833, 180.80822046622606, 736.892860999902, 314.8379534553544, 559.9029907132392, 1345.5717114238728, 406.0670229545628, 290.5983468341203, 203.35836637784652, 646.9305378619683, 300.61426360341886, 606.6410201547224, 220.19435854971974, 243.27029864914522, 501.73372304604834, 555.5177243130676, 414.6512244058224, 456.0539677449739, 325.4893613273584, 438.3278072037624, 333.07429280220384, 461.47974063663696, 392.123127780165, 323.69867539111675, 434.1269030575625, 399.1571018633909, 384.14325535664125, 326.8569894684392, 678.874024135313, 551.5980474544818, 482.91126352247244, 435.4214038161598, 410.0643838184834, 368.85252340386694, 360.2480100262388, 316.38013186690324, 277.7001594586853, 241.71502267494648, 227.79974222310628, 208.63807770438584, 201.9302387356831, 197.6522022169166, 185.09222343402226, 183.48789686545422, 176.62060935515623, 163.02355897505154, 157.00343068571735, 156.4899958845511, 152.56367122564006, 150.39936120403559, 140.01561117202417, 134.9464225252887, 131.36474596557815, 130.2823066548115, 128.91258222997726, 123.63202749429404, 122.25795109308109, 121.06745592659883, 320.00222276002046, 301.7253653383242, 443.4072148634804, 447.7708694099997, 451.4364144592203, 194.68693171856998, 526.435488632483, 438.66019274952663, 618.061343233827, 396.0403039571745, 261.7683830975218, 298.0613073966099, 200.8252085123574, 475.60834098973885, 355.1794446525023, 335.2405259002285, 318.2560742476525, 223.68813052967786, 225.4739060832433, 213.2419875900857, 208.8034528067783, 439.21344167209, 200.45969246431372, 171.77352206944488, 160.29772004435392, 146.39755546540925, 129.1372998742604, 126.27749757184746, 126.07936518244509, 120.35873509347687, 111.09219479019401, 101.24986358494148, 98.42433015908402, 90.79494946751855, 89.57050664638606, 89.40864983632132, 84.56387173592442, 84.4499323323673, 82.88584031018824, 80.60824740761437, 79.32186977083425, 78.49743954105554, 76.08102264490913, 74.87095135693704, 72.03775262155511, 72.00658233017796, 71.20761951953155, 71.14839965470682, 70.69035498951334, 65.98800852114663, 64.07359931180706, 1363.7043349322214, 143.66939876757243, 222.4701086441643, 1016.575208285852, 238.2003418949281, 290.53453073639037, 236.69392782256838, 193.3368271632312, 342.81356476167855, 405.7221919550256, 256.123473386725, 250.2297578052125, 377.2105751918689, 540.7425984453546, 137.63446147776605, 175.51068138751575, 298.45404228681934, 797.1768451702977, 203.29317154787844, 167.8860518598904, 588.5807401930725, 327.4930382473264, 186.942409727237, 185.77657443147731, 217.949376155166, 236.03643755806362, 275.5857459124317, 348.5341432075605, 285.57227936981633, 234.15587670300533, 194.9332477574374, 1130.899326914553, 761.491175347347, 735.3492156065821, 518.5339259726484, 321.09856333128107, 282.3031172984826, 245.32623097037768, 237.38295862100125, 167.5252659695995, 165.09463997405703, 162.57049929558494, 145.07472632632692, 142.68630884884968, 139.80711753142293, 114.32168562182025, 110.9390080003038, 110.19464795055276, 100.30571264453212, 99.67883059345684, 97.26414686926466, 91.52716081595068, 79.20191705004669, 77.96537145653251, 77.0087282282555, 72.98006064545858, 72.58437717804894, 72.21928775641933, 70.68958546741743, 69.86130746874281, 68.98329899481399, 467.28799380429507, 301.81494591000273, 225.4926622260517, 238.21998490543027, 123.10456524946682, 457.78953719909833, 274.6146931365594, 142.3408406842666, 606.1476869611333, 249.62394220675412, 768.1266395798881, 157.751983429041, 189.25355512638458, 155.18222617986262, 245.8212684410371, 600.9652224437183, 209.98585159354099, 371.70948545690464, 316.78981513781594, 200.58755466094223, 187.19944051969136, 191.299413404713, 168.6684751256151, 169.30916050286845, 1175.9508293842562, 659.85809890125, 303.0850104220664, 263.60052371745456, 236.64664714949419, 216.87688406204146, 174.8209919294987, 172.04886851586053, 169.89334053026474, 168.7515555230656, 157.26406830909306, 154.93515747203034, 154.891790459059, 149.82766218959992, 101.30507249971184, 94.07241608081436, 90.15962236545131, 85.0632173374841, 84.90336715247484, 82.62478846258855, 81.616292409959, 79.82653692063761, 79.5466109459474, 77.33064746355852, 74.27946427948402, 73.532590311656, 72.97903609320313, 72.31634013876544, 70.46283343636782, 70.28893228235556, 446.4829946361207, 804.9697475309495, 301.0825733882859, 428.4413800354431, 176.10528883656036, 177.96095394955773, 240.00631264849642, 492.53254278113366, 295.2588123883417, 361.69684905931, 243.64618812358358, 405.7663962807241, 128.74633806119388, 446.5957999900972, 212.01857160332452, 204.51698716374673, 287.67943996675444, 227.77822079748395, 401.77259826755653, 320.7503515749004, 206.42364472716326, 215.0060248744274, 170.13024029365724, 953.6513493807901, 648.0979425502189, 504.50569023736983, 400.7036231480157, 270.0893913051091, 251.3432169598865, 200.93282641470265, 191.0416347615391, 187.90264531605945, 137.7768647691126, 122.4475577125622, 121.4956499913379, 120.42484372537825, 119.16727444851008, 116.37891355396067, 105.55967532587927, 102.44139132902909, 99.9866250044004, 99.48384432031, 92.6129471612892, 91.59795263231034, 91.40386025905514, 91.22788091182154, 88.78404755269335, 88.63078922873453, 87.32580304935118, 84.67489484458886, 79.60409586436423, 73.42534160939675, 72.35509183205973, 657.7781842967299, 411.15982720075044, 226.23397525601678, 322.9367269661045, 371.36307269692986, 1452.4998034263933, 302.4694826129444, 502.70489305457204, 338.1515873869005, 155.13796607842087, 202.68230448818028, 255.72742434939073, 204.50840154396738, 218.0802632387114, 303.7011412366276, 607.5162947764262, 232.30229366518068, 170.45433816771867, 400.84480838344234, 209.24140514381514, 305.83010383205226, 262.4499154937841, 228.17002631989763, 224.12280672362274, 344.8887340887389, 320.0227738674602, 243.79641404524992, 240.15869092694933, 207.35105563710354, 191.6188357908961, 189.77883352233604, 170.70235969832947, 167.84733267389552, 152.69779718545612, 143.72894145310448, 136.1799937338529, 127.00167739955063, 116.55436420157511, 115.4578059170325, 114.97374812493155, 114.66822620193123, 113.96647066561572, 103.43781085378029, 102.98417505814703, 100.09527778128984, 97.19408279908087, 94.57422683081569, 93.16253662396485, 90.64288632923426, 88.9586227684388, 86.8642745624618, 83.39765583827727, 82.68300318015417, 82.02722868680486, 122.15302991507127, 117.76215613337183, 319.13499297901535, 141.6613929635073, 700.8043590801923, 135.588633950821, 132.99330249453877, 165.29503029566806, 135.4440263421877, 331.633045224472, 248.60981842026203, 141.52475179293208, 186.3439709796338, 150.8671277666599, 197.39032680381698, 204.3197486119511, 205.77743919778283, 168.05578780308156, 139.40668474225146, 137.46741137420088, 133.90272682877568, 306.34366513046524, 220.4789517051692, 215.26784506011, 172.97598097062618, 168.18974360315542, 153.4822767691452, 144.47685079720165, 134.15858704584517, 130.3923559664225, 125.34097244985958, 122.9011743220844, 114.41153606152126, 111.31674072377794, 102.61137551344761, 100.30766724693966, 94.95257379890886, 93.99872454289451, 93.35393810157329, 93.27131375888631, 91.27551714938863, 90.93109652646658, 88.96352630335252, 86.82025488310418, 83.91109523329818, 82.23087123519021, 81.7395053340516, 80.54234163440042, 77.97246844425094, 76.51749722573577, 73.40851386955124, 117.2975344187482, 247.2736663017805, 322.2184749243523, 153.68989956882507, 429.6187700026717, 169.92629950247397, 206.60107816688586, 195.7133367098206, 335.9132913679079, 283.50596297605625, 306.44367770995177, 407.7764738966282, 240.68985016622304, 174.87639265452242, 512.0625651186714, 254.21249946673075, 189.60767694099096, 160.88919367109824, 203.19915395935658, 194.03628415112885, 176.52641603082068, 141.6453827794116, 142.10566166732468, 137.3030433260269], \"Total\": [2438.0, 4684.0, 2388.0, 2126.0, 3540.0, 1626.0, 1176.0, 1131.0, 1976.0, 954.0, 2175.0, 2543.0, 2347.0, 1085.0, 3029.0, 3500.0, 980.0, 2017.0, 2702.0, 762.0, 736.0, 2794.0, 1304.0, 660.0, 648.0, 886.0, 738.0, 1386.0, 836.0, 1279.0, 2388.881809258089, 886.4746125273717, 836.2251355974984, 712.3896040345944, 615.6127000989896, 517.4297161413871, 414.3209919537421, 385.35129654107755, 325.8255486241373, 324.6856701822286, 309.48795198619115, 203.5317642761834, 183.82135985900345, 173.3015791310319, 163.84493184201287, 159.85421626874844, 155.2336168102269, 153.99182874991632, 154.0894252458993, 151.0834366391958, 140.23719384384356, 136.9382408818214, 132.59680806725055, 127.01077937352787, 119.87109714635908, 116.76677558891463, 115.59856122915909, 108.89541485627026, 108.37194186707124, 103.78821744743435, 676.7086346452382, 570.2352255160835, 280.6050259980192, 487.9770161005713, 2347.540127175889, 415.885174214129, 532.7878023625146, 585.9685567386231, 1522.606003435805, 344.6095467259203, 460.6041693527942, 400.4870128386154, 396.73664468850956, 447.0577193680305, 3500.943397368509, 594.3610727894174, 336.0751435303077, 3335.926242780169, 689.0421591561773, 2182.2360301940007, 1251.7535705095834, 2702.6817233414736, 972.5706134988932, 1192.5979914004565, 2438.600965420208, 2126.344630076632, 364.2826267953082, 314.98834794879343, 311.13407436733536, 280.92115673834326, 254.247984093303, 229.33989981404594, 213.17306894409595, 211.94824035106413, 146.13167067715298, 140.86587788836272, 128.77327831766254, 118.92444613758992, 113.57725841394151, 111.4112720088971, 105.37508232913993, 94.19880428567156, 93.75995944246124, 93.18860056138384, 88.79553114666344, 86.37091281508704, 85.99871578381693, 81.17510486151846, 78.01085147148427, 75.58257511824999, 72.90504223989399, 72.4338753476657, 68.136237250332, 67.46061067442281, 202.95349513470416, 706.2301684696309, 673.9061019766518, 3540.9210622623364, 306.78907528720066, 651.3278488103647, 2543.3779516489712, 470.929570084964, 1099.8679581256638, 2794.1806407580625, 402.6978955951478, 715.1765976603845, 729.2100811827895, 3029.8631083957516, 446.7366445050777, 4684.363040126155, 802.6739614899498, 277.1133346059574, 830.8124193706782, 1039.7167223271958, 2062.6517820759336, 672.7599648179222, 2175.1477786740884, 956.3578140489628, 1507.6792613152074, 656.1098312983586, 2182.2360301940007, 816.4899411037828, 3335.926242780169, 1014.1325655422174, 974.5458730260852, 2702.6817233414736, 3500.943397368509, 1085.279249650078, 460.48230966896784, 396.27476050099716, 377.9754546295244, 361.07270006041307, 341.00561017057, 330.48661430665265, 284.98832503900076, 223.64949442208717, 212.89369297242638, 208.66494738452215, 191.0203268058482, 174.35433428623392, 146.28492158489632, 144.47473111002378, 143.80603789870798, 141.21370635828765, 135.8560145963373, 127.1724870927379, 126.95934570794485, 124.10353254347362, 122.79587208953741, 115.80241899499062, 111.83670215932541, 111.67661616034371, 108.29596877040113, 106.54386008682455, 105.1480594363305, 102.27716513054088, 100.50135830857405, 275.63560939960445, 147.21832663178336, 404.0232658077544, 237.22031992211464, 207.42302323102885, 461.03772624587145, 201.17963020947437, 1108.3125608446626, 395.2914244526248, 842.2819540878407, 2702.6817233414736, 570.5891474184539, 373.6488005880399, 252.03033096646868, 1455.8727813485193, 455.74947408446855, 1386.608150646104, 285.1666672743875, 348.8949048114572, 1304.4786902100132, 2182.2360301940007, 1507.6792613152074, 2017.7964339181801, 818.8217648887614, 2062.6517820759336, 974.5458730260852, 3335.926242780169, 1976.2452655290667, 980.5531940899738, 3500.943397368509, 3540.9210622623364, 4684.363040126155, 2175.1477786740884, 679.7441431036273, 552.4681700323636, 483.78133422679736, 436.291465810308, 410.9346148762229, 369.72259609071557, 361.1181442832113, 317.25026111044656, 278.57030085672443, 242.58507879230066, 228.66986317713048, 209.50816526599792, 202.80030474834592, 198.5233879912322, 185.9623369786364, 184.35812188069374, 177.49077173105715, 163.89379335186948, 157.87355049481204, 157.36009314600744, 153.4338196911826, 151.26966290729328, 140.88571251290944, 135.81646004395742, 132.2349348518115, 131.15239695007313, 129.78264281322186, 124.50217263136469, 123.12836977149217, 121.93772584545708, 361.0638922322296, 341.1188709956538, 556.565397858436, 595.1606475790916, 657.8898014613892, 224.562406049456, 906.1396222284366, 701.3844769996089, 1251.7535705095834, 715.9094368009272, 375.6129334256167, 519.5867501025534, 272.3017305948575, 3335.926242780169, 2062.6517820759336, 2794.1806407580625, 3500.943397368509, 548.0879909975663, 715.1765976603845, 456.231078084658, 1522.606003435805, 440.1057938833573, 201.35208193958692, 172.66592363890024, 161.19013010491136, 147.2901286498301, 130.02967634959737, 127.16987266797572, 126.97190916047856, 121.25105517661432, 111.98457847714529, 102.14227889452471, 99.3167369253219, 91.68737067713886, 90.46297553980533, 90.301144947652, 85.45635443694117, 85.34254986884348, 83.77819863525605, 81.50064925153268, 80.21422988710847, 79.38995929778855, 76.97357170701899, 75.76355793373884, 72.93027123885545, 72.89894342204896, 72.10000742259251, 72.04085348515187, 71.58283537685155, 66.88051498430752, 64.9660341112698, 1626.9515549697355, 166.97529811293066, 294.021829689966, 1976.2452655290667, 340.9783087641509, 473.3685055057519, 360.02122770909506, 276.8933202516812, 614.0874953099976, 776.5989728315005, 420.9112612177679, 407.5508551242523, 758.3516990061537, 1304.4786902100132, 176.17980091902407, 253.77128384705702, 570.9756050938701, 3500.943397368509, 354.1934062335196, 265.2388903733249, 3029.8631083957516, 1014.1325655422174, 334.62659093851147, 376.5178152087093, 609.9890990463481, 786.7003913303818, 1386.608150646104, 4684.363040126155, 2702.6817233414736, 1196.6308758804546, 570.1231587759387, 1131.7925107639992, 762.384402389662, 736.2424322320327, 519.4272351847819, 321.9917529873783, 283.19636268052164, 246.21941899024287, 238.2762328594504, 168.41846225625278, 165.9879199403171, 163.46372395700388, 145.9679800114862, 143.57962474963807, 140.7003524345504, 115.21497385771872, 111.83229042985481, 111.08784655014405, 101.19889235341569, 100.57206539034318, 98.15735214792333, 92.42043811803032, 80.09516338594113, 78.85865473350314, 77.90225747028643, 73.87324925945511, 73.4777452846787, 73.112514806286, 71.58283309434397, 70.75453883643887, 69.8765798716766, 540.8718406550374, 375.2228687889169, 269.76214845631466, 309.2705907380777, 141.48005493699145, 786.7003913303818, 405.20909588884246, 177.35257985188514, 1279.5050613633637, 393.9114615854715, 2017.7964339181801, 211.24874682304298, 289.72540510768613, 218.2173896571756, 532.77767721447, 3500.943397368509, 531.9777764148763, 2347.540127175889, 1976.2452655290667, 559.3724649746381, 526.9741748721644, 3335.926242780169, 776.5989728315005, 980.5531940899738, 1176.8475902579714, 660.7548633961882, 303.98186635620414, 264.497443184276, 237.54340106794993, 217.77369705503656, 175.71797031194566, 172.94564633611517, 170.7902013481409, 169.64839584029644, 158.16080693872146, 155.83202459781884, 155.78863887841783, 150.72446775593002, 102.20185349809157, 94.96934146600366, 91.05642114934352, 85.96001537662299, 85.80014270853373, 83.5217102184356, 82.51300794798767, 80.72336716313507, 80.44346247735693, 78.22741243369673, 75.17629374681546, 74.42951115603917, 73.8759427370805, 73.21317426285381, 71.35967698538887, 71.18571871888003, 503.67219565665926, 980.5903557960988, 401.34229417454986, 642.5007760088941, 217.88375081701588, 221.15726533934506, 325.69979955027753, 818.8217648887614, 440.6647291188713, 689.0421591561773, 419.8046717204579, 930.3508309304037, 165.03586758001782, 1386.608150646104, 388.6108514955682, 413.3496481027924, 823.8535712928332, 560.7345464848001, 3540.9210622623364, 2543.3779516489712, 493.146843645984, 2017.7964339181801, 715.9094368009272, 954.545762217541, 648.9923323346767, 505.40006694248336, 401.5980397977787, 270.9840740245214, 252.2376595786463, 201.82728743444324, 191.93601846770625, 188.7971053070994, 138.67131571387557, 123.34211800989338, 122.39007351964507, 121.31940482805018, 120.0617580154356, 117.27340779892336, 106.45408382127474, 103.33597756774738, 100.88115599181404, 100.37831773727927, 93.50753196923209, 92.49240163394641, 92.2982463846348, 92.12233989842012, 89.67858106827548, 89.52525232434014, 88.22021253548132, 85.56949911407652, 80.49861790421151, 74.31992680896967, 73.24950021840031, 738.1262030158447, 495.5428242251461, 327.41701799872254, 539.1618021317398, 660.9007320597046, 4684.363040126155, 526.9741748721644, 1196.6308758804546, 668.5748539226663, 224.77222339836354, 357.0401157506873, 543.0646033953456, 369.3637059894441, 434.3819615897621, 828.8721352819402, 3335.926242780169, 552.2310440133753, 274.4449691843397, 2175.1477786740884, 470.9753392250595, 1455.8727813485193, 1626.9515549697355, 1507.6792613152074, 3029.8631083957516, 345.7776117276774, 320.91163402173345, 244.68525817684716, 241.04757232003365, 208.2401816134209, 192.50768879541366, 190.6676475164246, 171.59153498313273, 168.7362011801056, 153.58668013918268, 144.61778090450926, 137.06885770088013, 127.89054607394655, 117.44324954149548, 116.34677880762204, 115.86253314419714, 115.5571161401337, 114.85532410177724, 104.32664024677118, 103.87314244907923, 100.98414979242321, 98.08298121422423, 95.46312821334519, 94.05142584641955, 91.5318020032385, 89.84751483987354, 87.75305926588591, 84.28656468909907, 83.57183998741816, 82.91610290640658, 142.10677469695187, 135.16631949035352, 552.2310440133753, 179.88656652462515, 2175.1477786740884, 180.38843409697816, 174.67530730820286, 275.4735808026926, 203.56595861272825, 2017.7964339181801, 1196.6308758804546, 250.78350423901082, 565.0154504855717, 307.0491038012574, 759.2212185865415, 2182.2360301940007, 2794.1806407580625, 1099.8679581256638, 349.0102379780312, 595.732190274023, 684.37320136086, 307.226760865041, 221.36209263917888, 216.15097113217502, 173.85907560377217, 169.07284775499284, 154.3669735529752, 145.3598736972401, 135.04170519362296, 131.27540085806427, 126.22407425814404, 123.78431201152904, 115.29469381403693, 112.19986773304312, 103.49457504379733, 101.19074409086902, 95.83565949344589, 94.88183717350263, 94.23707868025907, 94.15458503088574, 92.15851557392595, 91.8142832915436, 89.84665623386395, 87.70343999439977, 84.79430256819644, 83.11400166131655, 82.62259314169361, 81.4255249037391, 78.85553980501528, 77.40064240201951, 74.29162345811267, 119.31510707282565, 273.00906418441144, 410.144167867902, 185.32597654991213, 735.0026241854155, 221.87187686883453, 298.81019301263876, 283.3890494272099, 632.3955674102865, 500.77114298913943, 570.4834698756607, 1192.5979914004565, 595.732190274023, 325.37280289526547, 4684.363040126155, 1279.5050613633637, 604.183691194947, 509.6639682124586, 3029.8631083957516, 2543.3779516489712, 1507.6792613152074, 420.96161584151497, 828.3136833145766, 462.79813772676147], \"Category\": [\"Default\", \"Default\", \"Default\", \"Default\", \"Default\", \"Default\", \"Default\", \"Default\", \"Default\", \"Default\", \"Default\", \"Default\", \"Default\", \"Default\", \"Default\", \"Default\", \"Default\", \"Default\", \"Default\", \"Default\", \"Default\", \"Default\", \"Default\", \"Default\", \"Default\", \"Default\", \"Default\", \"Default\", \"Default\", \"Default\", \"Topic1\", \"Topic1\", \"Topic1\", \"Topic1\", \"Topic1\", \"Topic1\", \"Topic1\", \"Topic1\", \"Topic1\", \"Topic1\", \"Topic1\", \"Topic1\", \"Topic1\", \"Topic1\", \"Topic1\", \"Topic1\", \"Topic1\", \"Topic1\", \"Topic1\", \"Topic1\", \"Topic1\", \"Topic1\", \"Topic1\", \"Topic1\", \"Topic1\", \"Topic1\", \"Topic1\", \"Topic1\", \"Topic1\", \"Topic1\", \"Topic1\", \"Topic1\", \"Topic1\", \"Topic1\", \"Topic1\", \"Topic1\", \"Topic1\", \"Topic1\", \"Topic1\", \"Topic1\", \"Topic1\", \"Topic1\", \"Topic1\", \"Topic1\", \"Topic1\", \"Topic1\", \"Topic1\", \"Topic1\", \"Topic1\", \"Topic1\", \"Topic1\", \"Topic1\", \"Topic1\", \"Topic1\", \"Topic2\", \"Topic2\", \"Topic2\", \"Topic2\", \"Topic2\", \"Topic2\", \"Topic2\", \"Topic2\", \"Topic2\", \"Topic2\", \"Topic2\", \"Topic2\", \"Topic2\", \"Topic2\", \"Topic2\", \"Topic2\", \"Topic2\", \"Topic2\", \"Topic2\", \"Topic2\", \"Topic2\", \"Topic2\", \"Topic2\", \"Topic2\", \"Topic2\", \"Topic2\", \"Topic2\", \"Topic2\", \"Topic2\", \"Topic2\", \"Topic2\", \"Topic2\", \"Topic2\", \"Topic2\", \"Topic2\", \"Topic2\", \"Topic2\", \"Topic2\", \"Topic2\", \"Topic2\", \"Topic2\", \"Topic2\", \"Topic2\", \"Topic2\", \"Topic2\", \"Topic2\", \"Topic2\", \"Topic2\", \"Topic2\", \"Topic2\", \"Topic2\", \"Topic2\", \"Topic2\", \"Topic2\", \"Topic2\", \"Topic2\", \"Topic2\", \"Topic2\", \"Topic2\", \"Topic2\", \"Topic2\", \"Topic2\", \"Topic2\", \"Topic3\", \"Topic3\", \"Topic3\", \"Topic3\", \"Topic3\", \"Topic3\", \"Topic3\", \"Topic3\", \"Topic3\", \"Topic3\", \"Topic3\", \"Topic3\", \"Topic3\", \"Topic3\", \"Topic3\", \"Topic3\", \"Topic3\", \"Topic3\", \"Topic3\", \"Topic3\", \"Topic3\", \"Topic3\", \"Topic3\", \"Topic3\", \"Topic3\", \"Topic3\", \"Topic3\", \"Topic3\", \"Topic3\", \"Topic3\", \"Topic3\", \"Topic3\", \"Topic3\", \"Topic3\", \"Topic3\", \"Topic3\", \"Topic3\", \"Topic3\", \"Topic3\", \"Topic3\", \"Topic3\", \"Topic3\", \"Topic3\", \"Topic3\", \"Topic3\", \"Topic3\", \"Topic3\", \"Topic3\", \"Topic3\", \"Topic3\", \"Topic3\", \"Topic3\", \"Topic3\", \"Topic3\", \"Topic3\", \"Topic3\", \"Topic3\", \"Topic3\", \"Topic3\", \"Topic3\", \"Topic3\", \"Topic3\", \"Topic3\", \"Topic4\", \"Topic4\", \"Topic4\", \"Topic4\", \"Topic4\", \"Topic4\", \"Topic4\", \"Topic4\", \"Topic4\", \"Topic4\", \"Topic4\", \"Topic4\", \"Topic4\", \"Topic4\", \"Topic4\", \"Topic4\", \"Topic4\", \"Topic4\", \"Topic4\", \"Topic4\", \"Topic4\", \"Topic4\", \"Topic4\", \"Topic4\", \"Topic4\", \"Topic4\", \"Topic4\", \"Topic4\", \"Topic4\", \"Topic4\", \"Topic4\", \"Topic4\", \"Topic4\", \"Topic4\", \"Topic4\", \"Topic4\", \"Topic4\", \"Topic4\", \"Topic4\", \"Topic4\", \"Topic4\", \"Topic4\", \"Topic4\", \"Topic4\", \"Topic4\", \"Topic4\", \"Topic4\", \"Topic4\", \"Topic4\", \"Topic4\", \"Topic4\", \"Topic5\", \"Topic5\", \"Topic5\", \"Topic5\", \"Topic5\", \"Topic5\", \"Topic5\", \"Topic5\", \"Topic5\", \"Topic5\", \"Topic5\", \"Topic5\", \"Topic5\", \"Topic5\", \"Topic5\", \"Topic5\", \"Topic5\", \"Topic5\", \"Topic5\", \"Topic5\", \"Topic5\", \"Topic5\", \"Topic5\", \"Topic5\", \"Topic5\", \"Topic5\", \"Topic5\", \"Topic5\", \"Topic5\", \"Topic5\", \"Topic5\", \"Topic5\", \"Topic5\", \"Topic5\", \"Topic5\", \"Topic5\", \"Topic5\", \"Topic5\", \"Topic5\", \"Topic5\", \"Topic5\", \"Topic5\", \"Topic5\", \"Topic5\", \"Topic5\", \"Topic5\", \"Topic5\", \"Topic5\", \"Topic5\", \"Topic5\", \"Topic5\", \"Topic5\", \"Topic5\", \"Topic5\", \"Topic5\", \"Topic5\", \"Topic5\", \"Topic5\", \"Topic5\", \"Topic5\", \"Topic5\", \"Topic6\", \"Topic6\", \"Topic6\", \"Topic6\", \"Topic6\", \"Topic6\", \"Topic6\", \"Topic6\", \"Topic6\", \"Topic6\", \"Topic6\", \"Topic6\", \"Topic6\", \"Topic6\", \"Topic6\", \"Topic6\", \"Topic6\", \"Topic6\", \"Topic6\", \"Topic6\", \"Topic6\", \"Topic6\", \"Topic6\", \"Topic6\", \"Topic6\", \"Topic6\", \"Topic6\", \"Topic6\", \"Topic6\", \"Topic6\", \"Topic6\", \"Topic6\", \"Topic6\", \"Topic6\", \"Topic6\", \"Topic6\", \"Topic6\", \"Topic6\", \"Topic6\", \"Topic6\", \"Topic6\", \"Topic6\", \"Topic6\", \"Topic6\", \"Topic6\", \"Topic6\", \"Topic6\", \"Topic6\", \"Topic6\", \"Topic6\", \"Topic6\", \"Topic6\", \"Topic6\", \"Topic6\", \"Topic7\", \"Topic7\", \"Topic7\", \"Topic7\", \"Topic7\", \"Topic7\", \"Topic7\", \"Topic7\", \"Topic7\", \"Topic7\", \"Topic7\", \"Topic7\", \"Topic7\", \"Topic7\", \"Topic7\", \"Topic7\", \"Topic7\", \"Topic7\", \"Topic7\", \"Topic7\", \"Topic7\", \"Topic7\", \"Topic7\", \"Topic7\", \"Topic7\", \"Topic7\", \"Topic7\", \"Topic7\", \"Topic7\", \"Topic7\", \"Topic7\", \"Topic7\", \"Topic7\", \"Topic7\", \"Topic7\", \"Topic7\", \"Topic7\", \"Topic7\", \"Topic7\", \"Topic7\", \"Topic7\", \"Topic7\", \"Topic7\", \"Topic7\", \"Topic7\", \"Topic7\", \"Topic7\", \"Topic7\", \"Topic7\", \"Topic7\", \"Topic7\", \"Topic7\", \"Topic7\", \"Topic8\", \"Topic8\", \"Topic8\", \"Topic8\", \"Topic8\", \"Topic8\", \"Topic8\", \"Topic8\", \"Topic8\", \"Topic8\", \"Topic8\", \"Topic8\", \"Topic8\", \"Topic8\", \"Topic8\", \"Topic8\", \"Topic8\", \"Topic8\", \"Topic8\", \"Topic8\", \"Topic8\", \"Topic8\", \"Topic8\", \"Topic8\", \"Topic8\", \"Topic8\", \"Topic8\", \"Topic8\", \"Topic8\", \"Topic8\", \"Topic8\", \"Topic8\", \"Topic8\", \"Topic8\", \"Topic8\", \"Topic8\", \"Topic8\", \"Topic8\", \"Topic8\", \"Topic8\", \"Topic8\", \"Topic8\", \"Topic8\", \"Topic8\", \"Topic8\", \"Topic8\", \"Topic8\", \"Topic8\", \"Topic8\", \"Topic8\", \"Topic8\", \"Topic8\", \"Topic8\", \"Topic8\", \"Topic9\", \"Topic9\", \"Topic9\", \"Topic9\", \"Topic9\", \"Topic9\", \"Topic9\", \"Topic9\", \"Topic9\", \"Topic9\", \"Topic9\", \"Topic9\", \"Topic9\", \"Topic9\", \"Topic9\", \"Topic9\", \"Topic9\", \"Topic9\", \"Topic9\", \"Topic9\", \"Topic9\", \"Topic9\", \"Topic9\", \"Topic9\", \"Topic9\", \"Topic9\", \"Topic9\", \"Topic9\", \"Topic9\", \"Topic9\", \"Topic9\", \"Topic9\", \"Topic9\", \"Topic9\", \"Topic9\", \"Topic9\", \"Topic9\", \"Topic9\", \"Topic9\", \"Topic9\", \"Topic9\", \"Topic9\", \"Topic9\", \"Topic9\", \"Topic9\", \"Topic9\", \"Topic9\", \"Topic9\", \"Topic9\", \"Topic9\", \"Topic9\", \"Topic10\", \"Topic10\", \"Topic10\", \"Topic10\", \"Topic10\", \"Topic10\", \"Topic10\", \"Topic10\", \"Topic10\", \"Topic10\", \"Topic10\", \"Topic10\", \"Topic10\", \"Topic10\", \"Topic10\", \"Topic10\", \"Topic10\", \"Topic10\", \"Topic10\", \"Topic10\", \"Topic10\", \"Topic10\", \"Topic10\", \"Topic10\", \"Topic10\", \"Topic10\", \"Topic10\", \"Topic10\", \"Topic10\", \"Topic10\", \"Topic10\", \"Topic10\", \"Topic10\", \"Topic10\", \"Topic10\", \"Topic10\", \"Topic10\", \"Topic10\", \"Topic10\", \"Topic10\", \"Topic10\", \"Topic10\", \"Topic10\", \"Topic10\", \"Topic10\", \"Topic10\", \"Topic10\", \"Topic10\", \"Topic10\", \"Topic10\", \"Topic10\", \"Topic10\", \"Topic10\", \"Topic10\"], \"logprob\": [30.0, 29.0, 28.0, 27.0, 26.0, 25.0, 24.0, 23.0, 22.0, 21.0, 20.0, 19.0, 18.0, 17.0, 16.0, 15.0, 14.0, 13.0, 12.0, 11.0, 10.0, 9.0, 8.0, 7.0, 6.0, 5.0, 4.0, 3.0, 2.0, 1.0, -3.193, -4.185, -4.2434, -4.4039, -4.5501, -4.7241, -4.9468, -5.0194, -5.1876, -5.1911, -5.2392, -5.6598, -5.7621, -5.8214, -5.8778, -5.9026, -5.9321, -5.9401, -5.9395, -5.9593, -6.0343, -6.0582, -6.0907, -6.134, -6.1923, -6.2187, -6.2289, -6.2891, -6.2939, -6.3375, -4.5708, -4.7596, -5.4215, -4.9281, -3.6391, -5.1326, -4.9254, -4.9175, -4.2114, -5.3912, -5.1859, -5.2963, -5.3673, -5.3135, -4.1786, -5.1729, -5.499, -4.4359, -5.1827, -4.7078, -4.9594, -4.8871, -5.2037, -5.2664, -3.1414, -3.2785, -5.0448, -5.1906, -5.2029, -5.3054, -5.4055, -5.509, -5.5824, -5.5882, -5.9619, -5.9989, -6.0892, -6.1694, -6.2157, -6.2351, -6.2913, -6.4045, -6.4092, -6.4153, -6.4641, -6.4921, -6.4964, -6.5548, -6.595, -6.627, -6.6635, -6.6701, -6.7321, -6.7422, -5.6427, -4.4947, -4.5846, -3.0656, -5.3394, -4.7036, -3.5043, -4.9973, -4.2891, -3.5313, -5.1967, -4.748, -4.7412, -3.6048, -5.1383, -3.346, -4.7438, -5.5383, -4.7664, -4.6145, -4.1598, -4.9264, -4.3255, -4.7802, -4.5538, -4.9981, -4.4773, -4.9127, -4.4353, -4.8904, -4.9473, -4.7702, -4.8117, -3.8143, -4.6727, -4.8232, -4.8706, -4.9164, -4.9738, -5.0052, -5.1537, -5.397, -5.4464, -5.4666, -5.5553, -5.6471, -5.8236, -5.8361, -5.8408, -5.8591, -5.898, -5.9645, -5.9662, -5.9891, -5.9998, -6.0589, -6.094, -6.0955, -6.1264, -6.1429, -6.1562, -6.1841, -6.2018, -5.2533, -5.8496, -4.9537, -5.4525, -5.5751, -4.9169, -5.6056, -4.2006, -5.051, -4.4753, -3.5985, -4.7965, -5.1311, -5.4881, -4.3308, -5.0972, -4.3951, -5.4085, -5.3089, -4.585, -4.4831, -4.7756, -4.6804, -5.0177, -4.7201, -4.9947, -4.6686, -4.8315, -5.0232, -4.7297, -4.8137, -4.852, -5.0135, -4.2367, -4.4443, -4.5773, -4.6808, -4.7408, -4.8467, -4.8703, -5.0002, -5.1306, -5.2694, -5.3287, -5.4165, -5.4492, -5.4706, -5.5363, -5.545, -5.5831, -5.6632, -5.7009, -5.7041, -5.7296, -5.7438, -5.8154, -5.8523, -5.8792, -5.8874, -5.898, -5.9398, -5.951, -5.9608, -4.9888, -5.0476, -4.6626, -4.6529, -4.6447, -5.4857, -4.491, -4.6734, -4.3305, -4.7756, -5.1897, -5.0598, -5.4547, -4.5925, -4.8845, -4.9423, -4.9943, -5.3469, -5.3389, -5.3947, -5.4157, -4.2787, -5.063, -5.2175, -5.2866, -5.3773, -5.5028, -5.5252, -5.5267, -5.5732, -5.6533, -5.7461, -5.7744, -5.855, -5.8686, -5.8704, -5.9261, -5.9275, -5.9462, -5.974, -5.9901, -6.0006, -6.0318, -6.0479, -6.0865, -6.0869, -6.098, -6.0989, -6.1053, -6.1742, -6.2036, -3.1457, -5.3961, -4.9589, -3.4395, -4.8905, -4.6919, -4.8969, -5.0992, -4.5265, -4.358, -4.818, -4.8413, -4.4308, -4.0707, -5.439, -5.1959, -4.665, -3.6826, -5.049, -5.2404, -3.9859, -4.5722, -5.1328, -5.1391, -4.9794, -4.8997, -4.7447, -4.5099, -4.7092, -4.9077, -5.091, -3.2987, -3.6942, -3.7291, -4.0785, -4.5577, -4.6865, -4.8269, -4.8598, -5.2084, -5.223, -5.2384, -5.3522, -5.3688, -5.3892, -5.5905, -5.6205, -5.6272, -5.7213, -5.7275, -5.7521, -5.8128, -5.9575, -5.9732, -5.9856, -6.0393, -6.0447, -6.0498, -6.0712, -6.083, -6.0956, -4.1825, -4.6197, -4.9112, -4.8563, -5.5165, -4.2031, -4.7141, -5.3713, -3.9224, -4.8095, -3.6855, -5.2685, -5.0864, -5.2849, -4.8249, -3.9309, -4.9824, -4.4114, -4.5712, -5.0282, -5.0973, -5.0756, -5.2015, -5.1978, -3.2555, -3.8333, -4.6113, -4.7509, -4.8587, -4.946, -5.1615, -5.1775, -5.1901, -5.1969, -5.2674, -5.2823, -5.2826, -5.3158, -5.7072, -5.7812, -5.8237, -5.8819, -5.8838, -5.911, -5.9233, -5.9454, -5.949, -5.9772, -6.0175, -6.0276, -6.0351, -6.0442, -6.0702, -6.0727, -4.2239, -3.6345, -4.6179, -4.2651, -5.1542, -5.1437, -4.8446, -4.1257, -4.6374, -4.4345, -4.8296, -4.3195, -5.4675, -4.2236, -4.9686, -5.0046, -4.6635, -4.8969, -4.3294, -4.5546, -4.9954, -4.9546, -5.1887, -3.4198, -3.8061, -4.0565, -4.2869, -4.6814, -4.7533, -4.9772, -5.0276, -5.0442, -5.3545, -5.4724, -5.4802, -5.4891, -5.4996, -5.5233, -5.6209, -5.6508, -5.6751, -5.6801, -5.7517, -5.7627, -5.7648, -5.7668, -5.7939, -5.7956, -5.8105, -5.8413, -5.9031, -5.9839, -5.9985, -3.7913, -4.2611, -4.8586, -4.5027, -4.3629, -2.9991, -4.5681, -4.0601, -4.4566, -5.2358, -4.9685, -4.736, -4.9595, -4.8953, -4.5641, -3.8707, -4.8321, -5.1417, -4.2866, -4.9366, -4.5571, -4.7101, -4.85, -4.8679, -4.3853, -4.4602, -4.7322, -4.7473, -4.8941, -4.973, -4.9827, -5.0886, -5.1055, -5.2001, -5.2606, -5.3146, -5.3844, -5.4702, -5.4797, -5.4839, -5.4865, -5.4927, -5.5896, -5.594, -5.6224, -5.6518, -5.6792, -5.6942, -5.7216, -5.7404, -5.7642, -5.8049, -5.8135, -5.8215, -5.4233, -5.4599, -4.4629, -5.2751, -3.6763, -5.3189, -5.3383, -5.1208, -5.32, -4.4245, -4.7127, -5.2761, -5.001, -5.2122, -4.9434, -4.9089, -4.9018, -5.1043, -5.2912, -5.3052, -5.3314, -4.3907, -4.7196, -4.7435, -4.9623, -4.9903, -5.0818, -5.1423, -5.2164, -5.2449, -5.2844, -5.304, -5.3756, -5.403, -5.4845, -5.5072, -5.562, -5.5721, -5.579, -5.5799, -5.6015, -5.6053, -5.6272, -5.6516, -5.6856, -5.7059, -5.7119, -5.7266, -5.759, -5.7779, -5.8194, -5.3507, -4.6049, -4.3402, -5.0805, -4.0525, -4.98, -4.7846, -4.8388, -4.2986, -4.4682, -4.3904, -4.1047, -4.6319, -4.9513, -3.877, -4.5772, -4.8704, -5.0347, -4.8012, -4.8474, -4.9419, -5.1621, -5.1588, -5.1932], \"loglift\": [30.0, 29.0, 28.0, 27.0, 26.0, 25.0, 24.0, 23.0, 22.0, 21.0, 20.0, 19.0, 18.0, 17.0, 16.0, 15.0, 14.0, 13.0, 12.0, 11.0, 10.0, 9.0, 8.0, 7.0, 6.0, 5.0, 4.0, 3.0, 2.0, 1.0, 1.8896, 1.8889, 1.8889, 1.8887, 1.8885, 1.8882, 1.8878, 1.8876, 1.8872, 1.8872, 1.887, 1.8855, 1.8851, 1.8848, 1.8845, 1.8843, 1.8842, 1.8841, 1.8841, 1.884, 1.8835, 1.8834, 1.8832, 1.8829, 1.8825, 1.8823, 1.8822, 1.8817, 1.8817, 1.8813, 1.7731, 1.7555, 1.8027, 1.7428, 1.461, 1.6982, 1.6576, 1.5704, 1.3216, 1.6275, 1.5428, 1.5722, 1.5106, 1.445, 0.5218, 1.3008, 1.5448, 0.3128, 1.1432, 0.4652, 0.7694, 0.0721, 0.7775, 0.5109, 1.9206, 1.9205, 1.9185, 1.9181, 1.918, 1.9177, 1.9174, 1.917, 1.9167, 1.9167, 1.9147, 1.9145, 1.9139, 1.9133, 1.913, 1.9128, 1.9123, 1.9113, 1.9113, 1.9112, 1.9107, 1.9104, 1.9104, 1.9098, 1.9093, 1.9089, 1.9085, 1.9084, 1.9076, 1.9075, 1.9055, 1.8065, 1.7635, 1.6234, 1.7956, 1.6786, 1.5156, 1.7092, 1.5692, 1.3946, 1.6663, 1.5406, 1.528, 1.24, 1.6209, 1.0631, 1.4294, 1.6985, 1.3723, 1.3, 1.0697, 1.4234, 0.8508, 1.2179, 0.989, 1.3768, 0.6958, 1.2435, 0.3134, 1.049, 1.0319, 0.189, -0.1114, 2.0573, 2.0562, 2.0559, 2.0558, 2.0557, 2.0555, 2.0554, 2.055, 2.0541, 2.0539, 2.0538, 2.0534, 2.053, 2.052, 2.0519, 2.0519, 2.0518, 2.0515, 2.0511, 2.0511, 2.0509, 2.0508, 2.0504, 2.0501, 2.0501, 2.0499, 2.0497, 2.0496, 2.0494, 2.0492, 1.9888, 2.0196, 1.906, 1.9397, 1.9513, 1.8108, 1.9514, 1.65, 1.8306, 1.6498, 1.3607, 1.718, 1.8068, 1.8436, 1.247, 1.642, 1.2315, 1.7996, 1.6975, 1.1026, 0.6899, 0.7672, 0.571, 1.1356, 0.5094, 0.9845, 0.0801, 0.4408, 0.9498, -0.0293, -0.1247, -0.4428, 0.1628, 2.1028, 2.1025, 2.1022, 2.102, 2.1019, 2.1017, 2.1016, 2.1013, 2.1009, 2.1004, 2.1002, 2.0999, 2.0997, 2.0996, 2.0993, 2.0993, 2.0991, 2.0987, 2.0985, 2.0985, 2.0983, 2.0983, 2.0978, 2.0976, 2.0974, 2.0974, 2.0973, 2.097, 2.0969, 2.0969, 1.9833, 1.9813, 1.8767, 1.8195, 1.7274, 1.9613, 1.561, 1.6347, 1.3983, 1.512, 1.7429, 1.5483, 1.7996, 0.1561, 0.3449, -0.0164, -0.2939, 1.2079, 0.9497, 1.3435, 0.1172, 2.4955, 2.4931, 2.4923, 2.492, 2.4914, 2.4906, 2.4905, 2.4905, 2.4901, 2.4895, 2.4887, 2.4885, 2.4877, 2.4876, 2.4876, 2.487, 2.487, 2.4868, 2.4865, 2.4863, 2.4862, 2.4859, 2.4857, 2.4852, 2.4852, 2.4851, 2.4851, 2.485, 2.4841, 2.4837, 2.321, 2.3472, 2.2187, 1.8328, 2.1388, 2.0094, 2.0781, 2.1383, 1.9146, 1.8483, 2.0008, 2.0097, 1.7992, 1.6169, 2.2506, 2.1288, 1.8488, 1.0178, 1.9423, 2.0402, 0.859, 1.3672, 1.9153, 1.7911, 1.4683, 1.2937, 0.8818, -0.1007, 0.25, 0.8662, 1.4243, 2.5309, 2.5305, 2.5305, 2.53, 2.5289, 2.5285, 2.528, 2.5279, 2.5264, 2.5263, 2.5262, 2.5255, 2.5254, 2.5253, 2.5239, 2.5237, 2.5236, 2.5228, 2.5228, 2.5225, 2.522, 2.5205, 2.5203, 2.5201, 2.5195, 2.5194, 2.5194, 2.5191, 2.519, 2.5188, 2.3854, 2.314, 2.3524, 2.2707, 2.3926, 1.9902, 2.1426, 2.3118, 1.7846, 2.0755, 1.5659, 2.2397, 2.1058, 2.1908, 1.7582, 0.7694, 1.6021, 0.6887, 0.701, 1.5061, 1.4967, -0.327, 1.0047, 0.7753, 2.5351, 2.5345, 2.5329, 2.5325, 2.5321, 2.5317, 2.5308, 2.5307, 2.5306, 2.5306, 2.5302, 2.5301, 2.5301, 2.5299, 2.5271, 2.5264, 2.526, 2.5254, 2.5254, 2.5251, 2.5249, 2.5247, 2.5247, 2.5243, 2.5239, 2.5237, 2.5237, 2.5235, 2.5232, 2.5232, 2.4153, 2.3385, 2.2484, 2.1307, 2.323, 2.3186, 2.2306, 2.0276, 2.1354, 1.8914, 1.9918, 1.7061, 2.2875, 1.4029, 1.93, 1.8322, 1.4837, 1.635, 0.3596, 0.4653, 1.665, 0.2968, 1.0989, 2.5801, 2.5797, 2.5793, 2.5788, 2.5777, 2.5775, 2.5766, 2.5764, 2.5763, 2.5746, 2.5738, 2.5737, 2.5736, 2.5736, 2.5734, 2.5726, 2.5723, 2.5721, 2.5721, 2.5714, 2.5713, 2.5713, 2.5713, 2.571, 2.571, 2.5709, 2.5705, 2.5699, 2.5689, 2.5688, 2.4658, 2.3944, 2.2114, 2.0685, 2.0046, 1.4101, 2.0259, 1.7138, 1.8994, 2.2103, 2.0148, 1.8279, 1.9899, 1.892, 1.577, 0.8779, 1.7151, 2.1048, 0.8898, 1.7697, 1.0207, 0.7566, 0.6928, -0.023, 2.63, 2.6298, 2.629, 2.6289, 2.6283, 2.628, 2.6279, 2.6274, 2.6273, 2.6268, 2.6264, 2.6261, 2.6256, 2.625, 2.6249, 2.6249, 2.6249, 2.6248, 2.6241, 2.624, 2.6238, 2.6235, 2.6233, 2.6231, 2.6229, 2.6227, 2.6224, 2.622, 2.6219, 2.6218, 2.4813, 2.4948, 2.0843, 2.3937, 1.5, 2.3471, 2.36, 2.1219, 2.2252, 0.8269, 1.0612, 2.0605, 1.5234, 1.922, 1.2855, 0.2642, 0.0241, 0.754, 1.7149, 1.1662, 1.0012, 2.7429, 2.7418, 2.7417, 2.7407, 2.7405, 2.74, 2.7397, 2.7392, 2.739, 2.7387, 2.7386, 2.7381, 2.7379, 2.7372, 2.737, 2.7365, 2.7364, 2.7363, 2.7363, 2.7361, 2.7361, 2.7359, 2.7356, 2.7353, 2.7351, 2.735, 2.7349, 2.7345, 2.7343, 2.7338, 2.7287, 2.6468, 2.5045, 2.5586, 2.2088, 2.479, 2.3767, 2.3756, 2.1131, 2.1768, 2.1243, 1.6726, 1.8395, 2.1249, 0.5322, 1.1297, 1.5868, 1.5927, 0.0437, 0.1726, 0.6009, 1.6565, 0.9829, 1.5307]}, \"token.table\": {\"Topic\": [2, 7, 9, 5, 4, 10, 3, 8, 7, 9, 3, 5, 3, 6, 7, 10, 2, 5, 6, 8, 1, 2, 4, 5, 10, 4, 9, 2, 2, 6, 7, 8, 5, 8, 6, 3, 5, 2, 4, 4, 4, 1, 2, 4, 2, 1, 2, 3, 4, 5, 4, 9, 6, 8, 9, 10, 7, 7, 9, 10, 2, 7, 1, 2, 6, 8, 9, 7, 7, 7, 8, 10, 4, 8, 6, 4, 7, 4, 3, 4, 2, 3, 2, 4, 8, 1, 6, 1, 2, 4, 9, 1, 4, 3, 3, 2, 10, 7, 9, 3, 6, 5, 6, 4, 3, 10, 5, 6, 8, 4, 3, 7, 1, 5, 8, 9, 10, 2, 8, 1, 4, 7, 5, 7, 2, 10, 6, 8, 4, 4, 9, 3, 10, 7, 1, 3, 2, 5, 7, 1, 7, 1, 1, 4, 10, 3, 2, 3, 8, 9, 10, 4, 6, 1, 7, 9, 10, 1, 2, 4, 5, 2, 10, 1, 4, 7, 4, 8, 6, 4, 6, 3, 3, 4, 9, 1, 8, 2, 4, 8, 7, 8, 10, 1, 4, 1, 4, 1, 3, 7, 8, 6, 9, 9, 3, 9, 1, 2, 8, 8, 7, 9, 5, 5, 6, 7, 3, 5, 6, 5, 9, 10, 1, 2, 3, 5, 7, 10, 9, 2, 2, 3, 5, 6, 5, 2, 5, 6, 10, 2, 6, 3, 1, 2, 3, 4, 8, 9, 1, 3, 1, 10, 3, 1, 3, 4, 5, 7, 8, 10, 3, 6, 7, 4, 9, 10, 1, 3, 1, 8, 5, 6, 9, 1, 10, 1, 4, 6, 7, 10, 2, 5, 10, 8, 3, 3, 1, 9, 2, 8, 2, 3, 4, 5, 8, 10, 1, 4, 5, 1, 3, 5, 6, 1, 2, 10, 3, 6, 9, 10, 2, 9, 10, 4, 4, 4, 9, 10, 1, 3, 4, 9, 10, 3, 8, 3, 4, 10, 2, 4, 6, 8, 9, 10, 2, 9, 10, 1, 2, 5, 8, 9, 1, 2, 3, 4, 7, 8, 3, 2, 3, 7, 1, 2, 1, 7, 2, 9, 1, 1, 3, 8, 8, 6, 1, 2, 6, 5, 7, 3, 6, 1, 1, 5, 3, 4, 6, 2, 3, 10, 7, 3, 5, 7, 1, 2, 6, 10, 3, 5, 7, 9, 1, 3, 4, 2, 1, 4, 5, 6, 7, 10, 6, 4, 7, 1, 2, 3, 1, 6, 9, 1, 3, 7, 9, 5, 2, 3, 6, 8, 9, 2, 3, 5, 6, 8, 6, 9, 6, 6, 10, 1, 2, 3, 7, 8, 10, 5, 10, 2, 2, 3, 1, 2, 3, 4, 5, 1, 7, 7, 4, 10, 4, 10, 9, 4, 6, 7, 2, 3, 2, 3, 8, 4, 5, 9, 10, 2, 10, 1, 10, 2, 3, 1, 7, 1, 3, 4, 8, 9, 1, 2, 3, 4, 5, 6, 8, 10, 3, 5, 8, 3, 4, 8, 1, 10, 1, 2, 3, 7, 9, 10, 4, 6, 9, 5, 1, 2, 3, 4, 5, 6, 7, 4, 5, 6, 7, 6, 8, 9, 8, 2, 2, 3, 4, 7, 8, 9, 6, 7, 3, 8, 9, 6, 8, 3, 5, 7, 10, 2, 3, 4, 5, 7, 5, 7, 8, 1, 2, 3, 5, 6, 7, 10, 8, 1, 2, 3, 4, 7, 9, 2, 3, 4, 7, 10, 1, 1, 4, 9, 6, 3, 1, 2, 3, 4, 6, 7, 10, 3, 10, 3, 4, 4, 2, 3, 4, 7, 2, 3, 7, 7, 7, 7, 2, 5, 10, 3, 5, 7, 9, 7, 1, 5, 7, 3, 10, 3, 6, 9, 6, 4, 1, 4, 9, 1, 3, 5, 6, 7, 5, 10, 7, 1, 5, 7, 1, 2, 3, 4, 1, 10, 2, 9, 9, 8, 3, 4, 9, 3, 4, 5, 8, 7, 3, 5, 2, 6, 7, 8, 10, 6, 4, 9, 2, 5, 8, 5, 2, 3, 6, 7, 3, 5, 5, 1, 9, 5, 8, 1, 4, 6, 7, 10, 9, 1, 7, 1, 4, 5, 5, 3, 1, 2, 3, 7, 10, 9, 10, 2, 4, 10, 1, 7, 1, 2, 3, 4, 1, 6, 2, 3, 4, 1, 6, 8, 1, 4, 7, 1, 5, 9, 7, 6, 5, 1, 2, 3, 10, 9, 1, 2, 5, 10, 9, 3, 4, 7, 8, 6, 7, 2, 1, 10, 5, 8, 2, 10, 1, 4, 7, 1, 2, 8, 1, 3, 5, 6, 7, 2, 1, 6, 8, 9, 3, 4, 1, 2, 3, 1, 3, 4, 5, 10, 3, 5, 9, 2, 5, 6, 10, 10, 1, 4, 10, 1, 3, 8, 10, 3, 3, 1, 3, 5, 1, 10, 6, 1, 4, 6, 10, 7, 4, 3, 5, 6, 5, 2, 2, 2, 4, 2, 3, 5, 8, 10, 8, 1, 3, 6, 7, 9, 5, 3, 6, 6, 5, 8, 9, 10, 1, 6, 8, 5, 4, 4, 1, 2, 7, 6, 5, 6, 7, 6, 7, 3, 6, 1, 5, 4, 1, 2, 7, 5, 8, 2, 8, 3, 8, 9, 5, 1, 2, 4, 7, 10, 6, 8, 1, 3, 4, 5, 8, 9, 7, 2, 4, 9, 7, 9, 3, 3, 5, 2, 6, 2, 3, 8, 9, 10, 1, 2, 3, 4, 6, 7, 9, 6, 2, 1, 2, 3, 4, 5, 3, 6, 7, 1, 8, 8, 2, 7, 2, 3], \"Freq\": [0.8833430582438546, 0.11408489682116203, 0.9902544132475625, 0.9923454788787166, 0.9977256360443025, 0.9946751516953806, 0.7968804292584707, 0.20238233124024652, 0.9881430584216309, 0.9951788677431332, 0.4396767595205651, 0.5585523278353846, 0.9939412906335536, 0.6523418266677437, 0.2036410993301422, 0.14151330631416661, 0.9922266096869572, 0.9974874362057357, 0.7479334309725022, 0.25088906228824437, 0.1120851975559565, 0.24922473338912682, 0.14109548398220406, 0.4971308173952424, 0.9906447793145963, 0.8683554982798617, 0.12914004846213328, 0.9833240387760558, 0.7409286971895984, 0.2574223570296188, 0.7499832546157982, 0.24667223324572762, 0.9851301664864559, 0.991265405484791, 0.9975153421385828, 0.24147866869227566, 0.7550459781645802, 0.6837472053751558, 0.31460760983519437, 0.9991525846053065, 0.9970706101458958, 0.09382442760096991, 0.8011162664390508, 0.10104169126258299, 0.9922558151021679, 0.5661346389380258, 0.24760180844505308, 0.048600885477278324, 0.13726466303717796, 0.9888167866735746, 0.23472121292827183, 0.7614127151087843, 0.9992997738044191, 0.9951589432146103, 0.9922020383126512, 0.9960069856493396, 0.9992797790767574, 0.983343306210582, 0.9962258406232292, 0.9877373467207465, 0.18817373873113102, 0.8077701955287575, 0.6513200700170353, 0.1499441887809002, 0.15846374496163318, 0.04046789185848159, 0.9930366543791936, 0.9937827021369643, 0.994660759879324, 0.30697743233918806, 0.6895869856894804, 0.9893059790774623, 0.9937132552541247, 0.9957344631133448, 0.9940482419403031, 0.18991010734173686, 0.8048571215911705, 0.9906610544846155, 0.1107837168449753, 0.8862697347598024, 0.33480475110664726, 0.6648604986514981, 0.17837511448009852, 0.69752656707143, 0.12246649650872436, 0.8627455517561355, 0.1352522717717457, 0.5552180570158558, 0.3600504975799792, 0.08412394803270543, 0.9847358271885358, 0.993148437749897, 0.9973635953097107, 0.9967831398109092, 0.9930707924587886, 0.3045411506298615, 0.6927474525316629, 0.9964472428695508, 0.9965526563813834, 0.9985275824024717, 0.9893358242616334, 0.9925031040582534, 0.9925576912834773, 0.9926332408529707, 0.9946585432926975, 0.9905766528287911, 0.5219137163504699, 0.2434429750762259, 0.23293464521682045, 0.991606625658501, 0.39691177486489004, 0.6020846307950486, 0.9996308694491826, 0.9855518995847766, 0.9870715156599597, 0.9925530304453339, 0.9911311915493807, 0.4313240815425194, 0.568563562033321, 0.7920601750429462, 0.08633831291937329, 0.12012287014869327, 0.17846392121399673, 0.820934037584385, 0.30699845380703905, 0.6916287005308006, 0.9981841150142596, 0.995777979191986, 0.9948250974134244, 0.7959531830483618, 0.201234213321482, 0.9967140889872136, 0.9938467665220391, 0.9961780019369777, 0.639738422153397, 0.3578956207851172, 0.9963085242500036, 0.7832907023400922, 0.2156887441226341, 0.4745718322960884, 0.5253669825418471, 0.9924895137276979, 0.3189353968313103, 0.5804844938867446, 0.0993224419197852, 0.9935187390586135, 0.3429652032446005, 0.1503346132184777, 0.18435529021593136, 0.3222769537191219, 0.9912802865043879, 0.19170851660796184, 0.8006649811273701, 0.10484118358559547, 0.039010672962082035, 0.07070684474377369, 0.7850897933619009, 0.21642717914925907, 0.5806954595483641, 0.1646065869585914, 0.03810337661078505, 0.22986239049192345, 0.7662079683064115, 0.20812688357037595, 0.5531425898917375, 0.23746020273130142, 0.9980455722794441, 0.9862687703046912, 0.9950474296656058, 0.9975744846729351, 0.9991774879023624, 0.9948954347403843, 0.994394964839545, 0.9939695879490742, 0.9889585206238901, 0.9973873155471604, 0.9959010129652961, 0.9950914690720025, 0.9912132985986385, 0.9945722878302564, 0.1755095774562266, 0.23945492738213864, 0.5850319248540887, 0.708174956052758, 0.28862592746688037, 0.8247468803093178, 0.17312470956930284, 0.9928288853940808, 0.9323904141406223, 0.06530360877249494, 0.9992084153353923, 0.20568517546825804, 0.7893863490943958, 0.9973627609443008, 0.9936991041664166, 0.9971592366088177, 0.7270014663773527, 0.27134561773239224, 0.9891415468960641, 0.9822399339498493, 0.24391807723296313, 0.7539286023564316, 0.9847433105499539, 0.2999871394507667, 0.5821784316459795, 0.11694413910792602, 0.4298228131427809, 0.10886341992262573, 0.4617310569132057, 0.98735187044815, 0.8729985431646037, 0.1257709765576124, 0.06675943628391534, 0.1298774487705262, 0.24761681821670417, 0.18328499779765847, 0.3495766845412294, 0.023062350716261663, 0.9956369695716937, 0.994157580887005, 0.21690198937574579, 0.7808471617526848, 0.5731331990583759, 0.42349743772786397, 0.9867420440291752, 0.9968622713975626, 0.9932849865441541, 0.7695526413682282, 0.22633901216712593, 0.9854474290637673, 0.009854474290637672, 0.9914051802081575, 0.10858128313046327, 0.31609217977979304, 0.1351233745623543, 0.0723875220869755, 0.3667634452406759, 0.9961801365935443, 0.7689862411466026, 0.22924495490785513, 0.9920531593892128, 0.9887705689550189, 0.9970291299778865, 0.09478850196799192, 0.44440696212529546, 0.10371785360265783, 0.11951593726398982, 0.027474928106664326, 0.2101832000159821, 0.9911446501702251, 0.9875127050215874, 0.9959630431501073, 0.9945321182917937, 0.4306503345493965, 0.5662254398705028, 0.9874290990180215, 0.7266153225229917, 0.2696716660910072, 0.9873404329253963, 0.9994282492897217, 0.4940005292894242, 0.31605410207226603, 0.18857009451370493, 0.9924055209076738, 0.9865967028533168, 0.25155165626911113, 0.16770110417940742, 0.10732870667482075, 0.1308068612599378, 0.34211025252599114, 0.1225261066703882, 0.614743052432465, 0.26195236598496785, 0.9829418601536555, 0.9970959271615369, 0.9924436779144112, 0.8750774727190643, 0.12451002116844402, 0.4372820092048139, 0.5613551052421659, 0.5062935007688253, 0.09439370353317082, 0.06402929540361937, 0.19439822161201964, 0.07393073283716876, 0.06699972663368418, 0.26074017173852243, 0.7381517537949719, 0.9926166068348182, 0.1265025168488243, 0.19835594641895649, 0.5146122385410172, 0.1604051913643092, 0.999169517853378, 0.9967209420997748, 0.9936545236610226, 0.3924154197155801, 0.11968670301325192, 0.17070070757627734, 0.315894412871042, 0.3295450436819412, 0.1314674376390723, 0.536387145567415, 0.9989052599994027, 0.9983849434206755, 0.25773796453770864, 0.5989685091369286, 0.13794426271032292, 0.32292322311941307, 0.1198176664967958, 0.25132486143230337, 0.19579960134842242, 0.10812813805808402, 0.8967181998539874, 0.09642131181225672, 0.2862132648102047, 0.18184820692361073, 0.5313130219681148, 0.9939950405257604, 0.9960537300506573, 0.9933685455439609, 0.4201140129934109, 0.57765676786594, 0.9922860482831629, 0.3642576371442763, 0.2299691073215016, 0.40454419609110864, 0.11734166128111201, 0.41809129733774364, 0.32244305242792964, 0.14100720641343711, 0.9915941462009079, 0.15100266892753944, 0.5376464454171627, 0.15965887287879965, 0.07309683336619743, 0.07886763600037092, 0.9859342248039621, 0.9950114275367831, 0.2034996757501185, 0.6964848057363211, 0.09745054895076097, 0.9911778479736182, 0.9918946270137029, 0.8895999979601207, 0.1093528236695165, 0.9938531750815557, 0.9951486168323527, 0.9968116702281655, 0.9948220702507489, 0.991216308755714, 0.9924331868302103, 0.9933446015230579, 0.9954508101606987, 0.4473871100479763, 0.1579013329581093, 0.3947533323952732, 0.693537887076584, 0.30342282559600553, 0.13496727785197946, 0.8634208048886906, 0.9974662863988925, 0.9964933385375713, 0.9907112035358497, 0.20368152797374578, 0.6855251426579055, 0.10944082100081863, 0.2246658648443298, 0.6649748690372331, 0.11007725104822584, 0.9953732629746707, 0.6604505701397972, 0.20844785436305893, 0.1316512764398267, 0.4634352169391059, 0.11916905578434152, 0.1026177980365163, 0.31447389720867897, 0.9989525989189149, 0.9899218310944871, 0.7816482676861393, 0.2120751113877122, 0.7055950024435628, 0.11506626193695023, 0.17585598522439563, 0.9883868523533829, 0.2648550539925423, 0.15435261424730942, 0.342031361116197, 0.2367909423112133, 0.9981192892517701, 0.9882326777852356, 0.9971631384274234, 0.997234945083225, 0.9951934296619765, 0.24626855096596978, 0.4114737039056412, 0.3416976144652831, 0.6830727729039767, 0.11846649566969339, 0.19660397153693795, 0.16331899124285265, 0.28938979150049327, 0.1461275184804471, 0.39826911899572837, 0.9908007089774312, 0.9993676330461148, 0.07021216933254008, 0.35485609905905396, 0.5730831118493812, 0.9940444653677685, 0.16388473754974028, 0.06813185718359989, 0.2541134132793726, 0.0405108340010594, 0.47139879564869114, 0.9881790869061666, 0.9977511218155737, 0.9902073306493253, 0.9863267226178932, 0.9903023708802121, 0.13070421777679997, 0.49458476006741103, 0.11501971164358396, 0.07528562943943677, 0.08155943189272317, 0.10247210673701117, 0.16727282692424425, 0.8309682369785037, 0.9949174824079866, 0.10960275244775174, 0.889468491018293, 0.10617400469777298, 0.42663527001844853, 0.21234800939554596, 0.17210854642789686, 0.08241817716265483, 0.99946460674602, 0.9926605904383682, 0.9988575742109437, 0.9959665552756934, 0.9948237845373612, 0.9975881501236042, 0.99028454036531, 0.9914184272071451, 0.15204302857178853, 0.17700531684476872, 0.6694431855026509, 0.9964790338573326, 0.9922322878190654, 0.21700350347039607, 0.18176361829144286, 0.5990780480422045, 0.9908358262715062, 0.6082042073651069, 0.18768801711657596, 0.2043186009117156, 0.9955260758499647, 0.9936638819670784, 0.9984233570868926, 0.9868726970574246, 0.7747743492398805, 0.22349260074227323, 0.33151710932260636, 0.6661470553524673, 0.1699068581531674, 0.15751781641283227, 0.16636713194164307, 0.17521644747045387, 0.3291945376717618, 0.20653933865929414, 0.2002442354490689, 0.1381925038054203, 0.14268900609843832, 0.04676362384738735, 0.05725546253109605, 0.18225822627699687, 0.026079713299504485, 0.3015779005200006, 0.1956803171312981, 0.5018624604073293, 0.9645538245735178, 0.033963162837095696, 0.9938058824214244, 0.9935592118233295, 0.9950587819428535, 0.06190554063741911, 0.4069960012119682, 0.07771121058739847, 0.05927126231242255, 0.25947641501216095, 0.13303105541232618, 0.24070822220929136, 0.08842342856667845, 0.6631757142500885, 0.9912079101378568, 0.2545028293430056, 0.13110751814639685, 0.12396658578548198, 0.09083265963083703, 0.22765292366596576, 0.17166801395639325, 0.9882403943083673, 0.6259049271776866, 0.12974339037168447, 0.1026541110633108, 0.14114940271205234, 0.9946438935846228, 0.8914464725835987, 0.10838254985818829, 0.9941329143375411, 0.9872736783151089, 0.1386638664745666, 0.1569091120633254, 0.4086935011881963, 0.05838478588402805, 0.04743763853077279, 0.1933996032408429, 0.9934980954732926, 0.9888318380072781, 0.2735718781135749, 0.23449018124020707, 0.4917780189898787, 0.987455312305119, 0.9891245359312452, 0.7115452542988013, 0.1296905143303234, 0.05432981005729764, 0.10340189656066325, 0.5777477428221274, 0.009629129047035456, 0.1540660647525673, 0.20221170998774457, 0.05536749202045387, 0.6979916137850889, 0.2991392630507524, 0.9861685604646376, 0.32902495259318687, 0.1830201298799602, 0.2950942543570145, 0.10590490661593202, 0.07403061433346704, 0.013366638699098217, 0.9826141441256709, 0.9911565678115499, 0.09770306043131663, 0.5908708892751053, 0.08947166706164526, 0.11989203386260465, 0.028273046791479902, 0.0737246536587957, 0.5082732549515266, 0.29149164982762255, 0.0612377415604249, 0.0587882318980079, 0.08083381885976086, 0.9927330510265081, 0.2617464744302217, 0.573532716030927, 0.16359154651888858, 0.9950223832248309, 0.9968133249361868, 0.12237989812614798, 0.10810224334476405, 0.3304257249405996, 0.07954693378199619, 0.17235168986099175, 0.09994358346968751, 0.08566592868830358, 0.8996934720057755, 0.0994136433155553, 0.9958021632301615, 0.9970399012781297, 0.9969036607522707, 0.7427446005587207, 0.11268254586423176, 0.031065363521467406, 0.11352978305118089, 0.7845511303306464, 0.14739121039479855, 0.06601897965600352, 0.9967699837889225, 0.9949377638568798, 0.9937535975128962, 0.3317130288082711, 0.5588318593436639, 0.10758260393781766, 0.18402611369109834, 0.6134203789703279, 0.19874820278638622, 0.988424442675384, 0.9843528632739321, 0.24130743516514666, 0.33864152666033187, 0.41772547600016985, 0.008381168357747321, 0.9805966978564365, 0.9911079683159941, 0.8340680903067339, 0.15939967948084247, 0.9983124685869218, 0.994466771083097, 0.9934332725636433, 0.1337022815451144, 0.8585093867633662, 0.10655928130784707, 0.12951051112799875, 0.3573834357709333, 0.2196760568500232, 0.1852492121197957, 0.9876686357874281, 0.98915054278836, 0.9910389371930781, 0.9917772951464292, 0.9938571133343056, 0.9883981696621827, 0.11742672592204681, 0.6079434291407233, 0.10702182615680216, 0.16796481049609227, 0.9985349213443303, 0.994774060047606, 0.9944971053336781, 0.9971994300680269, 0.9889514476163858, 0.9950932799617879, 0.771478665801834, 0.22443015732416988, 0.9956540847520222, 0.2680284998083414, 0.027073585839226408, 0.14890472211574524, 0.5550085097041414, 0.9944872776021824, 0.8588614304333462, 0.1386058792630184, 0.16959682814288976, 0.4736206352746138, 0.07737366813892206, 0.08049987695261587, 0.1985142596695576, 0.994311885829103, 0.9923097971611711, 0.994189975597556, 0.9922922033638237, 0.989682108953262, 0.9985108498087295, 0.9848626622880087, 0.9931721537973351, 0.21914953833877657, 0.20009305674410033, 0.5812226886376248, 0.9880330839170134, 0.9961432827921918, 0.9920812203913437, 0.9158781069082284, 0.08196574497622276, 0.9918578892023041, 0.9886422691018161, 0.21617172819447744, 0.1829145392414809, 0.10927362084556003, 0.1544083772817696, 0.3373229165232505, 0.9931575039211264, 0.9955317496310905, 0.9906743429174489, 0.9946562793982717, 0.13774492550655232, 0.8624030118671102, 0.9824920013804911, 0.9925185369098829, 0.09778904010841731, 0.4261670513366828, 0.15815264511361318, 0.146079924112574, 0.17143263821475627, 0.9872837825158255, 0.9907059433104137, 0.9910408650481581, 0.09157205118696377, 0.904731865727202, 0.4528952275075806, 0.5455328876795857, 0.1245835853630741, 0.6117054041326938, 0.09717519658319779, 0.1644503326792578, 0.9954990766674575, 0.9918579208289254, 0.9869505930743204, 0.9965320507818505, 0.9945465088482603, 0.9920417827643175, 0.6786619619107425, 0.32082201835780555, 0.3513248848942466, 0.2407556317803213, 0.4066095114512093, 0.1733519608070378, 0.6970193424116311, 0.1264024714217984, 0.9843096889503146, 0.9969199428923972, 0.9868345065148777, 0.08210923273514857, 0.4148677022407507, 0.20527308183787144, 0.29602539170303566, 0.9925555473301825, 0.14444968842441594, 0.22128462907570104, 0.0952753264075935, 0.5378445845589955, 0.9905671866229803, 0.17902519172242665, 0.27821482497404143, 0.49594816625807386, 0.04596592760440684, 0.11118342541618835, 0.8854965667075001, 0.987245215034634, 0.4313347584500981, 0.5671253305547587, 0.9872443743447943, 0.9878168541999944, 0.9875860130919897, 0.9919793340552584, 0.9990047312232332, 0.8853218794918202, 0.11432964668934102, 0.08016179004987699, 0.2951411360927289, 0.6194320140217767, 0.9948431005310094, 0.43775885762474587, 0.19904686112756156, 0.04110750392851815, 0.322369372913116, 0.9940100492265089, 0.3604682386512197, 0.13311897609941306, 0.5055529654112542, 0.9964983702000776, 0.9970510450837833, 0.9960590698772939, 0.13164930446968942, 0.6747026854071583, 0.19335991593985635, 0.15343102073158382, 0.12712856003474088, 0.4668686773689622, 0.08767486898947648, 0.16439037935526837, 0.7788061932542829, 0.07493667838872825, 0.14452073689254735, 0.32536460300785786, 0.1859226302902045, 0.35933123738779904, 0.130503384722932, 0.99063259506666, 0.24699213665746442, 0.7527379402894153, 0.9952212466828524, 0.1904532673346612, 0.8054586097695047, 0.6902512318430613, 0.3054208990456023, 0.989081496677305, 0.9907803399969454, 0.20007992614887452, 0.3848280571905556, 0.41472505764958284, 0.9980493763149765, 0.9924646138783626, 0.9894547226194825, 0.3259427491258563, 0.4937073994112235, 0.11823413448683022, 0.06151370510463464, 0.9834295633939022, 0.997952757867689, 0.26010850782290196, 0.5227923474064268, 0.2176155337726259, 0.9855910470636193, 0.9855238269969204, 0.9997535613949433, 0.8920604473258084, 0.1076136412647007, 0.4241772003961691, 0.08197485905995416, 0.07450319221855209, 0.30996743582045166, 0.10929981207993889, 0.9984709644702474, 0.12191517234586166, 0.2259890999581826, 0.3806132209822023, 0.10655187826975715, 0.16453592365376452, 0.9912409021456062, 0.19455104171986498, 0.8048549945123181, 0.9881531079487629, 0.33759729386599696, 0.44375996489304, 0.09342315050379789, 0.12314869839136995, 0.14216392631634314, 0.6346603853408176, 0.2234004556399678, 0.9842686928043896, 0.9971725940730944, 0.9913568102381238, 0.997888203129372, 0.2609765192283416, 0.7368748778211998, 0.9957755012486821, 0.9946597951673926, 0.7103008621059416, 0.28412034484237664, 0.9891114711960926, 0.9897931116396058, 0.12722641370203278, 0.8693804936305574, 0.3416465211862081, 0.658294516431962, 0.9939885044589355, 0.22787102773691076, 0.33535736157507623, 0.4363945153829517, 0.8383777598254135, 0.16103737028904572, 0.9870421684622456, 0.994676301779954, 0.16951108137091142, 0.8293935052791024, 0.9957281815510834, 0.9948821544168464, 0.10183307590288741, 0.666829717109255, 0.02870198664444317, 0.12621010565570215, 0.07627651245235582, 0.9847835242812583, 0.9951232787093386, 0.02256334893593147, 0.10362426918724084, 0.049305095822961366, 0.1955490241114061, 0.4203468338805011, 0.20808421796470136, 0.99422928957388, 0.7037208369257428, 0.14274440749010545, 0.15274560801488993, 0.9809461443376871, 0.9888207346464214, 0.9988212714372908, 0.3657080598681139, 0.6333912789468363, 0.8547184812698967, 0.14393696646385415, 0.39398300105410394, 0.27525748390143623, 0.15122579838440353, 0.06234747828128917, 0.11739897506157643, 0.2405789258063563, 0.2937354122702369, 0.25478453856825545, 0.04949052188016472, 0.029785962242691734, 0.03803438255605252, 0.09348209688475559, 0.9882092158906324, 0.9963550299990722, 0.16243126085051562, 0.17686137286229264, 0.4980238658423554, 0.056980442302914366, 0.1058208214196981, 0.9974192646173797, 0.9884180831264028, 0.9977124135399809, 0.9929299155723323, 0.9891187371228234, 0.9963685171238795, 0.9841276099741814, 0.9959140757734051, 0.809038175137868, 0.18898792017656235], \"Term\": [\"People\", \"People\", \"act\", \"active\", \"ad\", \"advertising\", \"advice\", \"advice\", \"african\", \"am\", \"amazing\", \"amazing\", \"annual\", \"answer\", \"answer\", \"answer\", \"anxiety\", \"app\", \"art\", \"art\", \"article\", \"article\", \"article\", \"article\", \"artificial_intelligence\", \"asset\", \"asset\", \"assumption\", \"attention\", \"attention\", \"audience\", \"audience\", \"audio\", \"authentic\", \"author\", \"awesome\", \"awesome\", \"bad\", \"bad\", \"bank\", \"banking\", \"behavior\", \"behavior\", \"behavior\", \"belief\", \"big\", \"big\", \"big\", \"big\", \"blockchain\", \"body\", \"body\", \"book\", \"boss\", \"box\", \"brain\", \"brand\", \"branding\", \"break\", \"brother\", \"building\", \"building\", \"business\", \"business\", \"business\", \"business\", \"busy\", \"buyer\", \"calendar\", \"call\", \"call\", \"camera\", \"cancer\", \"candidate\", \"capital\", \"car\", \"car\", \"card\", \"care\", \"care\", \"career\", \"career\", \"case\", \"case\", \"case\", \"ceo\", \"ceo\", \"change\", \"change\", \"change\", \"chapter\", \"chart\", \"chicken\", \"child\", \"chinese\", \"choice\", \"choice\", \"city\", \"clarity\", \"class\", \"clip\", \"cloud\", \"co_founder\", \"code\", \"college\", \"column\", \"comment\", \"comment\", \"comment\", \"commerce\", \"community\", \"community\", \"company\", \"compelling\", \"competitor\", \"computer\", \"confident\", \"connection\", \"connection\", \"consumer\", \"consumer\", \"consumer\", \"content\", \"content\", \"control\", \"control\", \"conversation\", \"cool\", \"coronavirus\", \"country\", \"country\", \"cpa\", \"crazy\", \"creator\", \"culture\", \"culture\", \"curiosity\", \"curious\", \"curious\", \"customer\", \"customer\", \"data\", \"datum\", \"datum\", \"datum\", \"daughter\", \"day\", \"day\", \"day\", \"day\", \"dead\", \"deal\", \"deal\", \"decision\", \"decision\", \"decision\", \"decision\", \"different\", \"different\", \"different\", \"different\", \"difficult\", \"difficult\", \"digital\", \"digital\", \"digital\", \"digital_health\", \"direction\", \"discussion\", \"disease\", \"distraction\", \"diverse\", \"diversity\", \"doctor\", \"dog\", \"dollar\", \"door\", \"dream\", \"drug\", \"e\", \"easy\", \"easy\", \"easy\", \"economic\", \"economic\", \"economy\", \"economy\", \"ecosystem\", \"education\", \"education\", \"email\", \"emotion\", \"emotion\", \"empathy\", \"employer\", \"energy\", \"entrepreneur\", \"entrepreneur\", \"entrepreneurship\", \"epic\", \"essential\", \"essential\", \"evening\", \"event\", \"event\", \"event\", \"excited\", \"excited\", \"excited\", \"excuse\", \"exercise\", \"exercise\", \"experience\", \"experience\", \"experience\", \"experience\", \"experience\", \"experience\", \"face\", \"failure\", \"family\", \"family\", \"favorite\", \"favorite\", \"favourite\", \"fear\", \"feature\", \"feedback\", \"feedback\", \"feeling\", \"feeling\", \"female\", \"few\", \"few\", \"few\", \"few\", \"few\", \"finance\", \"financial\", \"financial\", \"fintech\", \"fire\", \"firm\", \"first\", \"first\", \"first\", \"first\", \"first\", \"first\", \"fit\", \"flight\", \"focused\", \"follower\", \"food\", \"food\", \"forum\", \"founder\", \"founder\", \"framework\", \"free\", \"fun\", \"fun\", \"fun\", \"funding\", \"funny\", \"future\", \"future\", \"future\", \"future\", \"future\", \"game\", \"game\", \"game\", \"genius\", \"gift\", \"girl\", \"global\", \"global\", \"goal\", \"goal\", \"good\", \"good\", \"good\", \"good\", \"good\", \"good\", \"government\", \"government\", \"grateful\", \"great\", \"great\", \"great\", \"great\", \"growth\", \"habit\", \"happiness\", \"happy\", \"happy\", \"happy\", \"happy\", \"hard\", \"hard\", \"hard\", \"health\", \"healthcare\", \"healthy\", \"healthy\", \"healthy\", \"high\", \"high\", \"high\", \"high\", \"high\", \"holiday\", \"holiday\", \"home\", \"home\", \"home\", \"honest\", \"hospital\", \"host\", \"hour\", \"hour\", \"house\", \"human\", \"human\", \"human\", \"idea\", \"idea\", \"idea\", \"idea\", \"ideal\", \"important\", \"important\", \"important\", \"important\", \"important\", \"inbox\", \"inclusion\", \"incredible\", \"incredible\", \"incredible\", \"indian\", \"indistractable\", \"industry\", \"industry\", \"influencer\", \"inner\", \"innovation\", \"innovative\", \"inspiration\", \"intention\", \"intentional\", \"interaction\", \"interesting\", \"interesting\", \"interesting\", \"internet\", \"internet\", \"interview\", \"interview\", \"investment\", \"investor\", \"invitation\", \"issue\", \"issue\", \"issue\", \"job\", \"job\", \"job\", \"journalist\", \"journey\", \"journey\", \"journey\", \"key\", \"key\", \"key\", \"key\", \"kid\", \"kindness\", \"language\", \"language\", \"large\", \"large\", \"large\", \"last_night\", \"late\", \"late\", \"late\", \"late\", \"late_article\", \"late_episode\", \"launch\", \"law\", \"lead\", \"leader\", \"leader\", \"leader\", \"leadership\", \"leadership\", \"leadership\", \"lesson\", \"lesson\", \"lesson\", \"lesson\", \"letter\", \"life\", \"link\", \"link\", \"link\", \"link_comment\", \"list\", \"list\", \"list\", \"list\", \"list\", \"listen\", \"live\", \"livestream\", \"loan\", \"lockdown\", \"lot\", \"lot\", \"lot\", \"lot\", \"lot\", \"lot\", \"machine\", \"machine\", \"magic\", \"man\", \"man\", \"many\", \"many\", \"many\", \"many\", \"many\", \"market\", \"marketer\", \"marketing\", \"mask\", \"master\", \"medical\", \"medicine\", \"meditation\", \"medium\", \"medium\", \"medium\", \"meeting\", \"mentor\", \"message\", \"message\", \"message\", \"middle\", \"minute\", \"minute\", \"minute\", \"mistake\", \"mobile\", \"model\", \"mom\", \"moment\", \"moment\", \"money\", \"money\", \"month\", \"month\", \"month\", \"month\", \"month\", \"more\", \"more\", \"more\", \"more\", \"more\", \"more\", \"more\", \"more\", \"morning\", \"morning\", \"morning\", \"mother\", \"mother\", \"motivation\", \"move\", \"movie\", \"much\", \"much\", \"much\", \"much\", \"much\", \"much\", \"negative\", \"negative\", \"negative\", \"networking\", \"new\", \"new\", \"new\", \"new\", \"new\", \"new\", \"new_episode\", \"news\", \"news\", \"news\", \"news\", \"newsletter\", \"next\", \"next\", \"next_year\", \"no\", \"number\", \"number\", \"number\", \"number\", \"number\", \"number\", \"objective\", \"odd\", \"office\", \"office\", \"office\", \"oil\", \"okay\", \"old\", \"old\", \"old\", \"old\", \"one\", \"one\", \"one\", \"one\", \"one\", \"online\", \"online\", \"opening\", \"opportunity\", \"opportunity\", \"opportunity\", \"opportunity\", \"opportunity\", \"opportunity\", \"opposite\", \"original\", \"other\", \"other\", \"other\", \"other\", \"other\", \"other\", \"own\", \"own\", \"own\", \"own\", \"own\", \"owner\", \"pandemic\", \"pandemic\", \"pandemic\", \"panel\", \"parent\", \"part\", \"part\", \"part\", \"part\", \"part\", \"part\", \"part\", \"passion\", \"passion\", \"path\", \"patient\", \"payment\", \"people\", \"people\", \"people\", \"people\", \"person\", \"person\", \"person\", \"personal_brand\", \"personal_branding\", \"personality\", \"phone\", \"phone\", \"phone\", \"piece\", \"piece\", \"piece\", \"pitch\", \"planning\", \"platform\", \"platform\", \"platform\", \"play\", \"play\", \"pleasure\", \"pm\", \"pm\", \"podcast\", \"political\", \"portfolio\", \"possibility\", \"possibility\", \"post\", \"post\", \"post\", \"post\", \"post\", \"pr\", \"practical\", \"presence\", \"pressure\", \"privacy\", \"pro\", \"problem\", \"problem\", \"problem\", \"problem\", \"product\", \"product_service\", \"productive\", \"productivity\", \"profession\", \"profile\", \"program\", \"program\", \"progress\", \"project\", \"project\", \"project\", \"project\", \"proof\", \"proud\", \"proud\", \"question\", \"question\", \"question\", \"question\", \"question\", \"quote\", \"race\", \"radical\", \"rare\", \"read\", \"ready\", \"recommendation\", \"regulator\", \"relationship\", \"relationship\", \"relationship\", \"remarkable\", \"reminder\", \"remote\", \"report\", \"report\", \"reporting\", \"request\", \"research\", \"research\", \"research\", \"research\", \"research\", \"resolution\", \"retail\", \"retailer\", \"revenue\", \"review\", \"review\", \"reward\", \"rich\", \"right\", \"right\", \"right\", \"right\", \"right\", \"robot\", \"round\", \"routine\", \"rule\", \"rule\", \"sale\", \"sale\", \"same\", \"same\", \"same\", \"same\", \"scale\", \"scene\", \"schedule\", \"school\", \"screen\", \"sector\", \"series\", \"series\", \"service\", \"service\", \"service\", \"session\", \"session\", \"session\", \"shopping\", \"show\", \"sister\", \"skill\", \"skill\", \"skill\", \"skill\", \"sleep\", \"smart\", \"smart\", \"smart\", \"smart\", \"smile\", \"social\", \"social\", \"social\", \"social\", \"social_medium\", \"social_medium\", \"soft_skill\", \"solution\", \"solution\", \"son\", \"speech\", \"spirit\", \"star\", \"startup\", \"state\", \"state\", \"step\", \"step\", \"step\", \"stock\", \"story\", \"story\", \"story\", \"story\", \"storytelling\", \"strategy\", \"strategy\", \"strategy\", \"stress\", \"student\", \"study\", \"success\", \"success\", \"success\", \"such\", \"such\", \"such\", \"such\", \"such\", \"support\", \"support\", \"support\", \"sure\", \"sure\", \"sure\", \"sure\", \"surprised\", \"system\", \"system\", \"tactic\", \"talent\", \"talent\", \"task\", \"task\", \"tax\", \"teacher\", \"team\", \"team\", \"team\", \"tech\", \"technical\", \"technique\", \"technology\", \"technology\", \"technology\", \"technology\", \"terrible\", \"test\", \"thank\", \"thank\", \"thank\", \"thankful\", \"theme\", \"thing\", \"thought\", \"thought\", \"time\", \"time\", \"time\", \"time\", \"time\", \"tip\", \"today\", \"today\", \"today\", \"today\", \"today\", \"today_column\", \"tomorrow\", \"tomorrow\", \"tonight\", \"tool\", \"tool\", \"tool\", \"tool\", \"topic\", \"topic\", \"topic\", \"traction\", \"trade\", \"treatment\", \"trend\", \"trust\", \"trust\", \"truth\", \"tune\", \"tv\", \"tv\", \"uber\", \"uncomfortable\", \"upcoming\", \"upcoming\", \"user\", \"user\", \"vaccine\", \"value\", \"value\", \"value\", \"video\", \"video\", \"viral\", \"visual\", \"voice\", \"voice\", \"war\", \"watch\", \"way\", \"way\", \"way\", \"way\", \"way\", \"wealth\", \"webinar\", \"week\", \"week\", \"week\", \"week\", \"week\", \"week\", \"weird\", \"well\", \"well\", \"well\", \"while\", \"win\", \"woman\", \"wonderful\", \"wonderful\", \"word\", \"word\", \"work\", \"work\", \"work\", \"work\", \"work\", \"world\", \"world\", \"world\", \"world\", \"world\", \"world\", \"world\", \"writer\", \"wrong\", \"year\", \"year\", \"year\", \"year\", \"year\", \"young\", \"\\u200d\", \"\\u202c\", \"\\u2705\", \"\\u2764\", \"\\ud83c\\udf57\", \"\\ud83c\\udffe_\\ud83d\\udda4\", \"\\ud83d\\udc47\", \"\\ud83d\\udda4\", \"\\ud83d\\udda4\"]}, \"R\": 30, \"lambda.step\": 0.01, \"plot.opts\": {\"xlab\": \"PC1\", \"ylab\": \"PC2\"}, \"topic.order\": [8, 1, 6, 9, 5, 10, 2, 7, 4, 3]};\n",
       "\n",
       "function LDAvis_load_lib(url, callback){\n",
       "  var s = document.createElement('script');\n",
       "  s.src = url;\n",
       "  s.async = true;\n",
       "  s.onreadystatechange = s.onload = callback;\n",
       "  s.onerror = function(){console.warn(\"failed to load library \" + url);};\n",
       "  document.getElementsByTagName(\"head\")[0].appendChild(s);\n",
       "}\n",
       "\n",
       "if(typeof(LDAvis) !== \"undefined\"){\n",
       "   // already loaded: just create the visualization\n",
       "   !function(LDAvis){\n",
       "       new LDAvis(\"#\" + \"ldavis_el1155215900965868964023350481\", ldavis_el1155215900965868964023350481_data);\n",
       "   }(LDAvis);\n",
       "}else if(typeof define === \"function\" && define.amd){\n",
       "   // require.js is available: use it to load d3/LDAvis\n",
       "   require.config({paths: {d3: \"https://d3js.org/d3.v5\"}});\n",
       "   require([\"d3\"], function(d3){\n",
       "      window.d3 = d3;\n",
       "      LDAvis_load_lib(\"https://cdn.jsdelivr.net/gh/bmabey/pyLDAvis@3.3.1/pyLDAvis/js/ldavis.v3.0.0.js\", function(){\n",
       "        new LDAvis(\"#\" + \"ldavis_el1155215900965868964023350481\", ldavis_el1155215900965868964023350481_data);\n",
       "      });\n",
       "    });\n",
       "}else{\n",
       "    // require.js not available: dynamically load d3 & LDAvis\n",
       "    LDAvis_load_lib(\"https://d3js.org/d3.v5.js\", function(){\n",
       "         LDAvis_load_lib(\"https://cdn.jsdelivr.net/gh/bmabey/pyLDAvis@3.3.1/pyLDAvis/js/ldavis.v3.0.0.js\", function(){\n",
       "                 new LDAvis(\"#\" + \"ldavis_el1155215900965868964023350481\", ldavis_el1155215900965868964023350481_data);\n",
       "            })\n",
       "         });\n",
       "}\n",
       "</script>"
      ],
      "text/plain": [
       "<IPython.core.display.HTML object>"
      ]
     },
     "execution_count": 91,
     "metadata": {},
     "output_type": "execute_result"
    }
   ],
   "source": [
    "import pyLDAvis\n",
    "import pyLDAvis.gensim_models as gensimvis\n",
    "\n",
    "LDAvis_prepared = gensimvis.prepare(lda, bag_of_words,\n",
    "                                              posts_dictionary)\n",
    "pyLDAvis.display(LDAvis_prepared)"
   ]
  },
  {
   "cell_type": "markdown",
   "metadata": {},
   "source": [
    "**Wait, what am I looking at again?**\n",
    "\n",
    "There are a lot of moving parts in the visualization. Here's a brief summary:\n",
    "\n",
    "* On the left, there is a plot of the \"distance\" between all of the topics (labeled as the Intertopic Distance Map)\n",
    "    * The plot is rendered in two dimensions according a multidimensional scaling (MDS) algorithm. Topics that are generally similar should be appear close together on the plot, while dissimilar topics should appear far apart.\n",
    "    * The relative size of a topic's circle in the plot corresponds to the relative frequency of the topic in the corpus.\n",
    "    * An individual topic may be selected for closer scrutiny by clicking on its circle, or entering its number in the \"selected topic\" box in the upper-left.\n",
    "\n",
    "* On the right, there is a bar chart showing top terms.\n",
    "    * When no topic is selected in the plot on the left, the bar chart shows the top-30 most \"salient\" terms in the corpus. A term's saliency is a measure of both how frequent the term is in the corpus and how \"distinctive\" it is in distinguishing between different topics.\n",
    "    * When a particular topic is selected, the bar chart changes to show the top-30 most \"relevant\" terms for the selected topic. The relevance metric is controlled by the parameter , which can be adjusted with a slider above the bar chart.\n",
    "        * Setting the  parameter close to 1.0 (the default) will rank the terms solely according to their probability within the topic.\n",
    "        * Setting  close to 0.0 will rank the terms solely according to their \"distinctiveness\" or \"exclusivity\" within the topic — i.e., terms that occur only in this topic, and do not occur in other topics.\n",
    "        * Setting  to values between 0.0 and 1.0 will result in an intermediate ranking, weighting term probability and exclusivity accordingly.\n",
    "* Rolling the mouse over a term in the bar chart on the right will cause the topic circles to resize in the plot on the left, to show the strength of the relationship between the topics and the selected term.\n",
    "\n",
    "A more detailed explanation of the pyLDAvis visualization can be found here. Unfortunately, though the data used by gensim and pyLDAvis are the same, they don't use the same ID numbers for topics. If you need to match up topics in gensim's LdaModel object and pyLDAvis' visualization, you have to dig through the terms manually."
   ]
  },
  {
   "cell_type": "markdown",
   "metadata": {},
   "source": [
    "Therefore we will manually explore topics got from LDA and call each of them with our subjective view."
   ]
  },
  {
   "cell_type": "code",
   "execution_count": 92,
   "metadata": {},
   "outputs": [],
   "source": [
    "def explore_topic(topic_number, topn=25):\n",
    "    \"\"\"\n",
    "    accept a user-supplied topic number and\n",
    "    print out a formatted list of the top terms\n",
    "    \"\"\"\n",
    "        \n",
    "    print ('{:20}{}'.format('term', 'frequency'))\n",
    "\n",
    "    for term, frequency in lda.show_topic(topic_number,topn):\n",
    "        print (\"{:20}{:.03f}\".format(term, round(frequency, 3)))"
   ]
  },
  {
   "cell_type": "markdown",
   "metadata": {},
   "source": [
    "**Note**\n",
    "\n",
    "Changing the number of topics changes topics' ID. We have to be careful with that. But we can avoid this randomness by adding a \"random_state\" input."
   ]
  },
  {
   "cell_type": "code",
   "execution_count": 109,
   "metadata": {},
   "outputs": [
    {
     "name": "stdout",
     "output_type": "stream",
     "text": [
      "term                frequency\n",
      "book                0.037\n",
      "today               0.025\n",
      "conversation        0.025\n",
      "podcast             0.024\n",
      "question            0.020\n",
      "new                 0.020\n",
      "distraction         0.017\n",
      "interview           0.015\n",
      "event               0.015\n",
      "business            0.012\n",
      "show                0.010\n",
      "great               0.010\n",
      "tomorrow            0.010\n",
      "truth               0.009\n",
      "series              0.009\n",
      "topic               0.008\n",
      "excited             0.008\n",
      "discussion          0.008\n",
      "feedback            0.008\n",
      "newsletter          0.008\n",
      "pm                  0.007\n",
      "interesting         0.007\n",
      "sure                0.007\n",
      "more                0.006\n",
      "answer              0.006\n"
     ]
    }
   ],
   "source": [
    "explore_topic(topic_number=9)"
   ]
  },
  {
   "cell_type": "markdown",
   "metadata": {},
   "source": [
    "Despite the power of topic modeling, a human view is necessary to assess each topic. We have selected 10 topics after several trials, and we will name each of them. "
   ]
  },
  {
   "cell_type": "code",
   "execution_count": 110,
   "metadata": {},
   "outputs": [],
   "source": [
    "topic_names = {0: 'Philosophic',\n",
    "               1: 'Marketing',\n",
    "               2: '?',\n",
    "               3: 'Productivity',\n",
    "               4: 'Content',\n",
    "               5: 'People',\n",
    "               6: 'Time & Goals',\n",
    "               7: 'Business',\n",
    "               8: 'Health & Tech',\n",
    "               9: 'Conversations'} #Business, strategy, team, community"
   ]
  },
  {
   "cell_type": "markdown",
   "metadata": {},
   "source": [
    "We can also estimate if our model is good or not with the **CoherenceModel** method from *gensim*\n",
    "\n",
    "Link the the Medium article : https://towardsdatascience.com/evaluate-topic-model-in-python-latent-dirichlet-allocation-lda-7d57484bb5d0"
   ]
  },
  {
   "cell_type": "code",
   "execution_count": 95,
   "metadata": {},
   "outputs": [],
   "source": [
    "# coherence_model_lda = CoherenceModel(model=lda, texts= preprocessed_posts, dictionary=posts_dictionary, coherence='c_v')\n",
    "# coherence_score = coherence_model_lda.get_coherence()"
   ]
  },
  {
   "cell_type": "markdown",
   "metadata": {},
   "source": [
    "**What to think about these topics**\n",
    "\n",
    "The model can be highly improved. A lot of iterations were done to try to find the best hyperparameters (number of *topics* and *passes*). Improvements could be done by tuning different hyperparameters like **alpha** & **beta**, and doing a rigorous review with the coherence_score we defined above (check the link above for more informations).\n",
    "\n",
    "However, let's keep these topic's names for the moment, and check if they are relevant to characterize posts.\n",
    "\n",
    "We create a specific function to define which topics are present in a post."
   ]
  },
  {
   "cell_type": "code",
   "execution_count": 111,
   "metadata": {},
   "outputs": [],
   "source": [
    "def lda_description(post, min_topic_freq = 0.1):\n",
    "\n",
    "    # First we remove hashtags and links from the raw post\n",
    "    first_clean_post = first_clean(post)\n",
    "\n",
    "    # Clean it with rules we have defined previously\n",
    "    # Rules are : not punct - not whitespace - not stopword - Nouns & Adjectives only\n",
    "    # cleaned_post is here a list of tokens\n",
    "    parsed_post = nlp(first_clean_post)\n",
    "    cleaned_post = [token.lemma_ for token in parsed_post if all(rules(token))]\n",
    "\n",
    "    # Define 2-words phrases\n",
    "    # Return a list of phrases / tokens\n",
    "    bigram_posts = bigram_model[cleaned_post]\n",
    "\n",
    "    # Create a bag_of_words representation\n",
    "    bow_posts = posts_dictionary.doc2bow(bigram_posts)\n",
    "\n",
    "    # Create an LDA representation\n",
    "    lda_posts = lda[bow_posts]\n",
    "\n",
    "    # Sort with the most highly related topics first\n",
    "    # lda_post = sorted(lda_post, key=lambda freq : -freq)\n",
    "\n",
    "    for topic_number, freq in lda_posts:\n",
    "        if freq < min_topic_freq:\n",
    "            continue\n",
    "        print ('{:30}{:.02f}'.format(topic_names[topic_number],\n",
    "                                round(freq, 3)))"
   ]
  },
  {
   "cell_type": "markdown",
   "metadata": {},
   "source": [
    "Let's try it !"
   ]
  },
  {
   "cell_type": "code",
   "execution_count": 117,
   "metadata": {},
   "outputs": [],
   "source": [
    "# Let's take random posts\n",
    "example_post1 = corpus[\"Content\"][1000]\n",
    "example_post2 = corpus['Content'][514]\n",
    "example_post3 = corpus['Content'][24646]"
   ]
  },
  {
   "cell_type": "markdown",
   "metadata": {},
   "source": [
    "Post 1 :"
   ]
  },
  {
   "cell_type": "code",
   "execution_count": 118,
   "metadata": {},
   "outputs": [
    {
     "name": "stdout",
     "output_type": "stream",
     "text": [
      "Raw post :\n",
      "✨ Today marks my last day at Studio71! ✨ I am so grateful for my time here and for having a position that allowed me to work across departments.  One of my favorite leaders at  Studio71, LP  is  Mike Fallon . He once told me:  “You should always make sure you listen as much as you talk. You don't have to agree, but you have to make sure they feel heard.\"  Thanks for always making me feel heard.  Thank you to the team  Garima Sharma ,  Emily Badgley ,  Tristan DiMaria ,  Alex Shannon , and so many more. I am going to miss y'all a ton! I will be announcing my next opportunity in the upcoming weeks, so stay tuned! #lastday   #gratitude   #careertransition \n",
      " \n",
      " \n",
      " …see more\n"
     ]
    }
   ],
   "source": [
    "print(\"Raw post :\")\n",
    "print(example_post1)"
   ]
  },
  {
   "cell_type": "code",
   "execution_count": 119,
   "metadata": {},
   "outputs": [
    {
     "name": "stdout",
     "output_type": "stream",
     "text": [
      "Content                       0.29\n",
      "People                        0.21\n",
      "Time & Goals                  0.18\n",
      "Conversations                 0.22\n"
     ]
    }
   ],
   "source": [
    "lda_description(example_post1)"
   ]
  },
  {
   "cell_type": "markdown",
   "metadata": {},
   "source": [
    "Post 2 : "
   ]
  },
  {
   "cell_type": "code",
   "execution_count": 120,
   "metadata": {},
   "outputs": [
    {
     "name": "stdout",
     "output_type": "stream",
     "text": [
      "Raw post :\n",
      "Getting help for the Lady Lucy Laugh Giraffe Auction from the amazing Maria. #heartcenteredmedia. She created a video -- for the auction and to help kids get ready for school and exercise their reading muscles.  Math muscles too.  #backtoschool #childrensbooks #childrenreading #animalwelfare #giraffe \n",
      " \n",
      " \n",
      " …see more\n"
     ]
    }
   ],
   "source": [
    "print(\"Raw post :\")\n",
    "print(example_post2)"
   ]
  },
  {
   "cell_type": "code",
   "execution_count": 121,
   "metadata": {},
   "outputs": [
    {
     "name": "stdout",
     "output_type": "stream",
     "text": [
      "Philosophic                   0.20\n",
      "People                        0.33\n",
      "Time & Goals                  0.40\n"
     ]
    }
   ],
   "source": [
    "lda_description(example_post2)"
   ]
  },
  {
   "cell_type": "markdown",
   "metadata": {},
   "source": [
    "Post 3 :"
   ]
  },
  {
   "cell_type": "code",
   "execution_count": 122,
   "metadata": {},
   "outputs": [
    {
     "name": "stdout",
     "output_type": "stream",
     "text": [
      "Raw post :\n",
      "For the 3rd year in a row @HabitSummit is taking the 50/50 Pledge in an effort to bring gender equality to the tech industry stage. Join us!\n"
     ]
    }
   ],
   "source": [
    "print(\"Raw post :\")\n",
    "print(example_post3)"
   ]
  },
  {
   "cell_type": "code",
   "execution_count": 123,
   "metadata": {},
   "outputs": [
    {
     "name": "stdout",
     "output_type": "stream",
     "text": [
      "Marketing                     0.12\n",
      "Content                       0.12\n",
      "People                        0.34\n",
      "Business                      0.25\n",
      "Conversations                 0.11\n"
     ]
    }
   ],
   "source": [
    "lda_description(example_post3)"
   ]
  },
  {
   "cell_type": "markdown",
   "metadata": {},
   "source": [
    "**Observations**\n",
    "\n",
    "As we can see, our topics choice is good, but can be improved significantly !\n",
    "\n",
    "Let's work with that anyway. \n",
    "\n",
    "Remember that our goal is to define what makes a LinkedIn post good. In this optic, let's define topics' influence on the number of reactions and comments. To do so, we will ponderate reactions & comments with topic's proportion into a post.\n",
    "\n",
    "For that we will create a dict object with the topic number as key and the frequency as value for each post !"
   ]
  },
  {
   "cell_type": "code",
   "execution_count": 124,
   "metadata": {},
   "outputs": [],
   "source": [
    "def lda_description_vector(post, min_topic_freq = 0.1):\n",
    "\n",
    "    \"\"\"\n",
    "    takes a post as input and return a dict with the topic ID as key and its frequency/proportion as value\"\"\"\n",
    "\n",
    "    # First we remove hashtags with rm_hashtags\n",
    "    first_clean_post = first_clean(post)\n",
    "\n",
    "    # Clean it with rules we have defined previously\n",
    "    # Rules are : not punct - not whitespace - not stopword - Nouns & Adjectives only\n",
    "    # cleaned_post is here a list of tokens\n",
    "    parsed_post = nlp(first_clean_post)\n",
    "    cleaned_post = (token.lemma_ for token in parsed_post if all(rules(token)))\n",
    "\n",
    "    # Define 2-words phrases\n",
    "    # Return a list of phrases / tokens\n",
    "    bigram_post = bigram_model[cleaned_post]\n",
    "\n",
    "    # Create a bag_of_words representation\n",
    "    bow_post = posts_dictionary.doc2bow(bigram_post)\n",
    "\n",
    "    # Create an LDA representation\n",
    "    lda_post = lda[bow_post]\n",
    "\n",
    "    # Return a Dict, which is better to assign a value with a column in a dataframe\n",
    "    return {topic : round(freq,3) for (topic,freq) in lda_post if freq > min_topic_freq}"
   ]
  },
  {
   "cell_type": "markdown",
   "metadata": {},
   "source": [
    "And we apply this function to our Dataframe"
   ]
  },
  {
   "cell_type": "code",
   "execution_count": 129,
   "metadata": {},
   "outputs": [
    {
     "name": "stdout",
     "output_type": "stream",
     "text": [
      "Wall time: 6min 35s\n"
     ]
    }
   ],
   "source": [
    "%%time\n",
    "# This code was long to run\n",
    "# Make the folloing statement true if you want to run it again\n",
    "if 1 == 1: \n",
    "\n",
    "    # With the functtion we have created, we apply it to the posts and it return a list of dict with {topics numbers : freq}\n",
    "    # We need to add \"list()\" because apply function returns a pd.serie and we need a list to assign values with their key\n",
    "    # dicts_topics = list(df1['Content'].apply(lda_description_vector))\n",
    "\n",
    "    dicts_topics = list(posts.apply(lda_description_vector))\n",
    "\n",
    "    # We create a dataframe with all topics as columns\n",
    "    # Then we assign freq to the respective with the dicts list we have created\n",
    "    # Nan frequencies (!=0) values are replaced by 0\n",
    "    df_topics_freq = pd.DataFrame(columns=range(num_topics))\n",
    "    df_topics_freq = df_topics_freq.append(dicts_topics,ignore_index=True).fillna(0)\n",
    "\n",
    "    # Then we concat our df's together\n",
    "    df_topics_reactions = pd.concat([corpus,df_topics_freq],axis=1)\n",
    "\n",
    "    # And we save it\n",
    "    df_topics_reactions.to_pickle(\"df_topics_reactions.pkl\")\n",
    "\n",
    "\n",
    "# Load Topics_Reactions\n",
    "df_topics_reactions = pd.read_pickle(\"df_topics_reactions.pkl\")\n"
   ]
  },
  {
   "cell_type": "markdown",
   "metadata": {},
   "source": [
    "And it looks like that :"
   ]
  },
  {
   "cell_type": "code",
   "execution_count": 131,
   "metadata": {},
   "outputs": [
    {
     "data": {
      "text/html": [
       "<div>\n",
       "<style scoped>\n",
       "    .dataframe tbody tr th:only-of-type {\n",
       "        vertical-align: middle;\n",
       "    }\n",
       "\n",
       "    .dataframe tbody tr th {\n",
       "        vertical-align: top;\n",
       "    }\n",
       "\n",
       "    .dataframe thead th {\n",
       "        text-align: right;\n",
       "    }\n",
       "</style>\n",
       "<table border=\"1\" class=\"dataframe\">\n",
       "  <thead>\n",
       "    <tr style=\"text-align: right;\">\n",
       "      <th></th>\n",
       "      <th>Name</th>\n",
       "      <th>#Reactions</th>\n",
       "      <th>#Comments</th>\n",
       "      <th>Followers</th>\n",
       "      <th>Content</th>\n",
       "      <th>0</th>\n",
       "      <th>1</th>\n",
       "      <th>2</th>\n",
       "      <th>3</th>\n",
       "      <th>4</th>\n",
       "      <th>5</th>\n",
       "      <th>6</th>\n",
       "      <th>7</th>\n",
       "      <th>8</th>\n",
       "      <th>9</th>\n",
       "    </tr>\n",
       "  </thead>\n",
       "  <tbody>\n",
       "    <tr>\n",
       "      <th>0</th>\n",
       "      <td>Nicholas Wyman</td>\n",
       "      <td>12</td>\n",
       "      <td>1</td>\n",
       "      <td>6484.0</td>\n",
       "      <td>Robert Lerman  writes that achieving a healthy...</td>\n",
       "      <td>0.218</td>\n",
       "      <td>0.0</td>\n",
       "      <td>0.343</td>\n",
       "      <td>0.108</td>\n",
       "      <td>0.000</td>\n",
       "      <td>0.295</td>\n",
       "      <td>0.0</td>\n",
       "      <td>0.0</td>\n",
       "      <td>0.000</td>\n",
       "      <td>0.0</td>\n",
       "    </tr>\n",
       "    <tr>\n",
       "      <th>1</th>\n",
       "      <td>Nicholas Wyman</td>\n",
       "      <td>11</td>\n",
       "      <td>0</td>\n",
       "      <td>6484.0</td>\n",
       "      <td>National disability advocate  Sara Hart Weir, ...</td>\n",
       "      <td>0.000</td>\n",
       "      <td>0.0</td>\n",
       "      <td>0.000</td>\n",
       "      <td>0.183</td>\n",
       "      <td>0.258</td>\n",
       "      <td>0.251</td>\n",
       "      <td>0.0</td>\n",
       "      <td>0.0</td>\n",
       "      <td>0.208</td>\n",
       "      <td>0.0</td>\n",
       "    </tr>\n",
       "  </tbody>\n",
       "</table>\n",
       "</div>"
      ],
      "text/plain": [
       "             Name  #Reactions  #Comments  Followers  \\\n",
       "0  Nicholas Wyman          12          1     6484.0   \n",
       "1  Nicholas Wyman          11          0     6484.0   \n",
       "\n",
       "                                             Content      0    1      2  \\\n",
       "0  Robert Lerman  writes that achieving a healthy...  0.218  0.0  0.343   \n",
       "1  National disability advocate  Sara Hart Weir, ...  0.000  0.0  0.000   \n",
       "\n",
       "       3      4      5    6    7      8    9  \n",
       "0  0.108  0.000  0.295  0.0  0.0  0.000  0.0  \n",
       "1  0.183  0.258  0.251  0.0  0.0  0.208  0.0  "
      ]
     },
     "execution_count": 131,
     "metadata": {},
     "output_type": "execute_result"
    }
   ],
   "source": [
    "df_topics_reactions.head(2)"
   ]
  },
  {
   "cell_type": "markdown",
   "metadata": {},
   "source": [
    "Some posts doesn't have topic's frequency, because the cleaning we have done cleared all the post.  \n",
    "Let's keep them anyway"
   ]
  },
  {
   "cell_type": "markdown",
   "metadata": {},
   "source": [
    "**Final step : determine which topics have to most reactions**\n",
    "\n",
    "To do so, we will assign to each topic the number of reactions relatively to the number of followers, by applying to it the frequency of each topic. \n",
    "\n",
    "To be clear, for each post, we apply this relation :\n",
    "\n",
    "$$ impact_{topic_i} = \\frac{reactions}{followers} \\times freq_{topic_i} $$"
   ]
  },
  {
   "cell_type": "code",
   "execution_count": 132,
   "metadata": {},
   "outputs": [],
   "source": [
    "# Let's create vectors for reactions, comments & followers\n",
    "reactions = np.array(df_topics_reactions[\"#Reactions\"])\n",
    "comments = np.array(df_topics_reactions[\"#Comments\"])\n",
    "followers = np.array(df_topics_reactions['Followers'])\n",
    "\n",
    "# We create the array of topics frequency\n",
    "# We take the last columns of the df, which correspond to the number of topics\n",
    "topic_freq = np.array(df_topics_reactions.iloc[:,-num_topics:])\n",
    "\n",
    "# Let's declare our array that has the same shape as topic_freq\n",
    "ponderated_reactions = np.zeros(shape=topic_freq.shape)\n",
    "ponderated_comments = np.zeros(shape=topic_freq.shape)\n",
    "\n",
    "# And we ponderate each reactions & comments with topic frequencies\n",
    "for i in range(len(reactions)):\n",
    "    ponderated_reactions[i,:] = np.dot(reactions[i],topic_freq[i,:])\n",
    "    ponderated_comments[i,:] = np.dot(comments[i],topic_freq[i,:])\n",
    "    \n",
    "# Now let's concat ths array as a dataframe to our author dataframe\n",
    "author_df = df_topics_reactions['Name']\n",
    "\n",
    "# We create new dataframes with topics frequencies ponderated with reactions & comments normalized\n",
    "ponderated_reactions_df = pd.DataFrame(data=ponderated_reactions,columns=range(num_topics))\n",
    "ponderated_comments_df = pd.DataFrame(data=ponderated_comments,columns=range(num_topics))\n",
    "\n",
    "# Then we create two dataframe which are the concatenation of authors & reactions/comments respectively\n",
    "final_reactions_df = pd.concat([author_df,ponderated_reactions_df],axis=1)\n",
    "final_comments_df = pd.concat([author_df,ponderated_comments_df],axis=1)"
   ]
  },
  {
   "cell_type": "code",
   "execution_count": 133,
   "metadata": {},
   "outputs": [
    {
     "data": {
      "text/html": [
       "<div>\n",
       "<style scoped>\n",
       "    .dataframe tbody tr th:only-of-type {\n",
       "        vertical-align: middle;\n",
       "    }\n",
       "\n",
       "    .dataframe tbody tr th {\n",
       "        vertical-align: top;\n",
       "    }\n",
       "\n",
       "    .dataframe thead th {\n",
       "        text-align: right;\n",
       "    }\n",
       "</style>\n",
       "<table border=\"1\" class=\"dataframe\">\n",
       "  <thead>\n",
       "    <tr style=\"text-align: right;\">\n",
       "      <th></th>\n",
       "      <th>Name</th>\n",
       "      <th>0</th>\n",
       "      <th>1</th>\n",
       "      <th>2</th>\n",
       "      <th>3</th>\n",
       "      <th>4</th>\n",
       "      <th>5</th>\n",
       "      <th>6</th>\n",
       "      <th>7</th>\n",
       "      <th>8</th>\n",
       "      <th>9</th>\n",
       "    </tr>\n",
       "  </thead>\n",
       "  <tbody>\n",
       "    <tr>\n",
       "      <th>0</th>\n",
       "      <td>Nicholas Wyman</td>\n",
       "      <td>2.616000</td>\n",
       "      <td>0.000000</td>\n",
       "      <td>4.116</td>\n",
       "      <td>1.296</td>\n",
       "      <td>0.000</td>\n",
       "      <td>3.540000</td>\n",
       "      <td>0.0</td>\n",
       "      <td>0.000000</td>\n",
       "      <td>0.000</td>\n",
       "      <td>0.000</td>\n",
       "    </tr>\n",
       "    <tr>\n",
       "      <th>1</th>\n",
       "      <td>Nicholas Wyman</td>\n",
       "      <td>0.000000</td>\n",
       "      <td>0.000000</td>\n",
       "      <td>0.000</td>\n",
       "      <td>2.013</td>\n",
       "      <td>2.838</td>\n",
       "      <td>2.761000</td>\n",
       "      <td>0.0</td>\n",
       "      <td>0.000000</td>\n",
       "      <td>2.288</td>\n",
       "      <td>0.000</td>\n",
       "    </tr>\n",
       "    <tr>\n",
       "      <th>2</th>\n",
       "      <td>Nicholas Wyman</td>\n",
       "      <td>0.000000</td>\n",
       "      <td>0.000000</td>\n",
       "      <td>0.000</td>\n",
       "      <td>6.512</td>\n",
       "      <td>0.000</td>\n",
       "      <td>25.123999</td>\n",
       "      <td>0.0</td>\n",
       "      <td>4.620000</td>\n",
       "      <td>0.000</td>\n",
       "      <td>5.324</td>\n",
       "    </tr>\n",
       "    <tr>\n",
       "      <th>3</th>\n",
       "      <td>Nicholas Wyman</td>\n",
       "      <td>0.000000</td>\n",
       "      <td>0.000000</td>\n",
       "      <td>0.000</td>\n",
       "      <td>0.000</td>\n",
       "      <td>0.000</td>\n",
       "      <td>12.408000</td>\n",
       "      <td>0.0</td>\n",
       "      <td>4.554000</td>\n",
       "      <td>0.000</td>\n",
       "      <td>2.662</td>\n",
       "    </tr>\n",
       "    <tr>\n",
       "      <th>4</th>\n",
       "      <td>Nicholas Wyman</td>\n",
       "      <td>4.935000</td>\n",
       "      <td>0.000000</td>\n",
       "      <td>3.003</td>\n",
       "      <td>0.000</td>\n",
       "      <td>5.040</td>\n",
       "      <td>5.166000</td>\n",
       "      <td>0.0</td>\n",
       "      <td>0.000000</td>\n",
       "      <td>0.000</td>\n",
       "      <td>0.000</td>\n",
       "    </tr>\n",
       "    <tr>\n",
       "      <th>...</th>\n",
       "      <td>...</td>\n",
       "      <td>...</td>\n",
       "      <td>...</td>\n",
       "      <td>...</td>\n",
       "      <td>...</td>\n",
       "      <td>...</td>\n",
       "      <td>...</td>\n",
       "      <td>...</td>\n",
       "      <td>...</td>\n",
       "      <td>...</td>\n",
       "      <td>...</td>\n",
       "    </tr>\n",
       "    <tr>\n",
       "      <th>31991</th>\n",
       "      <td>Simon Sinek</td>\n",
       "      <td>1117.395056</td>\n",
       "      <td>0.000000</td>\n",
       "      <td>0.000</td>\n",
       "      <td>0.000</td>\n",
       "      <td>0.000</td>\n",
       "      <td>1838.294966</td>\n",
       "      <td>0.0</td>\n",
       "      <td>0.000000</td>\n",
       "      <td>0.000</td>\n",
       "      <td>0.000</td>\n",
       "    </tr>\n",
       "    <tr>\n",
       "      <th>31992</th>\n",
       "      <td>Simon Sinek</td>\n",
       "      <td>0.000000</td>\n",
       "      <td>414.312005</td>\n",
       "      <td>0.000</td>\n",
       "      <td>0.000</td>\n",
       "      <td>0.000</td>\n",
       "      <td>706.368015</td>\n",
       "      <td>0.0</td>\n",
       "      <td>470.346017</td>\n",
       "      <td>0.000</td>\n",
       "      <td>0.000</td>\n",
       "    </tr>\n",
       "    <tr>\n",
       "      <th>31993</th>\n",
       "      <td>Simon Sinek</td>\n",
       "      <td>423.700982</td>\n",
       "      <td>0.000000</td>\n",
       "      <td>0.000</td>\n",
       "      <td>0.000</td>\n",
       "      <td>0.000</td>\n",
       "      <td>170.537991</td>\n",
       "      <td>0.0</td>\n",
       "      <td>0.000000</td>\n",
       "      <td>0.000</td>\n",
       "      <td>0.000</td>\n",
       "    </tr>\n",
       "    <tr>\n",
       "      <th>31994</th>\n",
       "      <td>Simon Sinek</td>\n",
       "      <td>372.276001</td>\n",
       "      <td>0.000000</td>\n",
       "      <td>0.000</td>\n",
       "      <td>0.000</td>\n",
       "      <td>0.000</td>\n",
       "      <td>0.000000</td>\n",
       "      <td>0.0</td>\n",
       "      <td>291.079996</td>\n",
       "      <td>0.000</td>\n",
       "      <td>0.000</td>\n",
       "    </tr>\n",
       "    <tr>\n",
       "      <th>31995</th>\n",
       "      <td>Simon Sinek</td>\n",
       "      <td>717.990021</td>\n",
       "      <td>0.000000</td>\n",
       "      <td>0.000</td>\n",
       "      <td>0.000</td>\n",
       "      <td>0.000</td>\n",
       "      <td>0.000000</td>\n",
       "      <td>0.0</td>\n",
       "      <td>0.000000</td>\n",
       "      <td>0.000</td>\n",
       "      <td>0.000</td>\n",
       "    </tr>\n",
       "  </tbody>\n",
       "</table>\n",
       "<p>31996 rows × 11 columns</p>\n",
       "</div>"
      ],
      "text/plain": [
       "                 Name            0           1      2      3      4  \\\n",
       "0      Nicholas Wyman     2.616000    0.000000  4.116  1.296  0.000   \n",
       "1      Nicholas Wyman     0.000000    0.000000  0.000  2.013  2.838   \n",
       "2      Nicholas Wyman     0.000000    0.000000  0.000  6.512  0.000   \n",
       "3      Nicholas Wyman     0.000000    0.000000  0.000  0.000  0.000   \n",
       "4      Nicholas Wyman     4.935000    0.000000  3.003  0.000  5.040   \n",
       "...               ...          ...         ...    ...    ...    ...   \n",
       "31991     Simon Sinek  1117.395056    0.000000  0.000  0.000  0.000   \n",
       "31992     Simon Sinek     0.000000  414.312005  0.000  0.000  0.000   \n",
       "31993     Simon Sinek   423.700982    0.000000  0.000  0.000  0.000   \n",
       "31994     Simon Sinek   372.276001    0.000000  0.000  0.000  0.000   \n",
       "31995     Simon Sinek   717.990021    0.000000  0.000  0.000  0.000   \n",
       "\n",
       "                 5    6           7      8      9  \n",
       "0         3.540000  0.0    0.000000  0.000  0.000  \n",
       "1         2.761000  0.0    0.000000  2.288  0.000  \n",
       "2        25.123999  0.0    4.620000  0.000  5.324  \n",
       "3        12.408000  0.0    4.554000  0.000  2.662  \n",
       "4         5.166000  0.0    0.000000  0.000  0.000  \n",
       "...            ...  ...         ...    ...    ...  \n",
       "31991  1838.294966  0.0    0.000000  0.000  0.000  \n",
       "31992   706.368015  0.0  470.346017  0.000  0.000  \n",
       "31993   170.537991  0.0    0.000000  0.000  0.000  \n",
       "31994     0.000000  0.0  291.079996  0.000  0.000  \n",
       "31995     0.000000  0.0    0.000000  0.000  0.000  \n",
       "\n",
       "[31996 rows x 11 columns]"
      ]
     },
     "execution_count": 133,
     "metadata": {},
     "output_type": "execute_result"
    }
   ],
   "source": [
    "# It looks like that\n",
    "final_reactions_df"
   ]
  },
  {
   "cell_type": "markdown",
   "metadata": {},
   "source": [
    "Now we can plot the influence of topics on the number of reactions and comments respectively."
   ]
  },
  {
   "cell_type": "markdown",
   "metadata": {},
   "source": [
    "To plot the data, we use the power of searborn : violinplot.  \n",
    "Like that we will have the distributions for each topic and we will be able to judge of the quality of the results.\n",
    "\n",
    "To use violinplot, let's transform a little bit our data, by using the method *melt*. From a dataframe, it returns a melted version, each row containing all the information we need"
   ]
  },
  {
   "cell_type": "code",
   "execution_count": 152,
   "metadata": {},
   "outputs": [
    {
     "data": {
      "text/html": [
       "<div>\n",
       "<style scoped>\n",
       "    .dataframe tbody tr th:only-of-type {\n",
       "        vertical-align: middle;\n",
       "    }\n",
       "\n",
       "    .dataframe tbody tr th {\n",
       "        vertical-align: top;\n",
       "    }\n",
       "\n",
       "    .dataframe thead th {\n",
       "        text-align: right;\n",
       "    }\n",
       "</style>\n",
       "<table border=\"1\" class=\"dataframe\">\n",
       "  <thead>\n",
       "    <tr style=\"text-align: right;\">\n",
       "      <th></th>\n",
       "      <th>Name</th>\n",
       "      <th>Topics</th>\n",
       "      <th>Ponderated_freq</th>\n",
       "    </tr>\n",
       "  </thead>\n",
       "  <tbody>\n",
       "    <tr>\n",
       "      <th>0</th>\n",
       "      <td>Nicholas Wyman</td>\n",
       "      <td>0</td>\n",
       "      <td>2.616</td>\n",
       "    </tr>\n",
       "    <tr>\n",
       "      <th>1</th>\n",
       "      <td>Nicholas Wyman</td>\n",
       "      <td>0</td>\n",
       "      <td>0.000</td>\n",
       "    </tr>\n",
       "    <tr>\n",
       "      <th>2</th>\n",
       "      <td>Nicholas Wyman</td>\n",
       "      <td>0</td>\n",
       "      <td>0.000</td>\n",
       "    </tr>\n",
       "    <tr>\n",
       "      <th>3</th>\n",
       "      <td>Nicholas Wyman</td>\n",
       "      <td>0</td>\n",
       "      <td>0.000</td>\n",
       "    </tr>\n",
       "    <tr>\n",
       "      <th>4</th>\n",
       "      <td>Nicholas Wyman</td>\n",
       "      <td>0</td>\n",
       "      <td>4.935</td>\n",
       "    </tr>\n",
       "    <tr>\n",
       "      <th>...</th>\n",
       "      <td>...</td>\n",
       "      <td>...</td>\n",
       "      <td>...</td>\n",
       "    </tr>\n",
       "    <tr>\n",
       "      <th>319955</th>\n",
       "      <td>Simon Sinek</td>\n",
       "      <td>9</td>\n",
       "      <td>0.000</td>\n",
       "    </tr>\n",
       "    <tr>\n",
       "      <th>319956</th>\n",
       "      <td>Simon Sinek</td>\n",
       "      <td>9</td>\n",
       "      <td>0.000</td>\n",
       "    </tr>\n",
       "    <tr>\n",
       "      <th>319957</th>\n",
       "      <td>Simon Sinek</td>\n",
       "      <td>9</td>\n",
       "      <td>0.000</td>\n",
       "    </tr>\n",
       "    <tr>\n",
       "      <th>319958</th>\n",
       "      <td>Simon Sinek</td>\n",
       "      <td>9</td>\n",
       "      <td>0.000</td>\n",
       "    </tr>\n",
       "    <tr>\n",
       "      <th>319959</th>\n",
       "      <td>Simon Sinek</td>\n",
       "      <td>9</td>\n",
       "      <td>0.000</td>\n",
       "    </tr>\n",
       "  </tbody>\n",
       "</table>\n",
       "<p>319960 rows × 3 columns</p>\n",
       "</div>"
      ],
      "text/plain": [
       "                  Name Topics  Ponderated_freq\n",
       "0       Nicholas Wyman      0            2.616\n",
       "1       Nicholas Wyman      0            0.000\n",
       "2       Nicholas Wyman      0            0.000\n",
       "3       Nicholas Wyman      0            0.000\n",
       "4       Nicholas Wyman      0            4.935\n",
       "...                ...    ...              ...\n",
       "319955     Simon Sinek      9            0.000\n",
       "319956     Simon Sinek      9            0.000\n",
       "319957     Simon Sinek      9            0.000\n",
       "319958     Simon Sinek      9            0.000\n",
       "319959     Simon Sinek      9            0.000\n",
       "\n",
       "[319960 rows x 3 columns]"
      ]
     },
     "execution_count": 152,
     "metadata": {},
     "output_type": "execute_result"
    }
   ],
   "source": [
    "# It looks like that :\n",
    "melted_reactions_df = final_reactions_df.melt(id_vars=\"Name\",\n",
    "                                                value_vars=final_reactions_df.columns,\n",
    "                                                var_name=\"Topics\",\n",
    "                                                value_name=\"Ponderated_freq\")\n",
    "melted_reactions_df"
   ]
  },
  {
   "cell_type": "code",
   "execution_count": 162,
   "metadata": {},
   "outputs": [
    {
     "data": {
      "text/html": [
       "<div>\n",
       "<style scoped>\n",
       "    .dataframe tbody tr th:only-of-type {\n",
       "        vertical-align: middle;\n",
       "    }\n",
       "\n",
       "    .dataframe tbody tr th {\n",
       "        vertical-align: top;\n",
       "    }\n",
       "\n",
       "    .dataframe thead th {\n",
       "        text-align: right;\n",
       "    }\n",
       "</style>\n",
       "<table border=\"1\" class=\"dataframe\">\n",
       "  <thead>\n",
       "    <tr style=\"text-align: right;\">\n",
       "      <th></th>\n",
       "      <th>Name</th>\n",
       "      <th>Topics</th>\n",
       "      <th>Ponderated_freq</th>\n",
       "      <th>Type</th>\n",
       "    </tr>\n",
       "  </thead>\n",
       "  <tbody>\n",
       "    <tr>\n",
       "      <th>0</th>\n",
       "      <td>Nicholas Wyman</td>\n",
       "      <td>0</td>\n",
       "      <td>2.616000</td>\n",
       "      <td>Reactions</td>\n",
       "    </tr>\n",
       "    <tr>\n",
       "      <th>1</th>\n",
       "      <td>Nicholas Wyman</td>\n",
       "      <td>0</td>\n",
       "      <td>4.935000</td>\n",
       "      <td>Reactions</td>\n",
       "    </tr>\n",
       "    <tr>\n",
       "      <th>2</th>\n",
       "      <td>Nicholas Wyman</td>\n",
       "      <td>0</td>\n",
       "      <td>7.680000</td>\n",
       "      <td>Reactions</td>\n",
       "    </tr>\n",
       "    <tr>\n",
       "      <th>3</th>\n",
       "      <td>Nicholas Wyman</td>\n",
       "      <td>0</td>\n",
       "      <td>2.900000</td>\n",
       "      <td>Reactions</td>\n",
       "    </tr>\n",
       "    <tr>\n",
       "      <th>4</th>\n",
       "      <td>Nicholas Wyman</td>\n",
       "      <td>0</td>\n",
       "      <td>2.184000</td>\n",
       "      <td>Reactions</td>\n",
       "    </tr>\n",
       "    <tr>\n",
       "      <th>...</th>\n",
       "      <td>...</td>\n",
       "      <td>...</td>\n",
       "      <td>...</td>\n",
       "      <td>...</td>\n",
       "    </tr>\n",
       "    <tr>\n",
       "      <th>179216</th>\n",
       "      <td>Simon Sinek</td>\n",
       "      <td>9</td>\n",
       "      <td>96.928002</td>\n",
       "      <td>Comments</td>\n",
       "    </tr>\n",
       "    <tr>\n",
       "      <th>179217</th>\n",
       "      <td>Simon Sinek</td>\n",
       "      <td>9</td>\n",
       "      <td>222.750005</td>\n",
       "      <td>Comments</td>\n",
       "    </tr>\n",
       "    <tr>\n",
       "      <th>179218</th>\n",
       "      <td>Simon Sinek</td>\n",
       "      <td>9</td>\n",
       "      <td>63.595001</td>\n",
       "      <td>Comments</td>\n",
       "    </tr>\n",
       "    <tr>\n",
       "      <th>179219</th>\n",
       "      <td>Simon Sinek</td>\n",
       "      <td>9</td>\n",
       "      <td>19.600000</td>\n",
       "      <td>Comments</td>\n",
       "    </tr>\n",
       "    <tr>\n",
       "      <th>179220</th>\n",
       "      <td>Simon Sinek</td>\n",
       "      <td>9</td>\n",
       "      <td>49.255998</td>\n",
       "      <td>Comments</td>\n",
       "    </tr>\n",
       "  </tbody>\n",
       "</table>\n",
       "<p>179221 rows × 4 columns</p>\n",
       "</div>"
      ],
      "text/plain": [
       "                  Name Topics  Ponderated_freq       Type\n",
       "0       Nicholas Wyman      0         2.616000  Reactions\n",
       "1       Nicholas Wyman      0         4.935000  Reactions\n",
       "2       Nicholas Wyman      0         7.680000  Reactions\n",
       "3       Nicholas Wyman      0         2.900000  Reactions\n",
       "4       Nicholas Wyman      0         2.184000  Reactions\n",
       "...                ...    ...              ...        ...\n",
       "179216     Simon Sinek      9        96.928002   Comments\n",
       "179217     Simon Sinek      9       222.750005   Comments\n",
       "179218     Simon Sinek      9        63.595001   Comments\n",
       "179219     Simon Sinek      9        19.600000   Comments\n",
       "179220     Simon Sinek      9        49.255998   Comments\n",
       "\n",
       "[179221 rows x 4 columns]"
      ]
     },
     "execution_count": 162,
     "metadata": {},
     "output_type": "execute_result"
    }
   ],
   "source": [
    "# We remove useless 0's\n",
    "melted_reactions_df = melted_reactions_df.loc[melted_reactions_df['Ponderated_freq'] != 0]\n",
    "# We add a column to inform that this dataset in reactions\n",
    "melted_reactions_df['Type'] = \"Reactions\"\n",
    "\n",
    "# We do the same for comments\n",
    "melted_comments_df = final_comments_df.melt(id_vars=\"Name\",value_vars=final_comments_df.columns,var_name=\"Topics\",value_name=\"Ponderated_freq\")\n",
    "# We remove useless 0's\n",
    "melted_comments_df = melted_comments_df.loc[melted_comments_df['Ponderated_freq'] != 0]\n",
    "# We add a column to inform that this dataset in comments\n",
    "melted_comments_df['Type'] = \"Comments\"\n",
    "\n",
    "# Then we concat df's\n",
    "melted_df = pd.concat([melted_reactions_df, melted_comments_df],axis=0)\n",
    "melted_df.reset_index(inplace=True,drop=True)\n",
    "\n",
    "melted_df"
   ]
  },
  {
   "cell_type": "markdown",
   "metadata": {},
   "source": [
    "As we said previously, it would be better to not mix authors because their audience are not equivalent. For the purpose of this project, let's take only few authors individually."
   ]
  },
  {
   "cell_type": "code",
   "execution_count": null,
   "metadata": {},
   "outputs": [
    {
     "data": {
      "text/plain": [
       "array(['Nicholas Wyman', 'Jonathan Wolfer', 'Karen Gross',\n",
       "       'Kaia Niambi Shivers Ph.D.', \"Daniel Cohen-I'm Flyering\",\n",
       "       'Natalie Riso', 'Dale Corley', 'James Calder', 'Yasi Baiani',\n",
       "       'Julie Kliger', 'Michelle de Haaff', 'Bertalan Meskó, MD, PhD',\n",
       "       'Michelle Chaffee', 'Beth Seidenberg', 'Russell Benaroya',\n",
       "       'Richard Branson', 'Mohamed El-Erian', 'James Altucher',\n",
       "       'Bernard Marr', 'Ian Bremmer', 'Sramana Mitra', 'Lynne Everatt',\n",
       "       'Justin Bariso', 'Carson Tate', 'Gary Frisch', 'James Bareham',\n",
       "       'Tai T.', 'Glenn Leibowitz', 'Marianne Griebler', 'Tom Goodwin',\n",
       "       'Katie Martell', 'Shama Hyder', 'Barry W. Enderwick',\n",
       "       'Steve Blakeman', 'Gillian Zoe Segal', 'Tom Foremski',\n",
       "       'Kiara Imani Williams, Esq.', 'Kellye Whitney', 'Simon Owens',\n",
       "       'Rachel Jones', 'Vikram Mansharamani', '🏉 Pascal Bouvier',\n",
       "       'Geoffrey Garrett', 'Ben Casselman', 'Tamal Bandyopadhyay',\n",
       "       'Karen Webster', 'Jody Padar', 'Hansi Mehrotra', 'Nick Ciubotariu',\n",
       "       'Neil Hughes', 'Nir Eyal', 'Shelly Palmer', 'Lee Naik',\n",
       "       'Danielle Newnham', 'Vani Kola', 'Chris McCann', 'Andrew Yang',\n",
       "       'Lisa Abeyta', 'Juliet de Baubigny', 'Sarah Kauss', 'Pocket Sun',\n",
       "       'Chantel Soumis', 'String Nguyen', 'Quentin Michael Allums',\n",
       "       'AJ Wilcox', \"Kevin O'Leary\", 'Amy Blaschka', 'Simon Sinek'],\n",
       "      dtype=object)"
      ]
     },
     "execution_count": 147,
     "metadata": {},
     "output_type": "execute_result"
    }
   ],
   "source": [
    "melted_df.Name.unique()"
   ]
  },
  {
   "cell_type": "markdown",
   "metadata": {},
   "source": [
    "**Let's start with Simon Sinek**"
   ]
  },
  {
   "cell_type": "code",
   "execution_count": 190,
   "metadata": {},
   "outputs": [
    {
     "data": {
      "image/png": "[encoded data removed]",
      "text/plain": [
       "<Figure size 1080x720 with 1 Axes>"
      ]
     },
     "metadata": {},
     "output_type": "display_data"
    }
   ],
   "source": [
    "one_author_df = melted_df.loc[melted_df['Name']==\"Simon Sinek\"]\n",
    "ax = sns.violinplot(data=one_author_df, x=\"Topics\", y=\"Ponderated_freq\", hue=\"Type\")\n",
    "ax.set(title='Simon Sinek')\n",
    "sns.set(rc={'figure.figsize':(15,10)})"
   ]
  },
  {
   "cell_type": "markdown",
   "metadata": {},
   "source": [
    "As we can see, the distribution of ponderated_frequency for each topics is too wide.  \n",
    "\n",
    "Let's see with an other author :"
   ]
  },
  {
   "cell_type": "code",
   "execution_count": 187,
   "metadata": {},
   "outputs": [
    {
     "data": {
      "image/png": "[encoded data removed]",
      "text/plain": [
       "<Figure size 1080x720 with 1 Axes>"
      ]
     },
     "metadata": {},
     "output_type": "display_data"
    }
   ],
   "source": [
    "one_author_df = melted_df.loc[melted_df['Name']==\"Sarah Kauss\"]\n",
    "ax = sns.violinplot(data=one_author_df, x=\"Topics\", y=\"Ponderated_freq\", hue=\"Type\")\n",
    "ax.set(title='Simon Sinek')\n",
    "sns.set(rc={'figure.figsize':(15,10)})"
   ]
  },
  {
   "cell_type": "markdown",
   "metadata": {},
   "source": [
    "There is something here but outliers conceal observations.\n",
    "Let's try to remove them"
   ]
  },
  {
   "cell_type": "code",
   "execution_count": 227,
   "metadata": {},
   "outputs": [],
   "source": [
    "# Filter with the 0.95 quantile and create the df\n",
    "q = np.quantile(melted_df['Ponderated_freq'], q=0.95)\n",
    "filtered_melted_df = melted_df.loc[melted_df['Ponderated_freq'] < q]"
   ]
  },
  {
   "cell_type": "markdown",
   "metadata": {},
   "source": [
    "**Simon SINEK**"
   ]
  },
  {
   "cell_type": "code",
   "execution_count": 235,
   "metadata": {},
   "outputs": [
    {
     "data": {
      "image/png": "[encoded data removed]",
      "text/plain": [
       "<Figure size 1080x720 with 1 Axes>"
      ]
     },
     "metadata": {},
     "output_type": "display_data"
    }
   ],
   "source": [
    "# Plot it\n",
    "one_author_df = filtered_melted_df.loc[filtered_melted_df['Name']==\"Simon Sinek\"]\n",
    "ax = sns.violinplot(data=one_author_df, x=\"Topics\", y=\"Ponderated_freq\", hue=\"Type\")\n",
    "ax.set(title='Simon Sinek')\n",
    "sns.set(rc={'figure.figsize':(15,10)})"
   ]
  },
  {
   "cell_type": "code",
   "execution_count": 236,
   "metadata": {},
   "outputs": [
    {
     "name": "stdout",
     "output_type": "stream",
     "text": [
      "596 posts were considered here\n"
     ]
    }
   ],
   "source": [
    "print(\"{} posts were considered here\".format(one_author_df.shape[0]))"
   ]
  },
  {
   "cell_type": "markdown",
   "metadata": {},
   "source": [
    "**Sarah Kauss**"
   ]
  },
  {
   "cell_type": "code",
   "execution_count": 237,
   "metadata": {},
   "outputs": [
    {
     "data": {
      "image/png": "[encoded data removed]",
      "text/plain": [
       "<Figure size 1080x720 with 1 Axes>"
      ]
     },
     "metadata": {},
     "output_type": "display_data"
    }
   ],
   "source": [
    "# Plot it\n",
    "one_author_df = filtered_melted_df.loc[filtered_melted_df['Name']==\"Sarah Kauss\"]\n",
    "ax = sns.violinplot(data=one_author_df, x=\"Topics\", y=\"Ponderated_freq\", hue=\"Type\")\n",
    "ax.set(title='Sarah Kauss')\n",
    "sns.set(rc={'figure.figsize':(15,10)})"
   ]
  },
  {
   "cell_type": "code",
   "execution_count": 238,
   "metadata": {},
   "outputs": [
    {
     "name": "stdout",
     "output_type": "stream",
     "text": [
      "219 posts were considered here\n"
     ]
    }
   ],
   "source": [
    "print(\"{} posts were considered here\".format(one_author_df.shape[0]))"
   ]
  },
  {
   "cell_type": "markdown",
   "metadata": {},
   "source": [
    "**Michelle Chaffee**"
   ]
  },
  {
   "cell_type": "code",
   "execution_count": 239,
   "metadata": {},
   "outputs": [
    {
     "data": {
      "image/png": "[encoded data removed]",
      "text/plain": [
       "<Figure size 1080x720 with 1 Axes>"
      ]
     },
     "metadata": {},
     "output_type": "display_data"
    }
   ],
   "source": [
    "# Plot it\n",
    "one_author_df = filtered_melted_df.loc[filtered_melted_df['Name']==\"Michelle Chaffee\"]\n",
    "ax = sns.violinplot(data=one_author_df, x=\"Topics\", y=\"Ponderated_freq\", hue=\"Type\")\n",
    "ax.set(title='Michelle Chaffee')\n",
    "sns.set(rc={'figure.figsize':(15,10)})"
   ]
  },
  {
   "cell_type": "code",
   "execution_count": 240,
   "metadata": {},
   "outputs": [
    {
     "name": "stdout",
     "output_type": "stream",
     "text": [
      "1974 posts were considered here\n"
     ]
    }
   ],
   "source": [
    "print(\"{} posts were considered here\".format(one_author_df.shape[0]))"
   ]
  },
  {
   "cell_type": "markdown",
   "metadata": {},
   "source": [
    "### Conclusions\n",
    "\n",
    "From this study using ponderated reactions & comments depending of a post topics, we didn't succeed to highlight patterns considering different authors. \n",
    "\n",
    "It appears that the distribution of ponderated reactions and comments is too wide and doesn't allow us to draw a conclusion about this topic modeling section.\n",
    "\n",
    "Topic modeling using LDA could be drastically improved, and more adequate topics could be found. \n",
    "\n",
    "Also, LinkedIn posts wasn't complete. Therefore an other web scraping could be done to increase the performance of this unsurpervized method. "
   ]
  },
  {
   "cell_type": "markdown",
   "metadata": {},
   "source": [
    "## General conclusions <a class=\"anchor\" id=\"6\"></a>"
   ]
  },
  {
   "cell_type": "markdown",
   "metadata": {},
   "source": [
    "During this project, we studied the influence of adding a medium into a Linkedin post and we performed a topic modeling to draw the influence of topics on reactions and comments. \n",
    "\n",
    "The dataset was composed of American celebrities like Simon Sinek, Richard Branson, and others.\n",
    "\n",
    "We showed that adding a media in the post would increase the attractivity ( (#reactions+#comments) / #followers) by 16%. We used a hypothesis test to verify this affirmation. \n",
    "\n",
    "Also, we defined 10 topics to represent all the posts we had in this dataset. However, our model didn't find relatively good topics for the human eye. We tried to highlight which topics have the most reaction and comments depending on topics proportion into a post. However, the results didn't show a clear pattern to make a decision. \n",
    "\n",
    "This could be resumed and improved in the near future. Don't hesitate if you have any suggestion or advice !"
   ]
  },
  {
   "cell_type": "markdown",
   "metadata": {},
   "source": [
    "## Personnal note <a class=\"anchor\" id=\"7\"></a>\n",
    "\n",
    "This project allowed me to discover NLP and topic modeling. I appreciated to do it and hope it will help in your future projects. \n",
    "\n",
    "Don't hesitate to leave a comment to give me advices or corrections. \n",
    "\n",
    "Thank you for the reading and I hope you enjoyed this project. "
   ]
  },
  {
   "cell_type": "markdown",
   "metadata": {},
   "source": [
    "## Acknowledgment <a class=\"anchor\" id=\"8\"></a>"
   ]
  },
  {
   "cell_type": "markdown",
   "metadata": {},
   "source": [
    "I would like to thanks **Shreya Sajal** for the dataset you can find on this link on Kaggle : https://www.kaggle.com/shreyasajal/linkedin-influencers-data\n",
    "\n",
    "I would like also aknowledge **Alice Zhao** and **Patrick Harisson** for their work and the fact they shared their knowledge about NLP on Youtube. This project wouldn't exist without them. \n",
    "\n",
    "**Alice Zhao**\n",
    "Youtube : https://www.youtube.com/watch?t=2145&v=xvqsFTUsOmc&feature=emb_imp_woyt&ab_channel=PyOhio\n",
    "Github : https://github.com/adashofdata\n",
    "\n",
    "**Patrick Harisson**\n",
    "Youtube : https://www.youtube.com/watch?v=6zm9NC9uRkk&t=3775s\n",
    "Github : https://github.com/pwharrison"
   ]
  }
 ],
 "metadata": {
  "interpreter": {
   "hash": "ae290cde4634a6443381d55bbe6f1180de26a7de00f3f0eb338834ba70f07938"
  },
  "kernelspec": {
   "display_name": "Python 3.8.8 ('base')",
   "language": "python",
   "name": "python3"
  },
  "language_info": {
   "codemirror_mode": {
    "name": "ipython",
    "version": 3
   },
   "file_extension": ".py",
   "mimetype": "text/x-python",
   "name": "python",
   "nbconvert_exporter": "python",
   "pygments_lexer": "ipython3",
   "version": "3.8.8"
  },
  "orig_nbformat": 4
 },
 "nbformat": 4,
 "nbformat_minor": 2
}
