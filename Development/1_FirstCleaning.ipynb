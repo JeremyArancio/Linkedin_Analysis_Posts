{
 "cells": [
  {
   "cell_type": "markdown",
   "metadata": {},
   "source": [
    "# Linkedin Posts Analysis"
   ]
  },
  {
   "cell_type": "markdown",
   "metadata": {},
   "source": [
    "## Question : what makes a post good ?\n",
    "\n",
    "Nowadays, a lot of businesses are based on the relationship with their prospects and clients.   \n",
    "Moreover, a lot of \"Linkedin experts\" propose their services for companies to increase their visibility on this social media.  \n",
    "\n",
    "Understanding what makes a post good on LinkedIn is essential to increase the reach, interactions with prospects, to create trust and therefore increase business revenus. \n",
    "\n",
    "In this notebook, we will study a dataset provided on Kaggle to understand which criteria make a post really \"good\" on this social media. \n",
    "\n",
    "We call a \"good post\" content which creates interactions with the community. "
   ]
  },
  {
   "cell_type": "markdown",
   "metadata": {},
   "source": [
    "### Datasets comments on Kaggle\n",
    "\n",
    "This dataset contains LinkedIn Influencers' post details and other details(post dependent as well as independent) per post. This dataset can be used to analyze LinkedIn reach based on post content and related account details.\n",
    "\n",
    "This dataset is great for Exploratory Data Analysis and NLP tasks.\n",
    "\n",
    "The data was scraped using BeautifulSoup and Selenium.Last updated on 15th Feb,2021"
   ]
  },
  {
   "cell_type": "markdown",
   "metadata": {},
   "source": [
    "### Principal steps of this analysis\n",
    "* Understand the dataset\n",
    "* Cleaning\n",
    "* EDA"
   ]
  },
  {
   "cell_type": "markdown",
   "metadata": {},
   "source": [
    "# Libraries"
   ]
  },
  {
   "cell_type": "code",
   "execution_count": 1,
   "metadata": {},
   "outputs": [],
   "source": [
    "import pandas as pd\n",
    "import matplotlib.pyplot as plt\n",
    "import requests\n",
    "import io"
   ]
  },
  {
   "cell_type": "markdown",
   "metadata": {},
   "source": [
    "# Downloading the dataset"
   ]
  },
  {
   "cell_type": "code",
   "execution_count": 2,
   "metadata": {},
   "outputs": [],
   "source": [
    "# # Downloading the csv.file from my Github account\n",
    "\n",
    "# # We copy the \"raw\" link\n",
    "# url = \"https://github.com/JeremyArancio/Linkedin_Post_Analysis/blob/main/influencers_data.csv?raw=true\"\n",
    "# download = requests.get(url).content\n",
    "\n",
    "# # Reading the downloaded content and turning it into a pandas dataframe\n",
    "# df = pd.read_csv(io.StringIO(download.decode('utf-8')))"
   ]
  },
  {
   "cell_type": "code",
   "execution_count": 3,
   "metadata": {},
   "outputs": [
    {
     "name": "stderr",
     "output_type": "stream",
     "text": [
      "C:\\Users\\Jeremy\\anaconda3\\lib\\site-packages\\IPython\\core\\interactiveshell.py:3444: DtypeWarning: Columns (18) have mixed types.Specify dtype option on import or set low_memory=False.\n",
      "  exec(code_obj, self.user_global_ns, self.user_ns)\n"
     ]
    }
   ],
   "source": [
    "df = pd.read_csv('influencers_data.csv')"
   ]
  },
  {
   "cell_type": "markdown",
   "metadata": {},
   "source": [
    "# First look"
   ]
  },
  {
   "cell_type": "code",
   "execution_count": 4,
   "metadata": {},
   "outputs": [
    {
     "name": "stdout",
     "output_type": "stream",
     "text": [
      "<class 'pandas.core.frame.DataFrame'>\n",
      "RangeIndex: 34012 entries, 0 to 34011\n",
      "Data columns (total 19 columns):\n",
      " #   Column             Non-Null Count  Dtype  \n",
      "---  ------             --------------  -----  \n",
      " 0   Unnamed: 0         34012 non-null  int64  \n",
      " 1   name               34012 non-null  object \n",
      " 2   headline           34012 non-null  object \n",
      " 3   location           31740 non-null  object \n",
      " 4   followers          33970 non-null  float64\n",
      " 5   connections        25713 non-null  object \n",
      " 6   about              34012 non-null  object \n",
      " 7   time_spent         34011 non-null  object \n",
      " 8   content            31996 non-null  object \n",
      " 9   content_links      34012 non-null  object \n",
      " 10  media_type         26779 non-null  object \n",
      " 11  media_url          34012 non-null  object \n",
      " 12  num_hashtags       34012 non-null  int64  \n",
      " 13  hashtag_followers  34012 non-null  int64  \n",
      " 14  hashtags           34012 non-null  object \n",
      " 15  reactions          34012 non-null  int64  \n",
      " 16  comments           34012 non-null  int64  \n",
      " 17  views              0 non-null      float64\n",
      " 18  votes              86 non-null     object \n",
      "dtypes: float64(2), int64(5), object(12)\n",
      "memory usage: 4.9+ MB\n"
     ]
    }
   ],
   "source": [
    "df.info()"
   ]
  },
  {
   "cell_type": "code",
   "execution_count": 5,
   "metadata": {},
   "outputs": [
    {
     "data": {
      "text/plain": [
       "Unnamed: 0             0.000000\n",
       "name                   0.000000\n",
       "headline               0.000000\n",
       "location               6.679995\n",
       "followers              0.123486\n",
       "connections           24.400212\n",
       "about                  0.000000\n",
       "time_spent             0.002940\n",
       "content                5.927320\n",
       "content_links          0.000000\n",
       "media_type            21.266024\n",
       "media_url              0.000000\n",
       "num_hashtags           0.000000\n",
       "hashtag_followers      0.000000\n",
       "hashtags               0.000000\n",
       "reactions              0.000000\n",
       "comments               0.000000\n",
       "views                100.000000\n",
       "votes                 99.747148\n",
       "dtype: float64"
      ]
     },
     "execution_count": 5,
     "metadata": {},
     "output_type": "execute_result"
    }
   ],
   "source": [
    "#Nan in %\n",
    "df.isna().sum() / df.shape[0] * 100"
   ]
  },
  {
   "cell_type": "code",
   "execution_count": 6,
   "metadata": {},
   "outputs": [
    {
     "data": {
      "text/html": [
       "<div>\n",
       "<style scoped>\n",
       "    .dataframe tbody tr th:only-of-type {\n",
       "        vertical-align: middle;\n",
       "    }\n",
       "\n",
       "    .dataframe tbody tr th {\n",
       "        vertical-align: top;\n",
       "    }\n",
       "\n",
       "    .dataframe thead th {\n",
       "        text-align: right;\n",
       "    }\n",
       "</style>\n",
       "<table border=\"1\" class=\"dataframe\">\n",
       "  <thead>\n",
       "    <tr style=\"text-align: right;\">\n",
       "      <th></th>\n",
       "      <th>Unnamed: 0</th>\n",
       "      <th>name</th>\n",
       "      <th>headline</th>\n",
       "      <th>location</th>\n",
       "      <th>followers</th>\n",
       "      <th>connections</th>\n",
       "      <th>about</th>\n",
       "      <th>time_spent</th>\n",
       "      <th>content</th>\n",
       "      <th>content_links</th>\n",
       "      <th>media_type</th>\n",
       "      <th>media_url</th>\n",
       "      <th>num_hashtags</th>\n",
       "      <th>hashtag_followers</th>\n",
       "      <th>hashtags</th>\n",
       "      <th>reactions</th>\n",
       "      <th>comments</th>\n",
       "      <th>views</th>\n",
       "      <th>votes</th>\n",
       "    </tr>\n",
       "  </thead>\n",
       "  <tbody>\n",
       "    <tr>\n",
       "      <th>0</th>\n",
       "      <td>0</td>\n",
       "      <td>Nicholas Wyman</td>\n",
       "      <td>CEO IWSI Group</td>\n",
       "      <td>NaN</td>\n",
       "      <td>6484.0</td>\n",
       "      <td>500+</td>\n",
       "      <td>Nicholas Wyman for the past 25 years has shone...</td>\n",
       "      <td>1 day ago</td>\n",
       "      <td>Robert Lerman  writes that achieving a healthy...</td>\n",
       "      <td>[['https://www.linkedin.com/in/ACoAAACy1HkBviR...</td>\n",
       "      <td>article</td>\n",
       "      <td>['https://www.urban.org/urban-wire/its-time-mo...</td>\n",
       "      <td>4</td>\n",
       "      <td>0</td>\n",
       "      <td>[['#workbasedlearning', 'https://www.linkedin....</td>\n",
       "      <td>12</td>\n",
       "      <td>1</td>\n",
       "      <td>NaN</td>\n",
       "      <td>NaN</td>\n",
       "    </tr>\n",
       "  </tbody>\n",
       "</table>\n",
       "</div>"
      ],
      "text/plain": [
       "   Unnamed: 0            name        headline location  followers connections  \\\n",
       "0           0  Nicholas Wyman  CEO IWSI Group      NaN     6484.0        500+   \n",
       "\n",
       "                                               about time_spent  \\\n",
       "0  Nicholas Wyman for the past 25 years has shone...  1 day ago   \n",
       "\n",
       "                                             content  \\\n",
       "0  Robert Lerman  writes that achieving a healthy...   \n",
       "\n",
       "                                       content_links media_type  \\\n",
       "0  [['https://www.linkedin.com/in/ACoAAACy1HkBviR...    article   \n",
       "\n",
       "                                           media_url  num_hashtags  \\\n",
       "0  ['https://www.urban.org/urban-wire/its-time-mo...             4   \n",
       "\n",
       "   hashtag_followers                                           hashtags  \\\n",
       "0                  0  [['#workbasedlearning', 'https://www.linkedin....   \n",
       "\n",
       "   reactions  comments  views votes  \n",
       "0         12         1    NaN   NaN  "
      ]
     },
     "execution_count": 6,
     "metadata": {},
     "output_type": "execute_result"
    }
   ],
   "source": [
    "df.head(1)"
   ]
  },
  {
   "cell_type": "markdown",
   "metadata": {},
   "source": [
    "## Observations for the Comments section"
   ]
  },
  {
   "cell_type": "code",
   "execution_count": 7,
   "metadata": {},
   "outputs": [
    {
     "data": {
      "text/plain": [
       "1 year ago     7753\n",
       "2 years ago    5728\n",
       "3 years ago    3759\n",
       "Name: time_spent, dtype: int64"
      ]
     },
     "execution_count": 7,
     "metadata": {},
     "output_type": "execute_result"
    }
   ],
   "source": [
    "#Let's check Time_spent\n",
    "df.time_spent.value_counts().head(3)"
   ]
  },
  {
   "cell_type": "code",
   "execution_count": 8,
   "metadata": {},
   "outputs": [
    {
     "data": {
      "text/plain": [
       "article       15144\n",
       "image          8708\n",
       "video          2690\n",
       "document        113\n",
       "poll             86\n",
       "entity           32\n",
       "newsletter        4\n",
       "view              2\n",
       "Name: media_type, dtype: int64"
      ]
     },
     "execution_count": 8,
     "metadata": {},
     "output_type": "execute_result"
    }
   ],
   "source": [
    "#Let's check Media_type\n",
    "df.media_type.value_counts()"
   ]
  },
  {
   "cell_type": "code",
   "execution_count": 9,
   "metadata": {},
   "outputs": [
    {
     "data": {
      "text/plain": [
       "\"[['https://www.linkedin.com/in/ACoAAACy1HkBviRGLfLG__Jk8FRH2JY2rGg3nTU', 'Robert Lerman'], ['https://www.linkedin.com/feed/hashtag/?keywords=workbasedlearning&highlightedUpdateUrns=urn%3Ali%3Aactivity%3A6765387069389967360', '#workbasedlearning'], ['https://www.linkedin.com/feed/hashtag/?keywords=usa&highlightedUpdateUrns=urn%3Ali%3Aactivity%3A6765387069389967360', '#USA'], ['https://www.linkedin.com/feed/hashtag/?keywords=apprenticeship&highlightedUpdateUrns=urn%3Ali%3Aactivity%3A6765387069389967360', '#apprenticeship'], ['https://www.linkedin.com/feed/hashtag/?keywords=urbanwire&highlightedUpdateUrns=urn%3Ali%3Aactivity%3A6765387069389967360', '#UrbanWire'], ['https://www.linkedin.com/company/urban-institute/', 'Urban Institute']]\""
      ]
     },
     "execution_count": 9,
     "metadata": {},
     "output_type": "execute_result"
    }
   ],
   "source": [
    "#Content_links\n",
    "df.content_links[0]"
   ]
  },
  {
   "cell_type": "code",
   "execution_count": 10,
   "metadata": {},
   "outputs": [
    {
     "data": {
      "text/plain": [
       "\"['https://www.urban.org/urban-wire/its-time-modernize-american-apprenticeship-system']\""
      ]
     },
     "execution_count": 10,
     "metadata": {},
     "output_type": "execute_result"
    }
   ],
   "source": [
    "#Media_url\n",
    "df.media_url.head()[0]"
   ]
  },
  {
   "cell_type": "code",
   "execution_count": 11,
   "metadata": {},
   "outputs": [
    {
     "data": {
      "text/plain": [
       "0    34012\n",
       "Name: hashtag_followers, dtype: int64"
      ]
     },
     "execution_count": 11,
     "metadata": {},
     "output_type": "execute_result"
    }
   ],
   "source": [
    "#Hashtags_followers\n",
    "df.hashtag_followers.value_counts()"
   ]
  },
  {
   "cell_type": "code",
   "execution_count": 12,
   "metadata": {},
   "outputs": [
    {
     "data": {
      "text/plain": [
       "\"[['#workbasedlearning', 'https://www.linkedin.com/feed/hashtag/?keywords=workbasedlearning&highlightedUpdateUrns=urn%3Ali%3Aactivity%3A6765387069389967360'], ['#USA', 'https://www.linkedin.com/feed/hashtag/?keywords=usa&highlightedUpdateUrns=urn%3Ali%3Aactivity%3A6765387069389967360'], ['#apprenticeship', 'https://www.linkedin.com/feed/hashtag/?keywords=apprenticeship&highlightedUpdateUrns=urn%3Ali%3Aactivity%3A6765387069389967360'], ['#UrbanWire', 'https://www.linkedin.com/feed/hashtag/?keywords=urbanwire&highlightedUpdateUrns=urn%3Ali%3Aactivity%3A6765387069389967360']]\""
      ]
     },
     "execution_count": 12,
     "metadata": {},
     "output_type": "execute_result"
    }
   ],
   "source": [
    "#hashtags\n",
    "df.hashtags[0]"
   ]
  },
  {
   "cell_type": "code",
   "execution_count": 13,
   "metadata": {},
   "outputs": [
    {
     "data": {
      "text/plain": [
       "265.0    3\n",
       "240.0    2\n",
       "141.0    2\n",
       "256.0    1\n",
       "305.0    1\n",
       "        ..\n",
       "195      1\n",
       "881.0    1\n",
       "59       1\n",
       "2,131    1\n",
       "387.0    1\n",
       "Name: votes, Length: 82, dtype: int64"
      ]
     },
     "execution_count": 13,
     "metadata": {},
     "output_type": "execute_result"
    }
   ],
   "source": [
    "df.votes.value_counts()"
   ]
  },
  {
   "cell_type": "code",
   "execution_count": 14,
   "metadata": {},
   "outputs": [
    {
     "data": {
      "text/plain": [
       "500+    25633\n",
       "171        80\n",
       "Name: connections, dtype: int64"
      ]
     },
     "execution_count": 14,
     "metadata": {},
     "output_type": "execute_result"
    }
   ],
   "source": [
    "#Connections\n",
    "df.connections.value_counts()"
   ]
  },
  {
   "cell_type": "code",
   "execution_count": 15,
   "metadata": {},
   "outputs": [
    {
     "data": {
      "text/plain": [
       "['New', 'York,', 'New', 'York,', 'United', 'States']    4234\n",
       "['Miami,', 'Florida,', 'United', 'States']              1959\n",
       "['Hungary']                                             1846\n",
       "['Cambridge,', 'England,', 'United', 'Kingdom']         1784\n",
       "['New', 'York', 'City', 'Metropolitan', 'Area']         1738\n",
       "Name: location, dtype: int64"
      ]
     },
     "execution_count": 15,
     "metadata": {},
     "output_type": "execute_result"
    }
   ],
   "source": [
    "#Location\n",
    "df.location.value_counts().head()"
   ]
  },
  {
   "cell_type": "code",
   "execution_count": 16,
   "metadata": {},
   "outputs": [
    {
     "data": {
      "text/plain": [
       "2272"
      ]
     },
     "execution_count": 16,
     "metadata": {},
     "output_type": "execute_result"
    }
   ],
   "source": [
    "#Location nan\n",
    "df.location.isna().sum()"
   ]
  },
  {
   "cell_type": "code",
   "execution_count": 17,
   "metadata": {},
   "outputs": [
    {
     "data": {
      "text/plain": [
       "article       15144\n",
       "image          8708\n",
       "video          2690\n",
       "document        113\n",
       "poll             86\n",
       "entity           32\n",
       "newsletter        4\n",
       "view              2\n",
       "Name: media_type, dtype: int64"
      ]
     },
     "execution_count": 17,
     "metadata": {},
     "output_type": "execute_result"
    }
   ],
   "source": [
    "#Media types\n",
    "df.media_type.value_counts()"
   ]
  },
  {
   "cell_type": "code",
   "execution_count": 18,
   "metadata": {},
   "outputs": [
    {
     "data": {
      "text/plain": [
       "7233"
      ]
     },
     "execution_count": 18,
     "metadata": {},
     "output_type": "execute_result"
    }
   ],
   "source": [
    "#Media types\n",
    "df.media_type.isna().sum()"
   ]
  },
  {
   "cell_type": "markdown",
   "metadata": {},
   "source": [
    "## Comments"
   ]
  },
  {
   "cell_type": "markdown",
   "metadata": {},
   "source": [
    "We have different columns :\n",
    "* Unnamed : to delete\n",
    "* Name : Linkedin profile\n",
    "* Headline : below the name in Linkedin\n",
    "* Location : some Nan ; List : example ['Gloucester,', 'Massachusetts,', 'United', 'States']\n",
    "* Followers : number of followers (connextions + followers in Linkedin) ; This dataset is composed of influencers with a lot of followers\n",
    "* Connections : careful of 500+ (is it useful ?) => only 2 differents values => delete it !\n",
    "* About : about section in the profile\n",
    "* time_spent : time between the post date & when this dataset was created (categorical values : 1 month ago, 5 years ago, ...)\n",
    "* Content : core of the content\n",
    "* Content_links : every links conatined in the post : profile, #, media (website, picture,...)\n",
    "* Media_type : media added to the post : article, image, photo,... ; Some nan\n",
    "* Media_url : link of the media\n",
    "* Num_hashtags : number\n",
    "* Hashtag_followers : nulls\n",
    "* Hashtags : [['#',\"link\"]]\n",
    "* Reactions : number of likes, supports, loves,... counted as identical\n",
    "* Comments : number of comments\n",
    "* Views : Nan\n",
    "* Votes : 82 non-null, composed of decimal numbers too. Weird. Because it is unsignificant, we could delete it"
   ]
  },
  {
   "cell_type": "markdown",
   "metadata": {},
   "source": [
    "# Cleaning"
   ]
  },
  {
   "cell_type": "markdown",
   "metadata": {},
   "source": [
    "## Drop useless columns"
   ]
  },
  {
   "cell_type": "code",
   "execution_count": 19,
   "metadata": {},
   "outputs": [],
   "source": [
    "df_dropped = df.drop(['Unnamed: 0','connections','hashtag_followers','views','votes'],axis=1)"
   ]
  },
  {
   "cell_type": "markdown",
   "metadata": {},
   "source": [
    "## Replace Nan"
   ]
  },
  {
   "cell_type": "markdown",
   "metadata": {},
   "source": [
    "New save of the dataset modified"
   ]
  },
  {
   "cell_type": "code",
   "execution_count": 20,
   "metadata": {},
   "outputs": [],
   "source": [
    "df_fillNa = df_dropped.copy()"
   ]
  },
  {
   "cell_type": "code",
   "execution_count": 21,
   "metadata": {},
   "outputs": [
    {
     "data": {
      "text/plain": [
       "name                0\n",
       "headline            0\n",
       "location         2272\n",
       "followers          42\n",
       "about               0\n",
       "time_spent          1\n",
       "content          2016\n",
       "content_links       0\n",
       "media_type       7233\n",
       "media_url           0\n",
       "num_hashtags        0\n",
       "hashtags            0\n",
       "reactions           0\n",
       "comments            0\n",
       "dtype: int64"
      ]
     },
     "execution_count": 21,
     "metadata": {},
     "output_type": "execute_result"
    }
   ],
   "source": [
    "df_fillNa.isna().sum()"
   ]
  },
  {
   "cell_type": "markdown",
   "metadata": {},
   "source": [
    "### Location"
   ]
  },
  {
   "cell_type": "markdown",
   "metadata": {},
   "source": [
    "Some locations are missing, then we are going to replace them by Unknown"
   ]
  },
  {
   "cell_type": "code",
   "execution_count": 22,
   "metadata": {},
   "outputs": [],
   "source": [
    "#We add a new column 'Locations'\n",
    "df_fillNa[\"Locations\"] = df_dropped['location'].fillna('Unknown')"
   ]
  },
  {
   "cell_type": "code",
   "execution_count": 23,
   "metadata": {},
   "outputs": [],
   "source": [
    "#Then we drop the previous \"location\" column\n",
    "df_fillNa = df_fillNa.drop(['location'],axis=1)"
   ]
  },
  {
   "cell_type": "markdown",
   "metadata": {},
   "source": [
    "### Followers"
   ]
  },
  {
   "cell_type": "markdown",
   "metadata": {},
   "source": [
    "To avoid any bias, let's take the mean to replace Nan.  \n",
    "There are only 42 missing values."
   ]
  },
  {
   "cell_type": "code",
   "execution_count": 24,
   "metadata": {},
   "outputs": [
    {
     "data": {
      "text/plain": [
       "1125922.2806005299"
      ]
     },
     "execution_count": 24,
     "metadata": {},
     "output_type": "execute_result"
    }
   ],
   "source": [
    "Followers_mean = df_fillNa.followers.mean()\n",
    "Followers_mean"
   ]
  },
  {
   "cell_type": "code",
   "execution_count": 25,
   "metadata": {},
   "outputs": [],
   "source": [
    "df_fillNa[\"Followers\"] = df_fillNa['followers'].fillna(Followers_mean)"
   ]
  },
  {
   "cell_type": "code",
   "execution_count": 26,
   "metadata": {},
   "outputs": [],
   "source": [
    "#Drop\n",
    "df_fillNa = df_fillNa.drop(['followers'],axis=1)"
   ]
  },
  {
   "cell_type": "markdown",
   "metadata": {},
   "source": [
    "### Time spent"
   ]
  },
  {
   "cell_type": "markdown",
   "metadata": {},
   "source": [
    "There is only one missing value. "
   ]
  },
  {
   "cell_type": "code",
   "execution_count": 27,
   "metadata": {},
   "outputs": [
    {
     "data": {
      "text/html": [
       "<div>\n",
       "<style scoped>\n",
       "    .dataframe tbody tr th:only-of-type {\n",
       "        vertical-align: middle;\n",
       "    }\n",
       "\n",
       "    .dataframe tbody tr th {\n",
       "        vertical-align: top;\n",
       "    }\n",
       "\n",
       "    .dataframe thead th {\n",
       "        text-align: right;\n",
       "    }\n",
       "</style>\n",
       "<table border=\"1\" class=\"dataframe\">\n",
       "  <thead>\n",
       "    <tr style=\"text-align: right;\">\n",
       "      <th></th>\n",
       "      <th>name</th>\n",
       "      <th>headline</th>\n",
       "      <th>about</th>\n",
       "      <th>time_spent</th>\n",
       "      <th>content</th>\n",
       "      <th>content_links</th>\n",
       "      <th>media_type</th>\n",
       "      <th>media_url</th>\n",
       "      <th>num_hashtags</th>\n",
       "      <th>hashtags</th>\n",
       "      <th>reactions</th>\n",
       "      <th>comments</th>\n",
       "      <th>Locations</th>\n",
       "      <th>Followers</th>\n",
       "    </tr>\n",
       "  </thead>\n",
       "  <tbody>\n",
       "    <tr>\n",
       "      <th>14049</th>\n",
       "      <td>Gary Frisch</td>\n",
       "      <td>30-Year Public Relations Pro and Skilled Writer</td>\n",
       "      <td>I began my public relations careers when the S...</td>\n",
       "      <td>NaN</td>\n",
       "      <td>Amid Coronavirus, PR pros should tread careful...</td>\n",
       "      <td>[]</td>\n",
       "      <td>article</td>\n",
       "      <td>['https://www.linkedin.com/pulse/public-relati...</td>\n",
       "      <td>0</td>\n",
       "      <td>[]</td>\n",
       "      <td>8</td>\n",
       "      <td>2</td>\n",
       "      <td>['Greater', 'Philadelphia']</td>\n",
       "      <td>30971.0</td>\n",
       "    </tr>\n",
       "  </tbody>\n",
       "</table>\n",
       "</div>"
      ],
      "text/plain": [
       "              name                                         headline  \\\n",
       "14049  Gary Frisch  30-Year Public Relations Pro and Skilled Writer   \n",
       "\n",
       "                                                   about time_spent  \\\n",
       "14049  I began my public relations careers when the S...        NaN   \n",
       "\n",
       "                                                 content content_links  \\\n",
       "14049  Amid Coronavirus, PR pros should tread careful...            []   \n",
       "\n",
       "      media_type                                          media_url  \\\n",
       "14049    article  ['https://www.linkedin.com/pulse/public-relati...   \n",
       "\n",
       "       num_hashtags hashtags  reactions  comments  \\\n",
       "14049             0       []          8         2   \n",
       "\n",
       "                         Locations  Followers  \n",
       "14049  ['Greater', 'Philadelphia']    30971.0  "
      ]
     },
     "execution_count": 27,
     "metadata": {},
     "output_type": "execute_result"
    }
   ],
   "source": [
    "df_fillNa.loc[df_fillNa['time_spent'].isna()]"
   ]
  },
  {
   "cell_type": "markdown",
   "metadata": {},
   "source": [
    "We see it's about coronavirus.  \n",
    "We can think the post was published the day the extraction was done.  \n",
    "For this reason, let's replace Nan by \"Current date\""
   ]
  },
  {
   "cell_type": "code",
   "execution_count": 28,
   "metadata": {},
   "outputs": [],
   "source": [
    "df_fillNa['Time_spent'] = df_fillNa['time_spent'].fillna('Current date')"
   ]
  },
  {
   "cell_type": "code",
   "execution_count": 29,
   "metadata": {},
   "outputs": [],
   "source": [
    "#Drop the previous column\n",
    "df_fillNa = df_fillNa.drop(['time_spent'],axis=1)"
   ]
  },
  {
   "cell_type": "markdown",
   "metadata": {},
   "source": [
    "### Content"
   ]
  },
  {
   "cell_type": "markdown",
   "metadata": {},
   "source": [
    "The question we decided to treat is about post contents.  \n",
    "Therefore we have no reason to keep rows without content.  \n",
    "Let's drop them"
   ]
  },
  {
   "cell_type": "code",
   "execution_count": 30,
   "metadata": {},
   "outputs": [],
   "source": [
    "df_fillNa = df_fillNa.loc[df_fillNa['content'].notnull()]"
   ]
  },
  {
   "cell_type": "markdown",
   "metadata": {},
   "source": [
    "### Media type"
   ]
  },
  {
   "cell_type": "markdown",
   "metadata": {},
   "source": [
    "We suppose that Nan means there is no media in the post.\n",
    "Let's replace it by \"None\""
   ]
  },
  {
   "cell_type": "code",
   "execution_count": 31,
   "metadata": {},
   "outputs": [],
   "source": [
    "df_fillNa[\"Media_type\"] = df_fillNa['media_type'].fillna(\"none\")"
   ]
  },
  {
   "cell_type": "code",
   "execution_count": 32,
   "metadata": {},
   "outputs": [],
   "source": [
    "df_fillNa = df_fillNa.drop(['media_type'],axis=1)"
   ]
  },
  {
   "cell_type": "markdown",
   "metadata": {},
   "source": [
    "### Check if everything is ok"
   ]
  },
  {
   "cell_type": "code",
   "execution_count": 33,
   "metadata": {},
   "outputs": [
    {
     "data": {
      "text/plain": [
       "name             0\n",
       "headline         0\n",
       "about            0\n",
       "content          0\n",
       "content_links    0\n",
       "media_url        0\n",
       "num_hashtags     0\n",
       "hashtags         0\n",
       "reactions        0\n",
       "comments         0\n",
       "Locations        0\n",
       "Followers        0\n",
       "Time_spent       0\n",
       "Media_type       0\n",
       "dtype: int64"
      ]
     },
     "execution_count": 33,
     "metadata": {},
     "output_type": "execute_result"
    }
   ],
   "source": [
    "df_fillNa.isna().sum()"
   ]
  },
  {
   "cell_type": "code",
   "execution_count": 34,
   "metadata": {},
   "outputs": [
    {
     "data": {
      "text/plain": [
       "(31996, 14)"
      ]
     },
     "execution_count": 34,
     "metadata": {},
     "output_type": "execute_result"
    }
   ],
   "source": [
    "df_fillNa.shape"
   ]
  },
  {
   "cell_type": "code",
   "execution_count": 35,
   "metadata": {},
   "outputs": [
    {
     "name": "stdout",
     "output_type": "stream",
     "text": [
      "We dropped 2016 rows from the original dataset\n"
     ]
    }
   ],
   "source": [
    "print('We dropped {} rows from the original dataset'.format(df.shape[0]-df_fillNa.shape[0]))"
   ]
  },
  {
   "cell_type": "markdown",
   "metadata": {},
   "source": [
    "The data is now ready to be explored."
   ]
  },
  {
   "cell_type": "markdown",
   "metadata": {},
   "source": [
    "# Export the cleaned Dataset"
   ]
  },
  {
   "cell_type": "code",
   "execution_count": 36,
   "metadata": {},
   "outputs": [],
   "source": [
    "df_cleaned = df_fillNa.copy()"
   ]
  },
  {
   "cell_type": "code",
   "execution_count": 37,
   "metadata": {},
   "outputs": [
    {
     "name": "stdout",
     "output_type": "stream",
     "text": [
      "<class 'pandas.core.frame.DataFrame'>\n",
      "Int64Index: 31996 entries, 0 to 34011\n",
      "Data columns (total 14 columns):\n",
      " #   Column         Non-Null Count  Dtype  \n",
      "---  ------         --------------  -----  \n",
      " 0   name           31996 non-null  object \n",
      " 1   headline       31996 non-null  object \n",
      " 2   about          31996 non-null  object \n",
      " 3   content        31996 non-null  object \n",
      " 4   content_links  31996 non-null  object \n",
      " 5   media_url      31996 non-null  object \n",
      " 6   num_hashtags   31996 non-null  int64  \n",
      " 7   hashtags       31996 non-null  object \n",
      " 8   reactions      31996 non-null  int64  \n",
      " 9   comments       31996 non-null  int64  \n",
      " 10  Locations      31996 non-null  object \n",
      " 11  Followers      31996 non-null  float64\n",
      " 12  Time_spent     31996 non-null  object \n",
      " 13  Media_type     31996 non-null  object \n",
      "dtypes: float64(1), int64(3), object(10)\n",
      "memory usage: 3.7+ MB\n"
     ]
    }
   ],
   "source": [
    "df_cleaned.info()"
   ]
  },
  {
   "cell_type": "code",
   "execution_count": 38,
   "metadata": {},
   "outputs": [],
   "source": [
    "import pickle\n",
    "df_cleaned.to_pickle('cleaned_data.pkl')"
   ]
  },
  {
   "cell_type": "markdown",
   "metadata": {},
   "source": [
    "Let's go to the next notebook"
   ]
  },
  {
   "cell_type": "markdown",
   "metadata": {},
   "source": []
  }
 ],
 "metadata": {
  "interpreter": {
   "hash": "ae290cde4634a6443381d55bbe6f1180de26a7de00f3f0eb338834ba70f07938"
  },
  "kernelspec": {
   "display_name": "Python 3.8.8 64-bit ('base': conda)",
   "language": "python",
   "name": "python3"
  },
  "language_info": {
   "codemirror_mode": {
    "name": "ipython",
    "version": 3
   },
   "file_extension": ".py",
   "mimetype": "text/x-python",
   "name": "python",
   "nbconvert_exporter": "python",
   "pygments_lexer": "ipython3",
   "version": "3.8.8"
  },
  "orig_nbformat": 4
 },
 "nbformat": 4,
 "nbformat_minor": 2
}
