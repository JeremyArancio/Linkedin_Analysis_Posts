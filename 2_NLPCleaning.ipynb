{
 "cells": [
  {
   "cell_type": "markdown",
   "metadata": {},
   "source": [
    "# NLP Cleaning"
   ]
  },
  {
   "cell_type": "markdown",
   "metadata": {},
   "source": [
    "In this notebook, we will adapt and modify the cleaned dataset to apply Natural Language Processing on it.  \n",
    "Some columns are composed of texts we can transform to obtain an exploitable dataset. "
   ]
  },
  {
   "cell_type": "markdown",
   "metadata": {},
   "source": [
    "## Libraries"
   ]
  },
  {
   "cell_type": "code",
   "execution_count": 57,
   "metadata": {},
   "outputs": [],
   "source": [
    "import pickle\n",
    "import pandas as pd\n",
    "import warnings\n",
    "warnings.filterwarnings('ignore') #Remove warnings"
   ]
  },
  {
   "cell_type": "markdown",
   "metadata": {},
   "source": [
    "## Import the data"
   ]
  },
  {
   "cell_type": "code",
   "execution_count": 58,
   "metadata": {},
   "outputs": [],
   "source": [
    "data = pd.read_pickle('cleaned_data.pkl')"
   ]
  },
  {
   "cell_type": "markdown",
   "metadata": {},
   "source": [
    "## First look"
   ]
  },
  {
   "cell_type": "markdown",
   "metadata": {},
   "source": [
    "### Overall"
   ]
  },
  {
   "cell_type": "code",
   "execution_count": 59,
   "metadata": {},
   "outputs": [
    {
     "data": {
      "text/html": [
       "<div>\n",
       "<style scoped>\n",
       "    .dataframe tbody tr th:only-of-type {\n",
       "        vertical-align: middle;\n",
       "    }\n",
       "\n",
       "    .dataframe tbody tr th {\n",
       "        vertical-align: top;\n",
       "    }\n",
       "\n",
       "    .dataframe thead th {\n",
       "        text-align: right;\n",
       "    }\n",
       "</style>\n",
       "<table border=\"1\" class=\"dataframe\">\n",
       "  <thead>\n",
       "    <tr style=\"text-align: right;\">\n",
       "      <th></th>\n",
       "      <th>name</th>\n",
       "      <th>headline</th>\n",
       "      <th>about</th>\n",
       "      <th>content</th>\n",
       "      <th>content_links</th>\n",
       "      <th>media_url</th>\n",
       "      <th>num_hashtags</th>\n",
       "      <th>hashtags</th>\n",
       "      <th>reactions</th>\n",
       "      <th>comments</th>\n",
       "      <th>Locations</th>\n",
       "      <th>Followers</th>\n",
       "      <th>Time_spent</th>\n",
       "      <th>Media_type</th>\n",
       "    </tr>\n",
       "  </thead>\n",
       "  <tbody>\n",
       "    <tr>\n",
       "      <th>0</th>\n",
       "      <td>Nicholas Wyman</td>\n",
       "      <td>CEO IWSI Group</td>\n",
       "      <td>Nicholas Wyman for the past 25 years has shone...</td>\n",
       "      <td>Robert Lerman  writes that achieving a healthy...</td>\n",
       "      <td>[['https://www.linkedin.com/in/ACoAAACy1HkBviR...</td>\n",
       "      <td>['https://www.urban.org/urban-wire/its-time-mo...</td>\n",
       "      <td>4</td>\n",
       "      <td>[['#workbasedlearning', 'https://www.linkedin....</td>\n",
       "      <td>12</td>\n",
       "      <td>1</td>\n",
       "      <td>Unknown</td>\n",
       "      <td>6484.0</td>\n",
       "      <td>1 day ago</td>\n",
       "      <td>article</td>\n",
       "    </tr>\n",
       "    <tr>\n",
       "      <th>1</th>\n",
       "      <td>Nicholas Wyman</td>\n",
       "      <td>CEO IWSI Group</td>\n",
       "      <td>Nicholas Wyman for the past 25 years has shone...</td>\n",
       "      <td>National disability advocate  Sara Hart Weir, ...</td>\n",
       "      <td>[['https://www.linkedin.com/in/ACoAAAHsfJgBb7_...</td>\n",
       "      <td>[]</td>\n",
       "      <td>0</td>\n",
       "      <td>[]</td>\n",
       "      <td>11</td>\n",
       "      <td>0</td>\n",
       "      <td>Unknown</td>\n",
       "      <td>6484.0</td>\n",
       "      <td>1 week ago</td>\n",
       "      <td>none</td>\n",
       "    </tr>\n",
       "    <tr>\n",
       "      <th>3</th>\n",
       "      <td>Nicholas Wyman</td>\n",
       "      <td>CEO IWSI Group</td>\n",
       "      <td>Nicholas Wyman for the past 25 years has shone...</td>\n",
       "      <td>Exploring in this months Talent Management &amp; H...</td>\n",
       "      <td>[['https://www.linkedin.com/in/ACoAAAADlGIBLfn...</td>\n",
       "      <td>['https://www.tlnt.com/apprenticeships-that-br...</td>\n",
       "      <td>4</td>\n",
       "      <td>[['#careerplanning', 'https://www.linkedin.com...</td>\n",
       "      <td>44</td>\n",
       "      <td>0</td>\n",
       "      <td>Unknown</td>\n",
       "      <td>6484.0</td>\n",
       "      <td>2 months ago</td>\n",
       "      <td>article</td>\n",
       "    </tr>\n",
       "  </tbody>\n",
       "</table>\n",
       "</div>"
      ],
      "text/plain": [
       "             name        headline  \\\n",
       "0  Nicholas Wyman  CEO IWSI Group   \n",
       "1  Nicholas Wyman  CEO IWSI Group   \n",
       "3  Nicholas Wyman  CEO IWSI Group   \n",
       "\n",
       "                                               about  \\\n",
       "0  Nicholas Wyman for the past 25 years has shone...   \n",
       "1  Nicholas Wyman for the past 25 years has shone...   \n",
       "3  Nicholas Wyman for the past 25 years has shone...   \n",
       "\n",
       "                                             content  \\\n",
       "0  Robert Lerman  writes that achieving a healthy...   \n",
       "1  National disability advocate  Sara Hart Weir, ...   \n",
       "3  Exploring in this months Talent Management & H...   \n",
       "\n",
       "                                       content_links  \\\n",
       "0  [['https://www.linkedin.com/in/ACoAAACy1HkBviR...   \n",
       "1  [['https://www.linkedin.com/in/ACoAAAHsfJgBb7_...   \n",
       "3  [['https://www.linkedin.com/in/ACoAAAADlGIBLfn...   \n",
       "\n",
       "                                           media_url  num_hashtags  \\\n",
       "0  ['https://www.urban.org/urban-wire/its-time-mo...             4   \n",
       "1                                                 []             0   \n",
       "3  ['https://www.tlnt.com/apprenticeships-that-br...             4   \n",
       "\n",
       "                                            hashtags  reactions  comments  \\\n",
       "0  [['#workbasedlearning', 'https://www.linkedin....         12         1   \n",
       "1                                                 []         11         0   \n",
       "3  [['#careerplanning', 'https://www.linkedin.com...         44         0   \n",
       "\n",
       "  Locations  Followers    Time_spent Media_type  \n",
       "0   Unknown     6484.0     1 day ago    article  \n",
       "1   Unknown     6484.0    1 week ago       none  \n",
       "3   Unknown     6484.0  2 months ago    article  "
      ]
     },
     "execution_count": 59,
     "metadata": {},
     "output_type": "execute_result"
    }
   ],
   "source": [
    "data.head(3)"
   ]
  },
  {
   "cell_type": "markdown",
   "metadata": {},
   "source": [
    "### Content"
   ]
  },
  {
   "cell_type": "code",
   "execution_count": 60,
   "metadata": {},
   "outputs": [
    {
     "data": {
      "text/plain": [
       "\"Community building has meant something dramatically different the past couple of months.  When 500 Startups hosted an event with 2400+ RSVPs, we had to pivot almost 8 times to accommodate changing restrictions along the way.  People are rallying around their communities to show support for groups like healthcare workers while staying in their homes for months.  All these things have made me ask the question, what's the best way to build community right now? How is this changing our perception of community? Thus, I'm starting my letter to the community on the subject. \\n \\n \\n …see more\""
      ]
     },
     "execution_count": 60,
     "metadata": {},
     "output_type": "execute_result"
    }
   ],
   "source": [
    "data.content[1000]"
   ]
  },
  {
   "cell_type": "markdown",
   "metadata": {},
   "source": [
    "**Comments**  \n",
    "We see \"...see more\" in the content, which means we don't have all the content !  \n",
    "Let's see if we can manage to get the entire content with the links provided in the dataset. "
   ]
  },
  {
   "cell_type": "markdown",
   "metadata": {},
   "source": [
    "### About"
   ]
  },
  {
   "cell_type": "code",
   "execution_count": 61,
   "metadata": {},
   "outputs": [
    {
     "data": {
      "text/plain": [
       "\"I build communities, content, and products centered on entrepreneurship, social impact, and female empowerment. I am currently focused on leading marketing partnerships and content at 500 Startups (2019's most active early-stage VC), creating community hubs and content for diverse founders, and advising FLIK: a platform dedicated to connecting female founders with female apprentices. Prior to 500, I started my career by creating Linkedin content, working in digital entertainment, and even venturing into my own events startup. In 2015, I was the youngest recipient of Linkedin's Top Voice award and would go on to cultivate an audience over 400K.I'm always looking to connect with female founders, heads of diversity, community managers, VCs, and those looking to make a difference!PGPs: she/her/hersThoughts are my own.\""
      ]
     },
     "execution_count": 61,
     "metadata": {},
     "output_type": "execute_result"
    }
   ],
   "source": [
    "data.about[1000]"
   ]
  },
  {
   "cell_type": "markdown",
   "metadata": {},
   "source": [
    "### Headline"
   ]
  },
  {
   "cell_type": "code",
   "execution_count": 62,
   "metadata": {},
   "outputs": [
    {
     "name": "stdout",
     "output_type": "stream",
     "text": [
      "Marketing @ 500 Startups | 3x Linkedin Top Voice\n",
      "CEO IWSI Group\n",
      "Founder and CEO of One Million by One Million (1Mby1M)\n"
     ]
    }
   ],
   "source": [
    "print(data.headline[1000])\n",
    "print(data.headline[100])\n",
    "print(data.headline[10000])"
   ]
  },
  {
   "cell_type": "markdown",
   "metadata": {},
   "source": [
    "**Comments**  \n",
    "With headlines, maybe we can highlight the postion of the person.  \n",
    "Also we can analyse which words or expressions stand out (\"help businesses\" ; \"Start-up\"  ...)"
   ]
  },
  {
   "cell_type": "markdown",
   "metadata": {},
   "source": [
    "### Content links"
   ]
  },
  {
   "cell_type": "code",
   "execution_count": 63,
   "metadata": {},
   "outputs": [
    {
     "name": "stdout",
     "output_type": "stream",
     "text": [
      "[['https://www.linkedin.com/in/ACoAAAaojZkBD0OpJLI3LCDMMNVrCqhzr1ty4Wk', 'Joanne Gedge'], ['https://www.linkedin.com/in/ACoAAAMT1vIBSDvXwNANtuFumamRcEzb3AyQo8k', 'Janet Searle'], ['https://www.linkedin.com/in/ACoAAADZoYwBIARReJ9lqzB2Kwf9YhVyQUM7qSg', 'Louise Martin Lindsay'], ['https://www.linkedin.com/in/ACoAAAzDh6wBOeZqRnp9XtyoKDDOkM0pxfS6G5s', 'Amy-Lou Cowdroy-Ling'], ['https://lnkd.in/g8FTr5w', 'https://lnkd.in/g8FTr5w.']]\n",
      "--------------\n",
      "[['https://www.linkedin.com/feed/hashtag/?keywords=casestudies&highlightedUpdateUrns=urn%3Ali%3Aactivity%3A6743766447648047104', '#casestudies'], ['https://www.linkedin.com/feed/hashtag/?keywords=startups&highlightedUpdateUrns=urn%3Ali%3Aactivity%3A6743766447648047104', '#startups'], ['https://www.linkedin.com/feed/hashtag/?keywords=team&highlightedUpdateUrns=urn%3Ali%3Aactivity%3A6743766447648047104', '#team'], ['https://www.linkedin.com/feed/hashtag/?keywords=entrepreneurs&highlightedUpdateUrns=urn%3Ali%3Aactivity%3A6743766447648047104', '#entrepreneurs']]\n"
     ]
    }
   ],
   "source": [
    "print(data.content_links[100])\n",
    "print(\"--------------\")\n",
    "print(data.content_links[10000])"
   ]
  },
  {
   "cell_type": "markdown",
   "metadata": {},
   "source": [
    "**Comments**  \n",
    "There are 3 types of links :\n",
    "1. Other account/people mentions\n",
    "2. Hastags\n",
    "3. Link to websites\n",
    "\n",
    "The data is organized as the following :\n",
    "[[ \"Link\" , \"mention/hashtag/website_link\" ]]\n",
    "\n",
    "We can differenciate these 3 types depending easily. For instance :  \n",
    "1. Capital at the beginning of the string\n",
    "2. \"#\"\n",
    "3. \"http\""
   ]
  },
  {
   "cell_type": "markdown",
   "metadata": {},
   "source": [
    "### Media URL"
   ]
  },
  {
   "cell_type": "code",
   "execution_count": 64,
   "metadata": {},
   "outputs": [
    {
     "name": "stdout",
     "output_type": "stream",
     "text": [
      "['https://www.sramanamitra.com/2020/10/16/where-can-i-find-case-studies-of-how-entrepreneurs-build-tech-companies/']\n",
      "-----------\n",
      "[['https://www.linkedin.com/feed/hashtag/?keywords=casestudies&highlightedUpdateUrns=urn%3Ali%3Aactivity%3A6743766447648047104', '#casestudies'], ['https://www.linkedin.com/feed/hashtag/?keywords=startups&highlightedUpdateUrns=urn%3Ali%3Aactivity%3A6743766447648047104', '#startups'], ['https://www.linkedin.com/feed/hashtag/?keywords=team&highlightedUpdateUrns=urn%3Ali%3Aactivity%3A6743766447648047104', '#team'], ['https://www.linkedin.com/feed/hashtag/?keywords=entrepreneurs&highlightedUpdateUrns=urn%3Ali%3Aactivity%3A6743766447648047104', '#entrepreneurs']]\n"
     ]
    }
   ],
   "source": [
    "print(data.media_url[10000])\n",
    "print('-----------')\n",
    "print(data.content_links[10000])"
   ]
  },
  {
   "cell_type": "code",
   "execution_count": 65,
   "metadata": {},
   "outputs": [
    {
     "data": {
      "text/plain": [
       "[]                                                                                           6893\n",
       "['https://www.linkedin.com/newsletters/the-future-of-digital-health-6501324601757442048']     130\n",
       "['https://www.sramanamitra.com/2020/04/29/bootstrapping-course-welcome/']                     110\n",
       "['https://www.linkedin.com/newsletters/cloud-stock-analysis-6494194802798788608']             101\n",
       "['https://1m1m.sramanamitra.com/investor-introduction/']                                       97\n",
       "Name: media_url, dtype: int64"
      ]
     },
     "execution_count": 65,
     "metadata": {},
     "output_type": "execute_result"
    }
   ],
   "source": [
    "#Let's see the composition of media_url\n",
    "data.media_url.value_counts().head()\n",
    "\n",
    "#We observe some [] in it, which means that some contents (a lot actually) don't have media\n"
   ]
  },
  {
   "cell_type": "markdown",
   "metadata": {},
   "source": [
    "**Comments**  \n",
    "When a media is added to the content, an option allowed by Linkedin, the link is added to this column.   \n",
    "\n",
    "We observe the difference between \"content_links\" & \"media_url\" here :  \n",
    "* Content_links gathers all links inside the writen content. \n",
    "* Media_url gathers all the links of the added media, if there is one\n"
   ]
  },
  {
   "cell_type": "markdown",
   "metadata": {},
   "source": [
    "### Hashtags"
   ]
  },
  {
   "cell_type": "code",
   "execution_count": 66,
   "metadata": {},
   "outputs": [
    {
     "name": "stdout",
     "output_type": "stream",
     "text": [
      "[['#casestudies', 'https://www.linkedin.com/feed/hashtag/?keywords=casestudies&highlightedUpdateUrns=urn%3Ali%3Aactivity%3A6743766447648047104'], ['#startups', 'https://www.linkedin.com/feed/hashtag/?keywords=startups&highlightedUpdateUrns=urn%3Ali%3Aactivity%3A6743766447648047104'], ['#team', 'https://www.linkedin.com/feed/hashtag/?keywords=team&highlightedUpdateUrns=urn%3Ali%3Aactivity%3A6743766447648047104'], ['#entrepreneurs', 'https://www.linkedin.com/feed/hashtag/?keywords=entrepreneurs&highlightedUpdateUrns=urn%3Ali%3Aactivity%3A6743766447648047104']]\n",
      "------------\n",
      "[['https://www.linkedin.com/feed/hashtag/?keywords=casestudies&highlightedUpdateUrns=urn%3Ali%3Aactivity%3A6743766447648047104', '#casestudies'], ['https://www.linkedin.com/feed/hashtag/?keywords=startups&highlightedUpdateUrns=urn%3Ali%3Aactivity%3A6743766447648047104', '#startups'], ['https://www.linkedin.com/feed/hashtag/?keywords=team&highlightedUpdateUrns=urn%3Ali%3Aactivity%3A6743766447648047104', '#team'], ['https://www.linkedin.com/feed/hashtag/?keywords=entrepreneurs&highlightedUpdateUrns=urn%3Ali%3Aactivity%3A6743766447648047104', '#entrepreneurs']]\n"
     ]
    }
   ],
   "source": [
    "print(data.hashtags[10000])\n",
    "print(\"------------\")\n",
    "print(data.content_links[10000])"
   ]
  },
  {
   "cell_type": "markdown",
   "metadata": {},
   "source": [
    "**Comments**  \n",
    "We observe that links in the content_links are also in hashtags column.  \n",
    "Thus, this information appears two times in the dataset. "
   ]
  },
  {
   "cell_type": "markdown",
   "metadata": {},
   "source": [
    "## Conclusions on the first look"
   ]
  },
  {
   "cell_type": "markdown",
   "metadata": {},
   "source": [
    "To wrap it up :\n",
    "\n",
    "* Contents are not complete. A new scraping should be recquired to gather more data. **However**, we can use the first sentences to draw some insights. Indeed, the tagline is usually more important than the core of the content. \n",
    "* Headlines contain a lot of information, like position or business\n",
    "* Content_links contains links of mentions/hashtags/websites used in the post. Hashtags are contained also in its own column. \n",
    "* Media_URL is present if a media is added to the post. \n",
    "* Time spent column could be changed into days to make easier the analysis.\n",
    "* \"About\" section is complete and is a nice way to know in detail the person."
   ]
  },
  {
   "cell_type": "code",
   "execution_count": 67,
   "metadata": {},
   "outputs": [
    {
     "data": {
      "text/html": [
       "<div>\n",
       "<style scoped>\n",
       "    .dataframe tbody tr th:only-of-type {\n",
       "        vertical-align: middle;\n",
       "    }\n",
       "\n",
       "    .dataframe tbody tr th {\n",
       "        vertical-align: top;\n",
       "    }\n",
       "\n",
       "    .dataframe thead th {\n",
       "        text-align: right;\n",
       "    }\n",
       "</style>\n",
       "<table border=\"1\" class=\"dataframe\">\n",
       "  <thead>\n",
       "    <tr style=\"text-align: right;\">\n",
       "      <th></th>\n",
       "      <th>name</th>\n",
       "      <th>headline</th>\n",
       "      <th>about</th>\n",
       "      <th>content</th>\n",
       "      <th>content_links</th>\n",
       "      <th>media_url</th>\n",
       "      <th>num_hashtags</th>\n",
       "      <th>hashtags</th>\n",
       "      <th>reactions</th>\n",
       "      <th>comments</th>\n",
       "      <th>Locations</th>\n",
       "      <th>Followers</th>\n",
       "      <th>Time_spent</th>\n",
       "      <th>Media_type</th>\n",
       "    </tr>\n",
       "  </thead>\n",
       "  <tbody>\n",
       "    <tr>\n",
       "      <th>0</th>\n",
       "      <td>Nicholas Wyman</td>\n",
       "      <td>CEO IWSI Group</td>\n",
       "      <td>Nicholas Wyman for the past 25 years has shone...</td>\n",
       "      <td>Robert Lerman  writes that achieving a healthy...</td>\n",
       "      <td>[['https://www.linkedin.com/in/ACoAAACy1HkBviR...</td>\n",
       "      <td>['https://www.urban.org/urban-wire/its-time-mo...</td>\n",
       "      <td>4</td>\n",
       "      <td>[['#workbasedlearning', 'https://www.linkedin....</td>\n",
       "      <td>12</td>\n",
       "      <td>1</td>\n",
       "      <td>Unknown</td>\n",
       "      <td>6484.0</td>\n",
       "      <td>1 day ago</td>\n",
       "      <td>article</td>\n",
       "    </tr>\n",
       "    <tr>\n",
       "      <th>1</th>\n",
       "      <td>Nicholas Wyman</td>\n",
       "      <td>CEO IWSI Group</td>\n",
       "      <td>Nicholas Wyman for the past 25 years has shone...</td>\n",
       "      <td>National disability advocate  Sara Hart Weir, ...</td>\n",
       "      <td>[['https://www.linkedin.com/in/ACoAAAHsfJgBb7_...</td>\n",
       "      <td>[]</td>\n",
       "      <td>0</td>\n",
       "      <td>[]</td>\n",
       "      <td>11</td>\n",
       "      <td>0</td>\n",
       "      <td>Unknown</td>\n",
       "      <td>6484.0</td>\n",
       "      <td>1 week ago</td>\n",
       "      <td>none</td>\n",
       "    </tr>\n",
       "  </tbody>\n",
       "</table>\n",
       "</div>"
      ],
      "text/plain": [
       "             name        headline  \\\n",
       "0  Nicholas Wyman  CEO IWSI Group   \n",
       "1  Nicholas Wyman  CEO IWSI Group   \n",
       "\n",
       "                                               about  \\\n",
       "0  Nicholas Wyman for the past 25 years has shone...   \n",
       "1  Nicholas Wyman for the past 25 years has shone...   \n",
       "\n",
       "                                             content  \\\n",
       "0  Robert Lerman  writes that achieving a healthy...   \n",
       "1  National disability advocate  Sara Hart Weir, ...   \n",
       "\n",
       "                                       content_links  \\\n",
       "0  [['https://www.linkedin.com/in/ACoAAACy1HkBviR...   \n",
       "1  [['https://www.linkedin.com/in/ACoAAAHsfJgBb7_...   \n",
       "\n",
       "                                           media_url  num_hashtags  \\\n",
       "0  ['https://www.urban.org/urban-wire/its-time-mo...             4   \n",
       "1                                                 []             0   \n",
       "\n",
       "                                            hashtags  reactions  comments  \\\n",
       "0  [['#workbasedlearning', 'https://www.linkedin....         12         1   \n",
       "1                                                 []         11         0   \n",
       "\n",
       "  Locations  Followers  Time_spent Media_type  \n",
       "0   Unknown     6484.0   1 day ago    article  \n",
       "1   Unknown     6484.0  1 week ago       none  "
      ]
     },
     "execution_count": 67,
     "metadata": {},
     "output_type": "execute_result"
    }
   ],
   "source": [
    "data.head(2)"
   ]
  },
  {
   "cell_type": "markdown",
   "metadata": {},
   "source": [
    "## Analysis ideas"
   ]
  },
  {
   "cell_type": "markdown",
   "metadata": {},
   "source": [
    "1. Study the content as it is. Even if it is not complete, we can considere in our analysis the first sentences present in this dataset. NLP technique can be easily applied here.\n",
    "2. NLP techniques applied to headlines. \n",
    "3. Count mentions/hashtags in posts\n",
    "4. Influence of media presence (media or not : 1-0)\n",
    "5. NLP to About section\n",
    "6. Relation between number of followers & reactions/comments\n",
    "7. Influence of the media type\n",
    "\n",
    "Reactions & Comments will be the main insight to define if a post was good or not. "
   ]
  },
  {
   "cell_type": "markdown",
   "metadata": {},
   "source": [
    "## Datasets creation"
   ]
  },
  {
   "cell_type": "markdown",
   "metadata": {},
   "source": [
    "For each analysis, we are going to create adapted datasets and do some cleaning of the original one."
   ]
  },
  {
   "cell_type": "markdown",
   "metadata": {},
   "source": [
    "**Cleaning The Data**    \n",
    "\n",
    "When dealing with numerical data, data cleaning often involves removing null values and duplicate data, dealing with outliers, etc. With text data, there are some common data cleaning techniques, which are also known as text pre-processing techniques.\n",
    "\n",
    "With text data, this cleaning process can go on forever. There's always an exception to every cleaning step. So, we're going to follow the MVP (minimum viable product) approach - start simple and iterate. Here are a bunch of things you can do to clean your data. We're going to execute just the common cleaning steps here and the rest can be done at a later point to improve our results.\n",
    "\n",
    "**Common data cleaning steps on all text:**\n",
    "\n",
    "* Make text all lower case  \n",
    "* Remove punctuation\n",
    "* Remove numerical values\n",
    "* Remove common non-sensical text (/n)\n",
    "* Tokenize text\n",
    "* Remove stop words\n",
    "\n",
    "**More data cleaning steps after tokenization:**\n",
    "\n",
    "* Stemming / lemmatization\n",
    "* Parts of speech tagging\n",
    "* Create bi-grams or tri-grams\n",
    "* Deal with typos\n",
    "* And more..."
   ]
  },
  {
   "cell_type": "markdown",
   "metadata": {},
   "source": [
    "### Content dataset"
   ]
  },
  {
   "cell_type": "markdown",
   "metadata": {},
   "source": [
    "For the content, we will apply NLP techniques.  \n",
    "To do so, we need a **Corpus** & a **Document-term matrix**\n",
    "\n",
    "A **Corpus** is a collection of texts.\n",
    "\n",
    "A **Document-term matrix** is a dataframe added with a column for each word, and inside it, the number of times this word appears in the text"
   ]
  },
  {
   "cell_type": "markdown",
   "metadata": {},
   "source": [
    "#### Corpus"
   ]
  },
  {
   "cell_type": "code",
   "execution_count": 68,
   "metadata": {},
   "outputs": [
    {
     "data": {
      "text/html": [
       "<div>\n",
       "<style scoped>\n",
       "    .dataframe tbody tr th:only-of-type {\n",
       "        vertical-align: middle;\n",
       "    }\n",
       "\n",
       "    .dataframe tbody tr th {\n",
       "        vertical-align: top;\n",
       "    }\n",
       "\n",
       "    .dataframe thead th {\n",
       "        text-align: right;\n",
       "    }\n",
       "</style>\n",
       "<table border=\"1\" class=\"dataframe\">\n",
       "  <thead>\n",
       "    <tr style=\"text-align: right;\">\n",
       "      <th></th>\n",
       "      <th>Name</th>\n",
       "      <th>Content</th>\n",
       "      <th>#Reactions</th>\n",
       "      <th>#Comments</th>\n",
       "      <th>Location</th>\n",
       "      <th>Followers</th>\n",
       "      <th>Time_spent</th>\n",
       "      <th>Media_type</th>\n",
       "    </tr>\n",
       "  </thead>\n",
       "  <tbody>\n",
       "    <tr>\n",
       "      <th>0</th>\n",
       "      <td>Nicholas Wyman</td>\n",
       "      <td>Robert Lerman  writes that achieving a healthy...</td>\n",
       "      <td>12</td>\n",
       "      <td>1</td>\n",
       "      <td>Unknown</td>\n",
       "      <td>6484.0</td>\n",
       "      <td>1 day ago</td>\n",
       "      <td>article</td>\n",
       "    </tr>\n",
       "    <tr>\n",
       "      <th>1</th>\n",
       "      <td>Nicholas Wyman</td>\n",
       "      <td>National disability advocate  Sara Hart Weir, ...</td>\n",
       "      <td>11</td>\n",
       "      <td>0</td>\n",
       "      <td>Unknown</td>\n",
       "      <td>6484.0</td>\n",
       "      <td>1 week ago</td>\n",
       "      <td>none</td>\n",
       "    </tr>\n",
       "    <tr>\n",
       "      <th>3</th>\n",
       "      <td>Nicholas Wyman</td>\n",
       "      <td>Exploring in this months Talent Management &amp; H...</td>\n",
       "      <td>44</td>\n",
       "      <td>0</td>\n",
       "      <td>Unknown</td>\n",
       "      <td>6484.0</td>\n",
       "      <td>2 months ago</td>\n",
       "      <td>article</td>\n",
       "    </tr>\n",
       "    <tr>\n",
       "      <th>4</th>\n",
       "      <td>Nicholas Wyman</td>\n",
       "      <td>I count myself fortunate to have spent time wi...</td>\n",
       "      <td>22</td>\n",
       "      <td>2</td>\n",
       "      <td>Unknown</td>\n",
       "      <td>6484.0</td>\n",
       "      <td>2 months ago</td>\n",
       "      <td>article</td>\n",
       "    </tr>\n",
       "    <tr>\n",
       "      <th>5</th>\n",
       "      <td>Nicholas Wyman</td>\n",
       "      <td>Online job platforms are a different way of wo...</td>\n",
       "      <td>21</td>\n",
       "      <td>1</td>\n",
       "      <td>Unknown</td>\n",
       "      <td>6484.0</td>\n",
       "      <td>2 months ago</td>\n",
       "      <td>article</td>\n",
       "    </tr>\n",
       "  </tbody>\n",
       "</table>\n",
       "</div>"
      ],
      "text/plain": [
       "             Name                                            Content  \\\n",
       "0  Nicholas Wyman  Robert Lerman  writes that achieving a healthy...   \n",
       "1  Nicholas Wyman  National disability advocate  Sara Hart Weir, ...   \n",
       "3  Nicholas Wyman  Exploring in this months Talent Management & H...   \n",
       "4  Nicholas Wyman  I count myself fortunate to have spent time wi...   \n",
       "5  Nicholas Wyman  Online job platforms are a different way of wo...   \n",
       "\n",
       "   #Reactions  #Comments Location  Followers    Time_spent Media_type  \n",
       "0          12          1  Unknown     6484.0     1 day ago    article  \n",
       "1          11          0  Unknown     6484.0    1 week ago       none  \n",
       "3          44          0  Unknown     6484.0  2 months ago    article  \n",
       "4          22          2  Unknown     6484.0  2 months ago    article  \n",
       "5          21          1  Unknown     6484.0  2 months ago    article  "
      ]
     },
     "execution_count": 68,
     "metadata": {},
     "output_type": "execute_result"
    }
   ],
   "source": [
    "contentCorpus = pd.DataFrame()\n",
    "contentCorpus[['Name','Content','#Reactions','#Comments','Location','Followers','Time_spent','Media_type']] = data[['name','content','reactions', 'comments', 'Locations','Followers', 'Time_spent', 'Media_type']]\n",
    "contentCorpus.head()"
   ]
  },
  {
   "cell_type": "markdown",
   "metadata": {},
   "source": [
    "**Cleaning**  \n",
    "Let's remove :\n",
    "* Punctuation\n",
    "* Lowercase letters\n",
    "* Remove numbers\n",
    "* Remove # (hashtags) => we will just remove # because some authors decided to incorporate #word inside their content\n",
    "* Remove \"/n/n/n see more...\""
   ]
  },
  {
   "cell_type": "code",
   "execution_count": 69,
   "metadata": {},
   "outputs": [],
   "source": [
    "import re\n",
    "import string\n",
    "\n",
    "def clean_text(text):\n",
    "    '''Make text lowercase, remove text in square brackets, remove punctuation, \n",
    "        remove words containing numbers, remove # and remove \"see more\" at the end of the LinkedIn post'''\n",
    "    text = text.lower()\n",
    "    text = re.sub('\\[.*?\\] ', '', text)\n",
    "    text = re.sub('[%s]' % re.escape(string.punctuation), '', text)\n",
    "    text = re.sub('\\w*\\d\\w*', '', text)\n",
    "    text = re.sub('#','',text)\n",
    "    text = re.sub(\"\\n \\n \\n …see more\",'',text)\n",
    "    return text\n",
    "\n",
    "cleaning_text = lambda x: clean_text(x)"
   ]
  },
  {
   "cell_type": "code",
   "execution_count": 70,
   "metadata": {},
   "outputs": [],
   "source": [
    "#Clean the content and create a new column              \n",
    "contentCorpus['CleanedContent'] = contentCorpus['Content'].apply(cleaning_text)   "
   ]
  },
  {
   "cell_type": "code",
   "execution_count": 71,
   "metadata": {},
   "outputs": [
    {
     "data": {
      "text/html": [
       "<div>\n",
       "<style scoped>\n",
       "    .dataframe tbody tr th:only-of-type {\n",
       "        vertical-align: middle;\n",
       "    }\n",
       "\n",
       "    .dataframe tbody tr th {\n",
       "        vertical-align: top;\n",
       "    }\n",
       "\n",
       "    .dataframe thead th {\n",
       "        text-align: right;\n",
       "    }\n",
       "</style>\n",
       "<table border=\"1\" class=\"dataframe\">\n",
       "  <thead>\n",
       "    <tr style=\"text-align: right;\">\n",
       "      <th></th>\n",
       "      <th>Name</th>\n",
       "      <th>#Reactions</th>\n",
       "      <th>#Comments</th>\n",
       "      <th>Location</th>\n",
       "      <th>Followers</th>\n",
       "      <th>Time_spent</th>\n",
       "      <th>Media_type</th>\n",
       "      <th>CleanedContent</th>\n",
       "    </tr>\n",
       "  </thead>\n",
       "  <tbody>\n",
       "    <tr>\n",
       "      <th>0</th>\n",
       "      <td>Nicholas Wyman</td>\n",
       "      <td>12</td>\n",
       "      <td>1</td>\n",
       "      <td>Unknown</td>\n",
       "      <td>6484.0</td>\n",
       "      <td>1 day ago</td>\n",
       "      <td>article</td>\n",
       "      <td>robert lerman  writes that achieving a healthy...</td>\n",
       "    </tr>\n",
       "    <tr>\n",
       "      <th>1</th>\n",
       "      <td>Nicholas Wyman</td>\n",
       "      <td>11</td>\n",
       "      <td>0</td>\n",
       "      <td>Unknown</td>\n",
       "      <td>6484.0</td>\n",
       "      <td>1 week ago</td>\n",
       "      <td>none</td>\n",
       "      <td>national disability advocate  sara hart weir m...</td>\n",
       "    </tr>\n",
       "  </tbody>\n",
       "</table>\n",
       "</div>"
      ],
      "text/plain": [
       "             Name  #Reactions  #Comments Location  Followers  Time_spent  \\\n",
       "0  Nicholas Wyman          12          1  Unknown     6484.0   1 day ago   \n",
       "1  Nicholas Wyman          11          0  Unknown     6484.0  1 week ago   \n",
       "\n",
       "  Media_type                                     CleanedContent  \n",
       "0    article  robert lerman  writes that achieving a healthy...  \n",
       "1       none  national disability advocate  sara hart weir m...  "
      ]
     },
     "execution_count": 71,
     "metadata": {},
     "output_type": "execute_result"
    }
   ],
   "source": [
    "#Drop the previous column \"Content\"\n",
    "contentCorpus = contentCorpus.drop(['Content'],axis=1)\n",
    "contentCorpus.head(2)"
   ]
  },
  {
   "cell_type": "code",
   "execution_count": 72,
   "metadata": {},
   "outputs": [
    {
     "name": "stdout",
     "output_type": "stream",
     "text": [
      "for those intersted in youth career pathways great to read today about the expansion of citi foundation’s pathways to progress inititiave  new commitment to  young adults jobready jobs training  joanne gedge   janet searle   louise martin lindsay   amylou cowdroyling    \n",
      "---------\n",
      "community building has meant something dramatically different the past couple of months  when  startups hosted an event with  rsvps we had to pivot almost  times to accommodate changing restrictions along the way  people are rallying around their communities to show support for groups like healthcare workers while staying in their homes for months  all these things have made me ask the question whats the best way to build community right now how is this changing our perception of community thus im starting my letter to the community on the subject \n",
      "---------\n",
      "where can we find  casestudies  of  startups  that were built by a  team  of  entrepreneurs  virtually\n"
     ]
    }
   ],
   "source": [
    "#Let's see some examples\n",
    "print(contentCorpus.CleanedContent[100])\n",
    "print('---------')\n",
    "print(contentCorpus.CleanedContent[1000])\n",
    "print('---------')\n",
    "print(contentCorpus.CleanedContent[10000])"
   ]
  },
  {
   "cell_type": "markdown",
   "metadata": {},
   "source": [
    "We note that some names are present in the text.  \n",
    "Nevertheless, the Corpus can be exploited right now for a *first attempt*"
   ]
  },
  {
   "cell_type": "code",
   "execution_count": 73,
   "metadata": {},
   "outputs": [
    {
     "data": {
      "text/html": [
       "<div>\n",
       "<style scoped>\n",
       "    .dataframe tbody tr th:only-of-type {\n",
       "        vertical-align: middle;\n",
       "    }\n",
       "\n",
       "    .dataframe tbody tr th {\n",
       "        vertical-align: top;\n",
       "    }\n",
       "\n",
       "    .dataframe thead th {\n",
       "        text-align: right;\n",
       "    }\n",
       "</style>\n",
       "<table border=\"1\" class=\"dataframe\">\n",
       "  <thead>\n",
       "    <tr style=\"text-align: right;\">\n",
       "      <th></th>\n",
       "      <th>Name</th>\n",
       "      <th>#Reactions</th>\n",
       "      <th>#Comments</th>\n",
       "      <th>Location</th>\n",
       "      <th>Followers</th>\n",
       "      <th>Time_spent</th>\n",
       "      <th>Media_type</th>\n",
       "      <th>Content</th>\n",
       "    </tr>\n",
       "  </thead>\n",
       "  <tbody>\n",
       "    <tr>\n",
       "      <th>0</th>\n",
       "      <td>Nicholas Wyman</td>\n",
       "      <td>12</td>\n",
       "      <td>1</td>\n",
       "      <td>Unknown</td>\n",
       "      <td>6484.0</td>\n",
       "      <td>1 day ago</td>\n",
       "      <td>article</td>\n",
       "      <td>robert lerman  writes that achieving a healthy...</td>\n",
       "    </tr>\n",
       "    <tr>\n",
       "      <th>1</th>\n",
       "      <td>Nicholas Wyman</td>\n",
       "      <td>11</td>\n",
       "      <td>0</td>\n",
       "      <td>Unknown</td>\n",
       "      <td>6484.0</td>\n",
       "      <td>1 week ago</td>\n",
       "      <td>none</td>\n",
       "      <td>national disability advocate  sara hart weir m...</td>\n",
       "    </tr>\n",
       "    <tr>\n",
       "      <th>3</th>\n",
       "      <td>Nicholas Wyman</td>\n",
       "      <td>44</td>\n",
       "      <td>0</td>\n",
       "      <td>Unknown</td>\n",
       "      <td>6484.0</td>\n",
       "      <td>2 months ago</td>\n",
       "      <td>article</td>\n",
       "      <td>exploring in this months talent management  hr...</td>\n",
       "    </tr>\n",
       "    <tr>\n",
       "      <th>4</th>\n",
       "      <td>Nicholas Wyman</td>\n",
       "      <td>22</td>\n",
       "      <td>2</td>\n",
       "      <td>Unknown</td>\n",
       "      <td>6484.0</td>\n",
       "      <td>2 months ago</td>\n",
       "      <td>article</td>\n",
       "      <td>i count myself fortunate to have spent time wi...</td>\n",
       "    </tr>\n",
       "    <tr>\n",
       "      <th>5</th>\n",
       "      <td>Nicholas Wyman</td>\n",
       "      <td>21</td>\n",
       "      <td>1</td>\n",
       "      <td>Unknown</td>\n",
       "      <td>6484.0</td>\n",
       "      <td>2 months ago</td>\n",
       "      <td>article</td>\n",
       "      <td>online job platforms are a different way of wo...</td>\n",
       "    </tr>\n",
       "    <tr>\n",
       "      <th>...</th>\n",
       "      <td>...</td>\n",
       "      <td>...</td>\n",
       "      <td>...</td>\n",
       "      <td>...</td>\n",
       "      <td>...</td>\n",
       "      <td>...</td>\n",
       "      <td>...</td>\n",
       "      <td>...</td>\n",
       "    </tr>\n",
       "    <tr>\n",
       "      <th>34007</th>\n",
       "      <td>Simon Sinek</td>\n",
       "      <td>4005</td>\n",
       "      <td>93</td>\n",
       "      <td>Unknown</td>\n",
       "      <td>4206024.0</td>\n",
       "      <td>4 years ago</td>\n",
       "      <td>image</td>\n",
       "      <td>igniter of the year  well i know that im an op...</td>\n",
       "    </tr>\n",
       "    <tr>\n",
       "      <th>34008</th>\n",
       "      <td>Simon Sinek</td>\n",
       "      <td>1698</td>\n",
       "      <td>74</td>\n",
       "      <td>Unknown</td>\n",
       "      <td>4206024.0</td>\n",
       "      <td>4 years ago</td>\n",
       "      <td>video</td>\n",
       "      <td>executives who prioritize the shareholder are ...</td>\n",
       "    </tr>\n",
       "    <tr>\n",
       "      <th>34009</th>\n",
       "      <td>Simon Sinek</td>\n",
       "      <td>661</td>\n",
       "      <td>59</td>\n",
       "      <td>Unknown</td>\n",
       "      <td>4206024.0</td>\n",
       "      <td>4 years ago</td>\n",
       "      <td>video</td>\n",
       "      <td>like many i too have been reflecting as we nea...</td>\n",
       "    </tr>\n",
       "    <tr>\n",
       "      <th>34010</th>\n",
       "      <td>Simon Sinek</td>\n",
       "      <td>766</td>\n",
       "      <td>35</td>\n",
       "      <td>Unknown</td>\n",
       "      <td>4206024.0</td>\n",
       "      <td>4 years ago</td>\n",
       "      <td>video</td>\n",
       "      <td>if you say customer first that means your empl...</td>\n",
       "    </tr>\n",
       "    <tr>\n",
       "      <th>34011</th>\n",
       "      <td>Simon Sinek</td>\n",
       "      <td>789</td>\n",
       "      <td>23</td>\n",
       "      <td>Unknown</td>\n",
       "      <td>4206024.0</td>\n",
       "      <td>4 years ago</td>\n",
       "      <td>none</td>\n",
       "      <td>the small work hard to serve themselves in a b...</td>\n",
       "    </tr>\n",
       "  </tbody>\n",
       "</table>\n",
       "<p>31996 rows × 8 columns</p>\n",
       "</div>"
      ],
      "text/plain": [
       "                 Name  #Reactions  #Comments Location  Followers  \\\n",
       "0      Nicholas Wyman          12          1  Unknown     6484.0   \n",
       "1      Nicholas Wyman          11          0  Unknown     6484.0   \n",
       "3      Nicholas Wyman          44          0  Unknown     6484.0   \n",
       "4      Nicholas Wyman          22          2  Unknown     6484.0   \n",
       "5      Nicholas Wyman          21          1  Unknown     6484.0   \n",
       "...               ...         ...        ...      ...        ...   \n",
       "34007     Simon Sinek        4005         93  Unknown  4206024.0   \n",
       "34008     Simon Sinek        1698         74  Unknown  4206024.0   \n",
       "34009     Simon Sinek         661         59  Unknown  4206024.0   \n",
       "34010     Simon Sinek         766         35  Unknown  4206024.0   \n",
       "34011     Simon Sinek         789         23  Unknown  4206024.0   \n",
       "\n",
       "         Time_spent Media_type  \\\n",
       "0         1 day ago    article   \n",
       "1        1 week ago       none   \n",
       "3      2 months ago    article   \n",
       "4      2 months ago    article   \n",
       "5      2 months ago    article   \n",
       "...             ...        ...   \n",
       "34007   4 years ago      image   \n",
       "34008   4 years ago      video   \n",
       "34009   4 years ago      video   \n",
       "34010   4 years ago      video   \n",
       "34011   4 years ago       none   \n",
       "\n",
       "                                                 Content  \n",
       "0      robert lerman  writes that achieving a healthy...  \n",
       "1      national disability advocate  sara hart weir m...  \n",
       "3      exploring in this months talent management  hr...  \n",
       "4      i count myself fortunate to have spent time wi...  \n",
       "5      online job platforms are a different way of wo...  \n",
       "...                                                  ...  \n",
       "34007  igniter of the year  well i know that im an op...  \n",
       "34008  executives who prioritize the shareholder are ...  \n",
       "34009  like many i too have been reflecting as we nea...  \n",
       "34010  if you say customer first that means your empl...  \n",
       "34011  the small work hard to serve themselves in a b...  \n",
       "\n",
       "[31996 rows x 8 columns]"
      ]
     },
     "execution_count": 73,
     "metadata": {},
     "output_type": "execute_result"
    }
   ],
   "source": [
    "#Let's rename CleanedContent into Content for better understanding\n",
    "contentCorpus = contentCorpus.rename({\"CleanedContent\":\"Content\"},axis=1)\n",
    "contentCorpus"
   ]
  },
  {
   "cell_type": "code",
   "execution_count": 74,
   "metadata": {},
   "outputs": [],
   "source": [
    "#Let's pickle the dataset for later use\n",
    "contentCorpus.to_pickle(\"contentCorpus.pkl\")"
   ]
  },
  {
   "cell_type": "markdown",
   "metadata": {},
   "source": [
    "#### Document-term matrix"
   ]
  },
  {
   "cell_type": "markdown",
   "metadata": {},
   "source": [
    "For many of the techniques we'll be using in future notebooks, the text must be tokenized, meaning broken down into smaller pieces. The most common tokenization technique is to break down text into words. We can do this using scikit-learn's CountVectorizer, where every row will represent a different document and every column will represent a different word.\n",
    "\n",
    "In addition, with CountVectorizer, we can remove stop words. Stop words are common words that add no additional meaning to text such as 'a', 'the', etc."
   ]
  },
  {
   "cell_type": "markdown",
   "metadata": {},
   "source": [
    "*Memory issue*\n",
    "\n",
    "It appears that creating a Document-term matrix of all the content is impossible due to the weight of the resulting dataset. To avoid this issue, we are going to take only few authors to create this dataset.  \n",
    "Moreover, in order to analyze what makes a linkedin post good, it would be better to compare posts of the same author only.  \n",
    "Let's take Simon Sinek, a famous personality in Personal Development, writer and public speaker.\n"
   ]
  },
  {
   "cell_type": "code",
   "execution_count": 103,
   "metadata": {},
   "outputs": [
    {
     "name": "stdout",
     "output_type": "stream",
     "text": [
      "(245, 8)\n"
     ]
    },
    {
     "data": {
      "text/html": [
       "<div>\n",
       "<style scoped>\n",
       "    .dataframe tbody tr th:only-of-type {\n",
       "        vertical-align: middle;\n",
       "    }\n",
       "\n",
       "    .dataframe tbody tr th {\n",
       "        vertical-align: top;\n",
       "    }\n",
       "\n",
       "    .dataframe thead th {\n",
       "        text-align: right;\n",
       "    }\n",
       "</style>\n",
       "<table border=\"1\" class=\"dataframe\">\n",
       "  <thead>\n",
       "    <tr style=\"text-align: right;\">\n",
       "      <th></th>\n",
       "      <th>Name</th>\n",
       "      <th>#Reactions</th>\n",
       "      <th>#Comments</th>\n",
       "      <th>Location</th>\n",
       "      <th>Followers</th>\n",
       "      <th>Time_spent</th>\n",
       "      <th>Media_type</th>\n",
       "      <th>Content</th>\n",
       "    </tr>\n",
       "  </thead>\n",
       "  <tbody>\n",
       "    <tr>\n",
       "      <th>0</th>\n",
       "      <td>Simon Sinek</td>\n",
       "      <td>12093</td>\n",
       "      <td>257</td>\n",
       "      <td>Unknown</td>\n",
       "      <td>4206024.0</td>\n",
       "      <td>23 hours ago</td>\n",
       "      <td>none</td>\n",
       "      <td>we are only in charge when we are willing to l...</td>\n",
       "    </tr>\n",
       "    <tr>\n",
       "      <th>1</th>\n",
       "      <td>Simon Sinek</td>\n",
       "      <td>5415</td>\n",
       "      <td>164</td>\n",
       "      <td>Unknown</td>\n",
       "      <td>4206024.0</td>\n",
       "      <td>23 hours ago</td>\n",
       "      <td>none</td>\n",
       "      <td>when the people have to manage dangers from in...</td>\n",
       "    </tr>\n",
       "  </tbody>\n",
       "</table>\n",
       "</div>"
      ],
      "text/plain": [
       "          Name  #Reactions  #Comments Location  Followers    Time_spent  \\\n",
       "0  Simon Sinek       12093        257  Unknown  4206024.0  23 hours ago   \n",
       "1  Simon Sinek        5415        164  Unknown  4206024.0  23 hours ago   \n",
       "\n",
       "  Media_type                                            Content  \n",
       "0       none  we are only in charge when we are willing to l...  \n",
       "1       none  when the people have to manage dangers from in...  "
      ]
     },
     "execution_count": 103,
     "metadata": {},
     "output_type": "execute_result"
    }
   ],
   "source": [
    "#Corpus of Simon Sinek's content\n",
    "sinekCorpus = contentCorpus.loc[contentCorpus[\"Name\"] == \"Simon Sinek\"]\n",
    "#Reset index to allow concat with dataframe\n",
    "sinekCorpus = sinekCorpus.reset_index(drop=True) #drop to avoid current index into the dataframe \n",
    "\n",
    "print(sinekCorpus.shape)\n",
    "sinekCorpus.head(2)"
   ]
  },
  {
   "cell_type": "code",
   "execution_count": 104,
   "metadata": {},
   "outputs": [],
   "source": [
    "#Drop useless columns for this analysis too.\n",
    "sinekCorpus.drop(['Name','Location','Time_spent','Media_type','Followers'],axis=1,inplace=True)"
   ]
  },
  {
   "cell_type": "code",
   "execution_count": 105,
   "metadata": {},
   "outputs": [
    {
     "name": "stdout",
     "output_type": "stream",
     "text": [
      "(245, 1530)\n"
     ]
    },
    {
     "data": {
      "text/html": [
       "<div>\n",
       "<style scoped>\n",
       "    .dataframe tbody tr th:only-of-type {\n",
       "        vertical-align: middle;\n",
       "    }\n",
       "\n",
       "    .dataframe tbody tr th {\n",
       "        vertical-align: top;\n",
       "    }\n",
       "\n",
       "    .dataframe thead th {\n",
       "        text-align: right;\n",
       "    }\n",
       "</style>\n",
       "<table border=\"1\" class=\"dataframe\">\n",
       "  <thead>\n",
       "    <tr style=\"text-align: right;\">\n",
       "      <th></th>\n",
       "      <th>ability</th>\n",
       "      <th>abitofoptimism</th>\n",
       "      <th>able</th>\n",
       "      <th>abnormal</th>\n",
       "      <th>absolutely</th>\n",
       "      <th>accept</th>\n",
       "      <th>accepting</th>\n",
       "      <th>accepts</th>\n",
       "      <th>achieve</th>\n",
       "      <th>act</th>\n",
       "      <th>...</th>\n",
       "      <th>years</th>\n",
       "      <th>yesterday</th>\n",
       "      <th>yin</th>\n",
       "      <th>york</th>\n",
       "      <th>youll</th>\n",
       "      <th>youre</th>\n",
       "      <th>youtube</th>\n",
       "      <th>youtubecomsimonsinek</th>\n",
       "      <th>youve</th>\n",
       "      <th>única</th>\n",
       "    </tr>\n",
       "  </thead>\n",
       "  <tbody>\n",
       "    <tr>\n",
       "      <th>0</th>\n",
       "      <td>0</td>\n",
       "      <td>0</td>\n",
       "      <td>0</td>\n",
       "      <td>0</td>\n",
       "      <td>0</td>\n",
       "      <td>0</td>\n",
       "      <td>0</td>\n",
       "      <td>0</td>\n",
       "      <td>0</td>\n",
       "      <td>0</td>\n",
       "      <td>...</td>\n",
       "      <td>0</td>\n",
       "      <td>0</td>\n",
       "      <td>0</td>\n",
       "      <td>0</td>\n",
       "      <td>0</td>\n",
       "      <td>0</td>\n",
       "      <td>0</td>\n",
       "      <td>0</td>\n",
       "      <td>0</td>\n",
       "      <td>0</td>\n",
       "    </tr>\n",
       "    <tr>\n",
       "      <th>1</th>\n",
       "      <td>0</td>\n",
       "      <td>0</td>\n",
       "      <td>1</td>\n",
       "      <td>0</td>\n",
       "      <td>0</td>\n",
       "      <td>0</td>\n",
       "      <td>0</td>\n",
       "      <td>0</td>\n",
       "      <td>0</td>\n",
       "      <td>0</td>\n",
       "      <td>...</td>\n",
       "      <td>0</td>\n",
       "      <td>0</td>\n",
       "      <td>0</td>\n",
       "      <td>0</td>\n",
       "      <td>0</td>\n",
       "      <td>0</td>\n",
       "      <td>0</td>\n",
       "      <td>0</td>\n",
       "      <td>0</td>\n",
       "      <td>0</td>\n",
       "    </tr>\n",
       "    <tr>\n",
       "      <th>2</th>\n",
       "      <td>0</td>\n",
       "      <td>0</td>\n",
       "      <td>0</td>\n",
       "      <td>0</td>\n",
       "      <td>0</td>\n",
       "      <td>0</td>\n",
       "      <td>0</td>\n",
       "      <td>0</td>\n",
       "      <td>0</td>\n",
       "      <td>0</td>\n",
       "      <td>...</td>\n",
       "      <td>0</td>\n",
       "      <td>0</td>\n",
       "      <td>0</td>\n",
       "      <td>0</td>\n",
       "      <td>0</td>\n",
       "      <td>0</td>\n",
       "      <td>0</td>\n",
       "      <td>0</td>\n",
       "      <td>0</td>\n",
       "      <td>0</td>\n",
       "    </tr>\n",
       "  </tbody>\n",
       "</table>\n",
       "<p>3 rows × 1530 columns</p>\n",
       "</div>"
      ],
      "text/plain": [
       "   ability  abitofoptimism  able  abnormal  absolutely  accept  accepting  \\\n",
       "0        0               0     0         0           0       0          0   \n",
       "1        0               0     1         0           0       0          0   \n",
       "2        0               0     0         0           0       0          0   \n",
       "\n",
       "   accepts  achieve  act  ...  years  yesterday  yin  york  youll  youre  \\\n",
       "0        0        0    0  ...      0          0    0     0      0      0   \n",
       "1        0        0    0  ...      0          0    0     0      0      0   \n",
       "2        0        0    0  ...      0          0    0     0      0      0   \n",
       "\n",
       "   youtube  youtubecomsimonsinek  youve  única  \n",
       "0        0                     0      0      0  \n",
       "1        0                     0      0      0  \n",
       "2        0                     0      0      0  \n",
       "\n",
       "[3 rows x 1530 columns]"
      ]
     },
     "execution_count": 105,
     "metadata": {},
     "output_type": "execute_result"
    }
   ],
   "source": [
    "# We are going to create a document-term matrix using CountVectorizer, and exclude common English stop words\n",
    "from sklearn.feature_extraction.text import CountVectorizer\n",
    "\n",
    "cv = CountVectorizer(stop_words='english')\n",
    "dataCv = cv.fit_transform(sinekCorpus.Content)\n",
    "dataDtm = pd.DataFrame(dataCv.toarray(), columns=cv.get_feature_names_out())\n",
    "\n",
    "print(dataDtm.shape)\n",
    "dataDtm.head(3)"
   ]
  },
  {
   "cell_type": "code",
   "execution_count": 106,
   "metadata": {},
   "outputs": [
    {
     "name": "stdout",
     "output_type": "stream",
     "text": [
      "(245, 1533)\n"
     ]
    },
    {
     "data": {
      "text/html": [
       "<div>\n",
       "<style scoped>\n",
       "    .dataframe tbody tr th:only-of-type {\n",
       "        vertical-align: middle;\n",
       "    }\n",
       "\n",
       "    .dataframe tbody tr th {\n",
       "        vertical-align: top;\n",
       "    }\n",
       "\n",
       "    .dataframe thead th {\n",
       "        text-align: right;\n",
       "    }\n",
       "</style>\n",
       "<table border=\"1\" class=\"dataframe\">\n",
       "  <thead>\n",
       "    <tr style=\"text-align: right;\">\n",
       "      <th></th>\n",
       "      <th>#Reactions</th>\n",
       "      <th>#Comments</th>\n",
       "      <th>Content</th>\n",
       "      <th>ability</th>\n",
       "      <th>abitofoptimism</th>\n",
       "      <th>able</th>\n",
       "      <th>abnormal</th>\n",
       "      <th>absolutely</th>\n",
       "      <th>accept</th>\n",
       "      <th>accepting</th>\n",
       "      <th>...</th>\n",
       "      <th>years</th>\n",
       "      <th>yesterday</th>\n",
       "      <th>yin</th>\n",
       "      <th>york</th>\n",
       "      <th>youll</th>\n",
       "      <th>youre</th>\n",
       "      <th>youtube</th>\n",
       "      <th>youtubecomsimonsinek</th>\n",
       "      <th>youve</th>\n",
       "      <th>única</th>\n",
       "    </tr>\n",
       "  </thead>\n",
       "  <tbody>\n",
       "    <tr>\n",
       "      <th>0</th>\n",
       "      <td>12093</td>\n",
       "      <td>257</td>\n",
       "      <td>we are only in charge when we are willing to l...</td>\n",
       "      <td>0</td>\n",
       "      <td>0</td>\n",
       "      <td>0</td>\n",
       "      <td>0</td>\n",
       "      <td>0</td>\n",
       "      <td>0</td>\n",
       "      <td>0</td>\n",
       "      <td>...</td>\n",
       "      <td>0</td>\n",
       "      <td>0</td>\n",
       "      <td>0</td>\n",
       "      <td>0</td>\n",
       "      <td>0</td>\n",
       "      <td>0</td>\n",
       "      <td>0</td>\n",
       "      <td>0</td>\n",
       "      <td>0</td>\n",
       "      <td>0</td>\n",
       "    </tr>\n",
       "    <tr>\n",
       "      <th>1</th>\n",
       "      <td>5415</td>\n",
       "      <td>164</td>\n",
       "      <td>when the people have to manage dangers from in...</td>\n",
       "      <td>0</td>\n",
       "      <td>0</td>\n",
       "      <td>1</td>\n",
       "      <td>0</td>\n",
       "      <td>0</td>\n",
       "      <td>0</td>\n",
       "      <td>0</td>\n",
       "      <td>...</td>\n",
       "      <td>0</td>\n",
       "      <td>0</td>\n",
       "      <td>0</td>\n",
       "      <td>0</td>\n",
       "      <td>0</td>\n",
       "      <td>0</td>\n",
       "      <td>0</td>\n",
       "      <td>0</td>\n",
       "      <td>0</td>\n",
       "      <td>0</td>\n",
       "    </tr>\n",
       "  </tbody>\n",
       "</table>\n",
       "<p>2 rows × 1533 columns</p>\n",
       "</div>"
      ],
      "text/plain": [
       "   #Reactions  #Comments                                            Content  \\\n",
       "0       12093        257  we are only in charge when we are willing to l...   \n",
       "1        5415        164  when the people have to manage dangers from in...   \n",
       "\n",
       "   ability  abitofoptimism  able  abnormal  absolutely  accept  accepting  \\\n",
       "0        0               0     0         0           0       0          0   \n",
       "1        0               0     1         0           0       0          0   \n",
       "\n",
       "   ...  years  yesterday  yin  york  youll  youre  youtube  \\\n",
       "0  ...      0          0    0     0      0      0        0   \n",
       "1  ...      0          0    0     0      0      0        0   \n",
       "\n",
       "   youtubecomsimonsinek  youve  única  \n",
       "0                     0      0      0  \n",
       "1                     0      0      0  \n",
       "\n",
       "[2 rows x 1533 columns]"
      ]
     },
     "execution_count": 106,
     "metadata": {},
     "output_type": "execute_result"
    }
   ],
   "source": [
    "#Let's concat this Document-term matrix with data to perform EDA\n",
    "sinekDtm = pd.concat([sinekCorpus,dataDtm],axis=1)\n",
    "\n",
    "print(sinekDtm.shape)\n",
    "sinekDtm.head(2)"
   ]
  },
  {
   "cell_type": "code",
   "execution_count": 102,
   "metadata": {},
   "outputs": [],
   "source": [
    "#Let's picke the Document-term matrix\n",
    "sinekDtm.to_pickle(\"sinekDtm.pkl\")"
   ]
  },
  {
   "cell_type": "markdown",
   "metadata": {},
   "source": [
    "**Corpus for each author**"
   ]
  },
  {
   "cell_type": "markdown",
   "metadata": {},
   "source": [
    "We will also study each creator content, and compare it with the number of followers for instance.\n",
    "\n",
    "We can create a corpus for every authors.  \n",
    "To do so, let's gather all content posts into one text for each author.  \n",
    "Then we will apply CountVectorizer for each author.  \n",
    "Easy !"
   ]
  },
  {
   "cell_type": "code",
   "execution_count": 89,
   "metadata": {},
   "outputs": [],
   "source": [
    "contentAuthorCorpus = contentCorpus[['Name','Followers','Content']]"
   ]
  },
  {
   "cell_type": "code",
   "execution_count": 90,
   "metadata": {},
   "outputs": [
    {
     "data": {
      "text/html": [
       "<div>\n",
       "<style scoped>\n",
       "    .dataframe tbody tr th:only-of-type {\n",
       "        vertical-align: middle;\n",
       "    }\n",
       "\n",
       "    .dataframe tbody tr th {\n",
       "        vertical-align: top;\n",
       "    }\n",
       "\n",
       "    .dataframe thead th {\n",
       "        text-align: right;\n",
       "    }\n",
       "</style>\n",
       "<table border=\"1\" class=\"dataframe\">\n",
       "  <thead>\n",
       "    <tr style=\"text-align: right;\">\n",
       "      <th></th>\n",
       "      <th>Name</th>\n",
       "      <th>Followers</th>\n",
       "      <th>Content</th>\n",
       "    </tr>\n",
       "  </thead>\n",
       "  <tbody>\n",
       "    <tr>\n",
       "      <th>0</th>\n",
       "      <td>Nicholas Wyman</td>\n",
       "      <td>6484.0</td>\n",
       "      <td>robert lerman  writes that achieving a healthy...</td>\n",
       "    </tr>\n",
       "    <tr>\n",
       "      <th>1</th>\n",
       "      <td>Jonathan Wolfer</td>\n",
       "      <td>2462.0</td>\n",
       "      <td>proud of this new feature at douglass this yea...</td>\n",
       "    </tr>\n",
       "    <tr>\n",
       "      <th>2</th>\n",
       "      <td>Karen Gross</td>\n",
       "      <td>88720.0</td>\n",
       "      <td>a piece worth reading i hope with suggestions ...</td>\n",
       "    </tr>\n",
       "    <tr>\n",
       "      <th>3</th>\n",
       "      <td>Kaia Niambi Shivers Ph.D.</td>\n",
       "      <td>3725.0</td>\n",
       "      <td>i remember  native read    went low but we’re ...</td>\n",
       "    </tr>\n",
       "    <tr>\n",
       "      <th>4</th>\n",
       "      <td>Daniel Cohen-I'm Flyering</td>\n",
       "      <td>28605.0</td>\n",
       "      <td>passion is one of those qualities you can’t sp...</td>\n",
       "    </tr>\n",
       "    <tr>\n",
       "      <th>...</th>\n",
       "      <td>...</td>\n",
       "      <td>...</td>\n",
       "      <td>...</td>\n",
       "    </tr>\n",
       "    <tr>\n",
       "      <th>63</th>\n",
       "      <td>Quentin Michael Allums</td>\n",
       "      <td>66387.0</td>\n",
       "      <td>comparing your career to someone else’s is lik...</td>\n",
       "    </tr>\n",
       "    <tr>\n",
       "      <th>64</th>\n",
       "      <td>AJ Wilcox</td>\n",
       "      <td>19101.0</td>\n",
       "      <td>i am so excited to be a part of this webinar c...</td>\n",
       "    </tr>\n",
       "    <tr>\n",
       "      <th>65</th>\n",
       "      <td>Kevin O'Leary</td>\n",
       "      <td>2826016.0</td>\n",
       "      <td>clearly not all crypto currencies are created ...</td>\n",
       "    </tr>\n",
       "    <tr>\n",
       "      <th>66</th>\n",
       "      <td>Amy Blaschka</td>\n",
       "      <td>64548.0</td>\n",
       "      <td>news flash what’s preventing your career progr...</td>\n",
       "    </tr>\n",
       "    <tr>\n",
       "      <th>67</th>\n",
       "      <td>Simon Sinek</td>\n",
       "      <td>4206024.0</td>\n",
       "      <td>we are only in charge when we are willing to l...</td>\n",
       "    </tr>\n",
       "  </tbody>\n",
       "</table>\n",
       "<p>68 rows × 3 columns</p>\n",
       "</div>"
      ],
      "text/plain": [
       "                         Name  Followers  \\\n",
       "0              Nicholas Wyman     6484.0   \n",
       "1             Jonathan Wolfer     2462.0   \n",
       "2                 Karen Gross    88720.0   \n",
       "3   Kaia Niambi Shivers Ph.D.     3725.0   \n",
       "4   Daniel Cohen-I'm Flyering    28605.0   \n",
       "..                        ...        ...   \n",
       "63     Quentin Michael Allums    66387.0   \n",
       "64                  AJ Wilcox    19101.0   \n",
       "65              Kevin O'Leary  2826016.0   \n",
       "66               Amy Blaschka    64548.0   \n",
       "67                Simon Sinek  4206024.0   \n",
       "\n",
       "                                              Content  \n",
       "0   robert lerman  writes that achieving a healthy...  \n",
       "1   proud of this new feature at douglass this yea...  \n",
       "2   a piece worth reading i hope with suggestions ...  \n",
       "3   i remember  native read    went low but we’re ...  \n",
       "4   passion is one of those qualities you can’t sp...  \n",
       "..                                                ...  \n",
       "63  comparing your career to someone else’s is lik...  \n",
       "64  i am so excited to be a part of this webinar c...  \n",
       "65  clearly not all crypto currencies are created ...  \n",
       "66  news flash what’s preventing your career progr...  \n",
       "67  we are only in charge when we are willing to l...  \n",
       "\n",
       "[68 rows x 3 columns]"
      ]
     },
     "execution_count": 90,
     "metadata": {},
     "output_type": "execute_result"
    }
   ],
   "source": [
    "#Let's gather the content for each author\n",
    "#We replace the 'Content' column\n",
    "contentAuthorCorpus['Content'] = contentAuthorCorpus.groupby(['Name'])['Content'].transform(lambda x : ' '.join(x))\n",
    "\n",
    "#Groupby group like a pivot_table\n",
    "#Transform is Apply to the Serie itself\n",
    "#Join gathers string together with the string ' ' defined (here nothing)\n",
    "\n",
    "#Remove duplicates due to .transform\n",
    "contentAuthorCorpus = contentAuthorCorpus.drop_duplicates() \n",
    "contentAuthorCorpus.reset_index(inplace=True,drop=True)\n",
    "contentAuthorCorpus"
   ]
  },
  {
   "cell_type": "code",
   "execution_count": 91,
   "metadata": {},
   "outputs": [],
   "source": [
    "#Export the dataset\n",
    "contentAuthorCorpus.to_pickle('contentAuthorCorpus.pkl')"
   ]
  },
  {
   "cell_type": "markdown",
   "metadata": {},
   "source": [
    "**Document-Term Matrix for headlines**"
   ]
  }
 ],
 "metadata": {
  "interpreter": {
   "hash": "ae290cde4634a6443381d55bbe6f1180de26a7de00f3f0eb338834ba70f07938"
  },
  "kernelspec": {
   "display_name": "Python 3.8.8 64-bit ('base': conda)",
   "language": "python",
   "name": "python3"
  },
  "language_info": {
   "codemirror_mode": {
    "name": "ipython",
    "version": 3
   },
   "file_extension": ".py",
   "mimetype": "text/x-python",
   "name": "python",
   "nbconvert_exporter": "python",
   "pygments_lexer": "ipython3",
   "version": "3.8.8"
  },
  "orig_nbformat": 4
 },
 "nbformat": 4,
 "nbformat_minor": 2
}
