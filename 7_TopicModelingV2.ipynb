{
 "cells": [
  {
   "cell_type": "markdown",
   "metadata": {},
   "source": [
    "# Topic modeling v2"
   ]
  },
  {
   "cell_type": "markdown",
   "metadata": {},
   "source": [
    "In this notebook, we will start again our work to get topics from posts.  \n",
    "The reason of this change is simple : \n",
    "* There are a lot of pre-processing actions we could do to improve our initial dataset (lemmatization, group words together, filter words,...)\n",
    "* Our LDA model we used before got us an error we couldn't fix. This time, based on a new course (https://www.youtube.com/watch?v=6zm9NC9uRkk&ab_channel=PyData), we will improve our code.\n",
    "\n",
    "Let's begin"
   ]
  },
  {
   "cell_type": "markdown",
   "metadata": {},
   "source": [
    "## Import the data"
   ]
  },
  {
   "cell_type": "code",
   "execution_count": 1,
   "metadata": {},
   "outputs": [],
   "source": [
    "import pandas as pd\n",
    "import pickle\n",
    "import numpy as np"
   ]
  },
  {
   "cell_type": "code",
   "execution_count": 2,
   "metadata": {},
   "outputs": [
    {
     "data": {
      "text/html": [
       "<div>\n",
       "<style scoped>\n",
       "    .dataframe tbody tr th:only-of-type {\n",
       "        vertical-align: middle;\n",
       "    }\n",
       "\n",
       "    .dataframe tbody tr th {\n",
       "        vertical-align: top;\n",
       "    }\n",
       "\n",
       "    .dataframe thead th {\n",
       "        text-align: right;\n",
       "    }\n",
       "</style>\n",
       "<table border=\"1\" class=\"dataframe\">\n",
       "  <thead>\n",
       "    <tr style=\"text-align: right;\">\n",
       "      <th></th>\n",
       "      <th>Name</th>\n",
       "      <th>#Reactions</th>\n",
       "      <th>#Comments</th>\n",
       "      <th>Location</th>\n",
       "      <th>Followers</th>\n",
       "      <th>Time_spent</th>\n",
       "      <th>Media_type</th>\n",
       "      <th>Content</th>\n",
       "    </tr>\n",
       "  </thead>\n",
       "  <tbody>\n",
       "    <tr>\n",
       "      <th>0</th>\n",
       "      <td>Nicholas Wyman</td>\n",
       "      <td>12</td>\n",
       "      <td>1</td>\n",
       "      <td>Unknown</td>\n",
       "      <td>6484.0</td>\n",
       "      <td>1 day ago</td>\n",
       "      <td>article</td>\n",
       "      <td>robert lerman  writes that achieving a healthy...</td>\n",
       "    </tr>\n",
       "    <tr>\n",
       "      <th>1</th>\n",
       "      <td>Nicholas Wyman</td>\n",
       "      <td>11</td>\n",
       "      <td>0</td>\n",
       "      <td>Unknown</td>\n",
       "      <td>6484.0</td>\n",
       "      <td>1 week ago</td>\n",
       "      <td>none</td>\n",
       "      <td>national disability advocate  sara hart weir, ...</td>\n",
       "    </tr>\n",
       "    <tr>\n",
       "      <th>3</th>\n",
       "      <td>Nicholas Wyman</td>\n",
       "      <td>44</td>\n",
       "      <td>0</td>\n",
       "      <td>Unknown</td>\n",
       "      <td>6484.0</td>\n",
       "      <td>2 months ago</td>\n",
       "      <td>article</td>\n",
       "      <td>exploring in this months talent management &amp; h...</td>\n",
       "    </tr>\n",
       "    <tr>\n",
       "      <th>4</th>\n",
       "      <td>Nicholas Wyman</td>\n",
       "      <td>22</td>\n",
       "      <td>2</td>\n",
       "      <td>Unknown</td>\n",
       "      <td>6484.0</td>\n",
       "      <td>2 months ago</td>\n",
       "      <td>article</td>\n",
       "      <td>i count myself fortunate to have spent time wi...</td>\n",
       "    </tr>\n",
       "    <tr>\n",
       "      <th>5</th>\n",
       "      <td>Nicholas Wyman</td>\n",
       "      <td>21</td>\n",
       "      <td>1</td>\n",
       "      <td>Unknown</td>\n",
       "      <td>6484.0</td>\n",
       "      <td>2 months ago</td>\n",
       "      <td>article</td>\n",
       "      <td>online job platforms are a different way of wo...</td>\n",
       "    </tr>\n",
       "    <tr>\n",
       "      <th>...</th>\n",
       "      <td>...</td>\n",
       "      <td>...</td>\n",
       "      <td>...</td>\n",
       "      <td>...</td>\n",
       "      <td>...</td>\n",
       "      <td>...</td>\n",
       "      <td>...</td>\n",
       "      <td>...</td>\n",
       "    </tr>\n",
       "    <tr>\n",
       "      <th>34007</th>\n",
       "      <td>Simon Sinek</td>\n",
       "      <td>4005</td>\n",
       "      <td>93</td>\n",
       "      <td>Unknown</td>\n",
       "      <td>4206024.0</td>\n",
       "      <td>4 years ago</td>\n",
       "      <td>image</td>\n",
       "      <td>igniter of the year 2016. well i know that i'm...</td>\n",
       "    </tr>\n",
       "    <tr>\n",
       "      <th>34008</th>\n",
       "      <td>Simon Sinek</td>\n",
       "      <td>1698</td>\n",
       "      <td>74</td>\n",
       "      <td>Unknown</td>\n",
       "      <td>4206024.0</td>\n",
       "      <td>4 years ago</td>\n",
       "      <td>video</td>\n",
       "      <td>executives who prioritize the shareholder are ...</td>\n",
       "    </tr>\n",
       "    <tr>\n",
       "      <th>34009</th>\n",
       "      <td>Simon Sinek</td>\n",
       "      <td>661</td>\n",
       "      <td>59</td>\n",
       "      <td>Unknown</td>\n",
       "      <td>4206024.0</td>\n",
       "      <td>4 years ago</td>\n",
       "      <td>video</td>\n",
       "      <td>like many, i too have been reflecting as we ne...</td>\n",
       "    </tr>\n",
       "    <tr>\n",
       "      <th>34010</th>\n",
       "      <td>Simon Sinek</td>\n",
       "      <td>766</td>\n",
       "      <td>35</td>\n",
       "      <td>Unknown</td>\n",
       "      <td>4206024.0</td>\n",
       "      <td>4 years ago</td>\n",
       "      <td>video</td>\n",
       "      <td>if you say \"customer first\" that means your em...</td>\n",
       "    </tr>\n",
       "    <tr>\n",
       "      <th>34011</th>\n",
       "      <td>Simon Sinek</td>\n",
       "      <td>789</td>\n",
       "      <td>23</td>\n",
       "      <td>Unknown</td>\n",
       "      <td>4206024.0</td>\n",
       "      <td>4 years ago</td>\n",
       "      <td>none</td>\n",
       "      <td>the small work hard to serve themselves in a b...</td>\n",
       "    </tr>\n",
       "  </tbody>\n",
       "</table>\n",
       "<p>31996 rows × 8 columns</p>\n",
       "</div>"
      ],
      "text/plain": [
       "                 Name  #Reactions  #Comments Location  Followers  \\\n",
       "0      Nicholas Wyman          12          1  Unknown     6484.0   \n",
       "1      Nicholas Wyman          11          0  Unknown     6484.0   \n",
       "3      Nicholas Wyman          44          0  Unknown     6484.0   \n",
       "4      Nicholas Wyman          22          2  Unknown     6484.0   \n",
       "5      Nicholas Wyman          21          1  Unknown     6484.0   \n",
       "...               ...         ...        ...      ...        ...   \n",
       "34007     Simon Sinek        4005         93  Unknown  4206024.0   \n",
       "34008     Simon Sinek        1698         74  Unknown  4206024.0   \n",
       "34009     Simon Sinek         661         59  Unknown  4206024.0   \n",
       "34010     Simon Sinek         766         35  Unknown  4206024.0   \n",
       "34011     Simon Sinek         789         23  Unknown  4206024.0   \n",
       "\n",
       "         Time_spent Media_type  \\\n",
       "0         1 day ago    article   \n",
       "1        1 week ago       none   \n",
       "3      2 months ago    article   \n",
       "4      2 months ago    article   \n",
       "5      2 months ago    article   \n",
       "...             ...        ...   \n",
       "34007   4 years ago      image   \n",
       "34008   4 years ago      video   \n",
       "34009   4 years ago      video   \n",
       "34010   4 years ago      video   \n",
       "34011   4 years ago       none   \n",
       "\n",
       "                                                 Content  \n",
       "0      robert lerman  writes that achieving a healthy...  \n",
       "1      national disability advocate  sara hart weir, ...  \n",
       "3      exploring in this months talent management & h...  \n",
       "4      i count myself fortunate to have spent time wi...  \n",
       "5      online job platforms are a different way of wo...  \n",
       "...                                                  ...  \n",
       "34007  igniter of the year 2016. well i know that i'm...  \n",
       "34008  executives who prioritize the shareholder are ...  \n",
       "34009  like many, i too have been reflecting as we ne...  \n",
       "34010  if you say \"customer first\" that means your em...  \n",
       "34011  the small work hard to serve themselves in a b...  \n",
       "\n",
       "[31996 rows x 8 columns]"
      ]
     },
     "execution_count": 2,
     "metadata": {},
     "output_type": "execute_result"
    }
   ],
   "source": [
    "data = pd.read_pickle(\"contentCorpus.pkl\")\n",
    "data"
   ]
  },
  {
   "cell_type": "code",
   "execution_count": 3,
   "metadata": {},
   "outputs": [],
   "source": [
    "# Let's devide this dataset into two datasets : Corpus only & Informations about the post\n",
    "\n",
    "# We create a specific ID for each row\n",
    "data[\"ID\"]=range(data.shape[0])\n",
    "\n",
    "# We create the dataset containing content\n",
    "corpus = data[['ID','Content']]\n",
    "\n",
    "# And the one containing reactions & comments about each post\n",
    "# We don't need other columns for this analysis\n",
    "postReactions = data[['ID','#Reactions','#Comments']]"
   ]
  },
  {
   "cell_type": "code",
   "execution_count": 4,
   "metadata": {},
   "outputs": [
    {
     "name": "stdout",
     "output_type": "stream",
     "text": [
      "national disability advocate  sara hart weir, ms   shares how congress passed the able act\n",
      "--------------\n",
      "for those intersted in youth career pathways. great to read today about the expansion of citi foundation’s pathways to progress inititiave - new commitment to 500k young adults #jobready #jobs #training  joanne gedge   janet searle   louise martin lindsay   amy-lou cowdroy-ling   https://lnkd.in/g8ftr5w. \n",
      "--------------\n",
      "community building has meant something dramatically different the past couple of months.  when 500 startups hosted an event with 2400+ rsvps, we had to pivot almost 8 times to accommodate changing restrictions along the way.  people are rallying around their communities to show support for groups like healthcare workers while staying in their homes for months.  all these things have made me ask the question, what's the best way to build community right now? how is this changing our perception of community? thus, i'm starting my letter to the community on the subject. \n",
      "--------------\n",
      "where can we find  #casestudies  of  #startups  that were built by a  #team  of  #entrepreneurs  virtually?\n",
      "--------------\n",
      "i'm back in the u.s., inspired, enthused and invigorated. so as i sit in the atlanta airport awaiting one more flight, i’m reviewing my pre-trip to-do list: explored my 12th country on the mamaland? check. interviewed a #maternalhealth superhero and living legend? check. renewed my love affair with #africa? triple check. and now that i’m back in the land of stable internet, i’ll be posting more highlights and insights from my journey on  instagram  at rachella55, and here in  linkedin .  btw, thanks so much, linkedin fam, for all the kind support and compliments you shared about my posts while i was traveling. you keep me inspired, too! #natgeotraveller #globalhealth \n",
      "--------------\n"
     ]
    }
   ],
   "source": [
    "for c in corpus['Content'][[1,100,1000,10000,20000]]:\n",
    "    print(c)\n",
    "    print('--------------')"
   ]
  },
  {
   "cell_type": "markdown",
   "metadata": {},
   "source": [
    "As we can see, some words can be filtered :\n",
    "* mentions (joanne gedge, janet searle,...)\n",
    "* some hashtags that are involved in sentences (natgeotraveller , globalhealth), generally at the end of the post"
   ]
  },
  {
   "cell_type": "markdown",
   "metadata": {},
   "source": [
    "## Texts Preprocessing : what we can do ?"
   ]
  },
  {
   "cell_type": "markdown",
   "metadata": {},
   "source": [
    "For this preprocessing, we will use Spacy, which is a fast industrial-strength natural language processing (NLP) library for Python.\n",
    "\n",
    "spaCy handles many tasks commonly associated with building an end-to-end natural language processing pipeline:\n",
    "\n",
    "* Tokenization\n",
    "* Text normalization, such as lowercasing, stemming/lemmatization\n",
    "* Part-of-speech tagging\n",
    "* Syntactic dependency parsing\n",
    "* Sentence boundary detection\n",
    "* Named entity recognition and annotation\n",
    "\n",
    "In the \"batteries included\" Python tradition, spaCy contains built-in data and models which you can use out-of-the-box for processing general-purpose English language text:\n",
    "\n",
    "* Large English vocabulary, including stopword lists\n",
    "* Token \"probabilities\"\n",
    "* Word vectors"
   ]
  },
  {
   "cell_type": "code",
   "execution_count": 5,
   "metadata": {},
   "outputs": [],
   "source": [
    "import spacy\n",
    "import codecs\n",
    "\n",
    "# We need to import spacy trained pipelines, which support many languages\n",
    "# Let's use the English pipeline\n",
    "\n",
    "# In CMD :\n",
    "# $ python -m spacy download en_core_web_lg\n",
    "# or\n",
    "# In python :\n",
    "# >>> import spacy\n",
    "# >>> nlp = spacy.load(\"en_core_web_lg\")\n",
    "\n",
    "# We download the large version \"lg\" and not the small version \"sm\" here \n",
    "# This module is pretty large : ~631 MB\n",
    "nlp = spacy.load(\"en_core_web_lg\")"
   ]
  },
  {
   "cell_type": "markdown",
   "metadata": {},
   "source": [
    "Let's create a sample of several posts to play with."
   ]
  },
  {
   "cell_type": "code",
   "execution_count": 6,
   "metadata": {},
   "outputs": [
    {
     "name": "stdout",
     "output_type": "stream",
     "text": [
      "national disability advocate  sara hart weir, ms   shares how congress passed the able act\n",
      "\n",
      "for those intersted in youth career pathways. great to read today about the expansion of citi foundation’s pathways to progress inititiave - new commitment to 500k young adults #jobready #jobs #training  joanne gedge   janet searle   louise martin lindsay   amy-lou cowdroy-ling   https://lnkd.in/g8ftr5w. \n",
      "\n",
      "community building has meant something dramatically different the past couple of months.  when 500 startups hosted an event with 2400+ rsvps, we had to pivot almost 8 times to accommodate changing restrictions along the way.  people are rallying around their communities to show support for groups like healthcare workers while staying in their homes for months.  all these things have made me ask the question, what's the best way to build community right now? how is this changing our perception of community? thus, i'm starting my letter to the community on the subject. \n",
      "\n",
      "where can we find  #casestudies  of  #startups  that were built by a  #team  of  #entrepreneurs  virtually?\n",
      "\n",
      "i'm back in the u.s., inspired, enthused and invigorated. so as i sit in the atlanta airport awaiting one more flight, i’m reviewing my pre-trip to-do list: explored my 12th country on the mamaland? check. interviewed a #maternalhealth superhero and living legend? check. renewed my love affair with #africa? triple check. and now that i’m back in the land of stable internet, i’ll be posting more highlights and insights from my journey on  instagram  at rachella55, and here in  linkedin .  btw, thanks so much, linkedin fam, for all the kind support and compliments you shared about my posts while i was traveling. you keep me inspired, too! #natgeotraveller #globalhealth \n"
     ]
    }
   ],
   "source": [
    "#Posts are separated by line breaks, and gather into one string\n",
    "posts_sample = \"\\n\\n\".join(corpus.Content[[1,100,1000,10000,20000]])\n",
    "\n",
    "print(posts_sample)"
   ]
  },
  {
   "cell_type": "code",
   "execution_count": 7,
   "metadata": {},
   "outputs": [
    {
     "name": "stdout",
     "output_type": "stream",
     "text": [
      "national disability advocate  sara hart weir, ms   shares how congress passed the able act\n",
      "\n",
      "for those intersted in youth career pathways. great to read today about the expansion of citi foundation’s pathways to progress inititiave - new commitment to 500k young adults #jobready #jobs #training  joanne gedge   janet searle   louise martin lindsay   amy-lou cowdroy-ling   https://lnkd.in/g8ftr5w. \n",
      "\n",
      "community building has meant something dramatically different the past couple of months.  when 500 startups hosted an event with 2400+ rsvps, we had to pivot almost 8 times to accommodate changing restrictions along the way.  people are rallying around their communities to show support for groups like healthcare workers while staying in their homes for months.  all these things have made me ask the question, what's the best way to build community right now? how is this changing our perception of community? thus, i'm starting my letter to the community on the subject. \n",
      "\n",
      "where can we find  #casestudies  of  #startups  that were built by a  #team  of  #entrepreneurs  virtually?\n",
      "\n",
      "i'm back in the u.s., inspired, enthused and invigorated. so as i sit in the atlanta airport awaiting one more flight, i’m reviewing my pre-trip to-do list: explored my 12th country on the mamaland? check. interviewed a #maternalhealth superhero and living legend? check. renewed my love affair with #africa? triple check. and now that i’m back in the land of stable internet, i’ll be posting more highlights and insights from my journey on  instagram  at rachella55, and here in  linkedin .  btw, thanks so much, linkedin fam, for all the kind support and compliments you shared about my posts while i was traveling. you keep me inspired, too! #natgeotraveller #globalhealth \n"
     ]
    }
   ],
   "source": [
    "parsed_posts_sample = nlp(posts_sample)\n",
    "\n",
    "print(parsed_posts_sample)"
   ]
  },
  {
   "cell_type": "markdown",
   "metadata": {},
   "source": [
    "Looks the same ! So what happened ?  \n",
    "Let's apply some functions !"
   ]
  },
  {
   "cell_type": "markdown",
   "metadata": {},
   "source": [
    "### Sentences detection"
   ]
  },
  {
   "cell_type": "markdown",
   "metadata": {},
   "source": [
    "Actually, we have already removed punctuation, but it is working very well !!!  \n",
    "I keep that here for a later use. "
   ]
  },
  {
   "cell_type": "code",
   "execution_count": 8,
   "metadata": {},
   "outputs": [
    {
     "name": "stdout",
     "output_type": "stream",
     "text": [
      "Sentence 1\n",
      "national disability advocate  sara hart weir, ms   shares how congress passed the able act\n",
      "\n",
      "for those intersted in youth career pathways.\n",
      "\n",
      "Sentence 2\n",
      "great to read today about the expansion of citi foundation’s pathways to progress inititiave - new commitment to 500k young adults #jobready #jobs #training  joanne gedge   janet searle   louise martin lindsay   amy-lou cowdroy-ling   https://lnkd.in/g8ftr5w.\n",
      "\n",
      "Sentence 3\n",
      "\n",
      "\n",
      "community building has meant something dramatically different the past couple of months.\n",
      "\n",
      "Sentence 4\n",
      " when 500 startups hosted an event with 2400+ rsvps, we had to pivot almost 8 times to accommodate changing restrictions along the way.\n",
      "\n",
      "Sentence 5\n",
      " people are rallying around their communities to show support for groups like healthcare workers while staying in their homes for months.\n",
      "\n",
      "Sentence 6\n",
      " all these things have made me ask the question, what's the best way to build community right now?\n",
      "\n",
      "Sentence 7\n",
      "how is this changing our perception of community?\n",
      "\n",
      "Sentence 8\n",
      "thus, i'm starting my letter to the community on the subject.\n",
      "\n",
      "Sentence 9\n",
      "\n",
      "\n",
      "where can we find  #casestudies  of  #startups  that were built by a  #team  of  #entrepreneurs  virtually?\n",
      "\n",
      "\n",
      "\n",
      "Sentence 10\n",
      "i'm back in the u.s., inspired, enthused and invigorated.\n",
      "\n",
      "Sentence 11\n",
      "so as i sit in the atlanta airport awaiting one more flight, i’m reviewing my pre-trip to-do list: explored my 12th country on the mamaland?\n",
      "\n",
      "Sentence 12\n",
      "check.\n",
      "\n",
      "Sentence 13\n",
      "interviewed a #maternalhealth superhero and living legend?\n",
      "\n",
      "Sentence 14\n",
      "check.\n",
      "\n",
      "Sentence 15\n",
      "renewed my love affair with #africa?\n",
      "\n",
      "Sentence 16\n",
      "triple check.\n",
      "\n",
      "Sentence 17\n",
      "and now that i’m back in the land of stable internet, i’ll be posting more highlights and insights from my journey on  instagram  at rachella55, and here in  linkedin .\n",
      "\n",
      "Sentence 18\n",
      " btw, thanks so much, linkedin fam, for all the kind support and compliments you shared about my posts while i was traveling.\n",
      "\n",
      "Sentence 19\n",
      "you keep me inspired, too!\n",
      "\n",
      "Sentence 20\n",
      "#natgeotraveller #globalhealth\n",
      "\n"
     ]
    }
   ],
   "source": [
    "for num, sentence in enumerate(parsed_posts_sample.sents):\n",
    "    print(\"Sentence {}\".format(num+1))\n",
    "    print(sentence)\n",
    "    print('')"
   ]
  },
  {
   "cell_type": "code",
   "execution_count": 9,
   "metadata": {},
   "outputs": [
    {
     "name": "stdout",
     "output_type": "stream",
     "text": [
      "Sentence 1\n",
      "For those intersted in youth career pathways.\n",
      "\n",
      "Sentence 2\n",
      "Great to read today about the expansion of Citi Foundation’s Pathways to Progress inititiave - new commitment to 500k young adults #JobReady #Jobs #Training  Joanne Gedge   Janet Searle   Louise Martin Lindsay   Amy-Lou Cowdroy-Ling   https://lnkd.in/g8FTr5w.\n",
      "\n",
      "Sentence 3\n",
      "\n",
      " \n",
      " \n",
      " …see more\n",
      "\n",
      "Community building has meant something dramatically different the past couple of months.\n",
      "\n",
      "Sentence 4\n",
      " When 500 Startups hosted an event with 2400+ RSVPs, we had to pivot almost 8 times to accommodate changing restrictions along the way.\n",
      "\n",
      "Sentence 5\n",
      " People are rallying around their communities to show support for groups like healthcare workers while staying in their homes for months.\n",
      "\n",
      "Sentence 6\n",
      " All these things have made me ask the question, what's the best way to build community right now?\n",
      "\n",
      "Sentence 7\n",
      "How is this changing our perception of community?\n",
      "\n",
      "Sentence 8\n",
      "Thus, I'm starting my letter to the community on the subject.\n",
      "\n",
      "Sentence 9\n",
      "\n",
      " \n",
      " \n",
      " …see more\n",
      "\n"
     ]
    }
   ],
   "source": [
    "# Same with the original content, containing ponctuations & uppercases\n",
    "test = pd.read_pickle(\"cleaned_data.pkl\")\n",
    "test_content = test.content\n",
    "sample_test_content = \"\\n\\n\".join(test_content[[100,1000]])\n",
    "parsed_sample_test = nlp(sample_test_content)\n",
    "\n",
    "for num, sentence in enumerate(parsed_sample_test.sents):\n",
    "    print(\"Sentence {}\".format(num+1))\n",
    "    print(sentence)\n",
    "    print('')"
   ]
  },
  {
   "cell_type": "markdown",
   "metadata": {},
   "source": [
    "### "
   ]
  },
  {
   "cell_type": "markdown",
   "metadata": {},
   "source": [
    "### Name entity detection"
   ]
  },
  {
   "cell_type": "code",
   "execution_count": 10,
   "metadata": {},
   "outputs": [
    {
     "name": "stdout",
     "output_type": "stream",
     "text": [
      "Entity 1 congress - ORG\n",
      "Entity 2 today - DATE\n",
      "Entity 3 citi foundation’s - ORG\n",
      "Entity 4 500k - ORG\n",
      "Entity 5 joanne gedge   janet searle   louise martin lindsay   amy-lou cowdroy-ling - PERSON\n",
      "Entity 6 the past couple of months - DATE\n",
      "Entity 7 500 - CARDINAL\n",
      "Entity 8 2400 - CARDINAL\n",
      "Entity 9 8 - CARDINAL\n",
      "Entity 10 months - DATE\n",
      "Entity 11 u.s. - GPE\n",
      "Entity 12 atlanta - GPE\n",
      "Entity 13 one - CARDINAL\n",
      "Entity 14 12th - ORDINAL\n",
      "Entity 15 linkedin fam - PERSON\n"
     ]
    }
   ],
   "source": [
    "for num, entity in enumerate(parsed_posts_sample.ents):\n",
    "    print(\"Entity {}\".format(num+1), entity, '-', entity.label_)"
   ]
  },
  {
   "cell_type": "markdown",
   "metadata": {},
   "source": [
    "* ORG : organism \n",
    "* GPE : geopolitcal entity\n",
    "* LOC : location"
   ]
  },
  {
   "cell_type": "markdown",
   "metadata": {},
   "source": [
    "As we can see, we can know which entity represents each words or group of words ! \n",
    "\n",
    "For instance, spacy knows when a group of words is a name, a location, a date ...  \n",
    "That's clearly amazing !\n",
    "\n",
    "Also, it appears that some words are badly comprehend by the algorithm like \"us\", as USA, which is here \"us\" designating we.\n"
   ]
  },
  {
   "cell_type": "markdown",
   "metadata": {},
   "source": [
    "### Speech tagging"
   ]
  },
  {
   "cell_type": "markdown",
   "metadata": {},
   "source": [
    "We can also define if a word is an adjective, a noun, or other..."
   ]
  },
  {
   "cell_type": "code",
   "execution_count": 11,
   "metadata": {},
   "outputs": [
    {
     "data": {
      "text/html": [
       "<div>\n",
       "<style scoped>\n",
       "    .dataframe tbody tr th:only-of-type {\n",
       "        vertical-align: middle;\n",
       "    }\n",
       "\n",
       "    .dataframe tbody tr th {\n",
       "        vertical-align: top;\n",
       "    }\n",
       "\n",
       "    .dataframe thead th {\n",
       "        text-align: right;\n",
       "    }\n",
       "</style>\n",
       "<table border=\"1\" class=\"dataframe\">\n",
       "  <thead>\n",
       "    <tr style=\"text-align: right;\">\n",
       "      <th></th>\n",
       "      <th>Token_text</th>\n",
       "      <th>Token_pos</th>\n",
       "    </tr>\n",
       "  </thead>\n",
       "  <tbody>\n",
       "    <tr>\n",
       "      <th>0</th>\n",
       "      <td>national</td>\n",
       "      <td>ADJ</td>\n",
       "    </tr>\n",
       "    <tr>\n",
       "      <th>1</th>\n",
       "      <td>disability</td>\n",
       "      <td>NOUN</td>\n",
       "    </tr>\n",
       "    <tr>\n",
       "      <th>2</th>\n",
       "      <td>advocate</td>\n",
       "      <td>NOUN</td>\n",
       "    </tr>\n",
       "    <tr>\n",
       "      <th>3</th>\n",
       "      <td></td>\n",
       "      <td>SPACE</td>\n",
       "    </tr>\n",
       "    <tr>\n",
       "      <th>4</th>\n",
       "      <td>sara</td>\n",
       "      <td>PROPN</td>\n",
       "    </tr>\n",
       "    <tr>\n",
       "      <th>...</th>\n",
       "      <td>...</td>\n",
       "      <td>...</td>\n",
       "    </tr>\n",
       "    <tr>\n",
       "      <th>355</th>\n",
       "      <td>!</td>\n",
       "      <td>PUNCT</td>\n",
       "    </tr>\n",
       "    <tr>\n",
       "      <th>356</th>\n",
       "      <td>#</td>\n",
       "      <td>SYM</td>\n",
       "    </tr>\n",
       "    <tr>\n",
       "      <th>357</th>\n",
       "      <td>natgeotraveller</td>\n",
       "      <td>NOUN</td>\n",
       "    </tr>\n",
       "    <tr>\n",
       "      <th>358</th>\n",
       "      <td>#</td>\n",
       "      <td>NOUN</td>\n",
       "    </tr>\n",
       "    <tr>\n",
       "      <th>359</th>\n",
       "      <td>globalhealth</td>\n",
       "      <td>NOUN</td>\n",
       "    </tr>\n",
       "  </tbody>\n",
       "</table>\n",
       "<p>360 rows × 2 columns</p>\n",
       "</div>"
      ],
      "text/plain": [
       "          Token_text Token_pos\n",
       "0           national       ADJ\n",
       "1         disability      NOUN\n",
       "2           advocate      NOUN\n",
       "3                        SPACE\n",
       "4               sara     PROPN\n",
       "..               ...       ...\n",
       "355                !     PUNCT\n",
       "356                #       SYM\n",
       "357  natgeotraveller      NOUN\n",
       "358                #      NOUN\n",
       "359     globalhealth      NOUN\n",
       "\n",
       "[360 rows x 2 columns]"
      ]
     },
     "execution_count": 11,
     "metadata": {},
     "output_type": "execute_result"
    }
   ],
   "source": [
    "token_text = [token.orth_ for token in parsed_posts_sample]\n",
    "token_pos = [token.pos_ for token in parsed_posts_sample]\n",
    "\n",
    "pd.DataFrame({\"Token_text\" : token_text , \"Token_pos\" : token_pos})"
   ]
  },
  {
   "cell_type": "markdown",
   "metadata": {},
   "source": [
    "### Text normalization (stemming/lemmatization and shape analysis)"
   ]
  },
  {
   "cell_type": "markdown",
   "metadata": {},
   "source": [
    "Lemmatization consists in transforming a word into its root. \n",
    "\n",
    "For instance, \"is\" becomes \"be\" ; \"me\" becomes \"I\" ..."
   ]
  },
  {
   "cell_type": "code",
   "execution_count": 12,
   "metadata": {},
   "outputs": [
    {
     "data": {
      "text/html": [
       "<div>\n",
       "<style scoped>\n",
       "    .dataframe tbody tr th:only-of-type {\n",
       "        vertical-align: middle;\n",
       "    }\n",
       "\n",
       "    .dataframe tbody tr th {\n",
       "        vertical-align: top;\n",
       "    }\n",
       "\n",
       "    .dataframe thead th {\n",
       "        text-align: right;\n",
       "    }\n",
       "</style>\n",
       "<table border=\"1\" class=\"dataframe\">\n",
       "  <thead>\n",
       "    <tr style=\"text-align: right;\">\n",
       "      <th></th>\n",
       "      <th>Token_text</th>\n",
       "      <th>Token_lemma</th>\n",
       "      <th>Token_shape</th>\n",
       "    </tr>\n",
       "  </thead>\n",
       "  <tbody>\n",
       "    <tr>\n",
       "      <th>0</th>\n",
       "      <td>national</td>\n",
       "      <td>national</td>\n",
       "      <td>xxxx</td>\n",
       "    </tr>\n",
       "    <tr>\n",
       "      <th>1</th>\n",
       "      <td>disability</td>\n",
       "      <td>disability</td>\n",
       "      <td>xxxx</td>\n",
       "    </tr>\n",
       "    <tr>\n",
       "      <th>2</th>\n",
       "      <td>advocate</td>\n",
       "      <td>advocate</td>\n",
       "      <td>xxxx</td>\n",
       "    </tr>\n",
       "    <tr>\n",
       "      <th>3</th>\n",
       "      <td></td>\n",
       "      <td></td>\n",
       "      <td></td>\n",
       "    </tr>\n",
       "    <tr>\n",
       "      <th>4</th>\n",
       "      <td>sara</td>\n",
       "      <td>sara</td>\n",
       "      <td>xxxx</td>\n",
       "    </tr>\n",
       "    <tr>\n",
       "      <th>...</th>\n",
       "      <td>...</td>\n",
       "      <td>...</td>\n",
       "      <td>...</td>\n",
       "    </tr>\n",
       "    <tr>\n",
       "      <th>355</th>\n",
       "      <td>!</td>\n",
       "      <td>!</td>\n",
       "      <td>!</td>\n",
       "    </tr>\n",
       "    <tr>\n",
       "      <th>356</th>\n",
       "      <td>#</td>\n",
       "      <td>#</td>\n",
       "      <td>#</td>\n",
       "    </tr>\n",
       "    <tr>\n",
       "      <th>357</th>\n",
       "      <td>natgeotraveller</td>\n",
       "      <td>natgeotraveller</td>\n",
       "      <td>xxxx</td>\n",
       "    </tr>\n",
       "    <tr>\n",
       "      <th>358</th>\n",
       "      <td>#</td>\n",
       "      <td>#</td>\n",
       "      <td>#</td>\n",
       "    </tr>\n",
       "    <tr>\n",
       "      <th>359</th>\n",
       "      <td>globalhealth</td>\n",
       "      <td>globalhealth</td>\n",
       "      <td>xxxx</td>\n",
       "    </tr>\n",
       "  </tbody>\n",
       "</table>\n",
       "<p>360 rows × 3 columns</p>\n",
       "</div>"
      ],
      "text/plain": [
       "          Token_text      Token_lemma Token_shape\n",
       "0           national         national        xxxx\n",
       "1         disability       disability        xxxx\n",
       "2           advocate         advocate        xxxx\n",
       "3                                                \n",
       "4               sara             sara        xxxx\n",
       "..               ...              ...         ...\n",
       "355                !                !           !\n",
       "356                #                #           #\n",
       "357  natgeotraveller  natgeotraveller        xxxx\n",
       "358                #                #           #\n",
       "359     globalhealth     globalhealth        xxxx\n",
       "\n",
       "[360 rows x 3 columns]"
      ]
     },
     "execution_count": 12,
     "metadata": {},
     "output_type": "execute_result"
    }
   ],
   "source": [
    "token_lemma = [token.lemma_ for token in parsed_posts_sample]\n",
    "token_shape = [token.shape_ for token in parsed_posts_sample]\n",
    "\n",
    "pd.DataFrame({'Token_text' : token_text, 'Token_lemma' : token_lemma , 'Token_shape' : token_shape})"
   ]
  },
  {
   "cell_type": "markdown",
   "metadata": {},
   "source": [
    "What about a variety of other token-level attributes, such as the relative frequency of tokens, and whether or not a token matches any of these categories?\n",
    "\n",
    "* stopword\n",
    "* punctuation\n",
    "* whitespace\n",
    "* represents a number\n",
    "* whether or not the token is included in spaCy's default vocabulary?"
   ]
  },
  {
   "cell_type": "code",
   "execution_count": 13,
   "metadata": {},
   "outputs": [
    {
     "data": {
      "text/html": [
       "<div>\n",
       "<style scoped>\n",
       "    .dataframe tbody tr th:only-of-type {\n",
       "        vertical-align: middle;\n",
       "    }\n",
       "\n",
       "    .dataframe tbody tr th {\n",
       "        vertical-align: top;\n",
       "    }\n",
       "\n",
       "    .dataframe thead th {\n",
       "        text-align: right;\n",
       "    }\n",
       "</style>\n",
       "<table border=\"1\" class=\"dataframe\">\n",
       "  <thead>\n",
       "    <tr style=\"text-align: right;\">\n",
       "      <th></th>\n",
       "      <th>text</th>\n",
       "      <th>log_probability</th>\n",
       "      <th>stop?</th>\n",
       "      <th>punctuation?</th>\n",
       "      <th>whitespace?</th>\n",
       "      <th>number?</th>\n",
       "      <th>out of vocab.?</th>\n",
       "    </tr>\n",
       "  </thead>\n",
       "  <tbody>\n",
       "    <tr>\n",
       "      <th>0</th>\n",
       "      <td>national</td>\n",
       "      <td>-20.0</td>\n",
       "      <td></td>\n",
       "      <td></td>\n",
       "      <td></td>\n",
       "      <td></td>\n",
       "      <td></td>\n",
       "    </tr>\n",
       "    <tr>\n",
       "      <th>1</th>\n",
       "      <td>disability</td>\n",
       "      <td>-20.0</td>\n",
       "      <td></td>\n",
       "      <td></td>\n",
       "      <td></td>\n",
       "      <td></td>\n",
       "      <td></td>\n",
       "    </tr>\n",
       "    <tr>\n",
       "      <th>2</th>\n",
       "      <td>advocate</td>\n",
       "      <td>-20.0</td>\n",
       "      <td></td>\n",
       "      <td></td>\n",
       "      <td></td>\n",
       "      <td></td>\n",
       "      <td></td>\n",
       "    </tr>\n",
       "    <tr>\n",
       "      <th>3</th>\n",
       "      <td></td>\n",
       "      <td>-20.0</td>\n",
       "      <td></td>\n",
       "      <td></td>\n",
       "      <td>Yes</td>\n",
       "      <td></td>\n",
       "      <td>Yes</td>\n",
       "    </tr>\n",
       "    <tr>\n",
       "      <th>4</th>\n",
       "      <td>sara</td>\n",
       "      <td>-20.0</td>\n",
       "      <td></td>\n",
       "      <td></td>\n",
       "      <td></td>\n",
       "      <td></td>\n",
       "      <td></td>\n",
       "    </tr>\n",
       "    <tr>\n",
       "      <th>...</th>\n",
       "      <td>...</td>\n",
       "      <td>...</td>\n",
       "      <td>...</td>\n",
       "      <td>...</td>\n",
       "      <td>...</td>\n",
       "      <td>...</td>\n",
       "      <td>...</td>\n",
       "    </tr>\n",
       "    <tr>\n",
       "      <th>355</th>\n",
       "      <td>!</td>\n",
       "      <td>-20.0</td>\n",
       "      <td></td>\n",
       "      <td>Yes</td>\n",
       "      <td></td>\n",
       "      <td></td>\n",
       "      <td></td>\n",
       "    </tr>\n",
       "    <tr>\n",
       "      <th>356</th>\n",
       "      <td>#</td>\n",
       "      <td>-20.0</td>\n",
       "      <td></td>\n",
       "      <td>Yes</td>\n",
       "      <td></td>\n",
       "      <td></td>\n",
       "      <td></td>\n",
       "    </tr>\n",
       "    <tr>\n",
       "      <th>357</th>\n",
       "      <td>natgeotraveller</td>\n",
       "      <td>-20.0</td>\n",
       "      <td></td>\n",
       "      <td></td>\n",
       "      <td></td>\n",
       "      <td></td>\n",
       "      <td>Yes</td>\n",
       "    </tr>\n",
       "    <tr>\n",
       "      <th>358</th>\n",
       "      <td>#</td>\n",
       "      <td>-20.0</td>\n",
       "      <td></td>\n",
       "      <td>Yes</td>\n",
       "      <td></td>\n",
       "      <td></td>\n",
       "      <td></td>\n",
       "    </tr>\n",
       "    <tr>\n",
       "      <th>359</th>\n",
       "      <td>globalhealth</td>\n",
       "      <td>-20.0</td>\n",
       "      <td></td>\n",
       "      <td></td>\n",
       "      <td></td>\n",
       "      <td></td>\n",
       "      <td>Yes</td>\n",
       "    </tr>\n",
       "  </tbody>\n",
       "</table>\n",
       "<p>360 rows × 7 columns</p>\n",
       "</div>"
      ],
      "text/plain": [
       "                text  log_probability stop? punctuation? whitespace? number?  \\\n",
       "0           national            -20.0                                          \n",
       "1         disability            -20.0                                          \n",
       "2           advocate            -20.0                                          \n",
       "3                               -20.0                            Yes           \n",
       "4               sara            -20.0                                          \n",
       "..               ...              ...   ...          ...         ...     ...   \n",
       "355                !            -20.0                Yes                       \n",
       "356                #            -20.0                Yes                       \n",
       "357  natgeotraveller            -20.0                                          \n",
       "358                #            -20.0                Yes                       \n",
       "359     globalhealth            -20.0                                          \n",
       "\n",
       "    out of vocab.?  \n",
       "0                   \n",
       "1                   \n",
       "2                   \n",
       "3              Yes  \n",
       "4                   \n",
       "..             ...  \n",
       "355                 \n",
       "356                 \n",
       "357            Yes  \n",
       "358                 \n",
       "359            Yes  \n",
       "\n",
       "[360 rows x 7 columns]"
      ]
     },
     "execution_count": 13,
     "metadata": {},
     "output_type": "execute_result"
    }
   ],
   "source": [
    "token_attributes = [(token.orth_,\n",
    "                     token.prob,\n",
    "                     token.is_stop,\n",
    "                     token.is_punct,\n",
    "                     token.is_space,\n",
    "                     token.like_num,\n",
    "                     token.is_oov)\n",
    "                    for token in parsed_posts_sample]\n",
    "\n",
    "df = pd.DataFrame(token_attributes,\n",
    "                  columns=['text',\n",
    "                           'log_probability',\n",
    "                           'stop?',\n",
    "                           'punctuation?',\n",
    "                           'whitespace?',\n",
    "                           'number?',\n",
    "                           'out of vocab.?'])\n",
    "\n",
    "df.loc[:, 'stop?':'out of vocab.?'] = (df.loc[:, 'stop?':'out of vocab.?']\n",
    "                                       .applymap(lambda x: u'Yes' if x else u''))\n",
    "\n",
    "df"
   ]
  },
  {
   "cell_type": "markdown",
   "metadata": {},
   "source": [
    "* Log_probability represents the frequency of a word apparation in the text : \n",
    "    *  ~ 0 if appears often\n",
    "    * =! 0 if appears rarely \n",
    "    \n",
    "\n",
    "* Stop ? : Is this word a stop word ?\n",
    "\n",
    "* Out of vocab ? : Is this word out of the english dictionary proposed by Spacy\n"
   ]
  },
  {
   "cell_type": "markdown",
   "metadata": {},
   "source": [
    "## NLP preprocessing : application"
   ]
  },
  {
   "cell_type": "markdown",
   "metadata": {},
   "source": [
    "## First pre-processing"
   ]
  },
  {
   "cell_type": "markdown",
   "metadata": {},
   "source": [
    "In this section, we will clean a little bit the content by removing hashtags. Indeed, it appears that some hastags have no sense for future models."
   ]
  },
  {
   "cell_type": "code",
   "execution_count": 14,
   "metadata": {},
   "outputs": [
    {
     "name": "stdout",
     "output_type": "stream",
     "text": [
      "Cleaned !:\n",
      "----------\n",
      "robert lerman  writes that achieving a healthy future of work requires employees to build skills that help them attain productive and rewarding careers. he notes - \"one of the most cost-effective ways to do this is through apprenticeship, which helps workers master occupations and gain professional identity and pride\". coudlnt agree more!        read the article on    urban institute \n",
      "\n",
      "national disability advocate  sara hart weir, ms   shares how congress passed the able act\n",
      "\n",
      "exploring in this months talent management & hr what a company should consider to get the most out of a modern apprenticeship program. thanks to employer & entrepreneuer  ankur gopal  for sharing insights on your it program.  why not start a program in 2021.. wishing you all a safe and happy festive season.  nick          urban institute   zach boren   robert lerman   lana gordon   andrew sezonov   simon w.   ervin dimeny \n",
      "\n",
      "i count myself fortunate to have spent time with brooklyn-born arnold packer. arnold was the assistant secretary for policy, evaluation, and research in the u.s. department of labor during the carter administration. his insights and innovative thinking around economics, employment and training policies helped many people, particularly young people to reach their full potential.  arnold passed away aged 85 in mid-october. the last project we were working up with my colleage  ervin dimeny  was around verified resumes. thanks to the  urban institute  report by  robert lerman   daniel kuehn  and  pamela loprest   - wonderful insights into the topic.  love to hear your thoughts on   - join the conversation. stay safe.    \n",
      "\n"
     ]
    }
   ],
   "source": [
    "# Let's create a function to apply to the pd.Serie\n",
    "def rm_hashtags(str):\n",
    "    return \" \".join(word for word in str.split(' ') if \"#\" not in word)\n",
    "\n",
    "first_clean_corpus = corpus['Content'].apply(rm_hashtags)\n",
    "\n",
    "print(\"Cleaned !:\")\n",
    "print(\"----------\")\n",
    "\n",
    "for post in first_clean_corpus[:4]:\n",
    "    print(post)\n",
    "    print(\"\")"
   ]
  },
  {
   "cell_type": "markdown",
   "metadata": {},
   "source": [
    "### Phrase modeling"
   ]
  },
  {
   "cell_type": "markdown",
   "metadata": {},
   "source": [
    "Phrase modeling is another approach to learning combinations of tokens that together represent meaningful multi-word concepts. We can develop phrase models by looping over the the words in our reviews and looking for words that co-occur (i.e., appear one after another) together much more frequently than you would expect them to by random chance. The formula our phrase models will use to determine whether two tokens  and  constitute a phrase is:\n",
    "\n",
    "$$ \\frac{count (AB) - count_{min}}{count(A)*count(B)} * N > treshold $$\n",
    "\n",
    " \n",
    "...where:\n",
    "\n",
    " * $count(A)$ is the number of times token $A$ appears in the corpus\n",
    " * $count(B)$ is the number of times token $B$ appears in the corpus\n",
    " * $count(AB)$ is the number of times the tokens $AB$ appear in the corpus in order\n",
    " * $N$ is the total size of the corpus vocabulary\n",
    " * $count_{min}$ is a user-defined parameter to ensure that accepted phrases occur a minimum number of times\n",
    " * $treshold$ is a user-defined parameter to control how strong of a relationship between two tokens the model requires before accepting them as a phrase\n",
    "Once our phrase model has been trained on our corpus, we can apply it to new text. When our model encounters two tokens in new text that identifies as a phrase, it will merge the two into a single new token.\n",
    "\n",
    "Phrase modeling is superficially similar to named entity detection in that you would expect named entities to become phrases in the model (so new york would become new_york). But you would also expect multi-word expressions that represent common concepts, but aren't specifically named entities (such as happy hour) to also become phrases in the model.\n",
    "\n",
    "We turn to the indispensible **gensim** library to help us with phrase modeling — the Phrases class in particular."
   ]
  },
  {
   "cell_type": "code",
   "execution_count": 15,
   "metadata": {},
   "outputs": [],
   "source": [
    "from gensim.models import Phrases\n",
    "from gensim.models.word2vec import LineSentence\n",
    "import itertools as it"
   ]
  },
  {
   "cell_type": "markdown",
   "metadata": {},
   "source": [
    "As we're performing phrase modeling, we'll be doing some iterative data transformation at the same time. Our roadmap for data preparation includes:\n",
    "\n",
    "* Segment text of complete reviews into sentences & normalize text\n",
    "* First-order phrase modeling  apply first-order phrase model to transform sentences\n",
    "* Second-order phrase modeling  apply second-order phrase model to transform sentences\n",
    "* Apply text normalization and second-order phrase model to text of complete reviews\n",
    "* We'll use this transformed data as the input for some higher-level modeling approaches in the following sections.\n",
    "\n",
    "First, let's define a few helper functions that we'll use for text normalization. In particular, the **lemmatized_sentence_corpus** generator function will use spaCy to:"
   ]
  },
  {
   "cell_type": "code",
   "execution_count": 16,
   "metadata": {},
   "outputs": [],
   "source": [
    "def punct_space(token):\n",
    "    \"\"\"\n",
    "    helper function to eliminate tokens\n",
    "    that are pure punctuation or whitespace\n",
    "    \"\"\"\n",
    "\n",
    "    return token.is_punct or token.is_space\n",
    "\n",
    "def rules(token):\n",
    "    \"\"\"\n",
    "    conditions to select a specific token for the corpus cleaning\n",
    "    used with all() function : return True if all True\n",
    "    \"\"\"\n",
    "\n",
    "    return [not punct_space(token),\n",
    "            token not in nlp.Defaults.stop_words,\n",
    "            token.pos_ == 'NOUN' or token.pos_ ==\"ADJ\"]\n",
    "            \n",
    "def corpus_cleaning(serie):\n",
    "    \"\"\"\n",
    "    generator function to use spaCy to parse posts,\n",
    "    lemmatize the text, remove punctuations, unconvenient whitespaces, stopwords, and\n",
    "    keep only nouns and adjectives\n",
    "    \"\"\"\n",
    "    \n",
    "    for post in nlp.pipe(serie):\n",
    "      yield ' '.join([ token.lemma_ for token in post if all(rules(token)) ])"
   ]
  },
  {
   "cell_type": "markdown",
   "metadata": {},
   "source": [
    "*Update*\n",
    "\n",
    "At first, we have decided to keep verbs. However it appears that verbs like \"go\" or \"be\" appeared significantly in the topic modeling later. Therefore we will just keep Nouns & Adjectives"
   ]
  },
  {
   "cell_type": "markdown",
   "metadata": {},
   "source": [
    "**Note**\n",
    "\n",
    "\"yield\" returns the value we ask him, but in opposite to \"return\", it saves the last value it returned. Therefore, in our case, it returns a \"list\" of posts, whereas \"return\" would return one string *''.join()* of words."
   ]
  },
  {
   "cell_type": "markdown",
   "metadata": {},
   "source": [
    "Let's see if the cleaning is good !"
   ]
  },
  {
   "cell_type": "code",
   "execution_count": 17,
   "metadata": {},
   "outputs": [
    {
     "name": "stdout",
     "output_type": "stream",
     "text": [
      "Original :\n",
      "write healthy future work employee skill productive rewarding career cost effective way apprenticeship worker master occupation professional identity pride article\n",
      "\n",
      "national disability advocate ms share able act\n",
      "\n",
      "month talent management hr company most modern apprenticeship program thank employer entrepreneuer insight program program safe happy festive season dimeny\n",
      "\n",
      "fortunate time assistant secretary policy evaluation research labor administration insight innovative thinking economic employment training policy many people young people full potential aged last project colleage resume thank institute report lerman lopr wonderful insight topic love thought conversation safe\n",
      "\n",
      "Cleaned :\n",
      "write healthy future work employee skill productive rewarding career cost effective way apprenticeship worker master occupation professional identity pride article\n",
      "\n",
      "national disability advocate ms share able act\n",
      "\n",
      "month talent management hr company most modern apprenticeship program thank employer entrepreneuer insight program program safe happy festive season dimeny\n",
      "\n",
      "fortunate time assistant secretary policy evaluation research labor administration insight innovative thinking economic employment training policy many people young people full potential aged last project colleage resume thank institute report lerman lopr wonderful insight topic love thought conversation safe\n",
      "\n"
     ]
    }
   ],
   "source": [
    "print(\"Original :\")\n",
    "\n",
    "for post in it.islice(corpus_cleaning(first_clean_corpus),4):\n",
    "    print(post)\n",
    "    print('')\n",
    "\n",
    "print(\"Cleaned :\")\n",
    "\n",
    "for post in it.islice(corpus_cleaning(first_clean_corpus),4):\n",
    "    print(post)\n",
    "    print(\"\")"
   ]
  },
  {
   "cell_type": "markdown",
   "metadata": {},
   "source": [
    "Here we used *yield* instead of *return*.  \n",
    "The reason is well explained here : https://stackoverflow.com/questions/231767/what-does-the-yield-keyword-do\n",
    "\n",
    "Long story short, *yield* returns a generator, which is an iterable, as a list or a string for instance, but does not store all the values in the memory.\n",
    "\n",
    "Generators recquire less memory than a list that is very useful if the dataset is very large !\n",
    "\n",
    "Therefore, **we can only iterate over once**. "
   ]
  },
  {
   "cell_type": "markdown",
   "metadata": {},
   "source": [
    "To understand how to use spacy with a pandas, here a clearly explained article : https://towardsdatascience.com/structured-natural-language-processing-with-pandas-and-spacy-7089e66d2b10"
   ]
  },
  {
   "cell_type": "markdown",
   "metadata": {},
   "source": [
    "We first need to apply the spaCy language model to the entire collection of posts. The easiest and most computationally efficient way to do this is to use the *nlp.pipe* function. This will iterate over each document and will apply the language model."
   ]
  },
  {
   "cell_type": "code",
   "execution_count": 18,
   "metadata": {},
   "outputs": [
    {
     "name": "stdout",
     "output_type": "stream",
     "text": [
      "<class 'generator'>\n"
     ]
    }
   ],
   "source": [
    "#Let's apply the function *CorpusCleaning* to create a parsed list\n",
    "cleaned_posts = corpus_cleaning(first_clean_corpus)\n",
    "print(type(cleaned_posts))\n",
    "\n",
    "#We can print cleaned posts with \n",
    "#list(parsed_posts)\n",
    "#But it's time consuming"
   ]
  },
  {
   "cell_type": "markdown",
   "metadata": {},
   "source": [
    "Let's see some examples.\n",
    "\n",
    "To iterate on a generator, we can use the *itertools* package, which is a common practice with generator objects.\n",
    "\n",
    "it.islice is an iterator designed to iterate over an object. Because we can't iterate directly over a generator (can't be subscriptable), this function is pretty useful !"
   ]
  },
  {
   "cell_type": "code",
   "execution_count": 19,
   "metadata": {},
   "outputs": [
    {
     "name": "stdout",
     "output_type": "stream",
     "text": [
      "write healthy future work employee skill productive rewarding career cost effective way apprenticeship worker master occupation professional identity pride article\n",
      "<class 'str'>\n",
      "----\n",
      "national disability advocate ms share able act\n",
      "<class 'str'>\n",
      "----\n",
      "month talent management hr company most modern apprenticeship program thank employer entrepreneuer insight program program safe happy festive season dimeny\n",
      "<class 'str'>\n",
      "----\n",
      "fortunate time assistant secretary policy evaluation research labor administration insight innovative thinking economic employment training policy many people young people full potential aged last project colleage resume thank institute report lerman lopr wonderful insight topic love thought conversation safe\n",
      "<class 'str'>\n",
      "----\n",
      "online job platform different way time workplace school international border example future work conversation\n",
      "<class 'str'>\n",
      "----\n"
     ]
    }
   ],
   "source": [
    "for post in it.islice(cleaned_posts,5):\n",
    "    print(post)\n",
    "    print(type(post))\n",
    "    print('----')"
   ]
  },
  {
   "cell_type": "markdown",
   "metadata": {},
   "source": [
    "**Important note**\n",
    "\n",
    "When we iterate over a generator, the value saved in it is then deleted ! \n",
    "\n",
    "That confirms the definition of a generator : we can only iterate over it once !\n",
    "\n",
    "**That also means if we want to use several times a generator, we have to recreate one for the purpose !**\n",
    "\n",
    "For instance, here, we can't use anymore the 6 first values contained in the generator !\n",
    "\n",
    "A common practice consists in iterating on a generator in this way :\n",
    "\n",
    "```\n",
    "for i in create_a_generator_function(y):   \n",
    "    print(i)\n",
    "```"
   ]
  },
  {
   "cell_type": "markdown",
   "metadata": {},
   "source": [
    "******"
   ]
  },
  {
   "cell_type": "markdown",
   "metadata": {},
   "source": [
    "Now, let's group words together with the **gensim.models.Phrases** library."
   ]
  },
  {
   "cell_type": "code",
   "execution_count": 20,
   "metadata": {},
   "outputs": [
    {
     "name": "stdout",
     "output_type": "stream",
     "text": [
      "Wall time: 234 ms\n"
     ]
    }
   ],
   "source": [
    "%%time\n",
    "# Filename of the model allowing us to join words together\n",
    "filename = 'bigram_model.pkl'\n",
    "\n",
    "# This code was long to run\n",
    "# Make the folloing statement true if you want to run it again\n",
    "if 0 == 1:\n",
    "\n",
    "    # Let's generate the cleaned content one more time as a generator\n",
    "    # It can be used only one time, so we have to be careful to save the modified version\n",
    "    cleaned_posts = corpus_cleaning(first_clean_corpus)\n",
    "\n",
    "    # gensim.Phrases needs a sequence of sentences. (e.g. an iterable or a generator)\n",
    "    # Each sentence has to be a list of string tokens\n",
    "    streamed_posts = (post.split(' ') for post in cleaned_posts)\n",
    "\n",
    "    # We train the model\n",
    "    # min_count : the minimum of sentences (aka. coupled words) found in the doc. Under this value, the model doesn't take it into consideration.\n",
    "    # treshold : (by default : 10). The higher, the fewer phrases.\n",
    "    # This line return a model we can use later. \n",
    "    bigram_model = Phrases(streamed_posts,min_count=5,threshold=10)\n",
    "\n",
    "    # Save the model for later use\n",
    "    pickle.dump(bigram_model, open(filename, 'wb'))\n",
    "\n",
    "# Load the model if the statement is False\n",
    "bigram_model = pickle.load(open(filename, 'rb'))"
   ]
  },
  {
   "cell_type": "code",
   "execution_count": 21,
   "metadata": {},
   "outputs": [
    {
     "data": {
      "text/html": [
       "<div>\n",
       "<style scoped>\n",
       "    .dataframe tbody tr th:only-of-type {\n",
       "        vertical-align: middle;\n",
       "    }\n",
       "\n",
       "    .dataframe tbody tr th {\n",
       "        vertical-align: top;\n",
       "    }\n",
       "\n",
       "    .dataframe thead th {\n",
       "        text-align: right;\n",
       "    }\n",
       "</style>\n",
       "<table border=\"1\" class=\"dataframe\">\n",
       "  <thead>\n",
       "    <tr style=\"text-align: right;\">\n",
       "      <th></th>\n",
       "      <th>Phrases</th>\n",
       "      <th>Score</th>\n",
       "    </tr>\n",
       "  </thead>\n",
       "  <tbody>\n",
       "    <tr>\n",
       "      <th>0</th>\n",
       "      <td>cost_effective</td>\n",
       "      <td>31.947798</td>\n",
       "    </tr>\n",
       "    <tr>\n",
       "      <th>1</th>\n",
       "      <td>apprenticeship_program</td>\n",
       "      <td>57.727183</td>\n",
       "    </tr>\n",
       "    <tr>\n",
       "      <th>2</th>\n",
       "      <td>festive_season</td>\n",
       "      <td>149.195370</td>\n",
       "    </tr>\n",
       "    <tr>\n",
       "      <th>3</th>\n",
       "      <td>young_people</td>\n",
       "      <td>11.238823</td>\n",
       "    </tr>\n",
       "    <tr>\n",
       "      <th>4</th>\n",
       "      <td>full_potential</td>\n",
       "      <td>29.053028</td>\n",
       "    </tr>\n",
       "    <tr>\n",
       "      <th>...</th>\n",
       "      <td>...</td>\n",
       "      <td>...</td>\n",
       "    </tr>\n",
       "    <tr>\n",
       "      <th>2193</th>\n",
       "      <td>infinite_mindset</td>\n",
       "      <td>113.322901</td>\n",
       "    </tr>\n",
       "    <tr>\n",
       "      <th>2194</th>\n",
       "      <td>bit_optimism</td>\n",
       "      <td>233.523188</td>\n",
       "    </tr>\n",
       "    <tr>\n",
       "      <th>2195</th>\n",
       "      <td>optimism_podcast</td>\n",
       "      <td>42.723320</td>\n",
       "    </tr>\n",
       "    <tr>\n",
       "      <th>2196</th>\n",
       "      <td>worthy_rival</td>\n",
       "      <td>434.901484</td>\n",
       "    </tr>\n",
       "    <tr>\n",
       "      <th>2197</th>\n",
       "      <td>chapter_infinite</td>\n",
       "      <td>341.922546</td>\n",
       "    </tr>\n",
       "  </tbody>\n",
       "</table>\n",
       "<p>2198 rows × 2 columns</p>\n",
       "</div>"
      ],
      "text/plain": [
       "                     Phrases       Score\n",
       "0             cost_effective   31.947798\n",
       "1     apprenticeship_program   57.727183\n",
       "2             festive_season  149.195370\n",
       "3               young_people   11.238823\n",
       "4             full_potential   29.053028\n",
       "...                      ...         ...\n",
       "2193        infinite_mindset  113.322901\n",
       "2194            bit_optimism  233.523188\n",
       "2195        optimism_podcast   42.723320\n",
       "2196            worthy_rival  434.901484\n",
       "2197        chapter_infinite  341.922546\n",
       "\n",
       "[2198 rows x 2 columns]"
      ]
     },
     "execution_count": 21,
     "metadata": {},
     "output_type": "execute_result"
    }
   ],
   "source": [
    "# How many sentences were found ? / Which words were associated in the doc ?\n",
    "# pd.DataFrame(data = bigram_model.export_phrases(), columns=[['Phrases',\"Score\"]])\n",
    "\n",
    "# model.export_phrases() return a dict with phrases as keys and scores as values\n",
    "# score represents the frequency of apparition in doc, following the previous formula :\n",
    "phrases = bigram_model.export_phrases()\n",
    "\n",
    "pd.DataFrame(data = {\"Phrases\" : phrases.keys() , \"Score\" : phrases.values()})"
   ]
  },
  {
   "cell_type": "markdown",
   "metadata": {},
   "source": [
    "$$ score(A,B) = \\frac{count(AB)-min_{AB}}{count(A)*count(B)} $$"
   ]
  },
  {
   "cell_type": "markdown",
   "metadata": {},
   "source": [
    "**Notes**\n",
    "\n",
    "We see that some phrases have a huge score. \n",
    "\n",
    "Let's check these posts.\n",
    "\n",
    "*Update : by removing hashtags at the begining, we avoid this issue*"
   ]
  },
  {
   "cell_type": "code",
   "execution_count": 22,
   "metadata": {},
   "outputs": [],
   "source": [
    "# text ='startwithwhy'\n",
    "# serie = corpus.Content\n",
    "\n",
    "# for post in serie.loc[serie.str.contains(text, regex=False)]:\n",
    "#     print(post)\n",
    "#     print(\"....\")\n"
   ]
  },
  {
   "cell_type": "markdown",
   "metadata": {},
   "source": [
    "Indeed, some words are associated together because they are written together in the hashtags \"section\".  \n",
    "\n",
    "It would be maybe useful to remove hashtags from all posts to avoid this issue.\n",
    "\n",
    "*Update : that is what we have done*"
   ]
  },
  {
   "cell_type": "markdown",
   "metadata": {},
   "source": [
    "**Now we have defined *bigram phrases*, we can apply the model to the corpus !**"
   ]
  },
  {
   "cell_type": "code",
   "execution_count": 23,
   "metadata": {},
   "outputs": [
    {
     "name": "stdout",
     "output_type": "stream",
     "text": [
      "Wall time: 21.9 ms\n"
     ]
    }
   ],
   "source": [
    "%%time\n",
    "# Filename of the model allowing us to join words together\n",
    "filename = 'bigram_corpus.pkl'\n",
    "\n",
    "# This code was long to run\n",
    "# Make the folloing statement true if you want to run it again\n",
    "if 0 == 1:\n",
    "\n",
    "    # We re-create from the first_clean_corpus a sequence of posts, each of them tokenized (words are splitted)\n",
    "    cleaned_posts = corpus_cleaning(first_clean_corpus)\n",
    "    streamed_posts = (post.split(' ') for post in cleaned_posts)\n",
    "\n",
    "    # We create a new list of cleaned posts we will use for future models\n",
    "    bigram_corpus = []\n",
    "\n",
    "    for streamed_post in streamed_posts:\n",
    "        bigram_post = ' '.join(bigram_model[streamed_post])\n",
    "        bigram_corpus.append(bigram_post)\n",
    "\n",
    "    bigram_corpus   \n",
    "\n",
    "    # Save the corpus for later use\n",
    "    pickle.dump(bigram_corpus, open(filename, 'wb'))\n",
    "\n",
    "# Load the model if the statement is False\n",
    "bigram_corpus = pickle.load(open(filename, 'rb'))"
   ]
  },
  {
   "cell_type": "markdown",
   "metadata": {},
   "source": [
    "**J'AI REUSSI !!!!!!!**"
   ]
  },
  {
   "cell_type": "markdown",
   "metadata": {},
   "source": [
    "## Topic modeling with Latent Dirichlet Allocation (LDA)\n",
    "\n",
    "Now we have succesfully cleaned the corpus, removed hashtags, selected only relevant words, and associated words together, we can now apply a model to define topics in all these posts. "
   ]
  },
  {
   "cell_type": "markdown",
   "metadata": {},
   "source": [
    "Topic modeling is family of techniques that can be used to describe and summarize the documents in a corpus according to a set of latent \"topics\". For this demo, we'll be using Latent Dirichlet Allocation or LDA, a popular approach to topic modeling.\n",
    "\n",
    "In many conventional NLP applications, documents are represented a mixture of the individual tokens (words and phrases) they contain. In other words, a document is represented as a vector of token counts. There are two layers in this model — documents and tokens — and the size or dimensionality of the document vectors is the number of tokens in the corpus vocabulary. This approach has a number of disadvantages:\n",
    "\n",
    "* Document vectors tend to be large (one dimension for each token  lots of dimensions)\n",
    "* They also tend to be very sparse. Any given document only contains a small fraction of all tokens in the vocabulary, so most values in the document's token vector are 0.\n",
    "* The dimensions are fully indepedent from each other — there's no sense of connection between related tokens, such as knife and fork.\n",
    "\n",
    "LDA injects a third layer into this conceptual model. Documents are represented as a mixture of a pre-defined number of topics, and the topics are represented as a mixture of the individual tokens in the vocabulary. The number of topics is a model hyperparameter selected by the practitioner. LDA makes a prior assumption that the (document, topic) and (topic, token) mixtures follow Dirichlet probability distributions. This assumption encourages documents to consist mostly of a handful of topics, and topics to consist mostly of a modest set of the tokens.\n",
    "\n",
    "LDA is fully unsupervised. The topics are \"discovered\" automatically from the data by trying to maximize the likelihood of observing the documents in your corpus, given the modeling assumptions. They are expected to capture some latent structure and organization within the documents, and often have a meaningful human interpretation for people familiar with the subject material."
   ]
  },
  {
   "cell_type": "markdown",
   "metadata": {},
   "source": [
    "We'll again turn to gensim to assist with data preparation and modeling. In particular, gensim offers a high-performance parallelized implementation of LDA with its *LdaModel* class."
   ]
  },
  {
   "cell_type": "code",
   "execution_count": 24,
   "metadata": {},
   "outputs": [],
   "source": [
    "from gensim.corpora import Dictionary\n",
    "from gensim.models.ldamulticore import LdaModel"
   ]
  },
  {
   "cell_type": "markdown",
   "metadata": {},
   "source": [
    "The first step to creating an LDA model is to learn the full vocabulary of the corpus to be modeled. We'll use gensim's **Dictionary** class for this."
   ]
  },
  {
   "cell_type": "code",
   "execution_count": 25,
   "metadata": {},
   "outputs": [],
   "source": [
    "#Let's create a new corpus as a save\n",
    "corpus = pd.Series(bigram_corpus)"
   ]
  },
  {
   "cell_type": "code",
   "execution_count": 26,
   "metadata": {},
   "outputs": [],
   "source": [
    "# Dictionary recquired to split the sentences into a list of words. Let's use split() function\n",
    "streamed_corpus = corpus.apply(lambda str : str.split())\n",
    "\n",
    "# Then we learn the dictionary by iterating over all of the reviews\n",
    "# It return a generator\n",
    "corpus_dictionary = Dictionary(streamed_corpus)"
   ]
  },
  {
   "cell_type": "markdown",
   "metadata": {},
   "source": [
    "Also, we take care to remove from the dictionary words that\n",
    " appears rarely, and too often."
   ]
  },
  {
   "cell_type": "code",
   "execution_count": 27,
   "metadata": {},
   "outputs": [],
   "source": [
    "# filter tokens that are very rare or too common from\n",
    "# the dictionary (filter_extremes) and reassign integer ids (compactify)\n",
    "# We remove words that appears less than 10 times, and more than 40% of the time.\n",
    "corpus_dictionary.filter_extremes(no_below=10, no_above=0.4)\n",
    "corpus_dictionary.compactify()"
   ]
  },
  {
   "cell_type": "markdown",
   "metadata": {},
   "source": [
    "**Dictionary** encapsulates the mapping between normalized words and their integer ids (https://radimrehurek.com/gensim/corpora/dictionary.html)"
   ]
  },
  {
   "cell_type": "code",
   "execution_count": 28,
   "metadata": {},
   "outputs": [
    {
     "data": {
      "text/plain": [
       "[(536, 1), (630, 1), (1430, 1), (1618, 1), (2559, 1)]"
      ]
     },
     "execution_count": 28,
     "metadata": {},
     "output_type": "execute_result"
    }
   ],
   "source": [
    "# Let's see some words as an example\n",
    "corpus_dictionary.doc2bow([\"entrepreneur\",\"host\",\"startup\",\"guy\",'event'])"
   ]
  },
  {
   "cell_type": "markdown",
   "metadata": {},
   "source": [
    "**Note**\n",
    "\n",
    "It seems that Dictionary() returns a generator. However, calling this generator with doc2bow doesn't seem to erase it. Maybe data present in a generator are deleted when we iterate over it only. We have to check that.\n",
    "\n",
    "Anyway, let's resume the project."
   ]
  },
  {
   "cell_type": "markdown",
   "metadata": {},
   "source": [
    "Like many NLP techniques, LDA uses a simplifying assumption known as the bag-of-words model. In the bag-of-words model, a document is represented by the counts of distinct terms that occur within it. Additional information, such as word order, is discarded."
   ]
  },
  {
   "cell_type": "code",
   "execution_count": 29,
   "metadata": {},
   "outputs": [],
   "source": [
    "bag_of_words = [corpus_dictionary.doc2bow(post) for post in streamed_corpus]"
   ]
  },
  {
   "cell_type": "code",
   "execution_count": 30,
   "metadata": {},
   "outputs": [
    {
     "name": "stdout",
     "output_type": "stream",
     "text": [
      "Wall time: 17.3 ms\n"
     ]
    }
   ],
   "source": [
    "%%time\n",
    "# Filename of the LDA model\n",
    "filename = 'lda_model.pkl'\n",
    "\n",
    "# Number of topics\n",
    "num_topics = 15\n",
    "\n",
    "# This code was long to run\n",
    "# Make the folloing statement true if you want to run it again\n",
    "if 0 == 1: \n",
    "\n",
    "    # Train the model on the corpus.\n",
    "    lda = LdaModel(corpus=bag_of_words,id2word=corpus_dictionary, num_topics=num_topics, passes=20)\n",
    "\n",
    "    # Save the model for later use\n",
    "    pickle.dump(lda, open(filename, 'wb'))\n",
    "\n",
    "# Load the model if the statement is False\n",
    "lda = pickle.load(open(filename, 'rb'))"
   ]
  },
  {
   "cell_type": "markdown",
   "metadata": {},
   "source": [
    "Our topic model is now trained and ready to use! Since each topic is represented as a mixture of tokens, you can manually inspect which tokens have been grouped together into which topics to try to understand the patterns the model has discovered in the data.\n",
    "\n",
    "**Notes**\n",
    "\n",
    "We have trained several models to see how many topics would be the best.  \n",
    "To do so, we use pyLDAvis that shows a good appreciation of it\n",
    "\n",
    "To have a low time-consuming training, we define 10 passes.  \n",
    "When a number of topics is decided, we change it to 80.\n",
    "\n",
    "Here we are going to take 5 topics."
   ]
  },
  {
   "cell_type": "code",
   "execution_count": 31,
   "metadata": {},
   "outputs": [],
   "source": [
    "def explore_topic(topic_number, topn=25):\n",
    "    \"\"\"\n",
    "    accept a user-supplied topic number and\n",
    "    print out a formatted list of the top terms\n",
    "    \"\"\"\n",
    "        \n",
    "    print ('{:20}{}'.format('term', 'frequency'))\n",
    "\n",
    "    for term, frequency in lda.show_topic(topic_number, topn=25):\n",
    "        print (\"{:20}{:.03f}\".format(term, round(frequency, 3)))"
   ]
  },
  {
   "cell_type": "markdown",
   "metadata": {},
   "source": [
    "**Note**\n",
    "\n",
    "Changing the number of topics changes topics' ID. We have to be careful with that"
   ]
  },
  {
   "cell_type": "code",
   "execution_count": 32,
   "metadata": {},
   "outputs": [
    {
     "name": "stdout",
     "output_type": "stream",
     "text": [
      "term                frequency\n",
      "food                0.020\n",
      "time                0.020\n",
      "advertising         0.019\n",
      "cost                0.018\n",
      "money               0.016\n",
      "box                 0.014\n",
      "amount              0.014\n",
      "zoom                0.013\n",
      "uncertainty         0.011\n",
      "mental_health       0.011\n",
      "thinking            0.010\n",
      "revenue             0.010\n",
      "line                0.010\n",
      "gig                 0.010\n",
      "drug                0.009\n",
      "guide               0.009\n",
      "major               0.009\n",
      "odd                 0.009\n",
      "bias                0.009\n",
      "disability          0.009\n",
      "business_model      0.008\n",
      "free                0.008\n",
      "addiction           0.008\n",
      "am                  0.008\n",
      "complete            0.008\n"
     ]
    }
   ],
   "source": [
    "explore_topic(topic_number=14)"
   ]
  },
  {
   "cell_type": "markdown",
   "metadata": {},
   "source": [
    "Despite the power of topic modeling, a human view is necessary to assess each topic. We have selected 10 topics after several trials, and we will name each of them. "
   ]
  },
  {
   "cell_type": "code",
   "execution_count": 33,
   "metadata": {},
   "outputs": [],
   "source": [
    "topic_names = {0: 'Interview',\n",
    "               1: 'Business & People',\n",
    "               2: 'Health',\n",
    "               3: 'Values & People',\n",
    "               4: 'News',\n",
    "               5: 'Game & Bank ?',\n",
    "               6: 'Customers relationship',\n",
    "               7: 'Subjectivity',\n",
    "               8: 'Business & Market',\n",
    "               9: 'Business & Brand',\n",
    "               10: 'Content & Marketing',\n",
    "               11: 'People, Life & Career',\n",
    "               12: 'World issues',\n",
    "               13: 'Story & Business',\n",
    "               14: 'Food, Time & Ad ?'} #Business, strategy, team, community"
   ]
  },
  {
   "cell_type": "markdown",
   "metadata": {},
   "source": [
    "Manually reviewing the top terms for each topic is a helpful exercise, but to get a deeper understanding of the topics and how they relate to each other, we need to visualize the data — preferably in an interactive format. Fortunately, we have the fantastic pyLDAvis library to help with that!\n",
    "\n",
    "pyLDAvis includes a one-line function to take topic models created with gensim and prepare their data for visualization."
   ]
  },
  {
   "cell_type": "code",
   "execution_count": 34,
   "metadata": {},
   "outputs": [],
   "source": [
    "import pyLDAvis\n",
    "import pyLDAvis.gensim_models as gensimvis"
   ]
  },
  {
   "cell_type": "code",
   "execution_count": 35,
   "metadata": {},
   "outputs": [
    {
     "name": "stderr",
     "output_type": "stream",
     "text": [
      "C:\\Users\\Jeremy\\anaconda3\\lib\\site-packages\\pyLDAvis\\_prepare.py:246: FutureWarning: In a future version of pandas all arguments of DataFrame.drop except for the argument 'labels' will be keyword-only\n",
      "  default_term_info = default_term_info.sort_values(\n"
     ]
    }
   ],
   "source": [
    "LDAvis_prepared = gensimvis.prepare(lda, bag_of_words,\n",
    "                                              corpus_dictionary)"
   ]
  },
  {
   "cell_type": "markdown",
   "metadata": {},
   "source": [
    "pyLDAvis.display(...) displays the topic model visualization in-line in the notebook."
   ]
  },
  {
   "cell_type": "code",
   "execution_count": 36,
   "metadata": {},
   "outputs": [
    {
     "data": {
      "text/html": [
       "\n",
       "<link rel=\"stylesheet\" type=\"text/css\" href=\"https://cdn.jsdelivr.net/gh/bmabey/pyLDAvis@3.3.1/pyLDAvis/js/ldavis.v1.0.0.css\">\n",
       "\n",
       "\n",
       "<div id=\"ldavis_el1028817002444464489687440630\"></div>\n",
       "<script type=\"text/javascript\">\n",
       "\n",
       "var ldavis_el1028817002444464489687440630_data = {\"mdsDat\": {\"x\": [0.12324235107139479, 0.053569871678948014, 0.10025729871438874, -0.014479498202583043, 0.1260474255284794, 0.12333255146420713, 0.11673149669395125, 0.07812960638981854, 0.07025531573473105, 0.0548496865561524, 0.056437489283752335, -0.16369068431441078, -0.23392907230325274, -0.2683261667366402, -0.22242767155893547], \"y\": [0.06808286895973614, 0.1571541036621958, 0.2065186788117468, 0.17132187073749972, 0.09484509477671939, 0.011151059766364088, -0.17139290821881353, 0.05411517667810579, -0.2093494764689231, -0.14322066517188223, -0.24329139631655447, 0.0585430472739981, 0.008703709303734588, -0.02777775409973554, -0.03540340969419138], \"topics\": [1, 2, 3, 4, 5, 6, 7, 8, 9, 10, 11, 12, 13, 14, 15], \"cluster\": [1, 1, 1, 1, 1, 1, 1, 1, 1, 1, 1, 1, 1, 1, 1], \"Freq\": [15.082817502861925, 10.991036910057382, 8.899180500811825, 7.910270799968669, 7.407494207717617, 6.455383347239092, 6.162415563906111, 5.982954593753764, 5.735732287817983, 5.700346374813752, 4.725036460815243, 4.2680341193777585, 3.860810265552523, 3.4268613903435474, 3.391625674962806]}, \"tinfo\": {\"Term\": [\"video\", \"good\", \"people\", \"company\", \"time\", \"brand\", \"life\", \"day\", \"story\", \"content\", \"article\", \"datum\", \"woman\", \"leader\", \"week\", \"business\", \"thing\", \"book\", \"new\", \"podcast\", \"product\", \"market\", \"technology\", \"year\", \"health\", \"great\", \"team\", \"other\", \"job\", \"well\", \"child\", \"student\", \"dream\", \"crazy\", \"college\", \"chicken\", \"marketer\", \"parent\", \"mentor\", \"inspiration\", \"happiness\", \"mother\", \"freedom\", \"courage\", \"schedule\", \"instagram\", \"memory\", \"teacher\", \"daughter\", \"privilege\", \"honor\", \"wife\", \"mom\", \"speech\", \"crypto\", \"equal\", \"weird\", \"baby\", \"high_school\", \"lucky\", \"family\", \"day\", \"life\", \"happy\", \"love\", \"young\", \"school\", \"failure\", \"beautiful\", \"people\", \"year\", \"kid\", \"thing\", \"advice\", \"old\", \"many\", \"time\", \"first\", \"work\", \"career\", \"world\", \"good\", \"success\", \"own\", \"story\", \"voice\", \"one\", \"other\", \"lot\", \"way\", \"more\", \"today\", \"well\", \"new\", \"friend\", \"few\", \"action\", \"trust\", \"firm\", \"habit\", \"task\", \"rule\", \"clarity\", \"empathy\", \"belief\", \"emotion\", \"tax\", \"respect\", \"camera\", \"identity\", \"twitter\", \"first_step\", \"uncomfortable\", \"balance\", \"doubt\", \"proof\", \"consultant\", \"human_being\", \"brother\", \"point_view\", \"urgent\", \"\\ud83c\\udf1f\", \"excellence\", \"positivity\", \"tour\", \"consequence\", \"brain\", \"value\", \"stress\", \"truth\", \"situation\", \"mindset\", \"ability\", \"attention\", \"difficult\", \"human\", \"goal\", \"other\", \"person\", \"way\", \"quality\", \"time\", \"people\", \"important\", \"relationship\", \"difference\", \"thing\", \"self\", \"different\", \"simple\", \"easy\", \"good\", \"same\", \"right\", \"more\", \"many\", \"own\", \"well\", \"wrong\", \"banking\", \"magic\", \"influence\", \"\\u2764\", \"movie\", \"pitch\", \"uber\", \"quote\", \"emotional\", \"context\", \"authority\", \"headline\", \"planet\", \"\\u200d\", \"portfolio\", \"equity\", \"big_tech\", \"hard_work\", \"reaction\", \"reputation\", \"beauty\", \"era\", \"prediction\", \"mba\", \"trigger\", \"structure\", \"permission\", \"universe\", \"criticism\", \"problem\", \"strength\", \"change\", \"water\", \"technology\", \"effect\", \"machine\", \"decision\", \"view\", \"lot\", \"smart\", \"issue\", \"interesting\", \"financial\", \"advantage\", \"point\", \"world\", \"easy\", \"real\", \"many\", \"thing\", \"most\", \"big\", \"people\", \"more\", \"question\", \"way\", \"hard\", \"future\", \"other\", \"good\", \"life\", \"idea\", \"datum\", \"health\", \"care\", \"report\", \"healthcare\", \"patient\", \"digital_health\", \"medical\", \"hospital\", \"percent\", \"iphone\", \"sector\", \"analysis\", \"card\", \"funding\", \"dark\", \"population\", \"wave\", \"foot\", \"buyer\", \"doctor\", \"comfort_zone\", \"currency\", \"prospect\", \"coverage\", \"compliance\", \"increase\", \"citizen\", \"election\", \"genuine\", \"system\", \"access\", \"state\", \"payment\", \"country\", \"government\", \"treatment\", \"solution\", \"case\", \"mask\", \"disease\", \"account\", \"public\", \"technology\", \"such\", \"risk\", \"digital\", \"new\", \"more\", \"key\", \"other\", \"service\", \"world\", \"woman\", \"leader\", \"skill\", \"employee\", \"leadership\", \"culture\", \"talent\", \"worker\", \"security\", \"boss\", \"executive\", \"female\", \"rich\", \"position\", \"employer\", \"diversity\", \"diverse\", \"soft_skill\", \"intention\", \"candidate\", \"automation\", \"touch\", \"gender\", \"internal\", \"motivation\", \"superpower\", \"google\", \"talented\", \"transition\", \"pay\", \"organization\", \"job\", \"manager\", \"role\", \"company\", \"data\", \"mission\", \"business\", \"team\", \"career\", \"purpose\", \"ceo\", \"education\", \"right\", \"impact\", \"more\", \"global\", \"power\", \"opportunity\", \"work\", \"other\", \"important\", \"key\", \"world\", \"customer\", \"ad\", \"brand\", \"apple\", \"design\", \"car\", \"store\", \"fast\", \"active\", \"code\", \"framework\", \"lockdown\", \"direction\", \"tune\", \"ideal\", \"survey\", \"dead\", \"announcement\", \"budget\", \"traffic\", \"speed\", \"earth\", \"technical\", \"commercial\", \"constraint\", \"assumption\", \"efficient\", \"venture_capital\", \"scary\", \"luxury\", \"product\", \"consumer\", \"sale\", \"office\", \"software\", \"service\", \"company\", \"amazon\", \"new\", \"internet\", \"partnership\", \"business\", \"experience\", \"winner\", \"year\", \"city\", \"big\", \"space\", \"first\", \"way\", \"today\", \"end\", \"world\", \"great\", \"industry\", \"book\", \"podcast\", \"entrepreneur\", \"award\", \"guest\", \"reminder\", \"launch\", \"presentation\", \"venture\", \"co_founder\", \"pleasure\", \"copy\", \"thrilled\", \"mark\", \"wine\", \"character\", \"corporation\", \"fascinating\", \"\\u2714\", \"soul\", \"reading\", \"summer\", \"tiktok\", \"external\", \"traction\", \"meaning\", \"listen\", \"killer\", \"pleased\", \"adversity\", \"author\", \"wisdom\", \"startup\", \"favorite\", \"story\", \"awesome\", \"list\", \"idea\", \"founder\", \"website\", \"free\", \"expert\", \"available\", \"amazing\", \"new\", \"successful\", \"great\", \"business\", \"voice\", \"top\", \"time\", \"event\", \"first\", \"thank\", \"other\", \"market\", \"growth\", \"investor\", \"investment\", \"economy\", \"economic\", \"capital\", \"creator\", \"finance\", \"fund\", \"deal\", \"demand\", \"stock\", \"okay\", \"cash\", \"pressure\", \"priority\", \"consistent\", \"robot\", \"delivery\", \"disruption\", \"ground\", \"passionate\", \"chart\", \"trade\", \"agenda\", \"financial_time\", \"boundary\", \"transparency\", \"gdp\", \"competition\", \"late_article\", \"tech\", \"recovery\", \"trend\", \"large\", \"red\", \"global\", \"top\", \"low\", \"high\", \"innovation\", \"big\", \"future\", \"strong\", \"industry\", \"late\", \"year\", \"world\", \"company\", \"today\", \"business\", \"more\", \"client\", \"episode\", \"personal_brand\", \"channel\", \"newsletter\", \"talk\", \"feedback\", \"personal_branding\", \"summit\", \"\\ud83d\\udc47\", \"nice\", \"panel\", \"watch\", \"keynote\", \"hack\", \"intentional\", \"thankful\", \"tonight\", \"welcome\", \"fit\", \"agency\", \"branding\", \"excuse\", \"\\ud83d\\udca5\", \"recommendation\", \"grit\", \"ce\", \"bonus\", \"artist\", \"flow\", \"interview\", \"creative\", \"partner\", \"thank\", \"creativity\", \"comment\", \"group\", \"team\", \"great\", \"community\", \"project\", \"audience\", \"friend\", \"opportunity\", \"professional\", \"network\", \"member\", \"message\", \"thought\", \"linkedin\", \"new\", \"work\", \"today\", \"content\", \"social_medium\", \"tip\", \"distraction\", \"email\", \"live\", \"follower\", \"webinar\", \"pm_et\", \"calendar\", \"influencer\", \"workshop\", \"authentic\", \"focused\", \"mobile\", \"tactic\", \"bot\", \"hat\", \"meditation\", \"content_creator\", \"product_service\", \"clubhouse\", \"marketplace\", \"e_commerce\", \"designer\", \"bunch\", \"infrastructure\", \"being\", \"trick\", \"reporter\", \"profile\", \"marketing\", \"tool\", \"platform\", \"digital\", \"linkedin\", \"productivity\", \"social\", \"strategy\", \"communication\", \"post\", \"question\", \"time\", \"more\", \"work\", \"connection\", \"audience\", \"sure\", \"campaign\", \"next\", \"conversation\", \"free\", \"way\", \"video\", \"series\", \"tomorrow\", \"fun\", \"show\", \"next_week\", \"entrepreneurship\", \"magazine\", \"party\", \"video_series\", \"chief\", \"radical\", \"birthday\", \"dinner\", \"format\", \"studio\", \"implication\", \"m\", \"evening\", \"next_level\", \"officer\", \"few_week\", \"blood\", \"alive\", \"boring\", \"virgin\", \"immigrant\", \"sweet\", \"last_few\", \"engaging\", \"tv\", \"week\", \"discussion\", \"conversation\", \"ready\", \"event\", \"virtual\", \"pm\", \"conference\", \"excited\", \"money\", \"incredible\", \"hour\", \"today\", \"yesterday\", \"moment\", \"link\", \"topic\", \"question\", \"stage\", \"first\", \"time\", \"new\", \"part\", \"business\", \"cool\", \"stuff\", \"performance\", \"secret\", \"smartphone\", \"brilliant\", \"review\", \"gratitude\", \"afraid\", \"normal\", \"pro\", \"debt\", \"letter\", \"read\", \"play\", \"exercise\", \"star\", \"kindness\", \"flight\", \"confident\", \"cancer\", \"reward\", \"terrible\", \"tree\", \"ultimate\", \"messaging\", \"entrepreneurial\", \"fair\", \"phase\", \"blue\", \"session\", \"device\", \"word\", \"good\", \"well\", \"lead\", \"morning\", \"study\", \"bad\", \"result\", \"app\", \"time\", \"fear\", \"number\", \"more\", \"hard\", \"bank\", \"meeting\", \"rest\", \"music\", \"fantastic\", \"small_business\", \"credit\", \"look\", \"war\", \"spot\", \"cloud\", \"entertainment\", \"engineer\", \"fight\", \"sustainable\", \"bright\", \"sport\", \"scientist\", \"search\", \"poll\", \"economist\", \"dad\", \"solid\", \"testing\", \"momentum\", \"\\ud83d\\udd25\", \"warrior\", \"song\", \"attitude\", \"extreme\", \"game\", \"player\", \"director\", \"medium\", \"phone\", \"board\", \"guy\", \"science\", \"congratulation\", \"glad\", \"lesson\", \"news\", \"minute\", \"training\", \"corporate\", \"proud\", \"crisis\", \"challenge\", \"team\", \"article\", \"pandemic\", \"black\", \"page\", \"retail\", \"test\", \"think\", \"\\u2705\", \"white\", \"artificial_intelligence\", \"debate\", \"track\", \"epic\", \"road\", \"african\", \"vaccine\", \"third\", \"wealth\", \"\\ufe0f\", \"driver\", \"surprise\", \"forum\", \"depression\", \"invisible\", \"giant\", \"shopping\", \"check\", \"ride\", \"package\", \"business_owner\", \"plan\", \"site\", \"app\", \"useful\", \"workforce\", \"blog\", \"number\", \"paper\", \"home\", \"engagement\", \"multiple\", \"month\", \"safe\", \"future\", \"feature\", \"food\", \"advertising\", \"box\", \"amount\", \"zoom\", \"mental_health\", \"gig\", \"drug\", \"odd\", \"disability\", \"business_model\", \"addiction\", \"am\", \"complete\", \"club\", \"resume\", \"privacy\", \"transaction\", \"status\", \"shoe\", \"micro\", \"base\", \"score\", \"intent\", \"grant\", \"status_quo\", \"root\", \"deep_dive\", \"observation\", \"lifestyle\", \"cost\", \"uncertainty\", \"bias\", \"comfortable\", \"guide\", \"thinking\", \"revenue\", \"line\", \"money\", \"race\", \"major\", \"time\", \"facebook\", \"concept\", \"free\", \"effort\", \"much\"], \"Freq\": [1777.0, 3540.0, 4380.0, 2606.0, 5302.0, 1452.0, 2579.0, 2452.0, 1623.0, 1195.0, 981.0, 1278.0, 1243.0, 1130.0, 1223.0, 2780.0, 2975.0, 997.0, 3958.0, 951.0, 985.0, 878.0, 1355.0, 2848.0, 952.0, 2030.0, 1436.0, 3175.0, 1117.0, 1349.0, 375.26433359384, 282.67495201209204, 282.6686358096994, 228.37616754460515, 213.781771052611, 193.10306499501812, 188.5368205328537, 183.21442421938775, 178.51792942139693, 174.05723951273097, 154.51482395584483, 153.34124794506812, 136.64007076446708, 131.6821221741921, 130.1661909229175, 118.60880663001785, 115.9514778585344, 115.00744032457365, 111.01348078595237, 109.39198075549825, 97.99445755356072, 93.46301622012058, 91.71197713789326, 85.53657342359817, 84.72675519048083, 81.36408870045814, 80.59684081792628, 79.19006321745947, 76.34743072443005, 74.96559785570982, 428.08662039796303, 2239.6466150565157, 2307.7186612535925, 492.2900495322778, 354.169526365111, 284.7452438287685, 266.3989519871463, 225.26227976503816, 165.00930803664946, 2398.209470364708, 1523.2515591394765, 353.4272303271662, 1438.0596455167088, 283.0805546306026, 302.7022072310179, 951.071962538958, 1725.88170500019, 701.6594126377557, 668.3210738413438, 480.8215899717123, 874.3800640603921, 973.4108909308626, 439.7016329248549, 418.71155516012266, 562.1605063295268, 327.3238453092537, 409.6848199488272, 716.8169896174118, 437.3396861949944, 632.8084819510362, 640.6587248869367, 480.3290968932598, 411.49489560747213, 493.8857157259188, 343.3086171914474, 337.79147130420864, 565.0647779356622, 447.2691989540579, 328.87736359907154, 350.17828511082513, 261.919155750132, 232.8869707946614, 207.6100461710948, 207.41920017794544, 163.76345395544132, 154.15788797009606, 123.12013035831765, 121.09364861085383, 116.82929285670282, 113.86457654639425, 113.58188397533591, 99.54335223700345, 95.39493464620837, 86.22552069197508, 76.56010411774075, 76.46943412974069, 70.88292304379937, 70.83643996757547, 69.49010493567538, 65.30371510843781, 62.267568905907844, 61.069344255709105, 59.85962323362538, 59.23876213646586, 58.848186118872725, 58.757371000839846, 283.30551738548894, 891.8633611433025, 173.2024935945643, 227.78623066140776, 213.8304852403643, 184.5474741224688, 297.5730021170152, 363.08602583206243, 178.07229037988841, 405.5509490360413, 467.99090650485397, 1450.7377211936257, 440.57265044571375, 1099.2024288102732, 216.2076737121213, 1576.8210543633384, 1321.895175840068, 524.6862026176825, 277.2440579007354, 213.01924982266206, 878.8793649562527, 256.5843208739507, 341.63006397954064, 243.7825872752525, 330.02876308082614, 619.350086189318, 312.66801829564247, 300.4500806203664, 421.2380128170992, 300.87806908713264, 246.6122082578738, 250.6827324867718, 372.53050473445325, 227.46781814031874, 201.95907696510028, 193.79359119851114, 175.96160187144, 168.25354244762826, 152.80952376582016, 131.48767981878095, 118.6784999901292, 117.66263211070806, 113.47440032367341, 111.16946609826243, 108.59299530976304, 106.19938426480927, 91.93434341359837, 91.15639632232302, 90.65793439310502, 90.42635066115942, 87.50250847146759, 83.36389877218845, 83.31017228644369, 80.38504589860798, 77.59367756058145, 74.46563947256145, 73.77589916752133, 72.70538152264415, 71.62368379980852, 71.61112719573507, 71.19855546002219, 65.60537732977971, 719.5181237312744, 200.52173189747836, 589.34676379687, 145.73238333598786, 902.0830892454277, 158.57924976376384, 151.3472669328974, 279.64257285468574, 272.0987564980594, 530.753452464181, 233.5796780254563, 328.14257359672234, 296.66115275611634, 230.37175106205453, 140.08357340641462, 255.37394741385532, 646.0396968932766, 317.01769097810507, 304.2981196421593, 526.4001046909611, 578.9114871880621, 316.27433330219515, 422.202818906262, 658.5055845383695, 569.197644558747, 369.5081905668271, 424.8082135300803, 239.16634283700827, 300.6295096766348, 371.71247891025627, 300.2153096112493, 270.6162882329115, 238.01783323688343, 1277.6643689252703, 951.7823810524309, 466.34218857897935, 439.3004058507639, 429.07975818800475, 360.63167065867196, 281.4334914676867, 259.32913736722145, 244.6055149257561, 191.59714664615467, 184.55987764333338, 180.63224533994799, 178.5342701500373, 168.69855193994294, 155.01179338989027, 128.94104097766566, 128.77398007321807, 128.05318299834786, 121.63444669842178, 115.82849087035625, 115.82490971484826, 115.58013773587732, 112.96155952473357, 111.31830155544961, 107.66903694614447, 102.86029117298129, 102.74221003084604, 100.42412807052567, 99.45992433222193, 97.29653336836535, 641.1466255815224, 396.0984201490539, 333.1577021465676, 342.2638643722785, 481.56833666710304, 255.8813500589438, 155.10749977084123, 444.6216149771201, 307.76889127195153, 139.37927368049768, 156.77445305240303, 203.1991802816762, 212.51410895202147, 452.48031152458606, 223.36392087309022, 231.85945132024534, 300.0468456500779, 425.29107471832924, 316.3855692256456, 218.15742809483987, 254.94631035580827, 204.58686311954014, 191.166661911132, 1242.891371162885, 1129.1016006085267, 532.2520435729596, 505.3033526743655, 500.4681666115174, 498.9003878941251, 301.16341685946435, 225.17442603089887, 186.60206722314808, 168.5591419313937, 157.61326584259834, 156.73057288933285, 145.20320739479524, 141.61763319198627, 138.0644904900959, 137.8229240153519, 114.47290707489262, 112.74324332781808, 110.77889484413068, 105.74258037791229, 104.8612707588092, 93.87798875533952, 93.03048698478126, 92.5773472350872, 90.82491436662237, 87.68928007993988, 83.72336583436744, 82.05545608053279, 82.03525101791827, 74.51831099091613, 389.5699557026112, 798.8124322864345, 175.21176359526734, 325.8428808088204, 1109.8847136704226, 146.70848455957704, 151.0278267105716, 984.3405710881689, 499.07164186881636, 387.1219572657589, 185.5931275612227, 186.871454084936, 181.77516719220205, 268.79043516785055, 232.084836906512, 347.48060253113306, 221.12495979922443, 203.66242004049684, 215.5019579443505, 208.43692105013966, 214.2336081942933, 191.82475452833776, 182.38305173160876, 194.23211927080342, 699.2701014665985, 476.90700657416875, 1448.4548691652847, 315.506414978831, 219.65625511095462, 187.23550143265268, 175.1975837427332, 160.4546771852204, 135.09753449364382, 134.92257442355412, 128.71155282069563, 117.98616443720405, 116.77318263724769, 107.71048724166361, 102.49506247417064, 101.26483186162505, 98.0746661042337, 97.84076903948687, 90.61756543871674, 89.74951727081739, 89.33824298857604, 85.39507188498442, 81.98599294134326, 79.2119905577955, 75.4607360873225, 72.91862155279465, 68.69581632827183, 68.63111349333158, 68.53015344731867, 67.84446291650367, 954.7778521981522, 481.00712178016505, 369.5002518650947, 228.5799493094289, 120.72163249852194, 405.2076928066041, 1146.5594173116638, 135.49311862761746, 1241.2191473039857, 189.01570309792413, 147.02499402684117, 744.4310850593761, 247.69518936127704, 110.81314252134759, 362.0428224188224, 160.61205357343303, 274.8496790256617, 165.3019040379513, 222.83286170645533, 238.05153837104453, 213.72059347920816, 154.98639566275722, 180.78779421715964, 175.0665219920111, 155.94378086811568, 996.7775369625411, 950.0531975929978, 660.9681958552156, 194.87508574707158, 188.35080613161918, 180.16616305529774, 177.24465384318495, 150.78074982414955, 148.62632495063463, 144.58445342731753, 128.09083239938263, 125.95414640205468, 111.87429122255656, 108.71894502920094, 99.79860356821658, 99.6696654196808, 98.18378461383536, 93.91983421757362, 87.74078265876476, 81.00525232447531, 78.9596844011915, 77.54665969397101, 77.40504510737372, 74.85182681583296, 72.01189783509632, 70.58699877530377, 68.5299052322694, 68.1313501150049, 66.89987571465711, 65.95522824777903, 163.02045814886816, 172.50694409670234, 502.3001093095004, 315.1673106791054, 1060.807486861599, 293.82411803997826, 340.09219863472623, 585.5981520666343, 324.15743357767184, 145.24855696372657, 425.0381202177195, 257.39964905113476, 185.4219967791097, 305.9495582435188, 569.7482453294781, 183.05739063407697, 356.805312100513, 363.7086642929354, 186.60144605470342, 175.47392806873867, 257.63030093927455, 173.6623540564674, 174.7625828594438, 163.61686102019675, 165.97324869506946, 877.7417453974754, 744.0511112871703, 459.40015506253485, 458.9862333024802, 446.31469283822213, 333.55692496507976, 295.77917209395537, 276.49772682586666, 219.8258834322255, 214.362310317027, 201.0400472864795, 175.51974383102103, 162.6086713721234, 155.5231334933734, 135.51048588827464, 135.2639227763782, 132.3538415310992, 119.67033801019214, 116.76665587163006, 114.15593319013797, 94.62158777589964, 91.49599657945026, 91.0380880144056, 87.85202130941515, 86.6791113203978, 73.1998726719912, 66.32219854546844, 65.68284652594677, 64.99093041553586, 63.96510959378844, 161.25821156499123, 330.5973776091475, 640.3515893341946, 99.44718575168136, 290.314380101287, 344.50167720337527, 125.19622059308782, 454.608702584764, 362.79228794746354, 222.4096328067449, 386.0031458886417, 307.49495461918, 601.4891258020829, 502.4233696971614, 283.76765377964597, 332.5507190418757, 278.2238378976793, 513.1030838011695, 430.5839504989653, 349.24498402108526, 297.6363350655868, 295.1169604789219, 260.6031583259338, 590.0198460213018, 421.96906603045346, 398.2312187032996, 301.1602133558242, 291.1664486711804, 291.1305926608857, 289.6266093877969, 204.82450506918883, 191.39191745877977, 163.64157268025951, 149.81518567133085, 142.4138732844171, 126.8987266162162, 120.71692972246773, 114.75599243588415, 112.10960464892086, 105.54816033657598, 103.15064398859799, 99.46226799178697, 95.17943310130721, 95.55321632027186, 82.60648089522209, 81.45496090498276, 78.61140833962503, 78.27331342782902, 78.23602923607424, 77.43699416779745, 75.23254739607253, 73.53518077959166, 68.1149291907914, 385.206030673951, 249.6230302982448, 280.41981596591427, 497.24626032649, 160.82041659689028, 380.6007080819498, 353.61963377173026, 688.8938871839733, 840.8181181874477, 459.82015926844963, 239.1476655139525, 278.7763686093318, 358.961962914501, 325.9927617721727, 233.25505372676864, 180.031837538159, 150.53467536010066, 206.997180213204, 198.98467107869092, 191.21958356258997, 223.83048427132823, 199.73284341178513, 173.31476472488532, 1194.9401238531625, 683.5804293436273, 671.3713916981508, 475.40970730772796, 459.42312269568276, 303.08974557471083, 193.00666260876517, 184.92401448023872, 151.02815742097752, 141.19826424909405, 139.0054551603589, 128.1119266220959, 112.9036409015852, 111.53964738959792, 111.19285862526917, 103.09938242053799, 93.54781489362323, 81.6278234412545, 80.24495875375648, 78.85380902880487, 76.11417133892381, 73.1449558526085, 70.02966348919152, 67.7162616748991, 66.9677856923555, 65.77897152842137, 63.17107722449906, 62.67405024693037, 60.61587704911829, 60.33458362953935, 264.5231059080392, 775.7466053697002, 415.6757163121286, 463.5841147441392, 631.4057043701101, 416.7955135871649, 178.66337565907284, 310.37692257962834, 359.44374236783455, 212.04872172134057, 300.9419154758113, 452.14833292392103, 902.3441282216639, 672.4538552288149, 381.2926280820738, 181.86447541882927, 201.05451465526724, 220.34638296981734, 157.35413029479486, 213.31596147991152, 209.63665215406436, 195.1628153799413, 207.932482853782, 1776.9103579454622, 401.05233496858745, 400.93842634475294, 388.2826256283939, 374.61334120319503, 171.40764714743315, 170.04448713731995, 156.3896061813008, 118.56687154970847, 107.38648164225536, 102.03922936144404, 101.88067533097521, 85.42090592600496, 82.3514072091041, 80.86434705971675, 77.87658089998038, 71.910046292226, 69.26186241838806, 66.80017049218715, 66.70621816011834, 66.46869907074013, 64.98668370078084, 62.69793590467166, 59.78738784842434, 59.40845450037962, 58.10085391175876, 55.01101118594535, 52.82293169593152, 48.344286150085345, 47.170372216307484, 201.77490191437664, 969.8836945897916, 215.54827279568968, 609.4842957292663, 342.46073364884626, 552.8574844751022, 191.62195353305006, 149.22912113066212, 209.32137498252519, 361.33580261796277, 412.244365303484, 220.4063597327385, 238.18949243378276, 609.6342486782015, 185.8783384586613, 209.49156052739966, 242.90737728531388, 184.2267703695155, 287.94978845196465, 145.40674701887272, 255.70359400009932, 336.9435275621448, 307.1057785483124, 183.30154356155282, 191.67441567388653, 285.4804831503951, 253.49036935591843, 237.13491056973788, 227.81407156423688, 195.22610847971063, 176.9361614577426, 173.2762849048453, 172.60620226848525, 159.20422750229045, 155.8471803172178, 142.28579624908943, 137.70092709428562, 132.5692920848246, 131.50952616401062, 131.3930205070268, 128.8154526045098, 124.18971670139211, 123.63065700814639, 118.20427580960519, 110.09324069213197, 107.1160546022022, 105.9335596208491, 99.42687446466402, 92.9253016775056, 88.69790385680034, 86.38288629495784, 86.1723291498332, 85.28836431573747, 82.92924351369336, 82.14641502560212, 229.0717787525932, 185.8564000568997, 444.1506733892585, 1178.0990202720652, 507.00073733335216, 150.08083060389137, 214.94001532058687, 169.94659493229642, 250.55500002933425, 167.6221013730612, 150.34846110969315, 220.73647567983406, 141.11571587094753, 142.2701773578899, 140.30142417316154, 133.95552503560853, 572.8882952117491, 433.7731733848164, 265.2456031894585, 189.6503151136744, 177.7452203066737, 176.44883623108785, 164.97441774226655, 161.03961685543143, 136.7154792609457, 130.99462721030247, 130.19884900523573, 125.07131301062336, 122.62948840265017, 121.01984877251462, 111.2898164851045, 104.65328202717411, 102.25605735447776, 101.58960002640491, 99.93970829922903, 98.15233894660886, 92.86460295586906, 85.27048079548774, 85.15782299032816, 84.472262848697, 83.27944034718635, 83.05203457007677, 82.088387568777, 81.82159634914993, 77.71695302426924, 70.66933301006257, 461.1445411097594, 139.9868597519435, 120.28609098691513, 293.26569459740597, 225.52885102866176, 136.28066630605215, 161.06465516004963, 164.72247617450583, 131.8202649409465, 128.5550311425309, 179.0370599081229, 208.35006877356477, 174.25666638818484, 124.26855787250709, 125.69872718830119, 157.4034549212354, 146.88991596548965, 143.36832721577682, 151.13477525279438, 980.5735387218576, 530.6965630433635, 331.3064119915657, 257.98745730974525, 246.4197607780277, 245.6232377610831, 224.41028228202762, 196.42615716464095, 166.06718852338525, 156.1179683254162, 147.59892130031594, 138.30194239766996, 120.24193039013505, 118.67466372478647, 116.87630066391954, 114.28672818714621, 109.0477761328629, 104.1650486678895, 104.120031736466, 98.24062915120717, 95.61848339507672, 94.86450797184685, 88.85935662625185, 88.05702226218638, 87.75606041652084, 84.90946996252208, 84.85244248276648, 83.92126298987664, 82.82149625236809, 82.5386278000188, 314.20714042284254, 137.65209286923755, 343.35176376405644, 145.1151942048074, 104.99543781115915, 115.73224745352438, 260.9304424336732, 121.19942578305722, 206.99187143926972, 132.2532802873691, 115.06696133229484, 134.89836761294555, 116.65532726016012, 131.79093235469628, 110.55509348430836, 278.1481677654271, 265.46814945516115, 194.1816441955048, 187.9175125713009, 172.79476238211066, 151.2895858345783, 132.32341478194166, 130.03097927372454, 119.55547834098194, 116.95052465141363, 115.4731008350227, 114.18460311376975, 108.5405687752128, 106.23184454914193, 104.71021855221227, 99.04064432297497, 84.8329605225924, 83.53548673254572, 81.82271461491044, 80.95051967085453, 79.59045651444366, 77.58686104744545, 76.44766164505941, 75.03702413097615, 72.75751211453615, 72.5342619929703, 72.25282416956631, 68.86066988656546, 68.60800922455432, 67.88360272606859, 246.10527838711218, 155.5230658300387, 119.42387624897421, 101.77551749151269, 126.46401877001746, 141.8102430026608, 133.71162811846114, 133.37419702771385, 217.5531904797741, 99.26754117241853, 121.0611802928456, 273.26557020773515, 92.18612664867514, 95.49774582549254, 114.72131188861316, 102.3495444483046, 100.08696732430722], \"Total\": [1777.0, 3540.0, 4380.0, 2606.0, 5302.0, 1452.0, 2579.0, 2452.0, 1623.0, 1195.0, 981.0, 1278.0, 1243.0, 1130.0, 1223.0, 2780.0, 2975.0, 997.0, 3958.0, 951.0, 985.0, 878.0, 1355.0, 2848.0, 952.0, 2030.0, 1436.0, 3175.0, 1117.0, 1349.0, 376.2851382902561, 283.6957566442255, 283.6894409864566, 229.39697295547433, 214.80257555177866, 194.12387967852302, 189.55762898100065, 184.23522898325572, 179.53873515625637, 175.0780452459776, 155.53562863503674, 154.36205261437482, 137.66087562046218, 132.7029275001488, 131.18699713193973, 119.62961269970792, 116.9722826374123, 116.02824486957545, 112.03428527558661, 110.41278626530604, 99.01526243197368, 94.4838211090368, 92.732781661123, 86.55737824501263, 85.74756512350102, 82.38489505177985, 81.61764660908003, 80.21086848609168, 77.36823525185142, 75.98640272151452, 448.4188680131156, 2452.1419060337475, 2579.2822628073036, 542.9882838540132, 392.88357530386935, 331.7839515058109, 316.6739040089645, 262.8150193355647, 183.29334797399238, 4380.263794117357, 2848.6365631496997, 474.0111305506314, 2975.9196457219546, 370.88674138689765, 412.07785363108565, 2217.3546620664843, 5302.956112468425, 1626.4956470111981, 1585.5868219344557, 992.9776137763303, 2682.711991804189, 3540.614981296874, 905.1118799870476, 904.5067942349822, 1623.923053972722, 567.1054880739524, 909.1884034588635, 3175.073076678511, 1079.174459463501, 2869.809824782522, 3741.222319463151, 2163.8496037579666, 1349.7443955465876, 3958.7982524036115, 819.9299379088588, 801.7776935812511, 566.0854207934731, 448.28984183204216, 329.8980068464641, 351.28829985738344, 262.9397979897901, 233.90761342939072, 208.6306906545547, 208.43984243609617, 164.7840970726712, 155.17853050680108, 124.14077377453063, 122.1142916817431, 117.84993707087203, 114.88521970273467, 114.60252781359635, 100.56399528757022, 96.41557823707218, 87.24616371068025, 77.58074721965951, 77.49007773313389, 71.90356680928873, 71.85708343742596, 70.5107500282882, 66.32435847309675, 63.28821219467349, 62.08999491304451, 60.880266914364455, 60.259406308567485, 59.86882999217856, 59.778013657439644, 294.5634638175724, 1056.5385700748868, 197.61920683111347, 280.7029597643241, 262.335963173537, 225.34934106202908, 399.97319520727297, 512.2385524144244, 218.17344718926242, 610.5233328413126, 749.1383439453846, 3175.073076678511, 752.4001134836385, 2869.809824782522, 300.66082553401407, 5302.956112468425, 4380.263794117357, 1108.1273453306198, 443.9998026487666, 295.2737118940733, 2975.9196457219546, 406.2421467775885, 704.0171970014345, 405.13792228683104, 776.7386569796154, 3540.614981296874, 871.789662484521, 903.3373355365745, 3741.222319463151, 2217.3546620664843, 904.5067942349822, 1349.7443955465876, 373.54041448071416, 228.4777282731131, 202.96899050303742, 194.803502190764, 176.97151928181984, 169.26345226412633, 153.81943503468227, 132.49758926459833, 119.688409728363, 118.67254167504387, 114.4843094484454, 112.1793794016846, 109.6029053018385, 107.20929434999292, 92.94425630139132, 92.16630770587312, 91.66784436916349, 91.43645080567282, 88.51241962714373, 84.37380804836289, 84.32008386501931, 81.39495691460614, 78.60358706431792, 75.4755485976403, 74.78580933096042, 73.71529296044116, 72.63359386732222, 72.62103833054597, 72.20846603232916, 66.615286727866, 800.0314951333501, 219.40331231253572, 718.5230800414845, 160.8184826257193, 1355.4735057805797, 184.02171817186962, 176.55610304581091, 407.2947040850836, 429.7844908389237, 1079.174459463501, 365.1517115214397, 627.605075199493, 559.0090165260306, 388.17079070864315, 179.97890535270065, 468.156628323929, 2682.711991804189, 776.7386569796154, 723.3078327288769, 2217.3546620664843, 2975.9196457219546, 890.5438411473266, 1637.728587128488, 4380.263794117357, 3741.222319463151, 1433.8008767300805, 2869.809824782522, 598.803137510561, 1352.414456945817, 3175.073076678511, 3540.614981296874, 2579.2822628073036, 1126.8226148168098, 1278.6480034317956, 952.7660154172136, 467.32582353334595, 440.28404012695773, 430.06339193499866, 361.6153044936425, 282.41712536191, 260.3127712681473, 245.5891489055872, 192.58078081890864, 185.54351333442543, 181.61587977243977, 179.51790501772905, 169.68218756465814, 155.9954289904565, 129.92467655834926, 129.75761442784304, 129.03681825835562, 122.61808450140126, 116.81212659004116, 116.80854366693089, 116.56377637027495, 113.94519372612042, 112.30194097530789, 108.652671395009, 103.84392581262921, 103.72584497262226, 101.40776256922024, 100.44355851385698, 98.28017385648718, 722.3251451668732, 460.017022785465, 395.53308027513583, 408.7074531335097, 617.7297500750141, 324.1924095801146, 172.75394057133596, 695.4753814340198, 438.7063103185545, 153.9831672977656, 185.13428839029257, 279.9014359829496, 316.4269578266986, 1355.4735057805797, 439.50091344155754, 502.36564271768077, 932.3741057315702, 3958.7982524036115, 3741.222319463151, 704.8936062555381, 3175.073076678511, 671.9885546905527, 2682.711991804189, 1243.9085989442044, 1130.4949786572547, 533.2692722940056, 506.32058033515307, 501.4853944575853, 499.9176158269144, 302.18064508059496, 226.19165392233418, 187.6192957224656, 169.57637312815038, 158.63049357585626, 157.74780059963837, 146.2204355802375, 142.6348613638683, 139.0817182034172, 138.8401516742561, 115.4901351891669, 113.76047512900055, 111.79612734649302, 106.75980787417483, 105.87849902091243, 94.8952182858652, 94.04771469112218, 93.59457623527004, 91.84214346465858, 88.7065113873373, 84.74059426417392, 83.07268393063214, 83.05247903261031, 75.5355390906307, 466.7546762797803, 1117.981314199491, 197.1717054277277, 462.38238752804745, 2606.5845865319693, 176.17145651684234, 187.66112091025482, 2780.2173276657554, 1436.076001160071, 992.9776137763303, 294.6493376521975, 362.9022844294187, 344.3567508996074, 903.3373355365745, 668.6181825158156, 3741.222319463151, 855.7914919302011, 712.6370113890466, 1062.2719685334496, 1585.5868219344557, 3175.073076678511, 1108.1273453306198, 704.8936062555381, 2682.711991804189, 700.2888354459147, 477.92256324047224, 1452.7475652737403, 316.52197112676976, 220.67181118830817, 188.25105741613962, 176.21313956945846, 161.47023342402414, 136.11309455222383, 135.93813080525277, 129.727110123154, 119.00172092498026, 117.78873975716964, 108.72604612451316, 103.51061930536731, 102.2803882024803, 99.09022283169084, 98.85632522267477, 91.63312201006276, 90.76507487867329, 90.35379922023608, 86.4106288532764, 83.0015494337486, 80.2275469670305, 76.47629242951122, 73.93417843871813, 69.71137288454351, 69.64667116688406, 69.54571213699164, 68.86001990363442, 985.9884849659455, 567.2753961630666, 449.7427314053563, 294.1810668756742, 138.09240638754244, 671.9885546905527, 2606.5845865319693, 162.46771529488157, 3958.7982524036115, 276.0074829391986, 192.1850162064353, 2780.2173276657554, 879.2988961152969, 132.73758389399015, 2848.6365631496997, 350.92676166683174, 1637.728587128488, 429.91493955955116, 1626.4956470111981, 2869.809824782522, 2163.8496037579666, 444.55947309297653, 2682.711991804189, 2030.3578870928359, 819.053672243537, 997.7952309470678, 951.0708922183294, 661.9858911171399, 195.89278011438546, 189.36850073203593, 181.18385782309832, 178.26234807950814, 151.79844495225387, 149.64401907396703, 145.60214808832518, 129.1085270934527, 126.97184079972955, 112.89198534202895, 109.73663957180499, 100.81630064182373, 100.68736164827445, 99.20147962322845, 94.93752866203592, 88.75847696675542, 82.0229481671182, 79.9773784154802, 78.56435402171516, 78.42273983954526, 75.86952245492883, 73.02959411048865, 71.60469376749421, 69.54759987039866, 69.14904625068557, 67.91757006751419, 66.97292573401973, 172.4955152764882, 190.5250538931792, 620.266462803801, 374.1059562980589, 1623.923053972722, 373.8556866252457, 521.0087679777664, 1126.8226148168098, 517.1650730914214, 181.54212347548204, 856.5847971390114, 464.27814388072517, 285.9184966238951, 654.338159460889, 3958.7982524036115, 410.8616465324298, 2030.3578870928359, 2780.2173276657554, 567.1054880739524, 649.2162049539314, 5302.956112468425, 821.426947134397, 1626.4956470111981, 780.0623330343359, 3175.073076678511, 878.7487371727302, 745.0581044041936, 460.4071472053549, 459.9932257362448, 447.32168453440926, 334.5639166926727, 296.7861647445623, 277.50472289361005, 220.832875932859, 215.36930258957176, 202.04704011602283, 176.5267363041401, 163.61566283231352, 156.53013005660955, 136.51747818306146, 136.27091549608468, 133.36083405360114, 120.67733223463885, 117.77364801772212, 115.16292598264783, 95.6285797193901, 92.50298963716106, 92.04508195138253, 88.85901263258464, 87.68610288765215, 74.20686589320184, 67.32918981024345, 66.68984172157727, 65.99792367485269, 64.97210107781589, 179.3871885492342, 405.913051903846, 860.071697341388, 106.35199336901535, 386.6775063714183, 539.9716330800193, 144.06505796648415, 855.7914919302011, 649.2162049539314, 328.94871010700876, 757.7289952509028, 542.7097264281214, 1637.728587128488, 1352.414456945817, 556.0136218445714, 819.053672243537, 615.2101979217954, 2848.6365631496997, 2682.711991804189, 2606.5845865319693, 2163.8496037579666, 2780.2173276657554, 3741.222319463151, 591.0408494833313, 422.99006916201495, 399.25222433207307, 302.18121718168965, 292.18745142701414, 292.1515953634147, 290.6476120088446, 205.84551141993563, 192.41292007117946, 164.6625781215645, 150.83618853084553, 143.4348758600063, 127.9197315178298, 121.7379319640798, 115.77699569217398, 113.13060984289224, 106.56916397549043, 104.17164684488081, 100.48327063126861, 96.20043747083527, 96.65322379186371, 83.62748415440454, 82.47596525790831, 79.63241279069896, 79.29431631184262, 79.25703376470139, 78.45799679234315, 76.25355131033038, 74.55618373273762, 69.13593273352053, 479.48304564233655, 300.01008743384307, 373.6311307442405, 780.0623330343359, 201.39127912695136, 622.3105764459348, 570.115912933173, 1436.076001160071, 2030.3578870928359, 952.6321064918412, 378.6957440613951, 480.78980760593714, 819.9299379088588, 1062.2719685334496, 543.210725993194, 351.98043013389474, 229.92913233627144, 610.5625044219466, 700.0766251688115, 676.7333928964597, 3958.7982524036115, 1585.5868219344557, 2163.8496037579666, 1195.9614844113266, 684.6017896630183, 672.3994758502329, 476.4310683411948, 460.44448246316875, 304.11110562346613, 194.02802311689393, 185.94537433870644, 152.04951756788805, 142.2196242162994, 140.02681572306886, 129.13328713122857, 113.92500300510589, 112.56100830446448, 112.21421932157213, 104.12074307554045, 94.56917478246405, 82.6491850775799, 81.26631908338308, 79.87517247610909, 77.13553296176563, 74.16631742442964, 71.0510238894891, 68.73762373683387, 67.98914636526584, 66.8003340073434, 64.19243802106487, 63.69541208205621, 61.63723769088877, 61.35594452431299, 283.9549918722571, 879.7686105805911, 481.9674140849268, 564.1684085330252, 932.3741057315702, 676.7333928964597, 233.8591627460657, 512.0511413675088, 639.0324158223442, 348.390437442198, 650.6984090968938, 1433.8008767300805, 5302.956112468425, 3741.222319463151, 1585.5868219344557, 352.1100077685916, 480.78980760593714, 626.1812031994722, 268.2631267156536, 870.0164148919139, 820.0763892509548, 856.5847971390114, 2869.809824782522, 1777.9278785094689, 402.0698555984703, 401.9559461510355, 389.30014579277946, 375.63086115196785, 172.425167307748, 171.06200782864212, 157.40712636869927, 119.5843917555025, 108.40400222976763, 103.05674938638316, 102.89819670938316, 86.43842588731547, 83.36892724311392, 81.88186760933628, 78.89410082167001, 72.92756646297715, 70.27938357213569, 67.81769030910253, 67.72373873704925, 67.48621869046612, 66.00420509668479, 63.71545658468011, 60.804908978239844, 60.42597485602824, 59.118373334067414, 56.028532173916524, 53.840454406886074, 49.36180636546519, 48.18789440362424, 216.69698758822148, 1223.676664340431, 250.5591811384151, 820.0763892509548, 447.91196452507984, 821.426947134397, 238.24265662526432, 179.57820064874937, 276.8150864431635, 589.0072108038953, 794.0117432345262, 399.4762048855432, 470.5652343007368, 2163.8496037579666, 347.07158959425357, 458.13990843632655, 603.9184004497151, 410.80036005338866, 1433.8008767300805, 265.0044667909515, 1626.4956470111981, 5302.956112468425, 3958.7982524036115, 1062.6870636068263, 2780.2173276657554, 286.48684321871406, 254.49672931442672, 238.14127029110261, 228.8204316932589, 196.2324751492534, 177.94252105588689, 174.28264404830617, 173.6125628586106, 160.21058822390702, 156.85354016428263, 143.29215639774648, 138.7072868913045, 133.57565139896485, 132.51588532228877, 132.39938007929422, 129.82181209874037, 125.19607714732891, 124.63701744912724, 119.21063507571674, 111.09960115960304, 108.12241506403853, 106.93991987615524, 100.43323457584256, 93.93166156051784, 89.704264130565, 87.38924671441728, 87.178689932177, 86.29472446474944, 83.93560338888892, 83.15277418919185, 295.63912061412873, 246.02591525530025, 821.7092030428039, 3540.614981296874, 1349.7443955465876, 207.25871252182517, 372.4624694535645, 283.5917524827794, 756.9061603077074, 426.0810514813875, 494.62303114520796, 5302.956112468425, 418.174660420046, 630.8088256745369, 3741.222319463151, 598.803137510561, 573.89629052964, 434.781168799499, 266.253599448045, 190.65831068968257, 178.75321647183446, 177.45683232053355, 165.9824134088551, 162.04761207454592, 137.7234746042497, 132.0026231525406, 131.20684451012178, 126.07930945738774, 123.63748426216556, 122.02784497638615, 112.29781271578106, 105.66127827485805, 103.26405284765781, 102.59759531139565, 100.94770391654009, 99.16033549025985, 93.87259821380769, 86.27847650570342, 86.16581891511277, 85.4802583216827, 84.28743556805543, 84.06003432489315, 83.09638493271754, 82.82959194570245, 78.72494917299197, 71.67732826552755, 580.4202311776896, 159.5880403047887, 140.67526551290246, 491.6746775571013, 357.57915201706754, 180.7525768221269, 236.14016210956441, 263.57463488708214, 183.50333280131056, 182.1773937074291, 378.8422216108197, 582.8930476748455, 391.87175692361166, 177.43503949437542, 195.51607071049563, 440.17892064335354, 343.74792250635966, 709.1642859862454, 1436.076001160071, 981.5734246444556, 531.7011589514179, 332.3062979523025, 258.98734387356745, 247.41964667035512, 246.6231235734363, 225.41016837899224, 197.42604782580213, 167.06707471997873, 157.11785389842746, 148.59880708333287, 139.30182954911723, 121.24181824077942, 119.67454987573183, 117.87618826632064, 115.28661340530013, 110.04766302208994, 105.1649344872037, 105.11991894523801, 99.24051483366009, 96.61836947131178, 95.86439421031714, 89.85924287426175, 89.05691097824322, 88.75594644067445, 85.90935567512962, 85.85232855798749, 84.92114901520675, 83.82138355543366, 83.53851530377393, 426.1747804426649, 157.46417941132574, 494.62303114520796, 174.58165252937906, 118.27230906002187, 138.56754377457378, 630.8088256745369, 161.43619137458546, 639.0624512848227, 250.29139778945787, 180.05545218793256, 614.2206507361709, 277.0150236433518, 1352.414456945817, 246.4608426226937, 279.1497314331425, 266.46971356441367, 195.1832084572424, 188.91907711957705, 173.79632649206982, 152.2911495565811, 133.32498065841233, 131.03254322456831, 120.55704269402446, 117.9520931255495, 116.47466465258971, 115.18616706546575, 109.54213389985944, 107.23340901658898, 105.71178270834692, 100.0422106096252, 85.83452399749922, 84.53705091255686, 82.82427894601894, 81.95208405048646, 80.59202051968218, 78.58842570292238, 77.44922544018308, 76.03858926204194, 73.75907771400112, 73.5358271412137, 73.25438863129929, 69.86223557438692, 69.60957539340951, 68.88516685382726, 315.89862907648086, 183.33423562672974, 134.8497177632374, 120.55944487493035, 173.19987564762766, 223.3523807388865, 204.76447234608617, 260.5170868292457, 794.0117432345262, 141.03788535819004, 245.8763074785739, 5302.956112468425, 145.56759940346097, 181.4815476638322, 856.5847971390114, 370.4070677733112, 834.7332012996164], \"Category\": [\"Default\", \"Default\", \"Default\", \"Default\", \"Default\", \"Default\", \"Default\", \"Default\", \"Default\", \"Default\", \"Default\", \"Default\", \"Default\", \"Default\", \"Default\", \"Default\", \"Default\", \"Default\", \"Default\", \"Default\", \"Default\", \"Default\", \"Default\", \"Default\", \"Default\", \"Default\", \"Default\", \"Default\", \"Default\", \"Default\", \"Topic1\", \"Topic1\", \"Topic1\", \"Topic1\", \"Topic1\", \"Topic1\", \"Topic1\", \"Topic1\", \"Topic1\", \"Topic1\", \"Topic1\", \"Topic1\", \"Topic1\", \"Topic1\", \"Topic1\", \"Topic1\", \"Topic1\", \"Topic1\", \"Topic1\", \"Topic1\", \"Topic1\", \"Topic1\", \"Topic1\", \"Topic1\", \"Topic1\", \"Topic1\", \"Topic1\", \"Topic1\", \"Topic1\", \"Topic1\", \"Topic1\", \"Topic1\", \"Topic1\", \"Topic1\", \"Topic1\", \"Topic1\", \"Topic1\", \"Topic1\", \"Topic1\", \"Topic1\", \"Topic1\", \"Topic1\", \"Topic1\", \"Topic1\", \"Topic1\", \"Topic1\", \"Topic1\", \"Topic1\", \"Topic1\", \"Topic1\", \"Topic1\", \"Topic1\", \"Topic1\", \"Topic1\", \"Topic1\", \"Topic1\", \"Topic1\", \"Topic1\", \"Topic1\", \"Topic1\", \"Topic1\", \"Topic1\", \"Topic1\", \"Topic1\", \"Topic1\", \"Topic1\", \"Topic2\", \"Topic2\", \"Topic2\", \"Topic2\", \"Topic2\", \"Topic2\", \"Topic2\", \"Topic2\", \"Topic2\", \"Topic2\", \"Topic2\", \"Topic2\", \"Topic2\", \"Topic2\", \"Topic2\", \"Topic2\", \"Topic2\", \"Topic2\", \"Topic2\", \"Topic2\", \"Topic2\", \"Topic2\", \"Topic2\", \"Topic2\", \"Topic2\", \"Topic2\", \"Topic2\", \"Topic2\", \"Topic2\", \"Topic2\", \"Topic2\", \"Topic2\", \"Topic2\", \"Topic2\", \"Topic2\", \"Topic2\", \"Topic2\", \"Topic2\", \"Topic2\", \"Topic2\", \"Topic2\", \"Topic2\", \"Topic2\", \"Topic2\", \"Topic2\", \"Topic2\", \"Topic2\", \"Topic2\", \"Topic2\", \"Topic2\", \"Topic2\", \"Topic2\", \"Topic2\", \"Topic2\", \"Topic2\", \"Topic2\", \"Topic2\", \"Topic2\", \"Topic2\", \"Topic2\", \"Topic2\", \"Topic2\", \"Topic3\", \"Topic3\", \"Topic3\", \"Topic3\", \"Topic3\", \"Topic3\", \"Topic3\", \"Topic3\", \"Topic3\", \"Topic3\", \"Topic3\", \"Topic3\", \"Topic3\", \"Topic3\", \"Topic3\", \"Topic3\", \"Topic3\", \"Topic3\", \"Topic3\", \"Topic3\", \"Topic3\", \"Topic3\", \"Topic3\", \"Topic3\", \"Topic3\", \"Topic3\", \"Topic3\", \"Topic3\", \"Topic3\", \"Topic3\", \"Topic3\", \"Topic3\", \"Topic3\", \"Topic3\", \"Topic3\", \"Topic3\", \"Topic3\", \"Topic3\", \"Topic3\", \"Topic3\", \"Topic3\", \"Topic3\", \"Topic3\", \"Topic3\", \"Topic3\", \"Topic3\", \"Topic3\", \"Topic3\", \"Topic3\", \"Topic3\", \"Topic3\", \"Topic3\", \"Topic3\", \"Topic3\", \"Topic3\", \"Topic3\", \"Topic3\", \"Topic3\", \"Topic3\", \"Topic3\", \"Topic3\", \"Topic3\", \"Topic3\", \"Topic4\", \"Topic4\", \"Topic4\", \"Topic4\", \"Topic4\", \"Topic4\", \"Topic4\", \"Topic4\", \"Topic4\", \"Topic4\", \"Topic4\", \"Topic4\", \"Topic4\", \"Topic4\", \"Topic4\", \"Topic4\", \"Topic4\", \"Topic4\", \"Topic4\", \"Topic4\", \"Topic4\", \"Topic4\", \"Topic4\", \"Topic4\", \"Topic4\", \"Topic4\", \"Topic4\", \"Topic4\", \"Topic4\", \"Topic4\", \"Topic4\", \"Topic4\", \"Topic4\", \"Topic4\", \"Topic4\", \"Topic4\", \"Topic4\", \"Topic4\", \"Topic4\", \"Topic4\", \"Topic4\", \"Topic4\", \"Topic4\", \"Topic4\", \"Topic4\", \"Topic4\", \"Topic4\", \"Topic4\", \"Topic4\", \"Topic4\", \"Topic4\", \"Topic4\", \"Topic4\", \"Topic5\", \"Topic5\", \"Topic5\", \"Topic5\", \"Topic5\", \"Topic5\", \"Topic5\", \"Topic5\", \"Topic5\", \"Topic5\", \"Topic5\", \"Topic5\", \"Topic5\", \"Topic5\", \"Topic5\", \"Topic5\", \"Topic5\", \"Topic5\", \"Topic5\", \"Topic5\", \"Topic5\", \"Topic5\", \"Topic5\", \"Topic5\", \"Topic5\", \"Topic5\", \"Topic5\", \"Topic5\", \"Topic5\", \"Topic5\", \"Topic5\", \"Topic5\", \"Topic5\", \"Topic5\", \"Topic5\", \"Topic5\", \"Topic5\", \"Topic5\", \"Topic5\", \"Topic5\", \"Topic5\", \"Topic5\", \"Topic5\", \"Topic5\", \"Topic5\", \"Topic5\", \"Topic5\", \"Topic5\", \"Topic5\", \"Topic5\", \"Topic5\", \"Topic5\", \"Topic5\", \"Topic5\", \"Topic6\", \"Topic6\", \"Topic6\", \"Topic6\", \"Topic6\", \"Topic6\", \"Topic6\", \"Topic6\", \"Topic6\", \"Topic6\", \"Topic6\", \"Topic6\", \"Topic6\", \"Topic6\", \"Topic6\", \"Topic6\", \"Topic6\", \"Topic6\", \"Topic6\", \"Topic6\", \"Topic6\", \"Topic6\", \"Topic6\", \"Topic6\", \"Topic6\", \"Topic6\", \"Topic6\", \"Topic6\", \"Topic6\", \"Topic6\", \"Topic6\", \"Topic6\", \"Topic6\", \"Topic6\", \"Topic6\", \"Topic6\", \"Topic6\", \"Topic6\", \"Topic6\", \"Topic6\", \"Topic6\", \"Topic6\", \"Topic6\", \"Topic6\", \"Topic6\", \"Topic6\", \"Topic6\", \"Topic6\", \"Topic6\", \"Topic6\", \"Topic6\", \"Topic6\", \"Topic6\", \"Topic6\", \"Topic6\", \"Topic7\", \"Topic7\", \"Topic7\", \"Topic7\", \"Topic7\", \"Topic7\", \"Topic7\", \"Topic7\", \"Topic7\", \"Topic7\", \"Topic7\", \"Topic7\", \"Topic7\", \"Topic7\", \"Topic7\", \"Topic7\", \"Topic7\", \"Topic7\", \"Topic7\", \"Topic7\", \"Topic7\", \"Topic7\", \"Topic7\", \"Topic7\", \"Topic7\", \"Topic7\", \"Topic7\", \"Topic7\", \"Topic7\", \"Topic7\", \"Topic7\", \"Topic7\", \"Topic7\", \"Topic7\", \"Topic7\", \"Topic7\", \"Topic7\", \"Topic7\", \"Topic7\", \"Topic7\", \"Topic7\", \"Topic7\", \"Topic7\", \"Topic7\", \"Topic7\", \"Topic7\", \"Topic7\", \"Topic7\", \"Topic7\", \"Topic7\", \"Topic7\", \"Topic7\", \"Topic7\", \"Topic7\", \"Topic7\", \"Topic8\", \"Topic8\", \"Topic8\", \"Topic8\", \"Topic8\", \"Topic8\", \"Topic8\", \"Topic8\", \"Topic8\", \"Topic8\", \"Topic8\", \"Topic8\", \"Topic8\", \"Topic8\", \"Topic8\", \"Topic8\", \"Topic8\", \"Topic8\", \"Topic8\", \"Topic8\", \"Topic8\", \"Topic8\", \"Topic8\", \"Topic8\", \"Topic8\", \"Topic8\", \"Topic8\", \"Topic8\", \"Topic8\", \"Topic8\", \"Topic8\", \"Topic8\", \"Topic8\", \"Topic8\", \"Topic8\", \"Topic8\", \"Topic8\", \"Topic8\", \"Topic8\", \"Topic8\", \"Topic8\", \"Topic8\", \"Topic8\", \"Topic8\", \"Topic8\", \"Topic8\", \"Topic8\", \"Topic8\", \"Topic8\", \"Topic8\", \"Topic8\", \"Topic8\", \"Topic8\", \"Topic9\", \"Topic9\", \"Topic9\", \"Topic9\", \"Topic9\", \"Topic9\", \"Topic9\", \"Topic9\", \"Topic9\", \"Topic9\", \"Topic9\", \"Topic9\", \"Topic9\", \"Topic9\", \"Topic9\", \"Topic9\", \"Topic9\", \"Topic9\", \"Topic9\", \"Topic9\", \"Topic9\", \"Topic9\", \"Topic9\", \"Topic9\", \"Topic9\", \"Topic9\", \"Topic9\", \"Topic9\", \"Topic9\", \"Topic9\", \"Topic9\", \"Topic9\", \"Topic9\", \"Topic9\", \"Topic9\", \"Topic9\", \"Topic9\", \"Topic9\", \"Topic9\", \"Topic9\", \"Topic9\", \"Topic9\", \"Topic9\", \"Topic9\", \"Topic9\", \"Topic9\", \"Topic9\", \"Topic9\", \"Topic9\", \"Topic9\", \"Topic9\", \"Topic9\", \"Topic9\", \"Topic10\", \"Topic10\", \"Topic10\", \"Topic10\", \"Topic10\", \"Topic10\", \"Topic10\", \"Topic10\", \"Topic10\", \"Topic10\", \"Topic10\", \"Topic10\", \"Topic10\", \"Topic10\", \"Topic10\", \"Topic10\", \"Topic10\", \"Topic10\", \"Topic10\", \"Topic10\", \"Topic10\", \"Topic10\", \"Topic10\", \"Topic10\", \"Topic10\", \"Topic10\", \"Topic10\", \"Topic10\", \"Topic10\", \"Topic10\", \"Topic10\", \"Topic10\", \"Topic10\", \"Topic10\", \"Topic10\", \"Topic10\", \"Topic10\", \"Topic10\", \"Topic10\", \"Topic10\", \"Topic10\", \"Topic10\", \"Topic10\", \"Topic10\", \"Topic10\", \"Topic10\", \"Topic10\", \"Topic10\", \"Topic10\", \"Topic10\", \"Topic10\", \"Topic10\", \"Topic10\", \"Topic11\", \"Topic11\", \"Topic11\", \"Topic11\", \"Topic11\", \"Topic11\", \"Topic11\", \"Topic11\", \"Topic11\", \"Topic11\", \"Topic11\", \"Topic11\", \"Topic11\", \"Topic11\", \"Topic11\", \"Topic11\", \"Topic11\", \"Topic11\", \"Topic11\", \"Topic11\", \"Topic11\", \"Topic11\", \"Topic11\", \"Topic11\", \"Topic11\", \"Topic11\", \"Topic11\", \"Topic11\", \"Topic11\", \"Topic11\", \"Topic11\", \"Topic11\", \"Topic11\", \"Topic11\", \"Topic11\", \"Topic11\", \"Topic11\", \"Topic11\", \"Topic11\", \"Topic11\", \"Topic11\", \"Topic11\", \"Topic11\", \"Topic11\", \"Topic11\", \"Topic11\", \"Topic11\", \"Topic11\", \"Topic11\", \"Topic11\", \"Topic11\", \"Topic11\", \"Topic11\", \"Topic11\", \"Topic11\", \"Topic12\", \"Topic12\", \"Topic12\", \"Topic12\", \"Topic12\", \"Topic12\", \"Topic12\", \"Topic12\", \"Topic12\", \"Topic12\", \"Topic12\", \"Topic12\", \"Topic12\", \"Topic12\", \"Topic12\", \"Topic12\", \"Topic12\", \"Topic12\", \"Topic12\", \"Topic12\", \"Topic12\", \"Topic12\", \"Topic12\", \"Topic12\", \"Topic12\", \"Topic12\", \"Topic12\", \"Topic12\", \"Topic12\", \"Topic12\", \"Topic12\", \"Topic12\", \"Topic12\", \"Topic12\", \"Topic12\", \"Topic12\", \"Topic12\", \"Topic12\", \"Topic12\", \"Topic12\", \"Topic12\", \"Topic12\", \"Topic12\", \"Topic12\", \"Topic12\", \"Topic12\", \"Topic13\", \"Topic13\", \"Topic13\", \"Topic13\", \"Topic13\", \"Topic13\", \"Topic13\", \"Topic13\", \"Topic13\", \"Topic13\", \"Topic13\", \"Topic13\", \"Topic13\", \"Topic13\", \"Topic13\", \"Topic13\", \"Topic13\", \"Topic13\", \"Topic13\", \"Topic13\", \"Topic13\", \"Topic13\", \"Topic13\", \"Topic13\", \"Topic13\", \"Topic13\", \"Topic13\", \"Topic13\", \"Topic13\", \"Topic13\", \"Topic13\", \"Topic13\", \"Topic13\", \"Topic13\", \"Topic13\", \"Topic13\", \"Topic13\", \"Topic13\", \"Topic13\", \"Topic13\", \"Topic13\", \"Topic13\", \"Topic13\", \"Topic13\", \"Topic13\", \"Topic13\", \"Topic13\", \"Topic13\", \"Topic13\", \"Topic14\", \"Topic14\", \"Topic14\", \"Topic14\", \"Topic14\", \"Topic14\", \"Topic14\", \"Topic14\", \"Topic14\", \"Topic14\", \"Topic14\", \"Topic14\", \"Topic14\", \"Topic14\", \"Topic14\", \"Topic14\", \"Topic14\", \"Topic14\", \"Topic14\", \"Topic14\", \"Topic14\", \"Topic14\", \"Topic14\", \"Topic14\", \"Topic14\", \"Topic14\", \"Topic14\", \"Topic14\", \"Topic14\", \"Topic14\", \"Topic14\", \"Topic14\", \"Topic14\", \"Topic14\", \"Topic14\", \"Topic14\", \"Topic14\", \"Topic14\", \"Topic14\", \"Topic14\", \"Topic14\", \"Topic14\", \"Topic14\", \"Topic14\", \"Topic14\", \"Topic15\", \"Topic15\", \"Topic15\", \"Topic15\", \"Topic15\", \"Topic15\", \"Topic15\", \"Topic15\", \"Topic15\", \"Topic15\", \"Topic15\", \"Topic15\", \"Topic15\", \"Topic15\", \"Topic15\", \"Topic15\", \"Topic15\", \"Topic15\", \"Topic15\", \"Topic15\", \"Topic15\", \"Topic15\", \"Topic15\", \"Topic15\", \"Topic15\", \"Topic15\", \"Topic15\", \"Topic15\", \"Topic15\", \"Topic15\", \"Topic15\", \"Topic15\", \"Topic15\", \"Topic15\", \"Topic15\", \"Topic15\", \"Topic15\", \"Topic15\", \"Topic15\", \"Topic15\", \"Topic15\", \"Topic15\", \"Topic15\", \"Topic15\", \"Topic15\", \"Topic15\", \"Topic15\"], \"logprob\": [30.0, 29.0, 28.0, 27.0, 26.0, 25.0, 24.0, 23.0, 22.0, 21.0, 20.0, 19.0, 18.0, 17.0, 16.0, 15.0, 14.0, 13.0, 12.0, 11.0, 10.0, 9.0, 8.0, 7.0, 6.0, 5.0, 4.0, 3.0, 2.0, 1.0, -5.0926, -5.376, -5.376, -5.5893, -5.6553, -5.757, -5.781, -5.8096, -5.8356, -5.8609, -5.98, -5.9876, -6.1029, -6.1399, -6.1514, -6.2444, -6.2671, -6.2753, -6.3106, -6.3253, -6.4353, -6.4827, -6.5016, -6.5713, -6.5808, -6.6213, -6.6308, -6.6484, -6.685, -6.7032, -4.9609, -3.3062, -3.2762, -4.8212, -5.1505, -5.3687, -5.4353, -5.603, -5.9142, -3.2378, -3.6916, -5.1526, -3.7492, -5.3745, -5.3075, -4.1627, -3.5668, -4.4668, -4.5155, -4.8448, -4.2467, -4.1394, -4.9342, -4.9831, -4.6885, -5.2293, -5.0049, -4.4454, -4.9395, -4.5701, -4.5578, -4.8458, -5.0005, -4.8179, -5.1816, -5.1978, -4.3668, -4.6006, -4.9081, -4.8453, -5.1357, -5.2532, -5.3681, -5.369, -5.6053, -5.6658, -5.8906, -5.9072, -5.9431, -5.9688, -5.9712, -6.1032, -6.1457, -6.2468, -6.3657, -6.3669, -6.4427, -6.4434, -6.4626, -6.5247, -6.5723, -6.5918, -6.6118, -6.6222, -6.6288, -6.6304, -5.0572, -3.9105, -5.5493, -5.2754, -5.3386, -5.4859, -5.0081, -4.8091, -5.5216, -4.6985, -4.5553, -3.4239, -4.6157, -3.7014, -5.3275, -3.3406, -3.517, -4.441, -5.0789, -5.3424, -3.9251, -5.1563, -4.87, -5.2075, -4.9046, -4.2751, -4.9586, -4.9985, -4.6606, -4.9971, -5.196, -5.1796, -4.5723, -5.0656, -5.1846, -5.2259, -5.3224, -5.3672, -5.4635, -5.6137, -5.7162, -5.7248, -5.7611, -5.7816, -5.805, -5.8273, -5.9716, -5.9801, -5.9856, -5.9881, -6.021, -6.0694, -6.0701, -6.1058, -6.1412, -6.1823, -6.1916, -6.2062, -6.2212, -6.2214, -6.2272, -6.309, -3.9141, -5.1917, -4.1136, -5.5109, -3.6879, -5.4264, -5.4731, -4.8591, -4.8865, -4.2184, -5.0391, -4.6992, -4.8001, -5.053, -5.5504, -4.9499, -4.0218, -4.7337, -4.7746, -4.2266, -4.1315, -4.736, -4.4472, -4.0027, -4.1484, -4.5805, -4.441, -5.0155, -4.7868, -4.5745, -4.7882, -4.8919, -5.0203, -3.2221, -3.5165, -4.2299, -4.2897, -4.3132, -4.487, -4.735, -4.8168, -4.8752, -5.1195, -5.1569, -5.1784, -5.1901, -5.2467, -5.3314, -5.5155, -5.5168, -5.5224, -5.5738, -5.6227, -5.6228, -5.6249, -5.6478, -5.6625, -5.6958, -5.7415, -5.7426, -5.7655, -5.7751, -5.7971, -3.9116, -4.3932, -4.5662, -4.5393, -4.1978, -4.8301, -5.3307, -4.2776, -4.6455, -5.4377, -5.32, -5.0607, -5.0158, -4.2601, -4.9661, -4.9287, -4.6709, -4.3221, -4.6179, -4.9896, -4.8338, -5.0539, -5.1217, -3.184, -3.28, -4.0321, -4.084, -4.0936, -4.0968, -4.6015, -4.8923, -5.0802, -5.1819, -5.249, -5.2547, -5.331, -5.3561, -5.3815, -5.3832, -5.5688, -5.5841, -5.6016, -5.6482, -5.6565, -5.7672, -5.7763, -5.7811, -5.8003, -5.8354, -5.8817, -5.9018, -5.902, -5.9981, -4.3441, -3.6261, -5.1432, -4.5228, -3.2972, -5.3207, -5.2917, -3.4172, -4.0964, -4.3504, -5.0856, -5.0788, -5.1064, -4.7153, -4.8621, -4.4585, -4.9105, -4.9927, -4.9362, -4.9695, -4.9421, -5.0526, -5.1031, -5.0401, -3.6216, -4.0043, -2.8934, -4.4174, -4.7795, -4.9392, -5.0057, -5.0936, -5.2656, -5.2669, -5.314, -5.401, -5.4114, -5.4922, -5.5418, -5.5539, -5.5859, -5.5883, -5.665, -5.6746, -5.6792, -5.7243, -5.7651, -5.7995, -5.848, -5.8823, -5.9419, -5.9429, -5.9443, -5.9544, -3.3101, -3.9957, -4.2595, -4.7397, -5.3781, -4.1672, -3.1271, -5.2627, -3.0478, -4.9298, -5.181, -3.559, -4.6594, -5.4638, -4.2798, -5.0926, -4.5554, -5.0638, -4.7652, -4.6991, -4.8069, -5.1283, -4.9743, -5.0064, -5.1221, -3.2206, -3.2686, -3.6315, -4.8528, -4.8869, -4.9313, -4.9476, -5.1093, -5.1237, -5.1513, -5.2724, -5.2892, -5.4078, -5.4364, -5.522, -5.5233, -5.5383, -5.5827, -5.6508, -5.7306, -5.7562, -5.7743, -5.7761, -5.8097, -5.8483, -5.8683, -5.8979, -5.9037, -5.922, -5.9362, -5.0313, -4.9747, -3.906, -4.3721, -3.1584, -4.4422, -4.2959, -3.7525, -4.3439, -5.1467, -4.073, -4.5745, -4.9025, -4.4017, -3.78, -4.9154, -4.248, -4.2288, -4.8962, -4.9577, -4.5736, -4.968, -4.9617, -5.0276, -5.0133, -3.3183, -3.4835, -3.9657, -3.9666, -3.9946, -4.2858, -4.406, -4.4734, -4.7028, -4.7279, -4.7921, -4.9279, -5.0043, -5.0488, -5.1866, -5.1884, -5.2101, -5.3109, -5.3354, -5.358, -5.5457, -5.5793, -5.5843, -5.62, -5.6334, -5.8024, -5.9011, -5.9108, -5.9214, -5.9373, -5.0126, -4.2947, -3.6336, -5.496, -4.4246, -4.2535, -5.2657, -3.9762, -4.2018, -4.6911, -4.1398, -4.3671, -3.6962, -3.8762, -4.4475, -4.2888, -4.4672, -3.8551, -4.0305, -4.2398, -4.3997, -4.4082, -4.5326, -3.6733, -4.0085, -4.0664, -4.3458, -4.3795, -4.3796, -4.3848, -4.7313, -4.7991, -4.9557, -5.044, -5.0947, -5.21, -5.26, -5.3106, -5.3339, -5.3942, -5.4172, -5.4536, -5.4976, -5.4937, -5.6393, -5.6534, -5.6889, -5.6932, -5.6937, -5.7039, -5.7328, -5.7556, -5.8322, -4.0996, -4.5335, -4.4171, -3.8443, -4.9731, -4.1117, -4.1852, -3.5183, -3.319, -3.9226, -4.5763, -4.423, -4.1702, -4.2665, -4.6013, -4.8603, -5.0392, -4.7207, -4.7602, -4.8, -4.6425, -4.7564, -4.8983, -2.9614, -3.5199, -3.5379, -3.883, -3.9172, -4.3332, -4.7845, -4.8273, -5.0298, -5.0971, -5.1127, -5.1943, -5.3207, -5.3328, -5.336, -5.4115, -5.5087, -5.645, -5.6621, -5.6796, -5.715, -5.7548, -5.7983, -5.8319, -5.843, -5.8609, -5.9014, -5.9093, -5.9427, -5.9473, -4.4693, -3.3934, -4.0173, -3.9082, -3.5993, -4.0146, -4.8617, -4.3094, -4.1627, -4.6904, -4.3403, -3.9332, -3.2422, -3.5363, -4.1037, -4.844, -4.7436, -4.652, -4.9887, -4.6844, -4.7018, -4.7734, -4.71, -2.3769, -3.8655, -3.8658, -3.8978, -3.9337, -4.7155, -4.7235, -4.8072, -5.0841, -5.1831, -5.2342, -5.2358, -5.412, -5.4486, -5.4668, -5.5044, -5.5842, -5.6217, -5.6579, -5.6593, -5.6628, -5.6854, -5.7212, -5.7688, -5.7751, -5.7974, -5.852, -5.8926, -5.9812, -6.0058, -4.5524, -2.9824, -4.4864, -3.447, -4.0234, -3.5445, -4.604, -4.8541, -4.5157, -3.9698, -3.838, -4.4641, -4.3865, -3.4467, -4.6345, -4.5149, -4.3669, -4.6434, -4.1968, -4.88, -4.3155, -4.0397, -4.1324, -4.6484, -4.6038, -4.1037, -4.2225, -4.2892, -4.3293, -4.4837, -4.5821, -4.603, -4.6068, -4.6877, -4.709, -4.8, -4.8328, -4.8707, -4.8788, -4.8797, -4.8995, -4.936, -4.9405, -4.9854, -5.0565, -5.0839, -5.095, -5.1584, -5.226, -5.2726, -5.2991, -5.3015, -5.3118, -5.3399, -5.3493, -4.3238, -4.5329, -3.6617, -2.6862, -3.5293, -4.7467, -4.3875, -4.6224, -4.2342, -4.6361, -4.7449, -4.3609, -4.8083, -4.8001, -4.8141, -4.8603, -3.3069, -3.585, -4.0769, -4.4124, -4.4772, -4.4845, -4.5518, -4.5759, -4.7397, -4.7824, -4.7885, -4.8287, -4.8484, -4.8616, -4.9454, -5.0069, -5.0301, -5.0366, -5.053, -5.071, -5.1264, -5.2117, -5.2131, -5.2211, -5.2354, -5.2381, -5.2498, -5.253, -5.3045, -5.3996, -3.5239, -4.716, -4.8677, -3.9765, -4.2391, -4.7429, -4.5758, -4.5533, -4.7761, -4.8012, -4.47, -4.3183, -4.497, -4.8351, -4.8237, -4.5988, -4.6679, -4.6922, -4.6394, -2.6502, -3.2641, -3.7353, -3.9854, -4.0313, -4.0345, -4.1249, -4.2581, -4.4259, -4.4877, -4.5438, -4.6089, -4.7488, -4.762, -4.7772, -4.7996, -4.8466, -4.8924, -4.8928, -4.9509, -4.978, -4.9859, -5.0513, -5.0604, -5.0638, -5.0968, -5.0974, -5.1085, -5.1216, -5.1251, -3.7883, -4.6136, -3.6996, -4.5608, -4.8844, -4.7871, -3.9741, -4.7409, -4.2057, -4.6536, -4.7928, -4.6338, -4.7791, -4.6571, -4.8328, -3.8998, -3.9465, -4.2592, -4.292, -4.3759, -4.5088, -4.6428, -4.6602, -4.7442, -4.7663, -4.779, -4.7902, -4.8409, -4.8624, -4.8768, -4.9325, -5.0873, -5.1027, -5.1234, -5.1342, -5.1511, -5.1766, -5.1914, -5.21, -5.2409, -5.2439, -5.2478, -5.2959, -5.2996, -5.3102, -4.0222, -4.4812, -4.7453, -4.9052, -4.688, -4.5735, -4.6323, -4.6348, -4.1456, -4.9302, -4.7317, -3.9176, -5.0042, -4.9689, -4.7855, -4.8996, -4.922], \"loglift\": [30.0, 29.0, 28.0, 27.0, 26.0, 25.0, 24.0, 23.0, 22.0, 21.0, 20.0, 19.0, 18.0, 17.0, 16.0, 15.0, 14.0, 13.0, 12.0, 11.0, 10.0, 9.0, 8.0, 7.0, 6.0, 5.0, 4.0, 3.0, 2.0, 1.0, 1.8889, 1.888, 1.888, 1.8872, 1.8869, 1.8863, 1.8862, 1.8861, 1.8859, 1.8858, 1.885, 1.885, 1.8842, 1.8839, 1.8838, 1.883, 1.8828, 1.8828, 1.8825, 1.8823, 1.8813, 1.8808, 1.8805, 1.8798, 1.8796, 1.8791, 1.879, 1.8788, 1.8783, 1.8781, 1.8452, 1.801, 1.7804, 1.7936, 1.7879, 1.7387, 1.7187, 1.7374, 1.7865, 1.2892, 1.2656, 1.5981, 1.1644, 1.6214, 1.5832, 1.0451, 0.7691, 1.0509, 1.0277, 1.1664, 0.7705, 0.6004, 1.1697, 1.1214, 0.8308, 1.342, 1.0944, 0.4033, 0.9884, 0.3798, 0.1269, 0.3864, 0.7037, -0.1898, 1.021, 1.0272, 2.2063, 2.2058, 2.205, 2.2049, 2.2042, 2.2037, 2.2032, 2.2032, 2.2019, 2.2015, 2.1998, 2.1997, 2.1994, 2.1992, 2.1991, 2.1979, 2.1974, 2.1963, 2.1948, 2.1948, 2.1938, 2.1938, 2.1935, 2.1926, 2.1918, 2.1915, 2.1912, 2.191, 2.1909, 2.1909, 2.1691, 2.0386, 2.0762, 1.9992, 2.0036, 2.0083, 1.9124, 1.8639, 2.005, 1.799, 1.7376, 1.4248, 1.6729, 1.2484, 1.8783, 0.9952, 1.01, 1.4605, 1.7372, 1.8816, 0.9884, 1.7486, 1.485, 1.7001, 1.3522, 0.4647, 1.1827, 1.1073, 0.0241, 0.2107, 0.9085, 0.5246, 2.4165, 2.4148, 2.4142, 2.414, 2.4135, 2.4132, 2.4126, 2.4116, 2.4107, 2.4107, 2.4104, 2.4102, 2.41, 2.4097, 2.4083, 2.4082, 2.4081, 2.4081, 2.4077, 2.4072, 2.4072, 2.4067, 2.4063, 2.4057, 2.4056, 2.4054, 2.4052, 2.4052, 2.4051, 2.4039, 2.3131, 2.3292, 2.221, 2.3207, 2.012, 2.2704, 2.2651, 2.0432, 1.9621, 1.7096, 1.9724, 1.7707, 1.7856, 1.8975, 2.1686, 1.8131, 0.9955, 1.5231, 1.5534, 0.9812, 0.7821, 1.384, 1.0636, 0.5243, 0.5363, 1.0633, 0.5088, 1.5014, 0.9154, 0.2742, -0.0483, 0.1646, 0.8644, 2.5362, 2.536, 2.5349, 2.5348, 2.5347, 2.5343, 2.5335, 2.5332, 2.533, 2.5319, 2.5317, 2.5316, 2.5315, 2.5312, 2.5307, 2.5294, 2.5294, 2.5294, 2.529, 2.5286, 2.5286, 2.5285, 2.5283, 2.5282, 2.5279, 2.5275, 2.5275, 2.5273, 2.5272, 2.5269, 2.4178, 2.3874, 2.3654, 2.3596, 2.288, 2.3004, 2.4293, 2.0896, 2.1825, 2.4374, 2.3707, 2.2168, 2.1389, 1.4398, 1.8602, 1.7638, 1.4032, 0.3061, 0.0668, 1.3642, 0.015, 1.3478, -0.1044, 2.6019, 2.6014, 2.6008, 2.6007, 2.6006, 2.6006, 2.5993, 2.5982, 2.5972, 2.5967, 2.5962, 2.5962, 2.5957, 2.5955, 2.5953, 2.5953, 2.5938, 2.5937, 2.5935, 2.5931, 2.593, 2.5919, 2.5918, 2.5918, 2.5915, 2.5911, 2.5906, 2.5904, 2.5904, 2.5891, 2.4219, 2.2665, 2.4846, 2.2527, 1.7489, 2.4197, 2.3855, 1.5644, 1.5458, 1.6607, 2.1404, 1.939, 1.9638, 1.3905, 1.5446, 0.2262, 1.2494, 1.3502, 1.0075, 0.5736, -0.0933, 0.8488, 1.2507, -0.0229, 2.7388, 2.7381, 2.7373, 2.737, 2.7356, 2.7348, 2.7345, 2.7339, 2.7328, 2.7328, 2.7324, 2.7317, 2.7316, 2.7309, 2.7304, 2.7303, 2.73, 2.7299, 2.7291, 2.729, 2.729, 2.7284, 2.7279, 2.7275, 2.7269, 2.7264, 2.7256, 2.7256, 2.7255, 2.7254, 2.7081, 2.5753, 2.5437, 2.4879, 2.6058, 2.2344, 1.919, 2.5587, 1.5804, 2.3617, 2.4724, 1.4226, 1.4733, 2.5597, 0.6774, 1.9587, 0.9554, 1.7844, 0.7525, 0.2507, 0.4253, 1.6865, 0.043, 0.2895, 1.0816, 2.7857, 2.7856, 2.7852, 2.7815, 2.7813, 2.7811, 2.781, 2.78, 2.7799, 2.7797, 2.7788, 2.7787, 2.7776, 2.7774, 2.7766, 2.7765, 2.7764, 2.7759, 2.7752, 2.7742, 2.7739, 2.7737, 2.7736, 2.7732, 2.7727, 2.7724, 2.772, 2.7719, 2.7716, 2.7714, 2.7302, 2.6874, 2.5757, 2.6153, 2.3609, 2.5458, 2.3602, 2.1322, 2.3196, 2.5637, 2.0859, 2.1968, 2.3536, 2.0265, 0.8482, 1.9782, 1.0479, 0.7528, 1.6751, 1.4784, -0.2378, 1.2328, 0.5559, 1.2249, -0.1646, 2.8151, 2.8149, 2.8141, 2.8141, 2.814, 2.8132, 2.8129, 2.8126, 2.8117, 2.8116, 2.8113, 2.8105, 2.8101, 2.8098, 2.8089, 2.8088, 2.8087, 2.8079, 2.8077, 2.8075, 2.8057, 2.8053, 2.8053, 2.8049, 2.8047, 2.8026, 2.8012, 2.801, 2.8009, 2.8006, 2.7097, 2.611, 2.5213, 2.7491, 2.5296, 2.3668, 2.6759, 2.1837, 2.2343, 2.4249, 2.1418, 2.2481, 1.8146, 1.8261, 2.1436, 1.9149, 2.0227, 1.1021, 0.9868, 0.8062, 0.8325, 0.5733, 0.1521, 2.8567, 2.856, 2.8559, 2.8551, 2.855, 2.855, 2.8549, 2.8535, 2.8531, 2.8522, 2.8517, 2.8513, 2.8504, 2.85, 2.8496, 2.8494, 2.8488, 2.8486, 2.8482, 2.8478, 2.847, 2.8462, 2.846, 2.8456, 2.8455, 2.8455, 2.8454, 2.845, 2.8447, 2.8436, 2.6395, 2.6746, 2.5715, 2.4082, 2.6335, 2.3668, 2.3808, 2.1239, 1.9769, 2.1301, 2.3988, 2.3134, 2.0325, 1.6772, 2.0131, 2.188, 2.4349, 1.7768, 1.6005, 1.5946, -0.0144, 0.7867, 0.3339, 2.8638, 2.8632, 2.8631, 2.8625, 2.8624, 2.8613, 2.8594, 2.8591, 2.8579, 2.8574, 2.8573, 2.8567, 2.8556, 2.8555, 2.8555, 2.8548, 2.8538, 2.8522, 2.852, 2.8518, 2.8513, 2.8508, 2.8502, 2.8497, 2.8495, 2.8492, 2.8486, 2.8485, 2.8479, 2.8479, 2.7938, 2.7388, 2.7167, 2.6683, 2.4749, 2.38, 2.5954, 2.364, 2.2892, 2.3681, 2.0935, 1.7106, 1.0936, 1.1484, 1.4395, 2.204, 1.9928, 1.8202, 2.3312, 1.4589, 1.5006, 1.3855, 0.2399, 3.0517, 3.0498, 3.0498, 3.0497, 3.0496, 3.0464, 3.0463, 3.0458, 3.0437, 3.0429, 3.0424, 3.0424, 3.0405, 3.04, 3.0398, 3.0393, 3.0382, 3.0377, 3.0372, 3.0372, 3.0371, 3.0368, 3.0362, 3.0354, 3.0353, 3.0349, 3.034, 3.0332, 3.0315, 3.031, 2.9809, 2.8199, 2.9018, 2.7555, 2.7839, 2.6564, 2.8345, 2.8672, 2.7728, 2.5637, 2.3968, 2.4576, 2.3714, 1.7855, 2.4279, 2.2698, 2.1415, 2.2504, 1.447, 2.4521, 1.2021, 0.2962, 0.4958, 1.2949, 0.3778, 3.1505, 3.1501, 3.1498, 3.1496, 3.1489, 3.1483, 3.1482, 3.1482, 3.1477, 3.1476, 3.147, 3.1467, 3.1465, 3.1464, 3.1464, 3.1462, 3.1459, 3.1459, 3.1455, 3.1449, 3.1447, 3.1446, 3.1439, 3.1432, 3.1427, 3.1424, 3.1424, 3.1423, 3.142, 3.1418, 2.8989, 2.8736, 2.5388, 2.0536, 2.1749, 2.8312, 2.6042, 2.642, 2.0485, 2.2211, 1.9632, -0.025, 2.0677, 1.6647, -0.1294, 1.6566, 3.2525, 3.252, 3.2505, 3.249, 3.2486, 3.2486, 3.2482, 3.2481, 3.2469, 3.2466, 3.2466, 3.2463, 3.2461, 3.246, 3.2453, 3.2447, 3.2445, 3.2444, 3.2443, 3.2441, 3.2435, 3.2425, 3.2425, 3.2424, 3.2423, 3.2422, 3.2421, 3.242, 3.2414, 3.2401, 3.0243, 3.1232, 3.0977, 2.7376, 2.7934, 2.9719, 2.8717, 2.7842, 2.9235, 2.9057, 2.5048, 2.2255, 2.4439, 2.8981, 2.8125, 2.2259, 2.4041, 1.6556, 1.0028, 3.3725, 3.3716, 3.3705, 3.3697, 3.3695, 3.3695, 3.3691, 3.3684, 3.3675, 3.3671, 3.3668, 3.3663, 3.3652, 3.3651, 3.365, 3.3648, 3.3644, 3.364, 3.364, 3.3634, 3.3631, 3.363, 3.3623, 3.3622, 3.3622, 3.3618, 3.3618, 3.3617, 3.3615, 3.3615, 3.0687, 3.2391, 3.0085, 3.1887, 3.2545, 3.1934, 2.4908, 3.0869, 2.2462, 2.7356, 2.9258, 1.8577, 2.5087, 1.0451, 2.5718, 3.3803, 3.3801, 3.3787, 3.3785, 3.3781, 3.3773, 3.3763, 3.3762, 3.3755, 3.3753, 3.3752, 3.3751, 3.3747, 3.3745, 3.3743, 3.3738, 3.3721, 3.3719, 3.3717, 3.3716, 3.3714, 3.371, 3.3708, 3.3706, 3.3702, 3.3701, 3.3701, 3.3694, 3.3694, 3.3692, 3.1342, 3.2193, 3.2624, 3.2145, 3.0694, 2.9296, 2.9577, 2.7144, 2.0892, 3.0327, 2.6753, 0.4183, 2.927, 2.7418, 1.3734, 2.0977, 1.2628]}, \"token.table\": {\"Topic\": [2, 3, 5, 4, 6, 3, 4, 2, 6, 6, 15, 3, 7, 7, 15, 1, 7, 13, 12, 14, 9, 8, 11, 15, 1, 5, 7, 9, 11, 6, 7, 15, 4, 6, 12, 14, 6, 14, 14, 9, 6, 2, 3, 10, 13, 9, 10, 10, 7, 13, 3, 5, 4, 7, 7, 7, 12, 1, 1, 2, 3, 8, 12, 15, 2, 13, 3, 15, 1, 6, 3, 10, 2, 3, 15, 1, 3, 4, 6, 7, 8, 3, 11, 14, 7, 14, 11, 12, 8, 9, 13, 9, 7, 11, 5, 10, 8, 15, 2, 13, 6, 7, 9, 13, 12, 2, 6, 10, 5, 6, 7, 8, 9, 10, 11, 15, 14, 4, 10, 2, 7, 10, 11, 12, 5, 8, 6, 4, 4, 1, 5, 7, 3, 4, 13, 8, 9, 3, 5, 6, 8, 1, 3, 4, 6, 7, 9, 11, 13, 3, 5, 9, 7, 8, 14, 1, 11, 1, 4, 1, 4, 6, 2, 9, 13, 15, 10, 7, 6, 1, 4, 6, 15, 2, 7, 9, 10, 6, 2, 10, 1, 4, 5, 7, 9, 5, 6, 8, 8, 11, 15, 4, 2, 3, 15, 9, 11, 12, 7, 13, 1, 2, 10, 2, 8, 6, 2, 6, 8, 10, 10, 3, 10, 11, 12, 7, 3, 9, 13, 7, 4, 15, 4, 8, 14, 1, 4, 1, 5, 9, 13, 7, 9, 8, 13, 2, 8, 13, 3, 1, 5, 4, 6, 13, 4, 5, 13, 4, 1, 1, 8, 6, 8, 14, 12, 2, 3, 15, 8, 8, 14, 6, 10, 6, 12, 2, 5, 15, 1, 2, 3, 6, 1, 2, 5, 4, 10, 4, 11, 6, 10, 13, 15, 11, 14, 4, 15, 8, 10, 5, 5, 4, 2, 1, 14, 15, 10, 6, 1, 2, 3, 8, 13, 8, 1, 4, 5, 2, 3, 6, 1, 2, 4, 5, 8, 15, 4, 10, 2, 3, 2, 5, 5, 1, 3, 6, 8, 2, 5, 14, 11, 13, 13, 7, 12, 11, 14, 9, 1, 3, 3, 11, 7, 9, 11, 2, 7, 9, 11, 9, 5, 12, 1, 2, 5, 6, 7, 9, 10, 2, 3, 7, 7, 13, 3, 10, 15, 1, 3, 12, 1, 11, 14, 13, 7, 6, 1, 7, 1, 2, 12, 1, 4, 7, 14, 9, 5, 1, 2, 3, 4, 5, 6, 8, 9, 10, 11, 11, 13, 8, 3, 4, 5, 6, 8, 2, 1, 4, 6, 7, 8, 9, 11, 14, 2, 9, 12, 9, 10, 10, 15, 4, 11, 14, 5, 7, 8, 6, 1, 7, 10, 12, 15, 1, 1, 7, 9, 11, 8, 4, 3, 4, 6, 8, 9, 11, 14, 12, 13, 8, 5, 4, 14, 15, 1, 13, 4, 5, 8, 1, 2, 7, 1, 2, 3, 7, 9, 10, 12, 5, 3, 4, 15, 12, 1, 2, 3, 6, 7, 9, 10, 13, 9, 8, 4, 5, 9, 8, 7, 7, 15, 1, 13, 2, 9, 1, 1, 7, 1, 3, 5, 12, 3, 10, 3, 4, 4, 2, 4, 5, 8, 1, 1, 5, 6, 12, 14, 1, 4, 1, 6, 11, 1, 2, 14, 2, 1, 2, 3, 7, 6, 2, 11, 2, 3, 4, 5, 8, 9, 11, 1, 2, 3, 5, 9, 10, 4, 1, 11, 3, 4, 5, 6, 8, 15, 3, 10, 10, 3, 4, 8, 1, 1, 15, 5, 9, 3, 6, 7, 10, 13, 15, 5, 3, 6, 5, 9, 8, 8, 14, 4, 3, 4, 5, 15, 1, 5, 2, 3, 4, 5, 8, 10, 14, 9, 1, 12, 7, 12, 4, 5, 8, 11, 7, 8, 10, 11, 12, 1, 8, 7, 9, 12, 5, 5, 1, 13, 12, 1, 3, 15, 2, 13, 14, 15, 7, 9, 10, 11, 7, 9, 10, 1, 7, 8, 7, 10, 6, 13, 1, 2, 3, 8, 10, 1, 7, 4, 8, 1, 6, 11, 3, 11, 11, 3, 1, 3, 15, 5, 10, 1, 2, 3, 4, 5, 6, 7, 10, 7, 8, 1, 9, 10, 10, 1, 4, 3, 7, 4, 10, 3, 5, 10, 13, 13, 5, 9, 1, 15, 1, 1, 2, 9, 10, 12, 12, 15, 2, 5, 1, 10, 11, 13, 3, 5, 7, 10, 1, 1, 11, 13, 1, 11, 15, 1, 4, 6, 7, 8, 11, 14, 1, 2, 3, 4, 5, 6, 7, 8, 9, 10, 11, 12, 14, 15, 1, 12, 1, 2, 3, 6, 8, 1, 5, 3, 1, 2, 3, 5, 8, 12, 15, 5, 9, 14, 13, 2, 4, 5, 9, 1, 2, 3, 4, 5, 6, 7, 8, 9, 10, 11, 13, 3, 4, 8, 11, 12, 13, 9, 1, 6, 7, 8, 9, 10, 11, 11, 11, 9, 12, 2, 3, 4, 5, 12, 14, 15, 15, 6, 9, 11, 8, 1, 4, 6, 1, 2, 3, 4, 6, 10, 12, 13, 14, 1, 2, 5, 8, 9, 11, 5, 9, 1, 2, 3, 4, 5, 7, 1, 2, 3, 5, 7, 9, 12, 14, 14, 14, 9, 4, 14, 1, 1, 2, 3, 5, 7, 8, 9, 10, 11, 2, 4, 9, 6, 7, 14, 11, 8, 4, 5, 3, 4, 1, 2, 3, 5, 4, 12, 3, 1, 2, 9, 9, 9, 12, 2, 13, 3, 2, 3, 14, 3, 7, 10, 12, 8, 13, 7, 7, 7, 10, 11, 10, 7, 1, 3, 6, 8, 2, 13, 4, 3, 5, 2, 1, 8, 9, 10, 14, 1, 2, 3, 5, 7, 9, 10, 3, 7, 8, 8, 15, 1, 12, 2, 3, 6, 10, 10, 2, 10, 1, 2, 5, 9, 10, 13, 2, 9, 2, 4, 1, 5, 13, 2, 3, 4, 5, 15, 2, 5, 7, 2, 4, 2, 3, 9, 10, 11, 3, 1, 15, 11, 3, 12, 7, 10, 11, 1, 2, 3, 5, 11, 12, 9, 4, 8, 3, 8, 1, 2, 6, 10, 7, 4, 10, 3, 2, 13, 2, 3, 4, 8, 10, 12, 15, 14, 6, 15, 12, 12, 5, 14, 1, 2, 3, 5, 10, 2, 4, 8, 13, 14, 8, 3, 4, 5, 14, 15, 2, 1, 2, 14, 6, 10, 1, 2, 3, 4, 6, 12, 15, 6, 1, 1, 5, 2, 13, 13, 15, 13, 12, 4, 5, 1, 2, 3, 14, 11, 2, 4, 6, 10, 12, 15, 14, 11, 1, 2, 6, 10, 14, 11, 14, 1, 2, 3, 5, 13, 1, 3, 5, 12, 1, 2, 10, 10, 5, 5, 6, 13, 2, 4, 5, 6, 13, 7, 3, 6, 7, 9, 13, 1, 6, 13, 13, 1, 6, 11, 12, 6, 7, 2, 4, 15, 15, 8, 6, 1, 7, 5, 7, 8, 10, 13, 3, 13, 2, 14, 1, 2, 3, 8, 3, 1, 11, 4, 12, 12, 1, 3, 5, 6, 7, 9, 11, 1, 3, 5, 7, 10, 2, 3, 4, 5, 9, 12, 7, 9, 5, 1, 2, 7, 9, 10, 12, 14, 6, 13, 11, 2, 4, 10, 5, 5, 9, 2, 2, 1, 2, 5, 9, 10, 13, 5, 8, 10, 6, 3, 4, 12, 14, 13, 7, 9, 11, 9, 1, 2, 3, 11, 14, 1, 15, 14, 1, 3, 8, 9, 11, 14, 7, 7, 1, 2, 3, 4, 7, 10, 11, 12, 15, 10, 1, 3, 4, 6, 7, 8, 9, 10, 11, 11, 9, 2, 4, 10, 5, 7, 8, 5, 7, 9, 10, 11, 5, 2, 14, 7, 8, 6, 1, 13, 15, 5, 8, 3, 4, 12, 4, 8, 10, 3, 2, 1, 2, 6, 1, 11, 2, 3, 12, 3, 15, 2, 3, 2, 7, 14, 14, 1, 2, 5, 7, 6, 11, 11, 1, 3, 8, 9, 11, 10, 11, 1, 3, 7, 13, 13, 9, 3, 11, 4, 1, 2, 3, 5, 6, 10, 11, 12, 14, 10, 7, 10, 8, 11, 12, 14, 1, 9, 1, 2, 3, 4, 10, 12, 14, 1, 7, 4, 6, 5, 7, 5, 1, 2, 12, 1, 2, 5, 9, 10, 12, 5, 10, 14, 10, 1, 3, 4, 5, 6, 7, 8, 10, 3, 1, 3, 4, 6, 7, 8, 9, 11, 6, 11, 12, 1, 7, 15, 3, 14, 7, 3, 14, 2, 9, 9, 13], \"Freq\": [0.7450499272721796, 0.12750854460027233, 0.12750854460027233, 0.8608377090094769, 0.13695145370605313, 0.27152415182546474, 0.7252553002706492, 0.9980825847944438, 0.9918222816409721, 0.9980696386581606, 0.9897021743523109, 0.7778689381716436, 0.21669206134781502, 0.9854728500605803, 0.9944845005282058, 0.7630361736355065, 0.1968255854254133, 0.03774737254733954, 0.9924437689335793, 0.9925668764895837, 0.9932415726425186, 0.983736465909519, 0.986762434287536, 0.9950509098137978, 0.22771100515177278, 0.006113047118168397, 0.4676481045398823, 0.1803348899859677, 0.11767615702474163, 0.8309343167346989, 0.16003179433409015, 0.9951350751147523, 0.997115023052002, 0.9913376789927616, 0.3032612526204103, 0.6934573976586716, 0.9983509166048992, 0.9994158107482756, 0.9928852522441522, 0.9925400724005485, 0.9873647282157542, 0.708654196934237, 0.12689400220585512, 0.16203387973978423, 0.9907913668969294, 0.5802951634712539, 0.41806210701692487, 0.9918805970532699, 0.9449521034719767, 0.05217526951685761, 0.989486664947026, 0.9917027627985271, 0.3497500203057611, 0.647037537565658, 0.9954425062839777, 0.7863997005205559, 0.2113114841534827, 0.9849039349785665, 0.2629123799429772, 0.18760581885378275, 0.1532554576552028, 0.06077371596671836, 0.33161310234013713, 0.0026423354768138414, 0.9857166933458221, 0.998438236063849, 0.993532287438771, 0.9925125653344078, 0.9001963345849953, 0.0927475011390601, 0.9828618753853555, 0.9890822265007041, 0.9952416702424544, 0.10381927550327187, 0.882463841777811, 0.15326104824248743, 0.25767395361884343, 0.016486248217319366, 0.16791549110232687, 0.03663610714959859, 0.36697167328181257, 0.9842901731966208, 0.9833589532369473, 0.9960689942972734, 0.1587673375793564, 0.8371368708729701, 0.9887710671314229, 0.9861366719218649, 0.15490788840899317, 0.08851879337656753, 0.7524097437008239, 0.9835607484662743, 0.9992030118781856, 0.9764012933274839, 0.9966011000381827, 0.9939813920997692, 0.9896559700282799, 0.9939379597938027, 0.960743726775518, 0.03394854158217378, 0.996732009478298, 0.002065052505825203, 0.9924966754560499, 0.9937415268331521, 0.9947032274787718, 0.9785741886495023, 0.9930906860295207, 0.9880190118921349, 0.3539291659714089, 0.267604979149114, 0.1309250166804805, 0.10610681296907075, 0.03560872706419663, 0.03632809528771575, 0.06905934945783587, 0.987339180954174, 0.9935536883578107, 0.9930475832111904, 0.9914243605759745, 0.9927879717885559, 0.19756721935242905, 0.585246291289271, 0.2124779528884614, 0.9896190344677951, 0.9928830157218874, 0.9973510734732566, 0.9933543140032723, 0.9959796159252238, 0.9971629568352939, 0.48440165551239306, 0.3897368829174555, 0.12487693406140694, 0.24389893075006125, 0.702064211878681, 0.05242687296496644, 0.9962094364036849, 0.9814168491173427, 0.18462270113659454, 0.515290225560346, 0.21217832817190715, 0.08542244380946912, 0.033842651800524384, 0.12126950228521238, 0.22984801014522813, 0.043713425242344, 0.10152795540157317, 0.10857850786001574, 0.1579323750691138, 0.2016458003114578, 0.8197370639311873, 0.17814319895278774, 0.9960910304329755, 0.9931733075827772, 0.9903328586810154, 0.990072155615304, 0.9942105026935161, 0.9897459468431207, 0.9965846690196285, 0.9861178026853782, 0.38184605632105934, 0.15957745637298001, 0.4587851870723176, 0.996976999632336, 0.998238955083661, 0.9908019698619558, 0.9932667609029857, 0.9842742977549339, 0.9958644285387884, 0.9930988398935928, 0.9962636595500914, 0.9951633656026717, 0.14930393897113073, 0.8460556541697408, 0.09159413668578724, 0.073918075220109, 0.6122344925839464, 0.22014731098162899, 0.9846991835917036, 0.3874962843157774, 0.6085126835181096, 0.19944740336297626, 0.07243089911602822, 0.12806622742254264, 0.11651927249100191, 0.4828726607735214, 0.42584461127227113, 0.4400394316480135, 0.13389168408470506, 0.897499990395425, 0.09476707973119396, 0.9884979035181268, 0.9918731326264384, 0.27551010360908773, 0.1928570725263614, 0.5234691968572667, 0.24203883126780604, 0.7550166527607681, 0.9901025642925272, 0.27792410754316155, 0.7193329842293593, 0.10792081781717998, 0.3748828408386252, 0.516883916913862, 0.9869849529979687, 0.9943872455406796, 0.9806960774037009, 0.9874336302163523, 0.8479126774286078, 0.14983903863083506, 0.999196057378219, 0.9890432477454637, 0.9870348220153801, 0.25607370575783894, 0.742613746697733, 0.9948100820197913, 0.992346013150566, 0.1483254030966122, 0.2045867628918789, 0.6444483031094186, 0.9878884908996144, 0.2184244996621834, 0.778730824882567, 0.7802764881268358, 0.1003675150702569, 0.11817465484078635, 0.9947029992978262, 0.9939930478778917, 0.993910238058174, 0.00999966376351111, 0.8333053136259257, 0.15666139896167403, 0.19861833230020418, 0.7994387875083219, 0.9945776674432062, 0.9940812198793906, 0.14254631604091644, 0.42763894812274933, 0.42763894812274933, 0.9907635805820434, 0.9912817918220266, 0.9981644659082546, 0.9917048390088985, 0.998159565909552, 0.9851819763458746, 0.9928829797168363, 0.8344143989406508, 0.16461236441686308, 0.9994932120254704, 0.990768136084035, 0.91348710059897, 0.08604722242249227, 0.9889976750426465, 0.9948178398682723, 0.9959703102932915, 0.9949008670910076, 0.3118135313968379, 0.6874629038670441, 0.9876580592175749, 0.989901906601235, 0.9970161103345129, 0.9904379021369669, 0.9969556093970929, 0.985451407788653, 0.23981213498901488, 0.756017917084013, 0.7213645895995366, 0.2032012928449399, 0.07112045249572896, 0.25851641234784944, 0.48578358803826654, 0.1676095420716826, 0.08664561073197152, 0.11458772972639905, 0.8158646356519613, 0.06416912864678347, 0.3217592575295841, 0.6767669716705585, 0.9949821549946946, 0.9835798865550716, 0.993303776245542, 0.1350628337591967, 0.8530284237422949, 0.9919281370909113, 0.8620717828762229, 0.13569648434162768, 0.848033075693785, 0.14584008308109678, 0.9934268633787662, 0.996996274096529, 0.9870972946154566, 0.9939487845257671, 0.9930780434243203, 0.9925142868498649, 0.997569733353278, 0.9874999153748915, 0.9921199482269172, 0.9892689956862939, 0.9836752854134226, 0.16607902650503137, 0.4248533236175221, 0.4081166775356197, 0.9983144724683782, 0.9907044416537802, 0.9970453376616765, 0.223605315704841, 0.24393307167800837, 0.5285216553023514, 0.13041938874619607, 0.864028450443549, 0.989795454384155, 0.1565844851413471, 0.30506977277538316, 0.13768635762428796, 0.037796255034118265, 0.0863914400779846, 0.2753727152485759, 0.9856281623708321, 0.9968628520523443, 0.9924053249959767, 0.9943327945491767, 0.9930922878310197, 0.9973918098800587, 0.9922224270925736, 0.38465044690260497, 0.14171332254306498, 0.34865976181230274, 0.12146856217976998, 0.3236227881396716, 0.1438323502842985, 0.5273852843757612, 0.9753486966316814, 0.9948439240253885, 0.9914394402853822, 0.9985107067531664, 0.986479609488351, 0.9937916791570343, 0.9897575089288645, 0.9976593560128342, 0.9831899397224524, 0.9927145186650844, 0.9923211257035378, 0.9879428169055061, 0.21182650582259405, 0.11443500889266575, 0.6732187225281294, 0.9855410142074006, 0.22919923139098383, 0.15619503176274455, 0.6128957224603345, 0.9821042984669186, 0.9960253948554049, 0.9936696916684901, 0.19106131116758643, 0.22176759331951998, 0.09553065558379321, 0.2820428879140562, 0.07960887965316102, 0.06254983401319794, 0.06709891285052143, 0.2520041090498926, 0.19169543337983286, 0.5535474874001914, 0.988539239120091, 0.9905503137195851, 0.09617524818278442, 0.26791676279489945, 0.6320087737725834, 0.8561154555353545, 0.14078343046581385, 0.9849964818500774, 0.9544647438597111, 0.004460115625512668, 0.03791098281685768, 0.9957862773789408, 0.9901247833680884, 0.9908947092423946, 0.15503629125271143, 0.8420074438724846, 0.32044026738827347, 0.34196237489942616, 0.3371796843413922, 0.14201038845583036, 0.2393889405398283, 0.16635502647682984, 0.45037580338849054, 0.9977718309661361, 0.9952595180611343, 0.4215632371739805, 0.05363082603100935, 0.08481153883973572, 0.023697341734632036, 0.05861974008040557, 0.0935421384261791, 0.06236142561745273, 0.019955656197584874, 0.10850888057436775, 0.07233925371624517, 0.9847857406173773, 0.9915769636300219, 0.9962284785300164, 0.5925226871916686, 0.19836629092938468, 0.0669808255086234, 0.13911402221021782, 0.980258342421919, 0.9972779258200185, 0.43160275361939954, 0.050415136462664906, 0.13710457842895457, 0.1075932790361751, 0.01844456212048716, 0.045496586563868326, 0.15739359676149042, 0.05225959267471362, 0.9943916777972331, 0.987521496758274, 0.9898445715439079, 0.983569575348048, 0.9950159623397561, 0.9947016771063292, 0.9958813091911648, 0.9949592712696944, 0.9892300012800913, 0.9909831568077221, 0.27264022134587357, 0.6264924235181775, 0.0986145481463798, 0.9943950796216477, 0.030353095323241625, 0.49615636586068035, 0.22764821492431217, 0.11090554060415209, 0.1342540754681841, 0.9951992487518077, 0.4183284255661939, 0.1426951189249116, 0.4378422879832758, 0.9966602997537239, 0.9936420716735976, 0.9936188579569379, 0.22256490860039604, 0.11830692815967896, 0.034013241845907705, 0.37118798710099277, 0.06876590199281339, 0.08725135951776324, 0.09760321573173514, 0.20330097688113757, 0.7942521215441052, 0.9850381769761205, 0.9888597538540607, 0.9869742410269181, 0.9914828642925944, 0.9900620224966916, 0.29092522909355184, 0.7081010293031733, 0.20916309835737343, 0.2582404733909471, 0.5316715628637145, 0.3337167320569378, 0.6247177224105875, 0.041380874775060285, 0.27481101592232565, 0.1748283852578824, 0.08473104293596886, 0.043777705516917245, 0.04829669447350225, 0.04038846379947849, 0.33271056192857107, 0.9912604546781303, 0.20666739263506084, 0.789654515142919, 0.989708687560541, 0.9964716674385513, 0.13495157762177898, 0.06649074079905169, 0.09013189308315896, 0.08619170103580774, 0.1758310701130478, 0.41421268897779606, 0.008372908100621324, 0.023641152284107268, 0.9841397828685682, 0.9837519885243009, 0.1876811321569657, 0.19118919070195572, 0.6209263624632323, 0.9985798363940491, 0.9927733454785471, 0.26558910523461493, 0.7274832012948148, 0.31337320741596447, 0.6817984647833821, 0.9963326422829726, 0.9932888594359466, 0.9965562319081656, 0.9060968986437251, 0.09208301815485011, 0.31562960873207957, 0.3991295052220477, 0.06011992547277706, 0.2237797225931146, 0.9942107601475332, 0.9921452936653817, 0.9944991850336617, 0.9991960088785512, 0.997527360024265, 0.22171515284877155, 0.1742047629526062, 0.09238131368698814, 0.509416958331106, 0.9823152842067873, 0.3176528359503401, 0.042249391973690556, 0.16586798330411848, 0.14865526805557788, 0.3239120051316276, 0.9897464046750247, 0.9976010792487673, 0.42289566991857225, 0.07012842767493911, 0.5057747208071367, 0.2391390994354484, 0.665003249115014, 0.09500046415928771, 0.9880723876279739, 0.14554198490830064, 0.12335570672105968, 0.21121336834253385, 0.5200463607089278, 0.9854061417514002, 0.9922947468349264, 0.9816427071349311, 0.029912438104428778, 0.19742209148922993, 0.08973731431328634, 0.3469842820113738, 0.20938706673100146, 0.12563224003860088, 0.9872809897825393, 0.1705580146509336, 0.47377226291925995, 0.09746172265767633, 0.17326528472475794, 0.030682394170009217, 0.053242978118545406, 0.9930022746711407, 0.44558348613279747, 0.5507211626360418, 0.08668540586054402, 0.07569711497681308, 0.1819172601862121, 0.19046370865133616, 0.4065667626980445, 0.05860421804656497, 0.995875319582411, 0.9926670065460919, 0.98142401102333, 0.296659507209557, 0.13635281697830573, 0.5656799298964845, 0.9938424875348421, 0.9947369828799132, 0.9863412870738201, 0.9928787573828424, 0.9900061544398784, 0.5312973337097686, 0.150265912564379, 0.14311039291845618, 0.05187751743294037, 0.035777598229614044, 0.0876551156625544, 0.9936473216805273, 0.31158575515485154, 0.6847640433054295, 0.19395889144612635, 0.8029480989974048, 0.9978407818187863, 0.9969436894846307, 0.9881321846150556, 0.9970706961151167, 0.5226216500810492, 0.25653074897271017, 0.19438976009112197, 0.023900380339072373, 0.28444124777496643, 0.7146809967679187, 0.15037730383608114, 0.08795653620600972, 0.3092665305308084, 0.25819499337893176, 0.03830365286390746, 0.12342288145036849, 0.02979173000526136, 0.9939383563350038, 0.7447082510276505, 0.2531586122473599, 0.9833830499046952, 0.9948890188311249, 0.15741567666278444, 0.20371440509301517, 0.6389224523371839, 0.9724117396478029, 0.10565494560976492, 0.4518780750694561, 0.17554975578237864, 0.12190955262665183, 0.1430405417486048, 0.18230505191424434, 0.8154455700488497, 0.9929185938976575, 0.27019370775114204, 0.7237331457619877, 0.9986775892989543, 0.9970380105303128, 0.5252846400115097, 0.47249221387969964, 0.9956904466275407, 0.8948225765286973, 0.10506798883850822, 0.9871501094610751, 0.21111858983763857, 0.11899411427212356, 0.15737931242442146, 0.5105231354255624, 0.1622735785613141, 0.17220869561608843, 0.2616247491090574, 0.4023722407183605, 0.1004827022188988, 0.2822381782913187, 0.6161953944894235, 0.29558043830573655, 0.6525801884672106, 0.04990319088278669, 0.9921262578231441, 0.996346382611749, 0.99158229883405, 0.9935351588268762, 0.4049391608259979, 0.015752782000096027, 0.4920427789441759, 0.03057892976489229, 0.05559805411798598, 0.901030285438134, 0.0967207651035285, 0.32223868567691794, 0.6748772473610923, 0.9870186943165394, 0.9875106062293044, 0.981795748523854, 0.8552522251854421, 0.13593412850629544, 0.9910605929911755, 0.9952259184980136, 0.13828091184817726, 0.36603770783341033, 0.49211736275380724, 0.8875512823727407, 0.1065061538847289, 0.4288894403179087, 0.13574734125729812, 0.23721960631674024, 0.0825307755816796, 0.050059650762658114, 0.050510638607366744, 0.007215805515338106, 0.007666793360046738, 0.9932872049419468, 0.9991479507838166, 0.9970582614690937, 0.117076238866975, 0.8820501102987631, 0.9852074772191343, 0.09091902865543376, 0.9026960702218066, 0.9894925342389107, 0.9915551099281606, 0.9949569463620553, 0.9844176640745377, 0.1606753481641837, 0.09152393249858565, 0.1505060223310075, 0.5959224938241243, 0.9982033058109302, 0.3392349599524647, 0.6567240891387458, 0.9916879228524063, 0.9915218345889405, 0.9969993374644892, 0.1801617347991965, 0.260415598482475, 0.33903162821303345, 0.20472924408999604, 0.013102671621759746, 0.9841027727478043, 0.9926541050110836, 0.8209475968650708, 0.17750218310596125, 0.2883596431830307, 0.1633187359620705, 0.10207420997629406, 0.44402281339687916, 0.0319725256403503, 0.8046418952821492, 0.15986262820175148, 0.989179452221714, 0.9920979221371701, 0.5413193555794925, 0.4561925214359433, 0.9847256526506145, 0.205286636361315, 0.5188840133795202, 0.27455513329304704, 0.32398780431997787, 0.00814039709346678, 0.1335025123328552, 0.01953695302432027, 0.14978330651978874, 0.14489906826370869, 0.21979072152360307, 0.17133437824993536, 0.11253006746212603, 0.15208933108301595, 0.08446437367703521, 0.09275043565168108, 0.019245047166919417, 0.03234237093329513, 0.06976329598008288, 0.002405630895864927, 0.1796204402245812, 0.03421341718563452, 0.037420925046787755, 0.0026729232176276965, 0.009087938939934169, 0.4215189794298817, 0.5772393667351884, 0.22345895935187154, 0.2032465911692902, 0.3548393525386503, 0.13474912121720897, 0.08197238207380213, 0.9911762470678109, 0.9908305334251847, 0.9925355872917281, 0.4025238237521563, 0.08625510508974778, 0.19766794916400532, 0.0011979875706909413, 0.04672151525694671, 0.14375850848291297, 0.11979875706909414, 0.19438456083778463, 0.161061493265593, 0.6386921284670066, 0.9965471702371578, 0.0767088101737051, 0.1733050896517041, 0.2358085646080564, 0.5113920678247006, 0.12478534355724354, 0.055067216387609495, 0.046478751446422696, 0.10735581176483504, 0.04117411133568967, 0.3134789703533183, 0.1439830887198964, 0.028544015833944374, 0.056582827847818935, 0.004294232470593401, 0.07754878638071613, 0.0007578057301047179, 0.19386060693424953, 0.07548554606289362, 0.13038412501772534, 0.061760901324185685, 0.1784203816032031, 0.3568407632064062, 0.9959359944405047, 0.14252604649465733, 0.13218141408778705, 0.16551411850992465, 0.14827306449847416, 0.055171372836641544, 0.24482296696259687, 0.11034274567328309, 0.9893133670623339, 0.9917345748883378, 0.9944563135744143, 0.9945583621294829, 0.014267397084015294, 0.1395034381548162, 0.20291409186155085, 0.003170532685336732, 0.22510782065890797, 0.41375451543644354, 0.9912429376279858, 0.9953794263563827, 0.778432148717372, 0.22095235662283486, 0.9779774490361826, 0.9966132395314702, 0.7352979475360546, 0.058241421587014224, 0.20627170145400872, 0.450951638230558, 0.2122772345817017, 0.16168266053632202, 0.02749705111161939, 0.02199764088929551, 0.0010998820444647756, 0.02199764088929551, 0.05719386631216833, 0.0450951638230558, 0.2381687623267387, 0.0677792525198624, 0.2033377575595872, 0.13273436951806386, 0.3068893933538214, 0.049893060882676483, 0.8355567063804363, 0.1628264350895209, 0.22582157408171025, 0.4569973556381612, 0.11716265768256096, 0.08031311212111034, 0.06740002350555926, 0.052282261223938496, 0.4632358791228138, 0.2730769979554535, 0.10724076437926715, 0.01658362335761863, 0.09286829080266434, 0.011055748905079087, 0.03648397138676099, 0.9902007874292549, 0.9961876752014205, 0.9986812912862543, 0.9899963251517243, 0.24158151693201851, 0.7495221422762626, 0.9932953703259001, 0.1326825222859467, 0.15808981378751097, 0.14773869502761441, 0.12515443591511285, 0.07998591769010972, 0.0056460647781253915, 0.07904490689375548, 0.09880613361719436, 0.17220497573282445, 0.1793212462423617, 0.06691091277700065, 0.7494022231024072, 0.7648879340421635, 0.13008298197995977, 0.09886306630476942, 0.9951131435555794, 0.9886459772838865, 0.9982984556073917, 0.9929101043419026, 0.16148469888177014, 0.8367843487509907, 0.5474556128835176, 0.3018083070191869, 0.15044756000426945, 0.00022829675266201736, 0.9969842223276955, 0.9952075913187683, 0.9914482311899863, 0.3522062201360402, 0.5861243135094103, 0.061137683495312636, 0.9968635758155938, 0.9958924952305094, 0.9888533190789837, 0.36635245444551884, 0.632027898509063, 0.9946727470784331, 0.2581100643396677, 0.002346455130360616, 0.7367869109332333, 0.9887202470893514, 0.17725203766730624, 0.822449454776301, 0.9894306145658981, 0.11905654060111842, 0.8772587202187674, 0.9864899455825338, 0.9914139900871899, 0.11694069727915078, 0.05011744169106462, 0.8297220902187366, 0.9930975278009715, 0.9988740143063031, 0.1730190177804214, 0.5446895004198451, 0.1238901608798079, 0.1559307197280341, 0.9800320952424447, 0.9882983908382014, 0.99416131044653, 0.9873456175591289, 0.9955490448982963, 0.9791002536248282, 0.10296628831932983, 0.13216568351436367, 0.22898473074000217, 0.46257989230027285, 0.07069327257745034, 0.13190445977087067, 0.29187369821639464, 0.22171175152976133, 0.286260742481464, 0.019645345072257334, 0.019645345072257334, 0.028064778674653332, 0.980449978502224, 0.9947400979469518, 0.9906736115226202, 0.9897958492592046, 0.9902775251887744, 0.9872045049029801, 0.9909823647697802, 0.0999960632633163, 0.8999645693698467, 0.968571149218831, 0.0304263188236282, 0.9852787305906282, 0.2309082071701228, 0.7654179459898515, 0.26877230697729126, 0.145431590761685, 0.15463612182255113, 0.42893114743636207, 0.9332464918215476, 0.06339032774636927, 0.36704927948032334, 0.6311135093222826, 0.9807707286310187, 0.9884067811829348, 0.36576035891197783, 0.27488822005185914, 0.356673145025966, 0.132732053831528, 0.15169377580746057, 0.6731411301456064, 0.03476315695587638, 0.006320573991977524, 0.24775212658434279, 0.6312588430779145, 0.11878526617057532, 0.718417504563007, 0.2760585781422666, 0.11438129426592179, 0.25805535901457965, 0.11089405968464369, 0.31524600614754056, 0.20086471188161875, 0.994248317527776, 0.29070203297414327, 0.7019390552302484, 0.9912710160322834, 0.9837176005191632, 0.9961069925991582, 0.9877793141655288, 0.2321884839809336, 0.7635428992449932, 0.0981601425939673, 0.2682122206088684, 0.42029131476853604, 0.14240133362223426, 0.04424119102826695, 0.026268207173033502, 0.9836770607018991, 0.056416431981500065, 0.930871127694751, 0.12494355157367576, 0.8676635525949705, 0.19594603304097138, 0.6238741511764262, 0.03603605205351198, 0.13963970170735893, 0.9934659862234847, 0.9970836096475642, 0.9779003561134051, 0.9843443720106764, 0.9908750100713257, 0.9952917089171985, 0.19949256063951734, 0.1689819337181794, 0.03755154082626209, 0.11500159378042764, 0.0844909668590897, 0.3942911786757519, 0.9895822912821068, 0.9942621910205597, 0.34185617845701427, 0.6544103987605702, 0.9926404372890357, 0.9912107669685581, 0.9916534540784636, 0.989152890347235, 0.1250916967058369, 0.3321018496615139, 0.16826493716183372, 0.2977846585298241, 0.07527641925660981, 0.18512412492401298, 0.4618150213158173, 0.2587756584959321, 0.09355735345622161, 0.9943634642751339, 0.9934310600822545, 0.09948475815854839, 0.08434577322137798, 0.7050441556453646, 0.11029831882795582, 0.9828762664635313, 0.9961197781633359, 0.4476291515497229, 0.1263469379374218, 0.42235976396223857, 0.822692562131741, 0.17565597948218253, 0.2902076164552962, 0.35903155711663126, 0.08717699150435775, 0.05505915252906805, 0.1353537499672923, 0.044735561429867794, 0.028676641942222945, 0.9921531878785468, 0.9909518690274927, 0.839980802436029, 0.15473330571190008, 0.37181119511740623, 0.6260086448405309, 0.9941753477790403, 0.9812880576668598, 0.990611931923448, 0.9964145173261506, 0.9966088880927623, 0.9966991896005105, 0.2904671534847004, 0.6326276139454916, 0.009846344185922049, 0.06646282325497382, 0.9973391300452558, 0.09077535558338518, 0.30506471958350756, 0.6026888362503442, 0.22324515058392388, 0.7745930224805844, 0.9883824302759655, 0.9894149401077061, 0.998320528962841, 0.1332879422770226, 0.6022640354739539, 0.1653757802326021, 0.051834199774397675, 0.04442931409234086, 0.1206623631547875, 0.8763897955452987, 0.05336668229029242, 0.8157478578658984, 0.129604799847853, 0.9976198285557585, 0.9917904974326256, 0.09311198312157906, 0.6408295308955735, 0.26290442293151733, 0.993719310994187, 0.16599904410523303, 0.22653987195537684, 0.6054082785014381, 0.9991209639353784, 0.9933151199646608, 0.11586444482035899, 0.8762248639539648, 0.9864700535573011, 0.03738450086671635, 0.6398501109880299, 0.14091081095916164, 0.18117104266177925, 0.9899843531011686, 0.9875285125690192, 0.18375728017485432, 0.38379685099811345, 0.074433328678422, 0.26516873341687835, 0.0930416608480275, 0.9935605923340828, 0.9850166873787319, 0.9877590234665433, 0.9924045209966625, 0.3056552252905864, 0.14339380939558374, 0.5471605884831485, 0.9904463688113695, 0.18862860885807514, 0.8093295867243908, 0.1542222459814687, 0.8419017690463783, 0.9900478584720772, 0.9927133866301017, 0.9962371400044719, 0.9931154988077363, 0.3460755105515241, 0.653356079528767, 0.18778390114306956, 0.1690055110287626, 0.06259463371435652, 0.5617868375863497, 0.017213524271448042, 0.9161210825918591, 0.08204069396345007, 0.8754209814628333, 0.11638544840257321, 0.16366505500010614, 0.23380722142872307, 0.08992585439566272, 0.5107788529673642, 0.9912768481691876, 0.9975475253755802, 0.9886670763421082, 0.39846010686386846, 0.5994532581137844, 0.9941188662091703, 0.48612774810368914, 0.04971761060151366, 0.1635156970894227, 0.08286268433585611, 0.11269325069676431, 0.06739498325982964, 0.03645958110777669, 0.13629892318405984, 0.024339093425724972, 0.2677300276829747, 0.44540540969076703, 0.12169546712862486, 0.05005677878511495, 0.1797493420010946, 0.5073937122309379, 0.17064810949471007, 0.04323085440532655, 0.05005677878511495, 0.9928166656654598, 0.9926568336956958, 0.9920354055605646, 0.20281669163988578, 0.18045894610478025, 0.027148691006913844, 0.12456458226701646, 0.35133600126594383, 0.1133857094994637, 0.993599876765718, 0.987481586402023, 0.9884431167055252, 0.9843899087378694, 0.11075344744023582, 0.8874119976148895, 0.98923612104144, 0.9960929162743694, 0.9870874049100441, 0.9960582266819998, 0.9964258054620297, 0.9908106439178271, 0.991137977905886, 0.0243719691518602, 0.3474746459079497, 0.47977962130376217, 0.04317320249758092, 0.10514763834088257, 0.11975745780077243, 0.7441240096358676, 0.134872476746501, 0.9879333646108857, 0.6654501147778341, 0.3334628069618415, 0.9857294790723856, 0.9974733773362061, 0.9826830387419733, 0.21023960913746778, 0.6371285715934237, 0.15126996267208048, 0.9946592057753092, 0.4832119718243074, 0.2953708784656232, 0.19456170492786787, 0.02654641569827558, 0.9937439895052949, 0.36265563739253037, 0.6357666729597445, 0.9904799157626851, 0.19283603415190026, 0.2528294669991581, 0.08570490406751122, 0.2842545984905789, 0.1328426013046424, 0.051422942440506735, 0.9920987717655376, 0.9818580702171817, 0.32547883923493004, 0.2973813032870711, 0.0011314444005849247, 0.0005657222002924624, 0.048652109225151764, 0.17009380822126702, 0.06354946049951994, 0.04167486875487806, 0.051480720226614075, 0.9979186839066713, 0.22182687704652948, 0.03373617088415969, 0.006007811253343507, 0.09889781601657772, 0.07394229234884316, 0.1377175194997204, 0.07995010360218667, 0.06608592378677858, 0.28190498957996457, 0.9976217638768894, 0.9887527280179655, 0.002074829066812785, 0.13278906027601825, 0.8631288917941187, 0.16943508057967474, 0.2695558100131189, 0.5591357659129267, 0.09737089810437727, 0.10223944300959613, 0.18987325130353566, 0.1606619818722225, 0.4479061312801354, 0.9905662445164685, 0.9854877739836896, 0.9906546126972567, 0.985901686528191, 0.9921754660652301, 0.9915708230319209, 0.2930650008486535, 0.6988473097160199, 0.9936471534462165, 0.9873275422375164, 0.9848794686364819, 0.09840585947722635, 0.8972298952335345, 0.9900814960042243, 0.24568276777069345, 0.7499789753000116, 0.9896614820072808, 0.9902965459172085, 0.9971227502573538, 0.18524920451020102, 0.8122465120831891, 0.9933222429179326, 0.06460634342828754, 0.9321772408938631, 0.9947424561648729, 0.988697233867345, 0.9921490451162953, 0.1472720024587893, 0.8509049030952271, 0.9853179510722688, 0.9832642057264019, 0.9796453059740261, 0.16611138444298895, 0.8305569222149448, 0.9888398716269258, 0.00851838281622041, 0.8442663857854007, 0.14670548183490706, 0.9956963260011835, 0.9907149737948776, 0.9994781124022608, 0.9870484280940867, 0.11401062868591134, 0.6328753265830181, 0.10703038611330454, 0.1442583465005409, 0.9810824745168869, 0.1930804527266254, 0.8059010200763496, 0.5766123003157362, 0.09169369913277763, 0.32974464880441184, 0.994746904212745, 0.9868058648567531, 0.9928100887414573, 0.9078558485083641, 0.08705467040491162, 0.9919649424687478, 0.2205721070900472, 0.3829522048846159, 0.14809343682981052, 0.050177540949394625, 0.0829323246246939, 0.07247867026023667, 0.025088770474697313, 0.017422757274095355, 0.9889227859753439, 0.9949158491192989, 0.7987127021767089, 0.19279272121506766, 0.12830186647763192, 0.7926930604032036, 0.07518325933721107, 0.0032688373624874378, 0.9924324379011032, 0.985238631048231, 0.30450209784613547, 0.18596113518097324, 0.12669065384839212, 0.0007408810166572639, 0.005927048133258111, 0.3756266754452328, 0.9936128963665207, 0.9842955006304791, 0.9919030887205051, 0.1582068874838907, 0.8362364052719936, 0.08922711030713741, 0.9080170637138101, 0.9992695613287217, 0.18498028187726423, 0.2726025206612315, 0.5403371391677981, 0.421295126043633, 0.07694312182234016, 0.13118171589382585, 0.12613626528252486, 0.24028958536320985, 0.0031534066320631216, 0.9947316627219882, 0.1014607738309238, 0.8877817710205833, 0.9912238962051907, 0.32578972423059616, 0.2408011005182667, 0.07119661021515315, 0.07231488157978908, 0.06746903899970011, 0.040257769126892884, 0.16065831938602623, 0.021247155928082358, 0.9985532636904485, 0.5346417369283638, 0.03966809998220952, 0.011935534507921449, 0.12707833799610485, 0.05090154422495912, 0.18008615301657951, 0.0014041805303437, 0.054060950418232445, 0.22185624611342397, 0.5359124906116476, 0.2391437458105739, 0.8589927231456477, 0.13864443952526243, 0.9954180476184796, 0.9898406169572289, 0.992776800014452, 0.9914545968714683, 0.9945103071626303, 0.98934627274759, 0.9824449186286612, 0.9959761463161633, 0.9920583495019653, 0.9873895563640135], \"Term\": [\"ability\", \"ability\", \"ability\", \"access\", \"access\", \"account\", \"account\", \"action\", \"active\", \"ad\", \"addiction\", \"advantage\", \"advantage\", \"adversity\", \"advertising\", \"advice\", \"advice\", \"advice\", \"afraid\", \"african\", \"agency\", \"agenda\", \"alive\", \"am\", \"amazing\", \"amazing\", \"amazing\", \"amazing\", \"amazing\", \"amazon\", \"amazon\", \"amount\", \"analysis\", \"announcement\", \"app\", \"app\", \"apple\", \"article\", \"artificial_intelligence\", \"artist\", \"assumption\", \"attention\", \"attention\", \"attention\", \"attitude\", \"audience\", \"audience\", \"authentic\", \"author\", \"author\", \"authority\", \"automation\", \"available\", \"available\", \"award\", \"awesome\", \"awesome\", \"baby\", \"bad\", \"bad\", \"bad\", \"bad\", \"bad\", \"bad\", \"balance\", \"bank\", \"banking\", \"base\", \"beautiful\", \"beautiful\", \"beauty\", \"being\", \"belief\", \"bias\", \"bias\", \"big\", \"big\", \"big\", \"big\", \"big\", \"big\", \"big_tech\", \"birthday\", \"black\", \"blog\", \"blog\", \"blood\", \"blue\", \"board\", \"board\", \"board\", \"bonus\", \"book\", \"boring\", \"boss\", \"bot\", \"boundary\", \"box\", \"brain\", \"brain\", \"brand\", \"brand\", \"branding\", \"bright\", \"brilliant\", \"brother\", \"budget\", \"bunch\", \"business\", \"business\", \"business\", \"business\", \"business\", \"business\", \"business\", \"business_model\", \"business_owner\", \"buyer\", \"calendar\", \"camera\", \"campaign\", \"campaign\", \"campaign\", \"cancer\", \"candidate\", \"capital\", \"car\", \"card\", \"care\", \"career\", \"career\", \"career\", \"case\", \"case\", \"case\", \"cash\", \"ce\", \"ceo\", \"ceo\", \"ceo\", \"ceo\", \"challenge\", \"challenge\", \"challenge\", \"challenge\", \"challenge\", \"challenge\", \"challenge\", \"challenge\", \"change\", \"change\", \"channel\", \"character\", \"chart\", \"check\", \"chicken\", \"chief\", \"child\", \"citizen\", \"city\", \"city\", \"city\", \"clarity\", \"client\", \"cloud\", \"club\", \"clubhouse\", \"co_founder\", \"code\", \"college\", \"comfort_zone\", \"comfortable\", \"comfortable\", \"comment\", \"comment\", \"comment\", \"comment\", \"commercial\", \"communication\", \"communication\", \"community\", \"community\", \"community\", \"community\", \"community\", \"company\", \"company\", \"company\", \"competition\", \"competition\", \"complete\", \"compliance\", \"concept\", \"concept\", \"concept\", \"conference\", \"conference\", \"confident\", \"congratulation\", \"congratulation\", \"connection\", \"connection\", \"connection\", \"consequence\", \"consistent\", \"constraint\", \"consultant\", \"consumer\", \"consumer\", \"content\", \"content_creator\", \"context\", \"conversation\", \"conversation\", \"cool\", \"copy\", \"corporate\", \"corporate\", \"corporate\", \"corporation\", \"cost\", \"cost\", \"country\", \"country\", \"country\", \"courage\", \"coverage\", \"crazy\", \"creative\", \"creative\", \"creative\", \"creativity\", \"creativity\", \"creator\", \"credit\", \"crisis\", \"crisis\", \"crisis\", \"criticism\", \"crypto\", \"culture\", \"currency\", \"customer\", \"dad\", \"dark\", \"data\", \"data\", \"datum\", \"daughter\", \"day\", \"day\", \"dead\", \"deal\", \"debate\", \"debt\", \"decision\", \"decision\", \"deep_dive\", \"delivery\", \"demand\", \"depression\", \"design\", \"designer\", \"device\", \"device\", \"difference\", \"difference\", \"difference\", \"different\", \"different\", \"different\", \"different\", \"difficult\", \"difficult\", \"difficult\", \"digital\", \"digital\", \"digital_health\", \"dinner\", \"direction\", \"director\", \"director\", \"disability\", \"discussion\", \"discussion\", \"disease\", \"disease\", \"disruption\", \"distraction\", \"diverse\", \"diversity\", \"doctor\", \"doubt\", \"dream\", \"driver\", \"drug\", \"e_commerce\", \"earth\", \"easy\", \"easy\", \"easy\", \"economic\", \"economist\", \"economy\", \"education\", \"education\", \"education\", \"effect\", \"effect\", \"efficient\", \"effort\", \"effort\", \"effort\", \"effort\", \"effort\", \"effort\", \"election\", \"email\", \"emotion\", \"emotional\", \"empathy\", \"employee\", \"employer\", \"end\", \"end\", \"end\", \"end\", \"engagement\", \"engagement\", \"engagement\", \"engaging\", \"engineer\", \"entertainment\", \"entrepreneur\", \"entrepreneurial\", \"entrepreneurship\", \"epic\", \"episode\", \"equal\", \"equity\", \"era\", \"evening\", \"event\", \"event\", \"event\", \"excellence\", \"excited\", \"excited\", \"excited\", \"excuse\", \"executive\", \"exercise\", \"experience\", \"experience\", \"experience\", \"experience\", \"experience\", \"experience\", \"experience\", \"expert\", \"expert\", \"expert\", \"external\", \"extreme\", \"facebook\", \"facebook\", \"facebook\", \"failure\", \"failure\", \"fair\", \"family\", \"family\", \"family\", \"fantastic\", \"fascinating\", \"fast\", \"favorite\", \"favorite\", \"fear\", \"fear\", \"fear\", \"feature\", \"feature\", \"feature\", \"feature\", \"feedback\", \"female\", \"few\", \"few\", \"few\", \"few\", \"few\", \"few\", \"few\", \"few\", \"few\", \"few\", \"few_week\", \"fight\", \"finance\", \"financial\", \"financial\", \"financial\", \"financial\", \"financial_time\", \"firm\", \"first\", \"first\", \"first\", \"first\", \"first\", \"first\", \"first\", \"first\", \"first_step\", \"fit\", \"flight\", \"flow\", \"focused\", \"follower\", \"food\", \"foot\", \"format\", \"forum\", \"founder\", \"founder\", \"founder\", \"framework\", \"free\", \"free\", \"free\", \"free\", \"free\", \"freedom\", \"friend\", \"friend\", \"friend\", \"fun\", \"fund\", \"funding\", \"future\", \"future\", \"future\", \"future\", \"future\", \"future\", \"future\", \"game\", \"game\", \"gdp\", \"gender\", \"genuine\", \"giant\", \"gig\", \"glad\", \"glad\", \"global\", \"global\", \"global\", \"goal\", \"goal\", \"goal\", \"good\", \"good\", \"good\", \"good\", \"good\", \"good\", \"good\", \"google\", \"government\", \"government\", \"grant\", \"gratitude\", \"great\", \"great\", \"great\", \"great\", \"great\", \"great\", \"great\", \"great\", \"grit\", \"ground\", \"group\", \"group\", \"group\", \"growth\", \"guest\", \"guide\", \"guide\", \"guy\", \"guy\", \"habit\", \"hack\", \"happiness\", \"happy\", \"happy\", \"hard\", \"hard\", \"hard\", \"hard\", \"hard_work\", \"hat\", \"headline\", \"health\", \"healthcare\", \"high\", \"high\", \"high\", \"high\", \"high_school\", \"home\", \"home\", \"home\", \"home\", \"home\", \"honor\", \"hospital\", \"hour\", \"hour\", \"hour\", \"human\", \"human\", \"human\", \"human_being\", \"idea\", \"idea\", \"idea\", \"idea\", \"ideal\", \"identity\", \"immigrant\", \"impact\", \"impact\", \"impact\", \"impact\", \"impact\", \"impact\", \"implication\", \"important\", \"important\", \"important\", \"important\", \"important\", \"important\", \"increase\", \"incredible\", \"incredible\", \"industry\", \"industry\", \"industry\", \"industry\", \"industry\", \"industry\", \"influence\", \"influencer\", \"infrastructure\", \"innovation\", \"innovation\", \"innovation\", \"inspiration\", \"instagram\", \"intent\", \"intention\", \"intentional\", \"interesting\", \"interesting\", \"interesting\", \"interesting\", \"interesting\", \"interesting\", \"internal\", \"internet\", \"internet\", \"interview\", \"interview\", \"investment\", \"investor\", \"invisible\", \"iphone\", \"issue\", \"issue\", \"issue\", \"issue\", \"job\", \"job\", \"key\", \"key\", \"key\", \"key\", \"key\", \"key\", \"key\", \"keynote\", \"kid\", \"kid\", \"killer\", \"kindness\", \"large\", \"large\", \"large\", \"last_few\", \"late\", \"late\", \"late\", \"late\", \"late\", \"late_article\", \"late_article\", \"launch\", \"lead\", \"lead\", \"leader\", \"leadership\", \"lesson\", \"lesson\", \"letter\", \"life\", \"life\", \"lifestyle\", \"line\", \"line\", \"line\", \"line\", \"link\", \"link\", \"link\", \"link\", \"linkedin\", \"linkedin\", \"linkedin\", \"list\", \"list\", \"list\", \"listen\", \"live\", \"lockdown\", \"look\", \"lot\", \"lot\", \"lot\", \"lot\", \"lot\", \"love\", \"love\", \"low\", \"low\", \"lucky\", \"luxury\", \"m\", \"machine\", \"machine\", \"magazine\", \"magic\", \"major\", \"major\", \"major\", \"manager\", \"manager\", \"many\", \"many\", \"many\", \"many\", \"many\", \"many\", \"many\", \"many\", \"mark\", \"market\", \"marketer\", \"marketing\", \"marketing\", \"marketplace\", \"mask\", \"mask\", \"mba\", \"meaning\", \"medical\", \"meditation\", \"medium\", \"medium\", \"medium\", \"medium\", \"meeting\", \"member\", \"member\", \"memory\", \"mental_health\", \"mentor\", \"message\", \"message\", \"message\", \"message\", \"message\", \"messaging\", \"micro\", \"mindset\", \"mindset\", \"minute\", \"minute\", \"minute\", \"minute\", \"mission\", \"mission\", \"mission\", \"mobile\", \"mom\", \"moment\", \"moment\", \"momentum\", \"money\", \"money\", \"money\", \"month\", \"month\", \"month\", \"month\", \"month\", \"month\", \"month\", \"more\", \"more\", \"more\", \"more\", \"more\", \"more\", \"more\", \"more\", \"more\", \"more\", \"more\", \"more\", \"more\", \"more\", \"morning\", \"morning\", \"most\", \"most\", \"most\", \"most\", \"most\", \"mother\", \"motivation\", \"movie\", \"much\", \"much\", \"much\", \"much\", \"much\", \"much\", \"much\", \"multiple\", \"multiple\", \"multiple\", \"music\", \"network\", \"network\", \"network\", \"network\", \"new\", \"new\", \"new\", \"new\", \"new\", \"new\", \"new\", \"new\", \"new\", \"new\", \"new\", \"new\", \"news\", \"news\", \"news\", \"news\", \"news\", \"news\", \"newsletter\", \"next\", \"next\", \"next\", \"next\", \"next\", \"next\", \"next\", \"next_level\", \"next_week\", \"nice\", \"normal\", \"number\", \"number\", \"number\", \"number\", \"number\", \"number\", \"observation\", \"odd\", \"office\", \"office\", \"officer\", \"okay\", \"old\", \"old\", \"old\", \"one\", \"one\", \"one\", \"one\", \"one\", \"one\", \"one\", \"one\", \"one\", \"opportunity\", \"opportunity\", \"opportunity\", \"opportunity\", \"opportunity\", \"opportunity\", \"organization\", \"organization\", \"other\", \"other\", \"other\", \"other\", \"other\", \"other\", \"own\", \"own\", \"own\", \"own\", \"own\", \"own\", \"own\", \"package\", \"page\", \"pandemic\", \"panel\", \"paper\", \"paper\", \"parent\", \"part\", \"part\", \"part\", \"part\", \"part\", \"part\", \"part\", \"part\", \"part\", \"partner\", \"partner\", \"partner\", \"partnership\", \"partnership\", \"partnership\", \"party\", \"passionate\", \"patient\", \"pay\", \"payment\", \"payment\", \"people\", \"people\", \"people\", \"people\", \"percent\", \"performance\", \"permission\", \"person\", \"person\", \"person\", \"personal_brand\", \"personal_branding\", \"phase\", \"phone\", \"phone\", \"pitch\", \"plan\", \"plan\", \"plan\", \"planet\", \"platform\", \"platform\", \"play\", \"player\", \"player\", \"pleased\", \"pleasure\", \"pm\", \"pm\", \"pm\", \"pm_et\", \"podcast\", \"point\", \"point\", \"point\", \"point\", \"point_view\", \"poll\", \"population\", \"portfolio\", \"position\", \"positivity\", \"post\", \"post\", \"post\", \"post\", \"post\", \"power\", \"power\", \"power\", \"power\", \"power\", \"power\", \"power\", \"prediction\", \"presentation\", \"pressure\", \"priority\", \"privacy\", \"privilege\", \"pro\", \"problem\", \"problem\", \"product\", \"product\", \"product_service\", \"productivity\", \"productivity\", \"professional\", \"professional\", \"professional\", \"professional\", \"profile\", \"profile\", \"project\", \"project\", \"proof\", \"prospect\", \"proud\", \"proud\", \"proud\", \"public\", \"public\", \"public\", \"public\", \"public\", \"purpose\", \"purpose\", \"purpose\", \"quality\", \"quality\", \"question\", \"question\", \"question\", \"question\", \"question\", \"quote\", \"race\", \"race\", \"radical\", \"reaction\", \"read\", \"reading\", \"ready\", \"ready\", \"real\", \"real\", \"real\", \"real\", \"real\", \"real\", \"recommendation\", \"recovery\", \"recovery\", \"red\", \"red\", \"relationship\", \"relationship\", \"relationship\", \"relationship\", \"reminder\", \"report\", \"reporter\", \"reputation\", \"respect\", \"rest\", \"result\", \"result\", \"result\", \"result\", \"result\", \"result\", \"resume\", \"retail\", \"revenue\", \"revenue\", \"review\", \"reward\", \"rich\", \"ride\", \"right\", \"right\", \"right\", \"right\", \"right\", \"risk\", \"risk\", \"risk\", \"risk\", \"road\", \"robot\", \"role\", \"role\", \"role\", \"role\", \"root\", \"rule\", \"safe\", \"safe\", \"safe\", \"sale\", \"sale\", \"same\", \"same\", \"same\", \"same\", \"same\", \"same\", \"same\", \"scary\", \"schedule\", \"school\", \"school\", \"science\", \"science\", \"scientist\", \"score\", \"search\", \"secret\", \"sector\", \"security\", \"self\", \"self\", \"self\", \"self\", \"series\", \"service\", \"service\", \"service\", \"session\", \"session\", \"shoe\", \"shopping\", \"show\", \"simple\", \"simple\", \"simple\", \"simple\", \"simple\", \"site\", \"site\", \"situation\", \"situation\", \"situation\", \"skill\", \"small_business\", \"smart\", \"smart\", \"smart\", \"smartphone\", \"social\", \"social\", \"social\", \"social_medium\", \"soft_skill\", \"software\", \"software\", \"solid\", \"solution\", \"solution\", \"solution\", \"solution\", \"song\", \"soul\", \"space\", \"space\", \"space\", \"space\", \"space\", \"speech\", \"speed\", \"sport\", \"spot\", \"stage\", \"stage\", \"stage\", \"star\", \"startup\", \"startup\", \"state\", \"state\", \"status\", \"status_quo\", \"stock\", \"store\", \"story\", \"story\", \"strategy\", \"strategy\", \"strategy\", \"strategy\", \"strategy\", \"strength\", \"strength\", \"stress\", \"stress\", \"strong\", \"strong\", \"strong\", \"strong\", \"structure\", \"student\", \"studio\", \"study\", \"study\", \"stuff\", \"success\", \"success\", \"success\", \"success\", \"success\", \"success\", \"success\", \"successful\", \"successful\", \"successful\", \"successful\", \"successful\", \"such\", \"such\", \"such\", \"such\", \"such\", \"such\", \"summer\", \"summit\", \"superpower\", \"sure\", \"sure\", \"sure\", \"sure\", \"sure\", \"sure\", \"surprise\", \"survey\", \"sustainable\", \"sweet\", \"system\", \"system\", \"tactic\", \"talent\", \"talented\", \"talk\", \"task\", \"tax\", \"teacher\", \"team\", \"team\", \"team\", \"team\", \"team\", \"tech\", \"tech\", \"tech\", \"technical\", \"technology\", \"technology\", \"terrible\", \"test\", \"testing\", \"thank\", \"thank\", \"thank\", \"thankful\", \"thing\", \"thing\", \"thing\", \"thing\", \"think\", \"thinking\", \"thinking\", \"third\", \"thought\", \"thought\", \"thought\", \"thought\", \"thought\", \"thought\", \"thrilled\", \"tiktok\", \"time\", \"time\", \"time\", \"time\", \"time\", \"time\", \"time\", \"time\", \"time\", \"tip\", \"today\", \"today\", \"today\", \"today\", \"today\", \"today\", \"today\", \"today\", \"today\", \"tomorrow\", \"tonight\", \"tool\", \"tool\", \"tool\", \"top\", \"top\", \"top\", \"topic\", \"topic\", \"topic\", \"topic\", \"topic\", \"touch\", \"tour\", \"track\", \"traction\", \"trade\", \"traffic\", \"training\", \"training\", \"transaction\", \"transition\", \"transparency\", \"treatment\", \"treatment\", \"tree\", \"trend\", \"trend\", \"trick\", \"trigger\", \"trust\", \"truth\", \"truth\", \"tune\", \"tv\", \"tv\", \"twitter\", \"uber\", \"ultimate\", \"uncertainty\", \"uncertainty\", \"uncomfortable\", \"universe\", \"urgent\", \"useful\", \"useful\", \"vaccine\", \"value\", \"value\", \"value\", \"venture\", \"venture_capital\", \"video\", \"video_series\", \"view\", \"view\", \"view\", \"view\", \"virgin\", \"virtual\", \"virtual\", \"voice\", \"voice\", \"voice\", \"war\", \"warrior\", \"watch\", \"water\", \"water\", \"wave\", \"way\", \"way\", \"way\", \"way\", \"way\", \"way\", \"way\", \"way\", \"wealth\", \"webinar\", \"website\", \"website\", \"week\", \"week\", \"week\", \"week\", \"weird\", \"welcome\", \"well\", \"well\", \"well\", \"well\", \"well\", \"well\", \"white\", \"wife\", \"wine\", \"winner\", \"winner\", \"wisdom\", \"wisdom\", \"woman\", \"word\", \"word\", \"word\", \"work\", \"work\", \"work\", \"work\", \"work\", \"work\", \"worker\", \"workforce\", \"workforce\", \"workshop\", \"world\", \"world\", \"world\", \"world\", \"world\", \"world\", \"world\", \"world\", \"wrong\", \"year\", \"year\", \"year\", \"year\", \"year\", \"year\", \"year\", \"year\", \"yesterday\", \"yesterday\", \"yesterday\", \"young\", \"young\", \"zoom\", \"\\u200d\", \"\\u2705\", \"\\u2714\", \"\\u2764\", \"\\ufe0f\", \"\\ud83c\\udf1f\", \"\\ud83d\\udc47\", \"\\ud83d\\udca5\", \"\\ud83d\\udd25\"]}, \"R\": 30, \"lambda.step\": 0.01, \"plot.opts\": {\"xlab\": \"PC1\", \"ylab\": \"PC2\"}, \"topic.order\": [12, 4, 13, 3, 2, 10, 14, 9, 7, 11, 1, 8, 6, 5, 15]};\n",
       "\n",
       "function LDAvis_load_lib(url, callback){\n",
       "  var s = document.createElement('script');\n",
       "  s.src = url;\n",
       "  s.async = true;\n",
       "  s.onreadystatechange = s.onload = callback;\n",
       "  s.onerror = function(){console.warn(\"failed to load library \" + url);};\n",
       "  document.getElementsByTagName(\"head\")[0].appendChild(s);\n",
       "}\n",
       "\n",
       "if(typeof(LDAvis) !== \"undefined\"){\n",
       "   // already loaded: just create the visualization\n",
       "   !function(LDAvis){\n",
       "       new LDAvis(\"#\" + \"ldavis_el1028817002444464489687440630\", ldavis_el1028817002444464489687440630_data);\n",
       "   }(LDAvis);\n",
       "}else if(typeof define === \"function\" && define.amd){\n",
       "   // require.js is available: use it to load d3/LDAvis\n",
       "   require.config({paths: {d3: \"https://d3js.org/d3.v5\"}});\n",
       "   require([\"d3\"], function(d3){\n",
       "      window.d3 = d3;\n",
       "      LDAvis_load_lib(\"https://cdn.jsdelivr.net/gh/bmabey/pyLDAvis@3.3.1/pyLDAvis/js/ldavis.v3.0.0.js\", function(){\n",
       "        new LDAvis(\"#\" + \"ldavis_el1028817002444464489687440630\", ldavis_el1028817002444464489687440630_data);\n",
       "      });\n",
       "    });\n",
       "}else{\n",
       "    // require.js not available: dynamically load d3 & LDAvis\n",
       "    LDAvis_load_lib(\"https://d3js.org/d3.v5.js\", function(){\n",
       "         LDAvis_load_lib(\"https://cdn.jsdelivr.net/gh/bmabey/pyLDAvis@3.3.1/pyLDAvis/js/ldavis.v3.0.0.js\", function(){\n",
       "                 new LDAvis(\"#\" + \"ldavis_el1028817002444464489687440630\", ldavis_el1028817002444464489687440630_data);\n",
       "            })\n",
       "         });\n",
       "}\n",
       "</script>"
      ],
      "text/plain": [
       "<IPython.core.display.HTML object>"
      ]
     },
     "execution_count": 36,
     "metadata": {},
     "output_type": "execute_result"
    }
   ],
   "source": [
    "pyLDAvis.display(LDAvis_prepared)"
   ]
  },
  {
   "cell_type": "markdown",
   "metadata": {},
   "source": [
    "**Wait, what am I looking at again?**\n",
    "\n",
    "There are a lot of moving parts in the visualization. Here's a brief summary:\n",
    "\n",
    "* On the left, there is a plot of the \"distance\" between all of the topics (labeled as the Intertopic Distance Map)\n",
    "    * The plot is rendered in two dimensions according a multidimensional scaling (MDS) algorithm. Topics that are generally similar should be appear close together on the plot, while dissimilar topics should appear far apart.\n",
    "    * The relative size of a topic's circle in the plot corresponds to the relative frequency of the topic in the corpus.\n",
    "    * An individual topic may be selected for closer scrutiny by clicking on its circle, or entering its number in the \"selected topic\" box in the upper-left.\n",
    "\n",
    "* On the right, there is a bar chart showing top terms.\n",
    "    * When no topic is selected in the plot on the left, the bar chart shows the top-30 most \"salient\" terms in the corpus. A term's saliency is a measure of both how frequent the term is in the corpus and how \"distinctive\" it is in distinguishing between different topics.\n",
    "    * When a particular topic is selected, the bar chart changes to show the top-30 most \"relevant\" terms for the selected topic. The relevance metric is controlled by the parameter , which can be adjusted with a slider above the bar chart.\n",
    "        * Setting the  parameter close to 1.0 (the default) will rank the terms solely according to their probability within the topic.\n",
    "        * Setting  close to 0.0 will rank the terms solely according to their \"distinctiveness\" or \"exclusivity\" within the topic — i.e., terms that occur only in this topic, and do not occur in other topics.\n",
    "        * Setting  to values between 0.0 and 1.0 will result in an intermediate ranking, weighting term probability and exclusivity accordingly.\n",
    "* Rolling the mouse over a term in the bar chart on the right will cause the topic circles to resize in the plot on the left, to show the strength of the relationship between the topics and the selected term.\n",
    "\n",
    "A more detailed explanation of the pyLDAvis visualization can be found here. Unfortunately, though the data used by gensim and pyLDAvis are the same, they don't use the same ID numbers for topics. If you need to match up topics in gensim's LdaMulticore object and pyLDAvis' visualization, you have to dig through the terms manually."
   ]
  },
  {
   "cell_type": "markdown",
   "metadata": {},
   "source": [
    "### What about our us ?\n",
    "\n",
    "Our first decision to name topics are pretty right, except for topics 5 & 10 (on pyLDAvis). Indeed, looking at it more specifically (on gensim ID's where we named manually each topic) it seems that topics 3 & 4 (World new & Health,Covid) are strongly similar. It seems that these topics are relative to the political & health situation (pandemic, health care, security, ...) in USA. \n",
    "\n",
    "But because Topics are well separated in global, we will keep things like that"
   ]
  },
  {
   "cell_type": "markdown",
   "metadata": {},
   "source": [
    "**Reactions & Topics**\n",
    "\n",
    "Now we have defined our 10 topics, we will observe which topics get the most reactions !\n",
    "\n",
    "To do so, we will create a function based on what we have done previously that takes as entry a raw post and return the topic distribution.  \n",
    "We define a minimum topic frequency to not consider a certain topic if it is not relevant enough in the post."
   ]
  },
  {
   "cell_type": "code",
   "execution_count": 37,
   "metadata": {},
   "outputs": [],
   "source": [
    "def lda_description(post, min_topic_freq = 0.1):\n",
    "\n",
    "    # First we remove hashtags with rm_hashtags\n",
    "    rm_hash_post = rm_hashtags(post)\n",
    "\n",
    "    # Lowercase the text\n",
    "    lowcase_post = rm_hash_post.lower()\n",
    "\n",
    "    # Clean it with rules we have defined previously\n",
    "    # Rules are : not punct - not whitespace - not stopword - Nouns & Adjectives only\n",
    "    # cleaned_post is here a list of tokens\n",
    "    parsed_post = nlp(lowcase_post)\n",
    "    cleaned_post = [token.lemma_ for token in parsed_post if all(rules(token))]\n",
    "\n",
    "    # Define 2-words phrases\n",
    "    # Return a list of phrases / tokens\n",
    "    bigram_post = bigram_model[cleaned_post]\n",
    "\n",
    "    # Create a bag_of_words representation\n",
    "    bow_post = corpus_dictionary.doc2bow(bigram_post)\n",
    "\n",
    "    # Create an LDA representation\n",
    "    lda_post = lda[bow_post]\n",
    "\n",
    "    # Sort with the most highly related topics first\n",
    "    # lda_post = sorted(lda_post, key=lambda freq : -freq)\n",
    "\n",
    "    for topic_number, freq in lda_post:\n",
    "        if freq < min_topic_freq:\n",
    "            continue\n",
    "        print ('{:30}{:.02f}'.format(topic_names[topic_number],\n",
    "                                round(freq, 3)))\n",
    "    "
   ]
  },
  {
   "cell_type": "code",
   "execution_count": 38,
   "metadata": {},
   "outputs": [
    {
     "data": {
      "text/plain": [
       "'national disability advocate  sara hart weir, ms   shares how congress passed the able act'"
      ]
     },
     "execution_count": 38,
     "metadata": {},
     "output_type": "execute_result"
    }
   ],
   "source": [
    "corpus = data[['ID','Content']]\n",
    "example_post = corpus[\"Content\"][1]\n",
    "example_post"
   ]
  },
  {
   "cell_type": "code",
   "execution_count": 39,
   "metadata": {},
   "outputs": [
    {
     "name": "stdout",
     "output_type": "stream",
     "text": [
      "Health                        0.22\n",
      "Customers relationship        0.32\n",
      "Subjectivity                  0.15\n",
      "Food, Time & Ad ?             0.20\n"
     ]
    }
   ],
   "source": [
    "lda_description(example_post)"
   ]
  },
  {
   "cell_type": "markdown",
   "metadata": {},
   "source": [
    "We have now defined our topics. Then we can associate a post with a topics distribution and store it into a Dataframe. \n",
    "\n",
    "To do so we have to modify a bit our function."
   ]
  },
  {
   "cell_type": "code",
   "execution_count": 40,
   "metadata": {},
   "outputs": [],
   "source": [
    "def lda_description_vector(post, min_topic_freq = 0.1):\n",
    "\n",
    "    # First we remove hashtags with rm_hashtags\n",
    "    rm_hash_post = rm_hashtags(post)\n",
    "\n",
    "    # Lowercase the text\n",
    "    lowcase_post = rm_hash_post.lower()\n",
    "\n",
    "    # Clean it with rules we have defined previously\n",
    "    # Rules are : not punct - not whitespace - not stopword - Nouns & Adjectives only\n",
    "    # cleaned_post is here a list of tokens\n",
    "    parsed_post = nlp(lowcase_post)\n",
    "    cleaned_post = (token.lemma_ for token in parsed_post if all(rules(token)))\n",
    "\n",
    "    # Define 2-words phrases\n",
    "    # Return a list of phrases / tokens\n",
    "    bigram_post = bigram_model[cleaned_post]\n",
    "\n",
    "    # Create a bag_of_words representation\n",
    "    bow_post = corpus_dictionary.doc2bow(bigram_post)\n",
    "\n",
    "    # Create an LDA representation\n",
    "    lda_post = lda[bow_post]\n",
    "\n",
    "    # Return a Dict, which is better to assign a value with a column in a dataframe\n",
    "    return {topic : round(freq,3) for (topic,freq) in lda_post if freq > min_topic_freq}\n",
    "\n",
    "    "
   ]
  },
  {
   "cell_type": "markdown",
   "metadata": {},
   "source": [
    "And we apply this function to our Dataframe"
   ]
  },
  {
   "cell_type": "code",
   "execution_count": 68,
   "metadata": {},
   "outputs": [
    {
     "name": "stdout",
     "output_type": "stream",
     "text": [
      "Wall time: 63.6 ms\n"
     ]
    }
   ],
   "source": [
    "%%time\n",
    "# This code was long to run\n",
    "# Make the folloing statement true if you want to run it again\n",
    "if 0 == 1: \n",
    "\n",
    "    # Create the dataframe (we reset index because the first cleaning caused it)\n",
    "    df1 = data[['Name', \"#Reactions\", \"#Comments\", \"Followers\", \"Content\"]]\n",
    "    df1.reset_index(inplace=True,drop=True)\n",
    "\n",
    "    # With the functtion we have created, we apply it to the posts and it return a list of dict with {topics numbers : freq}\n",
    "    # We need to add \"list()\" because apply function returns a pd.serie and we need a list to assign values with their key\n",
    "    dicts_topics = list(df1['Content'].apply(lda_description_vector))\n",
    "\n",
    "    # We create a dataframe with all topics as columns\n",
    "    # Then we assign freq to the respective with the dicts list we have created\n",
    "    # Nan frequencies (!=0) values are replaced by 0\n",
    "    df2 = pd.DataFrame(columns=range(num_topics))\n",
    "    df2 = df2.append(dicts_topics,ignore_index=True).fillna(0)\n",
    "\n",
    "    # Then we concat our df's together\n",
    "    df_topics_reactions = pd.concat([df1,df2],axis=1)\n",
    "\n",
    "    # And we save it\n",
    "    df_topics_reactions.to_pickle(\"df_topics_reactions.pkl\")\n",
    "\n",
    "\n",
    "# Load Topics_Reactions\n",
    "df_topics_reactions = pd.read_pickle(\"df_topics_reactions.pkl\")\n"
   ]
  },
  {
   "cell_type": "markdown",
   "metadata": {},
   "source": [
    "And it looks like that :"
   ]
  },
  {
   "cell_type": "code",
   "execution_count": 42,
   "metadata": {},
   "outputs": [
    {
     "data": {
      "text/html": [
       "<div>\n",
       "<style scoped>\n",
       "    .dataframe tbody tr th:only-of-type {\n",
       "        vertical-align: middle;\n",
       "    }\n",
       "\n",
       "    .dataframe tbody tr th {\n",
       "        vertical-align: top;\n",
       "    }\n",
       "\n",
       "    .dataframe thead th {\n",
       "        text-align: right;\n",
       "    }\n",
       "</style>\n",
       "<table border=\"1\" class=\"dataframe\">\n",
       "  <thead>\n",
       "    <tr style=\"text-align: right;\">\n",
       "      <th></th>\n",
       "      <th>index</th>\n",
       "      <th>Name</th>\n",
       "      <th>#Reactions</th>\n",
       "      <th>#Comments</th>\n",
       "      <th>Followers</th>\n",
       "      <th>Content</th>\n",
       "      <th>0</th>\n",
       "      <th>1</th>\n",
       "      <th>2</th>\n",
       "      <th>3</th>\n",
       "      <th>...</th>\n",
       "      <th>5</th>\n",
       "      <th>6</th>\n",
       "      <th>7</th>\n",
       "      <th>8</th>\n",
       "      <th>9</th>\n",
       "      <th>10</th>\n",
       "      <th>11</th>\n",
       "      <th>12</th>\n",
       "      <th>13</th>\n",
       "      <th>14</th>\n",
       "    </tr>\n",
       "  </thead>\n",
       "  <tbody>\n",
       "    <tr>\n",
       "      <th>0</th>\n",
       "      <td>0</td>\n",
       "      <td>Nicholas Wyman</td>\n",
       "      <td>12</td>\n",
       "      <td>1</td>\n",
       "      <td>6484.0</td>\n",
       "      <td>robert lerman  writes that achieving a healthy...</td>\n",
       "      <td>0.0</td>\n",
       "      <td>0.469</td>\n",
       "      <td>0.000</td>\n",
       "      <td>0.262</td>\n",
       "      <td>...</td>\n",
       "      <td>0.0</td>\n",
       "      <td>0.000</td>\n",
       "      <td>0.000</td>\n",
       "      <td>0.0</td>\n",
       "      <td>0.0</td>\n",
       "      <td>0.0</td>\n",
       "      <td>0.0</td>\n",
       "      <td>0.0</td>\n",
       "      <td>0.0</td>\n",
       "      <td>0.000</td>\n",
       "    </tr>\n",
       "    <tr>\n",
       "      <th>1</th>\n",
       "      <td>1</td>\n",
       "      <td>Nicholas Wyman</td>\n",
       "      <td>11</td>\n",
       "      <td>0</td>\n",
       "      <td>6484.0</td>\n",
       "      <td>national disability advocate  sara hart weir, ...</td>\n",
       "      <td>0.0</td>\n",
       "      <td>0.000</td>\n",
       "      <td>0.218</td>\n",
       "      <td>0.000</td>\n",
       "      <td>...</td>\n",
       "      <td>0.0</td>\n",
       "      <td>0.322</td>\n",
       "      <td>0.152</td>\n",
       "      <td>0.0</td>\n",
       "      <td>0.0</td>\n",
       "      <td>0.0</td>\n",
       "      <td>0.0</td>\n",
       "      <td>0.0</td>\n",
       "      <td>0.0</td>\n",
       "      <td>0.203</td>\n",
       "    </tr>\n",
       "  </tbody>\n",
       "</table>\n",
       "<p>2 rows × 21 columns</p>\n",
       "</div>"
      ],
      "text/plain": [
       "   index            Name  #Reactions  #Comments  Followers  \\\n",
       "0      0  Nicholas Wyman          12          1     6484.0   \n",
       "1      1  Nicholas Wyman          11          0     6484.0   \n",
       "\n",
       "                                             Content    0      1      2  \\\n",
       "0  robert lerman  writes that achieving a healthy...  0.0  0.469  0.000   \n",
       "1  national disability advocate  sara hart weir, ...  0.0  0.000  0.218   \n",
       "\n",
       "       3  ...    5      6      7    8    9   10   11   12   13     14  \n",
       "0  0.262  ...  0.0  0.000  0.000  0.0  0.0  0.0  0.0  0.0  0.0  0.000  \n",
       "1  0.000  ...  0.0  0.322  0.152  0.0  0.0  0.0  0.0  0.0  0.0  0.203  \n",
       "\n",
       "[2 rows x 21 columns]"
      ]
     },
     "execution_count": 42,
     "metadata": {},
     "output_type": "execute_result"
    }
   ],
   "source": [
    "df_topics_reactions.head(2)"
   ]
  },
  {
   "cell_type": "markdown",
   "metadata": {},
   "source": [
    "Some posts doesn't have topic's frequency, because the cleaning we have done cleared all the post.  \n",
    "Let's keep them"
   ]
  },
  {
   "cell_type": "markdown",
   "metadata": {},
   "source": [
    "**Final step : determine which topics have to most reactions**\n",
    "\n",
    "To do so, we will assign to each topic the number of reactions relatively to the number of followers, by applying to it the frequency of each topic. \n",
    "\n",
    "To be clear, for each post, we apply this relation :\n",
    "\n",
    "$$ impact_{topic_i} = \\frac{reactions}{followers} \\times freq_{topic_i} $$\n",
    "\n",
    "Then, to avoid author bias, we calculate the mean for each topic by author.\n",
    "\n",
    "Finally, we calculate the mean and variance for all authors.\n",
    "\n",
    "We are going to consider Reactions and Comments separatly."
   ]
  },
  {
   "cell_type": "code",
   "execution_count": 43,
   "metadata": {},
   "outputs": [],
   "source": [
    "# # First we remove outliers we spotted in EDA.ipynb\n",
    "# OutlierAuthors = ['Jonathan Wolfer','Michelle Chaffee','Ian Bremmer','Juliet de Baubigny','Marianne Griebler','Gillian Zoe Segal']\n",
    "# df_topics_reactions = df_topics_reactions.set_index(\"Name\").drop(OutlierAuthors, axis=0)\n",
    "# # We reset the index we have just created\n",
    "# df_topics_reactions.reset_index(drop=False,inplace=True)"
   ]
  },
  {
   "cell_type": "code",
   "execution_count": 55,
   "metadata": {},
   "outputs": [],
   "source": [
    "# Let's create vectors for reactions, commens & followers\n",
    "reactions = np.array(df_topics_reactions[\"#Reactions\"])\n",
    "comments = np.array(df_topics_reactions[\"#Comments\"])\n",
    "followers = np.array(df_topics_reactions['Followers'])\n",
    "\n",
    "# We normalize the number reactions & comments depending on the number of followers, in %\n",
    "reactions_normalized = 100 * reactions / followers\n",
    "comments_normalized = 100 * comments / followers\n",
    "\n",
    "# We create the array of topics frequency\n",
    "# We take the last columns of the df, which correspond to the number of topics\n",
    "topic_freq = np.array(df_topics_reactions.iloc[:,-num_topics:])"
   ]
  },
  {
   "cell_type": "code",
   "execution_count": 56,
   "metadata": {},
   "outputs": [],
   "source": [
    "# Let's declare our array that has the same shape as topic_freq\n",
    "ponderated_reactions = np.zeros(shape=topic_freq.shape)\n",
    "ponderated_comments = np.zeros(shape=topic_freq.shape)\n",
    "\n",
    "# And we ponderate each reactions & comments with topic frequencies\n",
    "for i in range(len(reactions_normalized)):\n",
    "    ponderated_reactions[i,:] = np.dot(reactions_normalized[i],topic_freq[i,:])\n",
    "    ponderated_comments[i,:] = np.dot(comments_normalized[i],topic_freq[i,:])"
   ]
  },
  {
   "cell_type": "code",
   "execution_count": 57,
   "metadata": {},
   "outputs": [],
   "source": [
    "# Now let's concat ths array as a dataframe to our author dataframe\n",
    "author_df = df_topics_reactions['Name']\n",
    "\n",
    "# We create new dataframes with topics frequencies ponderated with reactions & comments normalized\n",
    "ponderated_reactions_df = pd.DataFrame(data=ponderated_reactions,columns=range(num_topics))\n",
    "ponderated_comments_df = pd.DataFrame(data=ponderated_comments,columns=range(num_topics))\n",
    "\n",
    "# Then we create two dataframe which are the concatenation of authors & reactions/comments respectively\n",
    "final_reactions_df = pd.concat([author_df,ponderated_reactions_df],axis=1)\n",
    "final_comments_df = pd.concat([author_df,ponderated_comments_df],axis=1)"
   ]
  },
  {
   "cell_type": "markdown",
   "metadata": {},
   "source": [
    "Now we can calculate the mean and the variance of topics ponderated reactions/comments depending on the author"
   ]
  },
  {
   "cell_type": "code",
   "execution_count": 58,
   "metadata": {},
   "outputs": [],
   "source": [
    "# We calculate the mean of the mean of the number of normalized reactions by topic by author\n",
    "# We get a vector of reactions for each topics\n",
    "topics_reactions_mean = final_reactions_df.groupby(by=\"Name\").mean().mean(axis=0)\n",
    "\n",
    "# We do the same for comments\n",
    "topics_comments_mean = final_comments_df.groupby(by='Name').mean().mean(axis=0)"
   ]
  },
  {
   "cell_type": "code",
   "execution_count": 59,
   "metadata": {},
   "outputs": [],
   "source": [
    "# Let's do the same for the variance\n",
    "topics_reactions_var = final_reactions_df.groupby(by=\"Name\").mean().var(axis=0)\n",
    "topics_comments_var = final_comments_df.groupby(by='Name').mean().var(axis=0)"
   ]
  },
  {
   "cell_type": "code",
   "execution_count": 60,
   "metadata": {},
   "outputs": [
    {
     "data": {
      "text/plain": [
       "0     0.001096\n",
       "1     0.001832\n",
       "2     0.001247\n",
       "3     0.002095\n",
       "4     0.000394\n",
       "5     0.000594\n",
       "6     0.001164\n",
       "7     0.000767\n",
       "8     0.001817\n",
       "9     0.000978\n",
       "10    0.000956\n",
       "11    0.003937\n",
       "12    0.001245\n",
       "13    0.003263\n",
       "14    0.000503\n",
       "dtype: float64"
      ]
     },
     "execution_count": 60,
     "metadata": {},
     "output_type": "execute_result"
    }
   ],
   "source": [
    "topics_comments_mean"
   ]
  },
  {
   "cell_type": "markdown",
   "metadata": {},
   "source": [
    "**Let's visualize the result**"
   ]
  },
  {
   "cell_type": "markdown",
   "metadata": {},
   "source": [
    "First of all, we need to transform our dataframe to be us by seaborn. We planned to show the results as a violin plot.  \n",
    "\n",
    "The dataset has to be as a dataframe containing all the possibilities. We use the function *pd.melt* to do so !"
   ]
  },
  {
   "cell_type": "code",
   "execution_count": 61,
   "metadata": {},
   "outputs": [
    {
     "data": {
      "text/html": [
       "<div>\n",
       "<style scoped>\n",
       "    .dataframe tbody tr th:only-of-type {\n",
       "        vertical-align: middle;\n",
       "    }\n",
       "\n",
       "    .dataframe tbody tr th {\n",
       "        vertical-align: top;\n",
       "    }\n",
       "\n",
       "    .dataframe thead th {\n",
       "        text-align: right;\n",
       "    }\n",
       "</style>\n",
       "<table border=\"1\" class=\"dataframe\">\n",
       "  <thead>\n",
       "    <tr style=\"text-align: right;\">\n",
       "      <th></th>\n",
       "      <th>Name</th>\n",
       "      <th>Topics</th>\n",
       "      <th>Ponderated_freq</th>\n",
       "      <th>Type</th>\n",
       "    </tr>\n",
       "  </thead>\n",
       "  <tbody>\n",
       "    <tr>\n",
       "      <th>0</th>\n",
       "      <td>Nicholas Wyman</td>\n",
       "      <td>0</td>\n",
       "      <td>0.057002</td>\n",
       "      <td>Reactions</td>\n",
       "    </tr>\n",
       "    <tr>\n",
       "      <th>1</th>\n",
       "      <td>Nicholas Wyman</td>\n",
       "      <td>0</td>\n",
       "      <td>0.070327</td>\n",
       "      <td>Reactions</td>\n",
       "    </tr>\n",
       "    <tr>\n",
       "      <th>2</th>\n",
       "      <td>Nicholas Wyman</td>\n",
       "      <td>0</td>\n",
       "      <td>0.020358</td>\n",
       "      <td>Reactions</td>\n",
       "    </tr>\n",
       "    <tr>\n",
       "      <th>3</th>\n",
       "      <td>Nicholas Wyman</td>\n",
       "      <td>0</td>\n",
       "      <td>0.015006</td>\n",
       "      <td>Reactions</td>\n",
       "    </tr>\n",
       "    <tr>\n",
       "      <th>4</th>\n",
       "      <td>Nicholas Wyman</td>\n",
       "      <td>0</td>\n",
       "      <td>0.028131</td>\n",
       "      <td>Reactions</td>\n",
       "    </tr>\n",
       "    <tr>\n",
       "      <th>...</th>\n",
       "      <td>...</td>\n",
       "      <td>...</td>\n",
       "      <td>...</td>\n",
       "      <td>...</td>\n",
       "    </tr>\n",
       "    <tr>\n",
       "      <th>157410</th>\n",
       "      <td>Simon Sinek</td>\n",
       "      <td>14</td>\n",
       "      <td>0.000161</td>\n",
       "      <td>Comments</td>\n",
       "    </tr>\n",
       "    <tr>\n",
       "      <th>157411</th>\n",
       "      <td>Simon Sinek</td>\n",
       "      <td>14</td>\n",
       "      <td>0.001215</td>\n",
       "      <td>Comments</td>\n",
       "    </tr>\n",
       "    <tr>\n",
       "      <th>157412</th>\n",
       "      <td>Simon Sinek</td>\n",
       "      <td>14</td>\n",
       "      <td>0.001579</td>\n",
       "      <td>Comments</td>\n",
       "    </tr>\n",
       "    <tr>\n",
       "      <th>157413</th>\n",
       "      <td>Simon Sinek</td>\n",
       "      <td>14</td>\n",
       "      <td>0.005514</td>\n",
       "      <td>Comments</td>\n",
       "    </tr>\n",
       "    <tr>\n",
       "      <th>157414</th>\n",
       "      <td>Simon Sinek</td>\n",
       "      <td>14</td>\n",
       "      <td>0.000041</td>\n",
       "      <td>Comments</td>\n",
       "    </tr>\n",
       "  </tbody>\n",
       "</table>\n",
       "<p>157415 rows × 4 columns</p>\n",
       "</div>"
      ],
      "text/plain": [
       "                  Name Topics  Ponderated_freq       Type\n",
       "0       Nicholas Wyman      0         0.057002  Reactions\n",
       "1       Nicholas Wyman      0         0.070327  Reactions\n",
       "2       Nicholas Wyman      0         0.020358  Reactions\n",
       "3       Nicholas Wyman      0         0.015006  Reactions\n",
       "4       Nicholas Wyman      0         0.028131  Reactions\n",
       "...                ...    ...              ...        ...\n",
       "157410     Simon Sinek     14         0.000161   Comments\n",
       "157411     Simon Sinek     14         0.001215   Comments\n",
       "157412     Simon Sinek     14         0.001579   Comments\n",
       "157413     Simon Sinek     14         0.005514   Comments\n",
       "157414     Simon Sinek     14         0.000041   Comments\n",
       "\n",
       "[157415 rows x 4 columns]"
      ]
     },
     "execution_count": 61,
     "metadata": {},
     "output_type": "execute_result"
    }
   ],
   "source": [
    "# We use the function melt\n",
    "melted_reactions_df = final_reactions_df.melt(id_vars=\"Name\",value_vars=final_reactions_df.columns,var_name=\"Topics\",value_name=\"Ponderated_freq\")\n",
    "# We remove useless 0's\n",
    "melted_reactions_df = melted_reactions_df.loc[melted_reactions_df['Ponderated_freq'] != 0]\n",
    "# We add a column to inform that this dataset in (normalized) reactions\n",
    "melted_reactions_df['Type'] = \"Reactions\"\n",
    "\n",
    "# We do the same for comments\n",
    "melted_comments_df = final_comments_df.melt(id_vars=\"Name\",value_vars=final_comments_df.columns,var_name=\"Topics\",value_name=\"Ponderated_freq\")\n",
    "# We remove useless 0's\n",
    "melted_comments_df = melted_comments_df.loc[melted_comments_df['Ponderated_freq'] != 0]\n",
    "# We add a column to inform that this dataset in (normalized) comments\n",
    "melted_comments_df['Type'] = \"Comments\"\n",
    "\n",
    "# Then we concat df's\n",
    "melted_df = pd.concat([melted_reactions_df, melted_comments_df],axis=0)\n",
    "melted_df.reset_index(inplace=True,drop=True)\n",
    "\n",
    "melted_df"
   ]
  },
  {
   "cell_type": "markdown",
   "metadata": {},
   "source": [
    "Now we check if there are some outliers"
   ]
  },
  {
   "cell_type": "code",
   "execution_count": 62,
   "metadata": {},
   "outputs": [
    {
     "data": {
      "text/plain": [
       "<seaborn.axisgrid.FacetGrid at 0x18bde722fa0>"
      ]
     },
     "execution_count": 62,
     "metadata": {},
     "output_type": "execute_result"
    },
    {
     "data": {
      "image/png": "[encoded data removed]",
      "text/plain": [
       "<Figure size 360x360 with 1 Axes>"
      ]
     },
     "metadata": {
      "needs_background": "light"
     },
     "output_type": "display_data"
    }
   ],
   "source": [
    "import matplotlib.pyplot as plt\n",
    "import seaborn as sns\n",
    "\n",
    "sns.displot(data=melted_df, x='Ponderated_freq', kind='ecdf')"
   ]
  },
  {
   "cell_type": "markdown",
   "metadata": {},
   "source": [
    "There are ! We then remove them by filtering 99% of the data"
   ]
  },
  {
   "cell_type": "code",
   "execution_count": 63,
   "metadata": {},
   "outputs": [
    {
     "data": {
      "text/plain": [
       "<seaborn.axisgrid.FacetGrid at 0x18bdfe08a00>"
      ]
     },
     "execution_count": 63,
     "metadata": {},
     "output_type": "execute_result"
    },
    {
     "data": {
      "image/png": "[encoded data removed]",
      "text/plain": [
       "<Figure size 360x360 with 1 Axes>"
      ]
     },
     "metadata": {
      "needs_background": "light"
     },
     "output_type": "display_data"
    }
   ],
   "source": [
    "# We calculate the quantile then we remove from the dataset\n",
    "q_freq = melted_df['Ponderated_freq'].quantile(q=0.99)\n",
    "filtered_melted_df = melted_df.loc[melted_df['Ponderated_freq'] <= q_freq]\n",
    "\n",
    "# And we plot it\n",
    "sns.displot(data=filtered_melted_df, x='Ponderated_freq', kind='ecdf')"
   ]
  },
  {
   "cell_type": "markdown",
   "metadata": {},
   "source": [
    "Now we can plot our data easily !"
   ]
  },
  {
   "cell_type": "code",
   "execution_count": 65,
   "metadata": {},
   "outputs": [
    {
     "data": {
      "image/png": "[encoded data removed]",
      "text/plain": [
       "<Figure size 432x288 with 1 Axes>"
      ]
     },
     "metadata": {
      "needs_background": "light"
     },
     "output_type": "display_data"
    }
   ],
   "source": [
    "ax = sns.violinplot(data=filtered_melted_df, x=\"Topics\", y=\"Ponderated_freq\", hue='Type')\n",
    "\n"
   ]
  },
  {
   "cell_type": "markdown",
   "metadata": {},
   "source": [
    "The result is not relevant ...."
   ]
  },
  {
   "cell_type": "markdown",
   "metadata": {},
   "source": [
    "Let's try with normalizing the reactions and comments"
   ]
  },
  {
   "cell_type": "code",
   "execution_count": 71,
   "metadata": {},
   "outputs": [
    {
     "data": {
      "image/png": "[encoded data removed]",
      "text/plain": [
       "<Figure size 432x288 with 1 Axes>"
      ]
     },
     "metadata": {
      "needs_background": "light"
     },
     "output_type": "display_data"
    }
   ],
   "source": [
    "# Let's create vectors for reactions, commens & followers\n",
    "reactions = np.array(df_topics_reactions[\"#Reactions\"])\n",
    "comments = np.array(df_topics_reactions[\"#Comments\"])\n",
    "followers = np.array(df_topics_reactions['Followers'])\n",
    "\n",
    "# We create the array of topics frequency\n",
    "# We take the last columns of the df, which correspond to the number of topics\n",
    "topic_freq = np.array(df_topics_reactions.iloc[:,-num_topics:])\n",
    "\n",
    "# Let's declare our array that has the same shape as topic_freq\n",
    "ponderated_reactions = np.zeros(shape=topic_freq.shape)\n",
    "ponderated_comments = np.zeros(shape=topic_freq.shape)\n",
    "\n",
    "# And we ponderate each reactions & comments with topic frequencies\n",
    "for i in range(len(reactions_normalized)):\n",
    "    ponderated_reactions[i,:] = np.dot(reactions[i],topic_freq[i,:])\n",
    "    ponderated_comments[i,:] = np.dot(comments[i],topic_freq[i,:])\n",
    "    \n",
    "# Now let's concat ths array as a dataframe to our author dataframe\n",
    "author_df = df_topics_reactions['Name']\n",
    "\n",
    "# We create new dataframes with topics frequencies ponderated with reactions & comments normalized\n",
    "ponderated_reactions_df = pd.DataFrame(data=ponderated_reactions,columns=range(num_topics))\n",
    "ponderated_comments_df = pd.DataFrame(data=ponderated_comments,columns=range(num_topics))\n",
    "\n",
    "# Then we create two dataframe which are the concatenation of authors & reactions/comments respectively\n",
    "final_reactions_df = pd.concat([author_df,ponderated_reactions_df],axis=1)\n",
    "final_comments_df = pd.concat([author_df,ponderated_comments_df],axis=1)\n",
    "\n",
    "# Now we can calculate the mean and the variance of topics ponderated reactions/comments depending on the author\n",
    "# We calculate the mean of the mean of the number of normalized reactions by topic by author\n",
    "# We get a vector of reactions for each topics\n",
    "topics_reactions_mean = final_reactions_df.groupby(by=\"Name\").mean().mean(axis=0)\n",
    "\n",
    "# We do the same for comments\n",
    "topics_comments_mean = final_comments_df.groupby(by='Name').mean().mean(axis=0)\n",
    "# Let's do the same for the variance\n",
    "topics_reactions_var = final_reactions_df.groupby(by=\"Name\").mean().var(axis=0)\n",
    "topics_comments_var = final_comments_df.groupby(by='Name').mean().var(axis=0)\n",
    "# We use the function melt\n",
    "melted_reactions_df = final_reactions_df.melt(id_vars=\"Name\",value_vars=final_reactions_df.columns,var_name=\"Topics\",value_name=\"Ponderated_freq\")\n",
    "# We remove useless 0's\n",
    "melted_reactions_df = melted_reactions_df.loc[melted_reactions_df['Ponderated_freq'] != 0]\n",
    "# We add a column to inform that this dataset in reactions\n",
    "melted_reactions_df['Type'] = \"Reactions\"\n",
    "\n",
    "# We do the same for comments\n",
    "melted_comments_df = final_comments_df.melt(id_vars=\"Name\",value_vars=final_comments_df.columns,var_name=\"Topics\",value_name=\"Ponderated_freq\")\n",
    "# We remove useless 0's\n",
    "melted_comments_df = melted_comments_df.loc[melted_comments_df['Ponderated_freq'] != 0]\n",
    "# We add a column to inform that this dataset in comments\n",
    "melted_comments_df['Type'] = \"Comments\"\n",
    "\n",
    "# Then we concat df's\n",
    "melted_df = pd.concat([melted_reactions_df, melted_comments_df],axis=0)\n",
    "melted_df.reset_index(inplace=True,drop=True)\n",
    "\n",
    "# # We calculate the quantile then we remove from the dataset\n",
    "q_freq = melted_df['Ponderated_freq'].quantile(q=0.99)\n",
    "filtered_melted_df = melted_df.loc[melted_df['Ponderated_freq'] <= q_freq]\n",
    "\n",
    "#Plot\n",
    "ax = sns.violinplot(data=filtered_melted_df, x=\"Topics\", y=\"Ponderated_freq\", hue=\"Type\")\n",
    "\n"
   ]
  },
  {
   "cell_type": "markdown",
   "metadata": {},
   "source": [
    "Let's see for one author"
   ]
  },
  {
   "cell_type": "code",
   "execution_count": 75,
   "metadata": {},
   "outputs": [
    {
     "data": {
      "text/plain": [
       "array(['Nicholas Wyman', 'Jonathan Wolfer', 'Karen Gross',\n",
       "       'Kaia Niambi Shivers Ph.D.', \"Daniel Cohen-I'm Flyering\",\n",
       "       'Natalie Riso', 'James Calder', 'Yasi Baiani', 'Julie Kliger',\n",
       "       'Michelle de Haaff', 'Bertalan Meskó, MD, PhD', 'Michelle Chaffee',\n",
       "       'Beth Seidenberg', 'Russell Benaroya', 'Richard Branson',\n",
       "       'Mohamed El-Erian', 'James Altucher', 'Bernard Marr',\n",
       "       'Ian Bremmer', 'Sramana Mitra', 'Lynne Everatt', 'Justin Bariso',\n",
       "       'Carson Tate', 'Gary Frisch', 'James Bareham', 'Tai T.',\n",
       "       'Glenn Leibowitz', 'Marianne Griebler', 'Tom Goodwin',\n",
       "       'Katie Martell', 'Shama Hyder', 'Barry W. Enderwick',\n",
       "       'Steve Blakeman', 'Gillian Zoe Segal', 'Tom Foremski',\n",
       "       'Kiara Imani Williams, Esq.', 'Kellye Whitney', 'Simon Owens',\n",
       "       'Rachel Jones', 'Vikram Mansharamani', '🏉 Pascal Bouvier',\n",
       "       'Geoffrey Garrett', 'Ben Casselman', 'Tamal Bandyopadhyay',\n",
       "       'Karen Webster', 'Jody Padar', 'Hansi Mehrotra', 'Nick Ciubotariu',\n",
       "       'Neil Hughes', 'Nir Eyal', 'Shelly Palmer', 'Lee Naik',\n",
       "       'Danielle Newnham', 'Vani Kola', 'Chris McCann', 'Andrew Yang',\n",
       "       'Lisa Abeyta', 'Juliet de Baubigny', 'Sarah Kauss', 'Pocket Sun',\n",
       "       'Chantel Soumis', 'String Nguyen', 'Quentin Michael Allums',\n",
       "       'AJ Wilcox', \"Kevin O'Leary\", 'Amy Blaschka', 'Simon Sinek'],\n",
       "      dtype=object)"
      ]
     },
     "execution_count": 75,
     "metadata": {},
     "output_type": "execute_result"
    }
   ],
   "source": [
    "filtered_melted_df.Name.unique()"
   ]
  },
  {
   "cell_type": "code",
   "execution_count": 77,
   "metadata": {},
   "outputs": [
    {
     "data": {
      "image/png": "[encoded data removed]",
      "text/plain": [
       "<Figure size 1440x1080 with 1 Axes>"
      ]
     },
     "metadata": {},
     "output_type": "display_data"
    }
   ],
   "source": [
    "one_author_df = filtered_melted_df.loc[filtered_melted_df['Name']==\"String Nguyen\"]\n",
    "ax = sns.violinplot(data=one_author_df, x=\"Topics\", y=\"Ponderated_freq\", hue=\"Type\")\n",
    "\n",
    "sns.set(rc={'figure.figsize':(20,15)})"
   ]
  }
 ],
 "metadata": {
  "interpreter": {
   "hash": "ae290cde4634a6443381d55bbe6f1180de26a7de00f3f0eb338834ba70f07938"
  },
  "kernelspec": {
   "display_name": "Python 3.8.8 ('base')",
   "language": "python",
   "name": "python3"
  },
  "language_info": {
   "codemirror_mode": {
    "name": "ipython",
    "version": 3
   },
   "file_extension": ".py",
   "mimetype": "text/x-python",
   "name": "python",
   "nbconvert_exporter": "python",
   "pygments_lexer": "ipython3",
   "version": "3.8.8"
  },
  "orig_nbformat": 4
 },
 "nbformat": 4,
 "nbformat_minor": 2
}
